{
  "cells": [
    {
      "cell_type": "markdown",
      "metadata": {
        "id": "D_1vcHZPtcqx"
      },
      "source": [
        "<img src='https://upload.wikimedia.org/wikipedia/commons/c/c3/Python-logo-notext.svg' width=50/>\n",
        "<img src='https://upload.wikimedia.org/wikipedia/commons/d/d0/Google_Colaboratory_SVG_Logo.svg' width=90/>\n",
        "\n",
        "# <font size=50>Introducere în Python folosind Google Colab</font>\n",
        "<font color=\"#e8710a\">© Adriana STAN, 2022</font>\n",
        "\n",
        "<font color=\"#e8710a\">Contributor: Gabriel ERDEI </font>\n",
        "\n",
        "[![Open In Colab](https://colab.research.google.com/assets/colab-badge.svg)](https://colab.research.google.com/github/adrianastan/python-intro/blob/main/notebooks/ro/T05_Functii_Module.ipynb)"
      ]
    },
    {
      "cell_type": "markdown",
      "metadata": {
        "id": "qYd9bbyYHQWU"
      },
      "source": [
        "#<font color=\"#e8710a\">T05. Funcții. Module. Pachete</font>\n",
        "\n",
        "Reutilizarea codului este un aspect extrem de important în eficientizarea dezvoltării aplicațiilor. Definirea unui set de funcții reutilizabile, grupate în module sau pachete poate face acest lucru în mod facil. Acest tutorial prezintă aspectele legate de aceste noțiuni evidențiind în mod special flexibilitatea definirii funcțiilor în limbajul Python. \n",
        "\n",
        "---\n",
        "<font color=\"#1589FF\"><b>Timp estimat de parcurgere:</b> 150 min</font>\n",
        "\n",
        "---\n",
        "\n",
        "\n"
      ]
    },
    {
      "cell_type": "markdown",
      "metadata": {
        "id": "ZATfbkrKCx-D"
      },
      "source": [
        "\n",
        "##<font color=\"#e8710a\">Funcții</font>\n",
        "\n",
        "Funcțiile sunt seturi de instrucțiuni ce pot fi rulate de mai multe ori în decursul unui program și care de obicei returnează un rezultat pe baza unor parametri dați la intrare.\n",
        "\n",
        "Definirea unei funcții se face prin utilizarea cuvântului cheie `def` urmat de numele funcției, lista de argumente și simbolul două puncte `:`. Nu se specifică datele de retur, iar codul aferent funcției este indentat.\n",
        "\n",
        "```\n",
        "def nume_functie(argumente):\n",
        "    instrucțiuni \n",
        "    return valoare\n",
        "```"
      ]
    },
    {
      "cell_type": "code",
      "execution_count": null,
      "metadata": {
        "id": "nBjMhbMbpfhd"
      },
      "outputs": [],
      "source": [
        "# Definirea unei funcții \n",
        "def functia_mea():\n",
        "  print (\"Prima mea funcție!\")"
      ]
    },
    {
      "cell_type": "markdown",
      "metadata": {
        "id": "WLGeYfHSpf3U"
      },
      "source": [
        "\n",
        "Apelul (rularea) funcției se realizează prin numele funcției urmat de lista de argumente efective (dacă există):"
      ]
    },
    {
      "cell_type": "code",
      "execution_count": null,
      "metadata": {
        "colab": {
          "base_uri": "https://localhost:8080/"
        },
        "id": "0Ke9HUkip_bP",
        "outputId": "4a625397-a9de-4f3c-9235-a24b5d7e7d0d"
      },
      "outputs": [
        {
          "name": "stdout",
          "output_type": "stream",
          "text": [
            "Prima mea funcție!\n"
          ]
        }
      ],
      "source": [
        "# Apel funcție\n",
        "functia_mea()"
      ]
    },
    {
      "cell_type": "markdown",
      "metadata": {
        "id": "1E3odvi6qLzR"
      },
      "source": [
        "În cazul în care funcție returnează o valoare, aceasta va fi specificată folosind instrucțiunea `return`:"
      ]
    },
    {
      "cell_type": "code",
      "execution_count": null,
      "metadata": {
        "colab": {
          "base_uri": "https://localhost:8080/",
          "height": 35
        },
        "id": "7necSXc_qVIz",
        "outputId": "5c2a33be-9d15-4548-87cc-819dcd321a43"
      },
      "outputs": [
        {
          "data": {
            "application/vnd.google.colaboratory.intrinsic+json": {
              "type": "string"
            },
            "text/plain": [
              "'Salut!'"
            ]
          },
          "execution_count": 3,
          "metadata": {},
          "output_type": "execute_result"
        }
      ],
      "source": [
        "# Funcție ce returnează o valoare\n",
        "def functia_mea():\n",
        "  return \"Salut!\"\n",
        "\n",
        "functia_mea()"
      ]
    },
    {
      "cell_type": "markdown",
      "metadata": {
        "id": "JOL1mu0FqgQ5"
      },
      "source": [
        "Lista de parametri ai funcției nu trebuie să conțină și tipul acestora, iar la apel se înlocuiesc cu parametri efectivi:"
      ]
    },
    {
      "cell_type": "code",
      "execution_count": null,
      "metadata": {
        "colab": {
          "base_uri": "https://localhost:8080/"
        },
        "id": "hKvJgpdAqnC0",
        "outputId": "84e8ea3a-c3b0-413c-eecb-e9f81c3f34e7"
      },
      "outputs": [
        {
          "data": {
            "text/plain": [
              "3"
            ]
          },
          "execution_count": 4,
          "metadata": {},
          "output_type": "execute_result"
        }
      ],
      "source": [
        "# Funcție ce ia două argumente la intrare\n",
        "def suma(a,b):\n",
        "  return a+b\n",
        "\n",
        "suma(1,2)"
      ]
    },
    {
      "cell_type": "markdown",
      "metadata": {
        "id": "-JlsN4uwr4cy"
      },
      "source": [
        "Din acest motiv, funcțiile pot fi apelate cu diferite tipuri de obiecte, atât timp cât operațiile din interiorul funcției pot fi aplicate asupra acestor obiecte"
      ]
    },
    {
      "cell_type": "code",
      "execution_count": null,
      "metadata": {
        "colab": {
          "base_uri": "https://localhost:8080/"
        },
        "id": "iERO7Y9lsD2n",
        "outputId": "b73cb9df-3f5c-4ae5-a34f-e4d5cb7d374e"
      },
      "outputs": [
        {
          "name": "stdout",
          "output_type": "stream",
          "text": [
            "3\n",
            "5.07\n",
            "Salut! Ce mai faci?\n"
          ]
        }
      ],
      "source": [
        "# Apel funcție cu diferite tipuri de obiecte trimise ca argumente\n",
        "print(suma(1,2))\n",
        "print(suma(3.14, 1.93))\n",
        "print(suma(\"Salut!\", \" Ce mai faci?\"))"
      ]
    },
    {
      "cell_type": "markdown",
      "metadata": {
        "id": "It1HCFO6sbu0"
      },
      "source": [
        "Din exemplu anterior putem observa o altă caracteristică importantă în Python legată de **polimorfismul operanzilor**. Acest lucru se referă la faptul că rezultatul unei operații depinde de operanzi, iar în Python toate operațiile sunt polimorfice atât timp cât obiectele asupra cărora sunt aplicate au definite comportamentele asociate."
      ]
    },
    {
      "cell_type": "markdown",
      "metadata": {
        "id": "fi0tcm1Zqzxm"
      },
      "source": [
        "**<font color=\"#1589FF\">Funcțiile sunt obiecte</font>**\n",
        "\n",
        "Funcțiile sunt de fapt obiecte, astfel încât numele lor nu este relevant pentru cod și se poate atribui un nou nume unei funcții fără a avea vreun efect programatic:"
      ]
    },
    {
      "cell_type": "code",
      "execution_count": null,
      "metadata": {
        "colab": {
          "base_uri": "https://localhost:8080/"
        },
        "id": "gyCxRolFo_2c",
        "outputId": "ed34beff-0cb7-450d-88c7-1c9cf32fad84"
      },
      "outputs": [
        {
          "data": {
            "text/plain": [
              "3"
            ]
          },
          "execution_count": 6,
          "metadata": {},
          "output_type": "execute_result"
        }
      ],
      "source": [
        "def suma(a,b):\n",
        "  return a+b\n",
        "suma(1,2)"
      ]
    },
    {
      "cell_type": "code",
      "execution_count": null,
      "metadata": {
        "colab": {
          "base_uri": "https://localhost:8080/"
        },
        "id": "YhlVpJyUpE3h",
        "outputId": "77d6c279-e87f-47fe-f3f3-cf51211e6cf6"
      },
      "outputs": [
        {
          "data": {
            "text/plain": [
              "5"
            ]
          },
          "execution_count": 7,
          "metadata": {},
          "output_type": "execute_result"
        }
      ],
      "source": [
        "# Atribuim funcția unui alt obiect funcție\n",
        "o_alta_suma = suma\n",
        "# Apelăm noul obiect\n",
        "o_alta_suma(2,3)"
      ]
    },
    {
      "cell_type": "markdown",
      "metadata": {
        "id": "0w4LbcHJEhe-"
      },
      "source": [
        "Deoarece funcțiile sunt obiecte, se permite asocierea de atribute unui obiect funcție. Acest lucru poate părea destul de ciudat la o primă vedere pentru un programator ce utilizează alte limbaje de programare în mod uzual:"
      ]
    },
    {
      "cell_type": "code",
      "execution_count": null,
      "metadata": {
        "colab": {
          "base_uri": "https://localhost:8080/"
        },
        "id": "esY4rJErrZA5",
        "outputId": "fddd46a2-a998-48b6-9c30-e8e0aa9c446f"
      },
      "outputs": [
        {
          "data": {
            "text/plain": [
              "3"
            ]
          },
          "execution_count": 8,
          "metadata": {},
          "output_type": "execute_result"
        }
      ],
      "source": [
        "# Atribuim un atribut unui obiect funcție\n",
        "suma.attr = 3\n",
        "suma.attr"
      ]
    },
    {
      "cell_type": "markdown",
      "metadata": {
        "id": "1r8Ng_pYGe5O"
      },
      "source": [
        "## <font color=\"#e8710a\">Transmiterea argumentelor</font>\n",
        "\n"
      ]
    },
    {
      "cell_type": "markdown",
      "metadata": {
        "id": "4j7iTVJD1GvI"
      },
      "source": [
        "Obiectele trimise ca parametri la apelul funcțiilor vor fi copiate sau referite de variabilele locale din funcție. \n",
        "Argumentele imutabile sunt transmise prin **valoare**, iar argumentele mutabile sunt transmise prin **referință**. \n",
        "\n",
        "\n",
        "> **NOTĂ!** Modificarea unui obiect mutabil în cadrul unei funcții poate să afecteze obiectul trimis la apel!"
      ]
    },
    {
      "cell_type": "code",
      "execution_count": null,
      "metadata": {
        "colab": {
          "base_uri": "https://localhost:8080/"
        },
        "id": "-hIoz3nfGdnW",
        "outputId": "e33637db-2b82-4cc9-b11a-8f50355aa17e"
      },
      "outputs": [
        {
          "name": "stdout",
          "output_type": "stream",
          "text": [
            "88\n"
          ]
        }
      ],
      "source": [
        "# Argumente imutabile\n",
        "def f(a): # Se face o copie a obiectului trimis ca argument\n",
        "  a = 99 # Modificăm valoarea locală\n",
        "\n",
        "b = 88\n",
        "f(b) # a din functie va fi o copie a obiectului trimis ca argument\n",
        "print(b) # b nu se modifică"
      ]
    },
    {
      "cell_type": "code",
      "execution_count": null,
      "metadata": {
        "colab": {
          "base_uri": "https://localhost:8080/"
        },
        "id": "8TMq4zsYGpuO",
        "outputId": "8a877251-a315-4758-d450-2aa82486f575"
      },
      "outputs": [
        {
          "data": {
            "text/plain": [
              "(1, ['Mara', 'are'])"
            ]
          },
          "execution_count": 10,
          "metadata": {},
          "output_type": "execute_result"
        }
      ],
      "source": [
        "# Argumente mutabile\n",
        "def f(a, b): \n",
        "  a = 2         # Modificăm copia locală\n",
        "  b[0] = 'Mara' # Modificăm obiectul referit\n",
        "\n",
        "m = 1\n",
        "l = [\"Ana\", \"are\"] \n",
        "f(m, l) # Trimitem obiecte mutabile și imutabile\n",
        "m, l    # m nu se modifică, l se modifică"
      ]
    },
    {
      "cell_type": "markdown",
      "metadata": {
        "id": "eZmyarFeG0e3"
      },
      "source": [
        "**<font color=\"#1589FF\">Evitarea modificării argumentelor</font>**\n",
        "\n",
        "Pentru a evita modificarea obiectelor mutabile, se poate transmite o copie a acestora către funcție:"
      ]
    },
    {
      "cell_type": "code",
      "execution_count": null,
      "metadata": {
        "colab": {
          "base_uri": "https://localhost:8080/"
        },
        "id": "JxfWDzZJGuKU",
        "outputId": "a5ed224f-5bb1-43af-f564-d70eff4465fb"
      },
      "outputs": [
        {
          "data": {
            "text/plain": [
              "(1, ['Ana', 'are'])"
            ]
          },
          "execution_count": 11,
          "metadata": {},
          "output_type": "execute_result"
        }
      ],
      "source": [
        "l = [\"Ana\", \"are\"]\n",
        "f(m, l[:]) # Trimitem o copie a lui l la apel\n",
        "m, l"
      ]
    },
    {
      "cell_type": "code",
      "execution_count": null,
      "metadata": {
        "colab": {
          "base_uri": "https://localhost:8080/"
        },
        "id": "s9yxXkLwzyY5",
        "outputId": "e7ece18e-2e9f-4f0e-f6ab-ae1527391fc6"
      },
      "outputs": [
        {
          "data": {
            "text/plain": [
              "(1, ['Ana', 'are'])"
            ]
          },
          "execution_count": 12,
          "metadata": {},
          "output_type": "execute_result"
        }
      ],
      "source": [
        "# Sau modificăm funcția să lucreze cu o copie a obiectului mutabil\n",
        "def f(a, b):\n",
        "  b = b[:]      # Facem o copie a obiectului trimis către funcție\n",
        "  a = 2\n",
        "  b[0] = 'Mara' # Modifică doar copia listei\n",
        "\n",
        "l = [\"Ana\", \"are\"]\n",
        "f(m, l)\n",
        "m, l"
      ]
    },
    {
      "cell_type": "markdown",
      "metadata": {
        "id": "5eMc8G5HHao0"
      },
      "source": [
        "##<font color=\"#e8710a\">Argumente ++</font>\n",
        "\n",
        "O caracteristică importantă a limbajului Python se referă la flexibilitatea listei de argumente ce pot fi transmise către funcții. O listă completă a metodelor de utilizare a argumentelor este prezentată în tabelul următor:\n",
        "\n",
        "Sintaxă | Localizare | Interpretare\n",
        "---|---|---\n",
        "func(var)|Apel|Argument pozițional\n",
        "func(nume=var)|Apel|Argument de tip keyword identificat prin numele parametrului\n",
        "func(*pargs)|Apel|Se trimit toate obiectele din iterabil ca argumente individuale poziționale\n",
        "func(**kargs)|Apel|Se trimit toate perechile de cheie-valoare din dicționar ca argumente individuale de tip keyword\n",
        "def func(var)|Funcție|Argument normal, identifică orice valoare trimisă prin poziție sau nume\n",
        "def func(nume=var)|Funcție|Valoare implicită a argumentului dacă nu se transmite nicio valoare\n",
        "def func(*nume)|Funcție|Identifică și colectează toate argumentele poziționale într-un tuplu\n",
        "def func(**nume)|Funcție|Identifică și colectează toate argumentele de tip keyword într-un dicționar\n",
        "def func(*rest, nume)|Funcție|Argumente ce trebuie transmise doar în apeluri de tip keyword (Python 3.x)\n",
        "def func(*, nume=val)|Funcție|Argumente ce trebuie transmise doar în apeluri de tip keyword (Python 3.x)\n",
        "\n",
        "\n"
      ]
    },
    {
      "cell_type": "markdown",
      "metadata": {
        "id": "2knsgPfo6t0k"
      },
      "source": [
        "###<font color=\"#e8710a\">Ordinea argumentelor</font>\n",
        "\n",
        "Ca urmare a complexității modului și tipului de transmisie a argumentelor către funcții, trebuie respectată o anumită ordine a argumentelor atât la apel, cât și la definirea funcției:\n",
        "\n",
        "La apel:\n",
        "* argumente poziționale, \n",
        "* argumente keyword, \n",
        "* argumentul \\*pargs, \n",
        "* argumentul **kargs\n",
        "\n",
        "\n",
        "În antet: \n",
        "* argumente poziționale, \n",
        "* argumente cu valori implicite, \n",
        "* \\*pargs (sau \\* in Python 3.x), \n",
        "* argumente keyword, \n",
        "* \\*\\*kargs\n",
        "\n",
        "\n",
        "În Python 3.x au fost introduse și declarațiile de funcții ce permit utilizarea [doar a argumentelor de tip keyword](https://peps.python.org/pep-3102/)."
      ]
    },
    {
      "cell_type": "code",
      "execution_count": null,
      "metadata": {
        "colab": {
          "base_uri": "https://localhost:8080/"
        },
        "id": "P9x4AX2OHSxt",
        "outputId": "ca074d57-250a-41a6-8818-085b22cf2ed0"
      },
      "outputs": [
        {
          "name": "stdout",
          "output_type": "stream",
          "text": [
            "1 2 3\n",
            "2 1 3\n"
          ]
        }
      ],
      "source": [
        "# Argumente poziționale\n",
        "def f(a, b, c): \n",
        "  print(a, b, c)\n",
        "\n",
        "# Ordinea argumentelor la apel contează\n",
        "f(1, 2, 3)\n",
        "f(2, 1, 3)"
      ]
    },
    {
      "cell_type": "code",
      "execution_count": null,
      "metadata": {
        "colab": {
          "base_uri": "https://localhost:8080/"
        },
        "id": "XbYVH2GbHj4Q",
        "outputId": "4171ea72-10b1-465d-c6d5-3157a4617523"
      },
      "outputs": [
        {
          "name": "stdout",
          "output_type": "stream",
          "text": [
            "1 2 3\n",
            "1 3 2\n"
          ]
        }
      ],
      "source": [
        "# Argumente keyword\n",
        "# Se poate specifica numele argumentului și valoarea transmisă\n",
        "f(c=3, b=2, a=1)\n",
        "f(b=3, a=1, c=2)"
      ]
    },
    {
      "cell_type": "code",
      "execution_count": null,
      "metadata": {
        "colab": {
          "base_uri": "https://localhost:8080/"
        },
        "id": "tcoFIbmeHm5Q",
        "outputId": "96e4b487-72d6-4960-9855-c9203568fa67"
      },
      "outputs": [
        {
          "name": "stdout",
          "output_type": "stream",
          "text": [
            "1 2 3\n"
          ]
        }
      ],
      "source": [
        "# Combinare argumente poziționale cu argumente keyword\n",
        "f(1, c=3, b=2) # a primește valoare pe baza poziției, b și c sunt trimise prin nume"
      ]
    },
    {
      "cell_type": "markdown",
      "metadata": {
        "id": "4Oqb6PJEHpXs"
      },
      "source": [
        "###<font color=\"#e8710a\">Valori implicite  ale argumentelor</font>"
      ]
    },
    {
      "cell_type": "code",
      "execution_count": null,
      "metadata": {
        "colab": {
          "base_uri": "https://localhost:8080/"
        },
        "id": "2d6gu-QQHqqg",
        "outputId": "f69dc4cc-35a7-4078-f823-4cf855136f2a"
      },
      "outputs": [
        {
          "name": "stdout",
          "output_type": "stream",
          "text": [
            "1 2 3\n",
            "2 2 3\n",
            "2 2 3\n"
          ]
        }
      ],
      "source": [
        "# Definim valori implicite pentru a, b și c\n",
        "def f(a=1, b=2, c=3): \n",
        "  print(a, b, c)\n",
        "\n",
        "# Se utilizează valorile implicite pentru argumentele netransmise\n",
        "f()\n",
        "f(2)\n",
        "f(a=2) "
      ]
    },
    {
      "cell_type": "code",
      "execution_count": null,
      "metadata": {
        "colab": {
          "base_uri": "https://localhost:8080/"
        },
        "id": "3qo7C8cHHsfz",
        "outputId": "747843b8-16db-4f9b-d4e0-c7a2bf213371"
      },
      "outputs": [
        {
          "name": "stdout",
          "output_type": "stream",
          "text": [
            "1 4 3\n",
            "1 4 5\n"
          ]
        }
      ],
      "source": [
        "# Suprascriem pozițional valorile implicite\n",
        "f(1, 4) # c va lua valoarea implicită\n",
        "f(1, 4, 5) "
      ]
    },
    {
      "cell_type": "code",
      "execution_count": null,
      "metadata": {
        "colab": {
          "base_uri": "https://localhost:8080/"
        },
        "id": "rEO_o6n4Hywm",
        "outputId": "40328bfe-377e-41b6-ec84-ea583c017341"
      },
      "outputs": [
        {
          "name": "stdout",
          "output_type": "stream",
          "text": [
            "1 2 6\n"
          ]
        }
      ],
      "source": [
        "# Specificăm ce valoare implicită suprascriem\n",
        "f(1, c=6) # a va lua valoare pozițional"
      ]
    },
    {
      "cell_type": "markdown",
      "metadata": {
        "id": "_e63wMw9ID7u"
      },
      "source": [
        "**<font color=\"#1589FF\">Valori implicite mutabile</font>**\n",
        "\n",
        "În cazul în care folosim obiecte mutabile pentru valorile implicite, același obiect este folosit la fiecare apel al funcției ce utilizează doar valori implicite:"
      ]
    },
    {
      "cell_type": "code",
      "execution_count": null,
      "metadata": {
        "colab": {
          "base_uri": "https://localhost:8080/"
        },
        "id": "zfjeQc0p5PEQ",
        "outputId": "d72ac6ec-059b-44f4-dc22-9ec1a7af6514"
      },
      "outputs": [
        {
          "name": "stdout",
          "output_type": "stream",
          "text": [
            "[1]\n",
            "[1, 1]\n",
            "[3, 1]\n"
          ]
        }
      ],
      "source": [
        "def f(a=[]):\n",
        "  a.append(1)\n",
        "  print(a)\n",
        "\n",
        "f()\n",
        "f()\n",
        "f([3]) # Trimitem o altă listă"
      ]
    },
    {
      "cell_type": "markdown",
      "metadata": {
        "id": "fq9pHx2k5Mq7"
      },
      "source": [
        "###<font color=\"#e8710a\">Apel cu listă variabilă de argumente</font>\n",
        "\n",
        "Python permite ca numărul de argumente transmis către funcție să fie variabil:"
      ]
    },
    {
      "cell_type": "code",
      "execution_count": null,
      "metadata": {
        "colab": {
          "base_uri": "https://localhost:8080/"
        },
        "id": "GejCB1DSIMUL",
        "outputId": "c3a982a6-7f8f-41c2-8732-8952c0ac8ff9"
      },
      "outputs": [
        {
          "name": "stdout",
          "output_type": "stream",
          "text": [
            "()\n"
          ]
        }
      ],
      "source": [
        "# Funcție cu listă variabilă de argumente poziționale\n",
        "def f(*pargs): \n",
        "  print(pargs)\n",
        "# Apel fără argumente\n",
        "f()"
      ]
    },
    {
      "cell_type": "code",
      "execution_count": null,
      "metadata": {
        "colab": {
          "base_uri": "https://localhost:8080/"
        },
        "id": "PDyvGafXIOEh",
        "outputId": "e35ce5a5-de79-4053-d501-b494bf095b59"
      },
      "outputs": [
        {
          "name": "stdout",
          "output_type": "stream",
          "text": [
            "(1,)\n"
          ]
        }
      ],
      "source": [
        "# Apel cu un argument\n",
        "f(1)"
      ]
    },
    {
      "cell_type": "code",
      "execution_count": null,
      "metadata": {
        "colab": {
          "base_uri": "https://localhost:8080/"
        },
        "id": "5-tloO7dIPOI",
        "outputId": "e875d5fc-f6e5-48b7-a3dc-5c50328cff09"
      },
      "outputs": [
        {
          "name": "stdout",
          "output_type": "stream",
          "text": [
            "(1, 2, 3, 4)\n"
          ]
        }
      ],
      "source": [
        "# Apel cu 4 argumente\n",
        "f(1, 2, 3, 4)"
      ]
    },
    {
      "cell_type": "code",
      "execution_count": null,
      "metadata": {
        "colab": {
          "base_uri": "https://localhost:8080/"
        },
        "id": "8Qwv4XBqIQoT",
        "outputId": "d52807b7-df86-428f-ed46-5014a4d3d9a3"
      },
      "outputs": [
        {
          "name": "stdout",
          "output_type": "stream",
          "text": [
            "{}\n"
          ]
        }
      ],
      "source": [
        "# Listă variabilă de argumente keyword\n",
        "def f(**kargs): \n",
        "  print(kargs)\n",
        "\n",
        "# Apel fără argumente\n",
        "f()"
      ]
    },
    {
      "cell_type": "code",
      "execution_count": null,
      "metadata": {
        "colab": {
          "base_uri": "https://localhost:8080/"
        },
        "id": "EQnEgPm1ITXg",
        "outputId": "322d1a3c-2b12-4ec3-986f-8a8c6248e4d2"
      },
      "outputs": [
        {
          "name": "stdout",
          "output_type": "stream",
          "text": [
            "{'a': 1, 'b': 2}\n"
          ]
        }
      ],
      "source": [
        "# Apel cu două argumente keyword\n",
        "# Argumentele sunt reținute sub formă de dicționar\n",
        "f(a=1, b=2)"
      ]
    },
    {
      "cell_type": "code",
      "execution_count": null,
      "metadata": {
        "id": "JjjhRkxTIUmC"
      },
      "outputs": [],
      "source": [
        "# Combinare argument pozițional cu listă variabilă de argumente poziționale\n",
        "# și listă variabilă de argumente keyword\n",
        "def f(a, *pargs, **kargs): \n",
        "  print(a, pargs, kargs)"
      ]
    },
    {
      "cell_type": "code",
      "execution_count": null,
      "metadata": {
        "colab": {
          "base_uri": "https://localhost:8080/"
        },
        "id": "adCh2_kcIXu3",
        "outputId": "8e8037e2-33b8-4bcf-bf16-30d5510953e5"
      },
      "outputs": [
        {
          "name": "stdout",
          "output_type": "stream",
          "text": [
            "1 (2, 3) {'x': 1, 'y': 2}\n"
          ]
        }
      ],
      "source": [
        "f(1, 2, 3, x=1, y=2)"
      ]
    },
    {
      "cell_type": "markdown",
      "metadata": {
        "id": "_MysT2KhIZ9S"
      },
      "source": [
        "**<font color=\"#1589FF\">Despachetarea argumentelor</font>**\n",
        "\n",
        "Despachetarea argumentelor (en. *unpacking arguments*) se referă la modul în care putem transmite lista de argumente către funcții folosind dicționare:"
      ]
    },
    {
      "cell_type": "code",
      "execution_count": null,
      "metadata": {
        "colab": {
          "base_uri": "https://localhost:8080/"
        },
        "id": "q4cMV7KVIYJk",
        "outputId": "a7aea28c-f67a-4d3c-fb2b-7a3d0a32c573"
      },
      "outputs": [
        {
          "name": "stdout",
          "output_type": "stream",
          "text": [
            "1 (2, 3) {'x': 1, 'y': 2}\n"
          ]
        }
      ],
      "source": [
        "def f(a, *pargs, **kargs): \n",
        "  print(a, pargs, kargs)\n",
        "\n",
        "f(1, 2, 3, x=1, y=2)"
      ]
    },
    {
      "cell_type": "code",
      "execution_count": null,
      "metadata": {
        "colab": {
          "base_uri": "https://localhost:8080/"
        },
        "id": "CIQ5nvMZIdBw",
        "outputId": "cea06656-2de9-4585-ab85-348c05b949e7"
      },
      "outputs": [
        {
          "name": "stdout",
          "output_type": "stream",
          "text": [
            "1 () {'b': 2, 'c': 3, 'd': 4}\n"
          ]
        }
      ],
      "source": [
        "# Definim un dicționar pentru lista de argumente de apel\n",
        "kargs = {'a': 1, 'b': 2, 'c': 3}\n",
        "kargs['d'] = 4\n",
        "# Apelăm funcția folosind dicționarul definit anterior\n",
        "f(**kargs) "
      ]
    },
    {
      "cell_type": "markdown",
      "metadata": {
        "id": "oOxbZuDvJX5a"
      },
      "source": [
        "## <font color=\"#e8710a\">Funcții - elemente avansate</font>\n",
        "\n",
        "Înainte de a discuta elemente avansate legate de funcții, este important să reținem anumite principii de bază pentru codarea funcțiilor:\n",
        "\n",
        "- Funcțiile nu trebuie să se bazeze pe elemente din afara lor, sunt elemente de sine-stătătoare și trebuie să fie cât mai simple, să servească un singur scop;\n",
        "- Utilizarea variabilelor globale trebuie minimizată;\n",
        "- Obiectele mutabile nu trebuie modificate decât dacă apelantul se așteaptă la asta;\n",
        "\n",
        "\n",
        "\n",
        "\n"
      ]
    },
    {
      "cell_type": "markdown",
      "metadata": {
        "id": "ZJHn7G1_66nM"
      },
      "source": [
        "### <font color=\"#e8710a\">Funcții recursive</font>\n",
        "\n",
        "Funcțiile recursive au în corpul lor un apel la funcția definită curent. Este important ca în cadrul funcțiilor recursive să existe o condiție finală (ultimul pas din recursivitate), în caz contrar recursivitatea devine infinită și codul rămâne blocat în această funcție."
      ]
    },
    {
      "cell_type": "code",
      "execution_count": null,
      "metadata": {
        "colab": {
          "base_uri": "https://localhost:8080/"
        },
        "id": "4JvR3L2nJWaD",
        "outputId": "ed7ae8cc-ab0a-451c-8c11-d4f843a0261a"
      },
      "outputs": [
        {
          "data": {
            "text/plain": [
              "3628800"
            ]
          },
          "execution_count": 29,
          "metadata": {},
          "output_type": "execute_result"
        }
      ],
      "source": [
        "# Calcul factorial() recursiv\n",
        "def factorial(n):\n",
        "    if n == 1:\n",
        "        return 1\n",
        "    else:\n",
        "        return (n * factorial(n-1))\n",
        "        \n",
        "factorial(10)"
      ]
    },
    {
      "cell_type": "code",
      "execution_count": null,
      "metadata": {
        "colab": {
          "base_uri": "https://localhost:8080/"
        },
        "id": "wXKRjk5X8p--",
        "outputId": "c787bfd4-40b7-4c6b-c16f-bae2d49dab7a"
      },
      "outputs": [
        {
          "data": {
            "text/plain": [
              "55"
            ]
          },
          "execution_count": 30,
          "metadata": {},
          "output_type": "execute_result"
        }
      ],
      "source": [
        "# Calcul fibonacci() recursiv\n",
        "def fibonacci(n):\n",
        "    if n == 0:\n",
        "        return 0\n",
        "    elif n == 1 or n == 2:\n",
        "        return 1\n",
        "    else:\n",
        "        return fibonacci(n-1) + fibonacci(n-2)\n",
        "        \n",
        "fibonacci(10)"
      ]
    },
    {
      "cell_type": "markdown",
      "metadata": {
        "id": "EzIR9PySJzS_"
      },
      "source": [
        "### <font color=\"#e8710a\">Obiecte funcții</font>\n",
        "\n",
        "Am menționat și la începutul acestui tutorial faptul că funcțiile în Python sunt tot obiecte. Acest lucru înseamnă că le putem trata ca atare:"
      ]
    },
    {
      "cell_type": "code",
      "execution_count": null,
      "metadata": {
        "colab": {
          "base_uri": "https://localhost:8080/"
        },
        "id": "_mRti94GJ3Am",
        "outputId": "9b5e8096-3a7c-4ac8-f99f-ba7a6e9634ad"
      },
      "outputs": [
        {
          "name": "stdout",
          "output_type": "stream",
          "text": [
            "Salut\n"
          ]
        }
      ],
      "source": [
        "def func(s):\n",
        "  print(s)\n",
        "func('Salut') # Apel direct"
      ]
    },
    {
      "cell_type": "code",
      "execution_count": null,
      "metadata": {
        "colab": {
          "base_uri": "https://localhost:8080/"
        },
        "id": "TdmBt4mTJ64s",
        "outputId": "58746e29-6b55-48da-e5f8-d8d26b0e9af9"
      },
      "outputs": [
        {
          "name": "stdout",
          "output_type": "stream",
          "text": [
            "Pa\n"
          ]
        }
      ],
      "source": [
        "alta_func = func # Creăm o nouă referință la obiectul func\n",
        "alta_func('Pa')  # Apel prin noul obiect creat"
      ]
    },
    {
      "cell_type": "markdown",
      "metadata": {
        "id": "1tNoo7LaAzQW"
      },
      "source": [
        "Astfel că putem crea o funcție ce apelează funcții transmise ca argumente:"
      ]
    },
    {
      "cell_type": "code",
      "execution_count": null,
      "metadata": {
        "colab": {
          "base_uri": "https://localhost:8080/"
        },
        "id": "z81b9TqxJ92u",
        "outputId": "92814f10-fde4-40ed-bfdc-d0308f4b1d25"
      },
      "outputs": [
        {
          "name": "stdout",
          "output_type": "stream",
          "text": [
            "Ce mai faci?\n"
          ]
        }
      ],
      "source": [
        "def indirect(func, arg):\n",
        "  func(arg) # Apelăm funcția trimisă ca argument\n",
        "  \n",
        "indirect(func, 'Ce mai faci?')"
      ]
    },
    {
      "cell_type": "code",
      "execution_count": null,
      "metadata": {
        "colab": {
          "base_uri": "https://localhost:8080/"
        },
        "id": "ITaQD-vWBQgF",
        "outputId": "85d2932f-f62a-4c2e-a586-986d7aa15261"
      },
      "outputs": [
        {
          "name": "stdout",
          "output_type": "stream",
          "text": [
            "HaHaHa\n"
          ]
        }
      ],
      "source": [
        "# Definim o altă funcție\n",
        "def func2(L):\n",
        "  print(L[0]*L[1])\n",
        "  \n",
        "# Și o apelăm print funcția indirect()\n",
        "indirect(func2, [\"Ha\", 3])"
      ]
    },
    {
      "cell_type": "markdown",
      "metadata": {
        "id": "d9vtcvN1KfC9"
      },
      "source": [
        "### <font color=\"#e8710a\">Introspecția în funcții</font>\n",
        "\n",
        "Fiind obiecte, funcțiile au asociate o serie de atribute ce permit introspecția, de exemplu afișarea numelui funcției apelate:"
      ]
    },
    {
      "cell_type": "code",
      "execution_count": null,
      "metadata": {
        "colab": {
          "base_uri": "https://localhost:8080/",
          "height": 35
        },
        "id": "JgIAHRB-KdbH",
        "outputId": "86d982ee-78b0-4c1f-b468-14806f9874dc"
      },
      "outputs": [
        {
          "data": {
            "application/vnd.google.colaboratory.intrinsic+json": {
              "type": "string"
            },
            "text/plain": [
              "'func'"
            ]
          },
          "execution_count": 35,
          "metadata": {},
          "output_type": "execute_result"
        }
      ],
      "source": [
        "def func(s):\n",
        "  print(s)\n",
        "func.__name__"
      ]
    },
    {
      "cell_type": "code",
      "execution_count": null,
      "metadata": {
        "colab": {
          "base_uri": "https://localhost:8080/",
          "height": 35
        },
        "id": "hHRn2bQD4pgZ",
        "outputId": "aec635c6-cc39-43ce-8605-3a878ee16639"
      },
      "outputs": [
        {
          "data": {
            "application/vnd.google.colaboratory.intrinsic+json": {
              "type": "string"
            },
            "text/plain": [
              "'func'"
            ]
          },
          "execution_count": 36,
          "metadata": {},
          "output_type": "execute_result"
        }
      ],
      "source": [
        "# Creăm o nouă referință la obiect\n",
        "alta_func = func\n",
        "# Numele funcției rămâne același\n",
        "alta_func.__name__"
      ]
    },
    {
      "cell_type": "markdown",
      "metadata": {
        "id": "tNx_0NX1_9Tj"
      },
      "source": [
        "Putem afișa toate atributele implicite ale obiectului funcție apelând `dir()`:"
      ]
    },
    {
      "cell_type": "code",
      "execution_count": null,
      "metadata": {
        "colab": {
          "base_uri": "https://localhost:8080/",
          "height": 71
        },
        "id": "4aikSle1KhwG",
        "outputId": "53cff6ca-f0d5-4a17-9afc-df54f701933e"
      },
      "outputs": [
        {
          "data": {
            "application/vnd.google.colaboratory.intrinsic+json": {
              "type": "string"
            },
            "text/plain": [
              "'__annotations__ __call__ __class__ __closure__ __code__ __defaults__ __delattr__ __dict__ __dir__ __doc__ __eq__ __format__ __ge__ __get__ __getattribute__ __globals__ __gt__ __hash__ __init__ __init_subclass__ __kwdefaults__ __le__ __lt__ __module__ __name__ __ne__ __new__ __qualname__ __reduce__ __reduce_ex__ __repr__ __setattr__ __sizeof__ __str__ __subclasshook__'"
            ]
          },
          "execution_count": 37,
          "metadata": {},
          "output_type": "execute_result"
        }
      ],
      "source": [
        "' '.join(dir(func))"
      ]
    },
    {
      "cell_type": "markdown",
      "metadata": {
        "id": "q_IMgV7kAjL9"
      },
      "source": [
        "Sau numele argumentelor funcției:"
      ]
    },
    {
      "cell_type": "code",
      "execution_count": null,
      "metadata": {
        "colab": {
          "base_uri": "https://localhost:8080/"
        },
        "id": "45QVqYNbKkwc",
        "outputId": "8096ae46-5842-4fe8-d274-679514b1d782"
      },
      "outputs": [
        {
          "data": {
            "text/plain": [
              "('s',)"
            ]
          },
          "execution_count": 38,
          "metadata": {},
          "output_type": "execute_result"
        }
      ],
      "source": [
        "func.__code__.co_varnames"
      ]
    },
    {
      "cell_type": "markdown",
      "metadata": {
        "id": "rcSSd9p6AsR9"
      },
      "source": [
        "Sau numărul argumentelor:"
      ]
    },
    {
      "cell_type": "code",
      "execution_count": null,
      "metadata": {
        "colab": {
          "base_uri": "https://localhost:8080/"
        },
        "id": "dAw4RDRSKmGw",
        "outputId": "c651490f-5e3d-4738-a4b0-2a06fb619e05"
      },
      "outputs": [
        {
          "data": {
            "text/plain": [
              "1"
            ]
          },
          "execution_count": 39,
          "metadata": {},
          "output_type": "execute_result"
        }
      ],
      "source": [
        "func.__code__.co_argcount"
      ]
    },
    {
      "cell_type": "markdown",
      "metadata": {
        "id": "LQcllMFnK0YA"
      },
      "source": [
        "### <font color=\"#e8710a\">Adnotări ale funcțiilor - Python 3.x</font>\n",
        "\n",
        "Datorită faptului că Python nu necesită specificarea tipului obiectelor transmise ca parametrii către funcții sau tipul returnat de acestea, uneori poate fi destul de complicat de citit codul. În Python 3.x au fost introduse așa numitele adnotări ale funcțiilor. Acestea nu au vreun efect programatic, ci doar informează utilizatorul codului despre tipul de date necesar apelului unei funcții sau alte condiții și mesaje ajutătoare pentru programator. "
      ]
    },
    {
      "cell_type": "code",
      "execution_count": null,
      "metadata": {
        "colab": {
          "base_uri": "https://localhost:8080/"
        },
        "id": "nbMEPOxvgJxk",
        "outputId": "17fcc059-63a3-4525-ed3c-f97ffd1cf4a4"
      },
      "outputs": [
        {
          "data": {
            "text/plain": [
              "25.132741228718345"
            ]
          },
          "execution_count": 40,
          "metadata": {},
          "output_type": "execute_result"
        }
      ],
      "source": [
        "import math\n",
        "# Funcția ia la intrare un int și returnează floar\n",
        "def arie(raza: int) -> float:\n",
        "    return 2 * math.pi * raza ** 2\n",
        "\n",
        "arie(2)"
      ]
    },
    {
      "cell_type": "markdown",
      "metadata": {
        "id": "TmxC-3rLhrYC"
      },
      "source": [
        "Este important de reiterat faptul că adnotările nu au vreun efect asupra codului și faptul că parametrul funcției anterioare este adnotat cu `int`, nu însemnă că funcția nu poate fi apelată cu alt tip de obiect atâta timp cât acesta poate fi utilizat în corpul funcției"
      ]
    },
    {
      "cell_type": "code",
      "execution_count": null,
      "metadata": {
        "colab": {
          "base_uri": "https://localhost:8080/"
        },
        "id": "CLcYJ-DviD3s",
        "outputId": "58708dd6-0c73-4aa6-e824-8bb7ea83f4c2"
      },
      "outputs": [
        {
          "data": {
            "text/plain": [
              "39.269908169872416"
            ]
          },
          "execution_count": 41,
          "metadata": {},
          "output_type": "execute_result"
        }
      ],
      "source": [
        "# Apelăm cu argument float\n",
        "arie(2.5)"
      ]
    },
    {
      "cell_type": "markdown",
      "metadata": {
        "id": "Lh4vSFFTiLuV"
      },
      "source": [
        "Adnotările nu sunt folosite doar pentru specificarea tipului argumentelor funcției, ci pot fi doar anumite mesaje informative:"
      ]
    },
    {
      "cell_type": "code",
      "execution_count": null,
      "metadata": {
        "colab": {
          "base_uri": "https://localhost:8080/"
        },
        "id": "cgBOzKIAiVk_",
        "outputId": "9d41d692-6be4-4a77-9472-cf7744c01bc2"
      },
      "outputs": [
        {
          "data": {
            "text/plain": [
              "25.132741228718345"
            ]
          },
          "execution_count": 42,
          "metadata": {},
          "output_type": "execute_result"
        }
      ],
      "source": [
        "def arie(raza:'Raza cercului pentru care calculăm aria') -> float:\n",
        "  return 2 * math.pi * raza ** 2\n",
        "\n",
        "arie(2)"
      ]
    },
    {
      "cell_type": "markdown",
      "metadata": {
        "id": "n89lk1TzimSO"
      },
      "source": [
        "Pentru a vizualiza aceste adnotări fără a avea acces la codul sursă, putem folosi atributul `__annotations__` al obiectelor funcție:"
      ]
    },
    {
      "cell_type": "code",
      "execution_count": null,
      "metadata": {
        "colab": {
          "base_uri": "https://localhost:8080/"
        },
        "id": "nJMIJNNpK34p",
        "outputId": "06b69307-2e1e-4ad9-dfdd-a492f5133624"
      },
      "outputs": [
        {
          "data": {
            "text/plain": [
              "{'raza': 'Raza cercului pentru care calculăm aria', 'return': float}"
            ]
          },
          "execution_count": 43,
          "metadata": {},
          "output_type": "execute_result"
        }
      ],
      "source": [
        "arie.__annotations__"
      ]
    },
    {
      "cell_type": "markdown",
      "metadata": {
        "id": "455AIDyii21I"
      },
      "source": [
        "Restul aspectelor legate de argumentele funcțiilor rămân valide, precum valorile implicite ale parametrilor:"
      ]
    },
    {
      "cell_type": "code",
      "execution_count": null,
      "metadata": {
        "colab": {
          "base_uri": "https://localhost:8080/"
        },
        "id": "KIxkea9wjQ0V",
        "outputId": "e20d2651-5e71-4f56-a341-342e35543317"
      },
      "outputs": [
        {
          "data": {
            "text/plain": [
              "25.132741228718345"
            ]
          },
          "execution_count": 44,
          "metadata": {},
          "output_type": "execute_result"
        }
      ],
      "source": [
        "def arie(raza: int = 2):\n",
        "  return 2 * math.pi * raza ** 2\n",
        "\n",
        "# Apelăm cu argument implicit\n",
        "arie()"
      ]
    },
    {
      "cell_type": "code",
      "execution_count": null,
      "metadata": {
        "colab": {
          "base_uri": "https://localhost:8080/"
        },
        "id": "jZuotWomjjPB",
        "outputId": "19213d68-3ec5-41a3-c92c-5a895258526f"
      },
      "outputs": [
        {
          "data": {
            "text/plain": [
              "628.3185307179587"
            ]
          },
          "execution_count": 45,
          "metadata": {},
          "output_type": "execute_result"
        }
      ],
      "source": [
        "# Apelăm cu argument pozițional\n",
        "arie (10)"
      ]
    },
    {
      "cell_type": "code",
      "execution_count": null,
      "metadata": {
        "colab": {
          "base_uri": "https://localhost:8080/"
        },
        "id": "O5n8hVynjeJb",
        "outputId": "73b44ee3-e7ac-4446-f037-237977776460"
      },
      "outputs": [
        {
          "data": {
            "text/plain": [
              "904.7786842338604"
            ]
          },
          "execution_count": 46,
          "metadata": {},
          "output_type": "execute_result"
        }
      ],
      "source": [
        "# Apelăm cu argument keyword:\n",
        "arie (raza=12)"
      ]
    },
    {
      "cell_type": "markdown",
      "metadata": {
        "id": "XGBu2WiP5Zii"
      },
      "source": [
        "Trebuie să facem o distincție aici între documentația și adnotarea unei funcții. Documentația este de obicei un text elaborat prin intermediul căruia se specifică întreaga funcționalitate a unei funcții, alături de parametri de intrare și ieșire. Adnotările sunt mesaje informative scurte și doar ajută la o mai bună utilizare a funcției."
      ]
    },
    {
      "cell_type": "markdown",
      "metadata": {
        "id": "UrHrX0W0LAm8"
      },
      "source": [
        "## <font color=\"#e8710a\">Funcții lambda</font>\n",
        "\n",
        "Funcțiile lambda sunt de fapt expresii ce returnează o funcție ce poate fi mai apoi atribuită unui alt obiect funcție. Corpul funcției este constituit dintr-o singură expresie și au utilitate în reducerea numărului de linii de cod și utilizarea funcțiilor în construcții mai complexe.\n",
        "\n",
        "Forma generală a unei funcții lambda este:\n",
        "\n",
        "`lambda argument1, argument2,... argumentN : expression using arguments`\n",
        "\n",
        "\n",
        "Să vedem câteva exemple:"
      ]
    },
    {
      "cell_type": "code",
      "execution_count": null,
      "metadata": {
        "colab": {
          "base_uri": "https://localhost:8080/"
        },
        "id": "h3DaJzG6LJRC",
        "outputId": "e948f273-efca-432c-a09b-06dac24c909b"
      },
      "outputs": [
        {
          "data": {
            "text/plain": [
              "3"
            ]
          },
          "execution_count": 47,
          "metadata": {},
          "output_type": "execute_result"
        }
      ],
      "source": [
        "# Definirea standard a unei funcții\n",
        "def suma(a, b): \n",
        "  return a+b\n",
        "suma(1,2)"
      ]
    },
    {
      "cell_type": "code",
      "execution_count": null,
      "metadata": {
        "colab": {
          "base_uri": "https://localhost:8080/"
        },
        "id": "jywNYKzTLJ-y",
        "outputId": "824cee39-8fd6-4d66-b74a-cf2752b74251"
      },
      "outputs": [
        {
          "data": {
            "text/plain": [
              "3"
            ]
          },
          "execution_count": 48,
          "metadata": {},
          "output_type": "execute_result"
        }
      ],
      "source": [
        "# Alternativa lambda\n",
        "suma = lambda a, b: a+b\n",
        "# Apelăm în mod standard\n",
        "suma(1,2)"
      ]
    },
    {
      "cell_type": "code",
      "execution_count": null,
      "metadata": {
        "colab": {
          "base_uri": "https://localhost:8080/"
        },
        "id": "YuraRteDLMOt",
        "outputId": "a6b969ef-c332-431e-9331-d336616e2e67"
      },
      "outputs": [
        {
          "data": {
            "text/plain": [
              "3"
            ]
          },
          "execution_count": 49,
          "metadata": {},
          "output_type": "execute_result"
        }
      ],
      "source": [
        "# Putem utiliza și valori implicite\n",
        "suma = (lambda a=1, b=2: a + b)\n",
        "suma()"
      ]
    },
    {
      "cell_type": "markdown",
      "metadata": {
        "id": "6pmmd5gBmkON"
      },
      "source": [
        "Funcțiile lambda ne permit definirea unor secvențe de tip listă sau dicționar ce conțin diferite funcții și care pot fi apelate direct din indexarea secvenței:"
      ]
    },
    {
      "cell_type": "code",
      "execution_count": null,
      "metadata": {
        "colab": {
          "base_uri": "https://localhost:8080/"
        },
        "id": "AoNjwIFcLOMf",
        "outputId": "7bdc5be8-98c3-4414-eb88-bb4edc5c582a"
      },
      "outputs": [
        {
          "name": "stdout",
          "output_type": "stream",
          "text": [
            "4\n",
            "8\n",
            "16\n"
          ]
        }
      ],
      "source": [
        "# Definim o listă de funcții lambda\n",
        "L = [lambda x: x ** 2, \n",
        "     lambda x: x ** 3,\n",
        "     lambda x: x ** 4] \n",
        "# Apelăm pe rând funcțiile din listă asupra unui argument\n",
        "for f in L:\n",
        "  print(f(2)) "
      ]
    },
    {
      "cell_type": "code",
      "execution_count": null,
      "metadata": {
        "colab": {
          "base_uri": "https://localhost:8080/"
        },
        "id": "9aIg40e5lxub",
        "outputId": "91723229-f1f9-4d8d-a41b-0eafe1795cf5"
      },
      "outputs": [
        {
          "data": {
            "text/plain": [
              "27"
            ]
          },
          "execution_count": 51,
          "metadata": {},
          "output_type": "execute_result"
        }
      ],
      "source": [
        "# Sau putem apela direct funcția din lista definită anterior\n",
        "L[1](3)"
      ]
    },
    {
      "cell_type": "code",
      "execution_count": null,
      "metadata": {
        "colab": {
          "base_uri": "https://localhost:8080/"
        },
        "id": "jtH7AaKzLSA3",
        "outputId": "a5d0dc2c-b9b9-4b82-a7bd-ce1e26201426"
      },
      "outputs": [
        {
          "data": {
            "text/plain": [
              "27"
            ]
          },
          "execution_count": 52,
          "metadata": {},
          "output_type": "execute_result"
        }
      ],
      "source": [
        "# Definim un dicționar de funcții lambda\n",
        "D = {'patrat': (lambda x: x ** 2),\n",
        "     'cub': (lambda x: x ** 3)}\n",
        "# Apelăm funcția indexată de cheia 'cub'\n",
        "D['cub'](3)"
      ]
    },
    {
      "cell_type": "markdown",
      "metadata": {
        "id": "iApn13BGm_Hk"
      },
      "source": [
        "Sau putem crea funcții ce returnează alte funcții lambda"
      ]
    },
    {
      "cell_type": "code",
      "execution_count": null,
      "metadata": {
        "colab": {
          "base_uri": "https://localhost:8080/"
        },
        "id": "Hu_C4tixm5q1",
        "outputId": "e98b820a-451c-4766-9a87-ddca8863abf9"
      },
      "outputs": [
        {
          "data": {
            "text/plain": [
              "8"
            ]
          },
          "execution_count": 53,
          "metadata": {},
          "output_type": "execute_result"
        }
      ],
      "source": [
        "# Funcție ce returnează o funcție\n",
        "def increment(x):\n",
        "  return (lambda y: y + x) \n",
        "\n",
        "# Creăm un nou obiect funcție\n",
        "# Funcția din interiorul increment() devine lambda y: y+2\n",
        "increment2 = increment(2)\n",
        "# Apelăm noua funcție\n",
        "increment2(6)"
      ]
    },
    {
      "cell_type": "markdown",
      "metadata": {
        "id": "jJtzUue-ncaG"
      },
      "source": [
        "Un element și mai avansat legat de funcții lambda se referă la imbricarea acestora. Definițiile din celula anterioară pot fi înlocuite de:"
      ]
    },
    {
      "cell_type": "code",
      "execution_count": null,
      "metadata": {
        "colab": {
          "base_uri": "https://localhost:8080/"
        },
        "id": "5pXeMSYLnlCe",
        "outputId": "4189ec1f-4e9d-4944-9a1b-c0f7377572b7"
      },
      "outputs": [
        {
          "data": {
            "text/plain": [
              "8"
            ]
          },
          "execution_count": 54,
          "metadata": {},
          "output_type": "execute_result"
        }
      ],
      "source": [
        "increment = (lambda x: (lambda y: y + x))\n",
        "increment2 = increment(2)\n",
        "increment2(6)"
      ]
    },
    {
      "cell_type": "markdown",
      "metadata": {
        "id": "Qg-tayxSns9b"
      },
      "source": [
        "Sau mai abstract:"
      ]
    },
    {
      "cell_type": "code",
      "execution_count": null,
      "metadata": {
        "colab": {
          "base_uri": "https://localhost:8080/"
        },
        "id": "tOi5fkY0nuax",
        "outputId": "30dbf988-3880-475e-a941-f84b23703dc9"
      },
      "outputs": [
        {
          "data": {
            "text/plain": [
              "8"
            ]
          },
          "execution_count": 55,
          "metadata": {},
          "output_type": "execute_result"
        }
      ],
      "source": [
        "((lambda x: (lambda y: y + x))(2))(6)"
      ]
    },
    {
      "cell_type": "markdown",
      "metadata": {
        "id": "zP0HZW_yLupO"
      },
      "source": [
        "## <font color=\"#e8710a\">Programarea funcțională</font>\n",
        "\n",
        "\n",
        "Paradigmă de programare în care programele sunt construite prin aplicarea și compunerea funcțiilor.\n",
        "Funcțiile pot fi atribuite unor variabile, transmise ca parametri către alte funcții și returnate din funcții\n",
        "\n",
        "În Python cele mai des utilizate funcții sunt: `map, filter, reduce` și se aplică asupra obiectelor **iterabile**\n",
        "\n"
      ]
    },
    {
      "cell_type": "markdown",
      "metadata": {
        "id": "KM0A-R197TC6"
      },
      "source": [
        "### <font color=\"#e8710a\">MAP()</font>\n",
        "\n",
        "`map()` aplică funcția specificată ca prim parametru asupra secvenței iterabile:"
      ]
    },
    {
      "cell_type": "code",
      "execution_count": null,
      "metadata": {
        "colab": {
          "base_uri": "https://localhost:8080/"
        },
        "id": "DJVNA0lRLrZm",
        "outputId": "df5fb2d5-e07d-40b0-bbdf-fa04f442ecfd"
      },
      "outputs": [
        {
          "data": {
            "text/plain": [
              "[1, 4, 9, 16]"
            ]
          },
          "execution_count": 56,
          "metadata": {},
          "output_type": "execute_result"
        }
      ],
      "source": [
        "# Definirea standard\n",
        "valori = [1, 2, 3, 4]\n",
        "patrate = []\n",
        "for x in valori:\n",
        "  patrate.append(x ** 2) \n",
        "patrate"
      ]
    },
    {
      "cell_type": "code",
      "execution_count": null,
      "metadata": {
        "colab": {
          "base_uri": "https://localhost:8080/"
        },
        "id": "13Fhx9QgL7j8",
        "outputId": "8e64b053-2106-4039-a629-c5f912a693f1"
      },
      "outputs": [
        {
          "data": {
            "text/plain": [
              "[1, 4, 9, 16]"
            ]
          },
          "execution_count": 57,
          "metadata": {},
          "output_type": "execute_result"
        }
      ],
      "source": [
        "# Definim o funcție ce va fi aplicată prin map()\n",
        "def patrat(x): \n",
        "  return x ** 2\n",
        "# Aplicăm patrat() asupra listei de valori\n",
        "list(map(patrat, valori)) "
      ]
    },
    {
      "cell_type": "code",
      "execution_count": null,
      "metadata": {
        "colab": {
          "base_uri": "https://localhost:8080/"
        },
        "id": "mUUJd0aPL-1Q",
        "outputId": "cc8afcaf-052c-4f99-f363-3f7592841860"
      },
      "outputs": [
        {
          "data": {
            "text/plain": [
              "[1, 4, 9, 16]"
            ]
          },
          "execution_count": 58,
          "metadata": {},
          "output_type": "execute_result"
        }
      ],
      "source": [
        "# Sau folosim direct o funcție lambda\n",
        "list(map((lambda x: x ** 2), valori)) "
      ]
    },
    {
      "cell_type": "code",
      "execution_count": null,
      "metadata": {
        "colab": {
          "base_uri": "https://localhost:8080/"
        },
        "id": "rcwEspkVMEdn",
        "outputId": "30099270-1cf5-40e3-b376-d37561f18400"
      },
      "outputs": [
        {
          "data": {
            "text/plain": [
              "[1, 8, 81]"
            ]
          },
          "execution_count": 59,
          "metadata": {},
          "output_type": "execute_result"
        }
      ],
      "source": [
        "# În map() putem utiliza și funcții ce preiau argumente multiple\n",
        "def putere (a, b): \n",
        "  return a ** b\n",
        "list(map(putere, [1, 2, 3], [2, 3, 4])) "
      ]
    },
    {
      "cell_type": "markdown",
      "metadata": {
        "id": "Fa7iqufdMHp-"
      },
      "source": [
        "### <font color=\"#e8710a\">FILTER()</font>\n",
        "\n",
        "Selectează elementele unui obiect iterabil pe baza unei funcții de test\n"
      ]
    },
    {
      "cell_type": "code",
      "execution_count": null,
      "metadata": {
        "colab": {
          "base_uri": "https://localhost:8080/"
        },
        "id": "3Jy59ECnMLlg",
        "outputId": "45e6eb1f-7b6d-47cb-c7d4-edbfe4576034"
      },
      "outputs": [
        {
          "data": {
            "text/plain": [
              "[1, 2]"
            ]
          },
          "execution_count": 60,
          "metadata": {},
          "output_type": "execute_result"
        }
      ],
      "source": [
        "L = [-2, -1, 0, 1, 2]\n",
        "# Filtrăm doar valorile mai mari decât 0\n",
        "list(filter((lambda x: x > 0), L)) "
      ]
    },
    {
      "cell_type": "markdown",
      "metadata": {
        "id": "aesOT6L6MNQl"
      },
      "source": [
        "### <font color=\"#e8710a\">REDUCE()</font>\n",
        "\n",
        "Returnează un singur rezultat pornind de la un obiect iterabil. Se vor prelua pe rând elementele iterabilului și se va aplica funcția specificată, reținând întretimp rezultatul anterior:\n"
      ]
    },
    {
      "cell_type": "code",
      "execution_count": null,
      "metadata": {
        "colab": {
          "base_uri": "https://localhost:8080/"
        },
        "id": "tTK8RS1xMQaE",
        "outputId": "9ccac24c-d2fd-4f70-8dfd-7dea05fed14b"
      },
      "outputs": [
        {
          "data": {
            "text/plain": [
              "10"
            ]
          },
          "execution_count": 61,
          "metadata": {},
          "output_type": "execute_result"
        }
      ],
      "source": [
        "# În Python3.x trebuie importată funcția reduce()\n",
        "from functools import reduce \n",
        "L = [1, 2, 3, 4]\n",
        "# Calculăm suma elementelor din L\n",
        "reduce((lambda x, y: x + y), L)"
      ]
    },
    {
      "cell_type": "code",
      "execution_count": null,
      "metadata": {
        "colab": {
          "base_uri": "https://localhost:8080/"
        },
        "id": "gt9MiaUWMRia",
        "outputId": "6a120536-85c2-43a6-d878-34f928aaee91"
      },
      "outputs": [
        {
          "data": {
            "text/plain": [
              "24"
            ]
          },
          "execution_count": 62,
          "metadata": {},
          "output_type": "execute_result"
        }
      ],
      "source": [
        "# Calculăm produsul elementelor din L\n",
        "reduce((lambda x, y: x * y), L)"
      ]
    },
    {
      "cell_type": "markdown",
      "metadata": {
        "id": "JgjGmf0zMYd3"
      },
      "source": [
        "**<font color=\"#1589FF\">Modulul operator</font>**\n",
        "\n",
        "Tot în cadrul paradigmei de programare funcțională, Python oferă posibilitatea utilizării operatorilor sub formă de funcții prin intermediul modulului [operator](https://docs.python.org/3/library/operator.html). Lista funcțiilor asociate operatorilor poate fi consultată [aici](https://docs.python.org/3/library/operator.html)."
      ]
    },
    {
      "cell_type": "code",
      "execution_count": null,
      "metadata": {
        "colab": {
          "base_uri": "https://localhost:8080/"
        },
        "id": "Ap6cJjb81z4i",
        "outputId": "bd220a6d-3403-47f1-daf6-cc65d4ff2246"
      },
      "outputs": [
        {
          "data": {
            "text/plain": [
              "True"
            ]
          },
          "execution_count": 63,
          "metadata": {},
          "output_type": "execute_result"
        }
      ],
      "source": [
        "import operator\n",
        "# Mai mic decât\n",
        "operator.lt(3,5)"
      ]
    },
    {
      "cell_type": "code",
      "execution_count": null,
      "metadata": {
        "colab": {
          "base_uri": "https://localhost:8080/"
        },
        "id": "3hTytFUg162h",
        "outputId": "e217c84d-b1c8-41a1-e631-0280732774b6"
      },
      "outputs": [
        {
          "data": {
            "text/plain": [
              "3.3333333333333335"
            ]
          },
          "execution_count": 64,
          "metadata": {},
          "output_type": "execute_result"
        }
      ],
      "source": [
        "# Împărțire exactă\n",
        "operator.truediv(10,3)"
      ]
    },
    {
      "cell_type": "code",
      "execution_count": null,
      "metadata": {
        "colab": {
          "base_uri": "https://localhost:8080/"
        },
        "id": "hQUGfpyy2TgG",
        "outputId": "1df430fa-f916-43ea-d8c8-aabdc15d58b6"
      },
      "outputs": [
        {
          "data": {
            "text/plain": [
              "[1, 2, 9, 10, 4, 5]"
            ]
          },
          "execution_count": 65,
          "metadata": {},
          "output_type": "execute_result"
        }
      ],
      "source": [
        "# Modificare elemente din listă\n",
        "L = [1, 2, 3, 4, 5]\n",
        "operator.setitem(L, slice(2,3), [9,10])\n",
        "L"
      ]
    },
    {
      "cell_type": "markdown",
      "metadata": {
        "id": "LdGkj0hiMcy4"
      },
      "source": [
        "## <font color=\"#e8710a\">Generatori</font>\n",
        "\n",
        "În anumite aplicații, datorită volumului mare de valori ce poate fi returnat de o funcție, este de dorit ca aceste valori să fie returnate secvențial. Pentru aceasta, avem la dispoziție **funcții și expresii generator** în Python. Atât funcțiile, cât și expresiile generator vor returna rezultatele pe rând, ceea ce înseamnă că execuția funcției sau a expresiei este suspendată până când codul apelant are nevoie de următoarea valoare. Drept urmare, generatorii sunt mult mai eficienți din punct de vedere al utilizării memoriei. \n",
        "\n",
        "Pentru a crea un generator, vom folosi instrucțiunea `yield` în loc de `return` în definirea funcției:"
      ]
    },
    {
      "cell_type": "code",
      "execution_count": null,
      "metadata": {
        "colab": {
          "base_uri": "https://localhost:8080/"
        },
        "id": "6q6d2iqcMUFw",
        "outputId": "3696eb73-0b61-4d6f-90d7-9b8fd19a6f2e"
      },
      "outputs": [
        {
          "name": "stdout",
          "output_type": "stream",
          "text": [
            "0\n",
            "1\n",
            "4\n",
            "9\n",
            "16\n"
          ]
        }
      ],
      "source": [
        "# Definim un generator\n",
        "def patrate(n):\n",
        "  for i in range(n):\n",
        "    yield i ** 2\n",
        "\n",
        "for i in patrate(5): \n",
        "  # Se preiau pe rând valorile returnate de funcția generator\n",
        "  print(i) "
      ]
    },
    {
      "cell_type": "code",
      "execution_count": null,
      "metadata": {
        "colab": {
          "base_uri": "https://localhost:8080/"
        },
        "id": "SSAMbMh338ia",
        "outputId": "322870e3-0925-4cc5-de6f-093787526bfc"
      },
      "outputs": [
        {
          "data": {
            "text/plain": [
              "<generator object patrate at 0x7f02d482aad0>"
            ]
          },
          "execution_count": 67,
          "metadata": {},
          "output_type": "execute_result"
        }
      ],
      "source": [
        "# Creăm un generator\n",
        "x = patrate(4)\n",
        "x"
      ]
    },
    {
      "cell_type": "code",
      "execution_count": null,
      "metadata": {
        "colab": {
          "base_uri": "https://localhost:8080/"
        },
        "id": "B5_wOjlbMrP7",
        "outputId": "fafc2b8f-a919-40f3-b3fa-b4bd860b7775"
      },
      "outputs": [
        {
          "data": {
            "text/plain": [
              "0"
            ]
          },
          "execution_count": 68,
          "metadata": {},
          "output_type": "execute_result"
        }
      ],
      "source": [
        "# Extragem pe rând valorile din acesta folosind next()\n",
        "next(x)"
      ]
    },
    {
      "cell_type": "code",
      "execution_count": null,
      "metadata": {
        "colab": {
          "base_uri": "https://localhost:8080/"
        },
        "id": "dY6I2kh4Msei",
        "outputId": "918f0e7f-8b8c-47df-d040-be572891a7ee"
      },
      "outputs": [
        {
          "data": {
            "text/plain": [
              "1"
            ]
          },
          "execution_count": 69,
          "metadata": {},
          "output_type": "execute_result"
        }
      ],
      "source": [
        "next(x)"
      ]
    },
    {
      "cell_type": "code",
      "execution_count": null,
      "metadata": {
        "colab": {
          "base_uri": "https://localhost:8080/"
        },
        "id": "eV6zstd3MuLl",
        "outputId": "d8a805aa-99fe-4ae6-9ce8-eec539d0e63e"
      },
      "outputs": [
        {
          "data": {
            "text/plain": [
              "4"
            ]
          },
          "execution_count": 70,
          "metadata": {},
          "output_type": "execute_result"
        }
      ],
      "source": [
        "next(x)"
      ]
    },
    {
      "cell_type": "markdown",
      "metadata": {
        "id": "sLRCBWOyMwPS"
      },
      "source": [
        "Expresiile generator sunt similare cu comprehensiunea, dar nu returnează întreagă secvență, ci fiecare element pe rând:"
      ]
    },
    {
      "cell_type": "code",
      "execution_count": null,
      "metadata": {
        "colab": {
          "base_uri": "https://localhost:8080/"
        },
        "id": "DveK5X-dMukt",
        "outputId": "d0954583-4eca-4e24-d291-1f36697f2cba"
      },
      "outputs": [
        {
          "data": {
            "text/plain": [
              "[0, 1, 4, 9]"
            ]
          },
          "execution_count": 71,
          "metadata": {},
          "output_type": "execute_result"
        }
      ],
      "source": [
        "# Comprehensiune listă\n",
        "L = [x ** 2 for x in range(4)] \n",
        "L"
      ]
    },
    {
      "cell_type": "code",
      "execution_count": null,
      "metadata": {
        "colab": {
          "base_uri": "https://localhost:8080/"
        },
        "id": "nzflJ4LmMzZq",
        "outputId": "5e9bd61f-485b-464f-f682-7b4e12ba161e"
      },
      "outputs": [
        {
          "data": {
            "text/plain": [
              "<generator object <genexpr> at 0x7f02d482a950>"
            ]
          },
          "execution_count": 72,
          "metadata": {},
          "output_type": "execute_result"
        }
      ],
      "source": [
        "# Generator\n",
        "G = (x ** 2 for x in range(4)) \n",
        "G"
      ]
    },
    {
      "cell_type": "code",
      "execution_count": null,
      "metadata": {
        "colab": {
          "base_uri": "https://localhost:8080/"
        },
        "id": "9iEO7SohM1DV",
        "outputId": "8ec558f3-2504-4f54-da54-5f6750bc24de"
      },
      "outputs": [
        {
          "data": {
            "text/plain": [
              "0"
            ]
          },
          "execution_count": 73,
          "metadata": {},
          "output_type": "execute_result"
        }
      ],
      "source": [
        "next(G)"
      ]
    },
    {
      "cell_type": "code",
      "execution_count": null,
      "metadata": {
        "colab": {
          "base_uri": "https://localhost:8080/"
        },
        "id": "QM5Jl7c9M2h_",
        "outputId": "b3df2813-83c9-4d5d-c6ed-7d9dd49cb2c1"
      },
      "outputs": [
        {
          "data": {
            "text/plain": [
              "1"
            ]
          },
          "execution_count": 74,
          "metadata": {},
          "output_type": "execute_result"
        }
      ],
      "source": [
        "next(G)"
      ]
    },
    {
      "cell_type": "markdown",
      "metadata": {
        "id": "jy3wJvqXM_A-"
      },
      "source": [
        "Funcțiile și expresiile generator pot fi iterate într-o singură instanță (en. *single iteration objects*), o singură dată, ceea ce înseamnă că nu pot fi iterate simultan la diferite poziții:\n"
      ]
    },
    {
      "cell_type": "code",
      "execution_count": null,
      "metadata": {
        "colab": {
          "base_uri": "https://localhost:8080/"
        },
        "id": "lJ4THW3xM9fd",
        "outputId": "69bcc563-2db8-444c-d413-d24bc2faf4f6"
      },
      "outputs": [
        {
          "data": {
            "text/plain": [
              "0"
            ]
          },
          "execution_count": 75,
          "metadata": {},
          "output_type": "execute_result"
        }
      ],
      "source": [
        "G = (x * 2 for x in range(3)) \n",
        "I1 = iter(G) # Iterăm generatorul\n",
        "next(I1)"
      ]
    },
    {
      "cell_type": "code",
      "execution_count": null,
      "metadata": {
        "colab": {
          "base_uri": "https://localhost:8080/"
        },
        "id": "x8bxdJ-oNFom",
        "outputId": "2579692a-d4da-40fe-d263-b5c0a8adc774"
      },
      "outputs": [
        {
          "data": {
            "text/plain": [
              "2"
            ]
          },
          "execution_count": 76,
          "metadata": {},
          "output_type": "execute_result"
        }
      ],
      "source": [
        "next(I1)"
      ]
    },
    {
      "cell_type": "code",
      "execution_count": null,
      "metadata": {
        "colab": {
          "base_uri": "https://localhost:8080/"
        },
        "id": "iToUpHLpNHfD",
        "outputId": "eaaa6e83-9e78-4551-fd40-402ca2d05708"
      },
      "outputs": [
        {
          "data": {
            "text/plain": [
              "4"
            ]
          },
          "execution_count": 77,
          "metadata": {},
          "output_type": "execute_result"
        }
      ],
      "source": [
        "# Creaăm un al doilea iterator\n",
        "I2 = iter(G) \n",
        "# Dar acesta reține poziția iteratorului anterior\n",
        "next(I2)"
      ]
    },
    {
      "cell_type": "code",
      "execution_count": null,
      "metadata": {
        "colab": {
          "base_uri": "https://localhost:8080/"
        },
        "id": "4IE0O3TbNIwp",
        "outputId": "99716bdb-7ad2-4e3b-99cb-fd84e9b5df51"
      },
      "outputs": [
        {
          "data": {
            "text/plain": [
              "[]"
            ]
          },
          "execution_count": 78,
          "metadata": {},
          "output_type": "execute_result"
        }
      ],
      "source": [
        "list(I1) # Extragem restul elementelor din generator"
      ]
    },
    {
      "cell_type": "code",
      "execution_count": null,
      "metadata": {
        "colab": {
          "base_uri": "https://localhost:8080/",
          "height": 187
        },
        "id": "1WMwW5hTNKi8",
        "outputId": "824a8f41-7b94-4d79-d5ef-cca07f574f30"
      },
      "outputs": [
        {
          "ename": "StopIteration",
          "evalue": "ignored",
          "output_type": "error",
          "traceback": [
            "\u001b[0;31m---------------------------------------------------------------------------\u001b[0m",
            "\u001b[0;31mStopIteration\u001b[0m                             Traceback (most recent call last)",
            "\u001b[0;32m<ipython-input-79-624144ae50ae>\u001b[0m in \u001b[0;36m<module>\u001b[0;34m\u001b[0m\n\u001b[1;32m      1\u001b[0m \u001b[0;31m# La epuizarea generatorului se aruncă o excepție\u001b[0m\u001b[0;34m\u001b[0m\u001b[0;34m\u001b[0m\u001b[0;34m\u001b[0m\u001b[0m\n\u001b[0;32m----> 2\u001b[0;31m \u001b[0mnext\u001b[0m\u001b[0;34m(\u001b[0m\u001b[0mI1\u001b[0m\u001b[0;34m)\u001b[0m\u001b[0;34m\u001b[0m\u001b[0;34m\u001b[0m\u001b[0m\n\u001b[0m",
            "\u001b[0;31mStopIteration\u001b[0m: "
          ]
        }
      ],
      "source": [
        "# La epuizarea generatorului se aruncă o excepție\n",
        "next(I1)"
      ]
    },
    {
      "cell_type": "markdown",
      "metadata": {
        "id": "030pp2UaNaGz"
      },
      "source": [
        "**<font color=\"#1589FF\">Python 3.3+ yield from</font>**\n",
        "\n",
        "Începând cu Python 3.3 avem la dispoziție instrucțiunea `yield from` ce utilizează un obiect generator pentru a returna elementele. Pot fi utilizate mai multe instrucțiuni `yield from` în cadrul aceleiași funcții:"
      ]
    },
    {
      "cell_type": "code",
      "execution_count": null,
      "metadata": {
        "colab": {
          "base_uri": "https://localhost:8080/"
        },
        "id": "VPaoWVloNYTC",
        "outputId": "3a5a1d7c-da16-41b4-a36b-d90574a0b2fd"
      },
      "outputs": [
        {
          "data": {
            "text/plain": [
              "[0, 1, 2, 3, 0, 1, 4, 9]"
            ]
          },
          "execution_count": 80,
          "metadata": {},
          "output_type": "execute_result"
        }
      ],
      "source": [
        "def doi_generatori(N):\n",
        "  yield from range(N)\n",
        "  yield from (x ** 2 for x in range(N))\n",
        "\n",
        "# Se returnează lista concatenată a elementelor celor 2 generatori\n",
        "list(doi_generatori(4))"
      ]
    },
    {
      "cell_type": "markdown",
      "metadata": {
        "id": "LgafMX6zOACE"
      },
      "source": [
        "## <font color=\"#e8710a\">Module</font>\n",
        "\n",
        "Fiecare fișier ce conține cod Python este un **modul**. Un modul determină așa-numitul *namespace* sau spațiul de vizibilitate a obiectelor. Modulele importă alte module pentru a folosi funcționalitățile implementate de acestea din urmă.\n",
        "\n",
        "La realizarea unui import se caută mai întâi sursa modulului, se compilează în bytecode și se rulează și crează obiectele definite. "
      ]
    },
    {
      "cell_type": "code",
      "execution_count": null,
      "metadata": {
        "colab": {
          "base_uri": "https://localhost:8080/"
        },
        "id": "lNa7N8TmYtJQ",
        "outputId": "c4dd1781-8063-4a9a-ad75-d11136eb3ce7"
      },
      "outputs": [
        {
          "name": "stdout",
          "output_type": "stream",
          "text": [
            "Writing modul.py\n"
          ]
        }
      ],
      "source": [
        "# Creăm un modul\n",
        "%%writefile modul.py\n",
        "a = 3\n",
        "b = 7\n",
        "def test():\n",
        "   print (\"Salut\")"
      ]
    },
    {
      "cell_type": "code",
      "execution_count": null,
      "metadata": {
        "colab": {
          "base_uri": "https://localhost:8080/"
        },
        "id": "ZNGkwploY27W",
        "outputId": "6e93380f-003e-42cb-c523-16e21da6c8bc"
      },
      "outputs": [
        {
          "name": "stdout",
          "output_type": "stream",
          "text": [
            "3 7\n",
            "Salut\n"
          ]
        }
      ],
      "source": [
        "# Importăm modulul și folosim variabilele și funcția definită\n",
        "import modul\n",
        "print (modul.a, modul.b)\n",
        "modul.test()"
      ]
    },
    {
      "cell_type": "markdown",
      "metadata": {
        "id": "UQ3Pf8jmZHjs"
      },
      "source": [
        "Modulele pot fi rulate și independent și se rulează de fapt tot codul ce există în afara funcțiilor sau claselor:"
      ]
    },
    {
      "cell_type": "code",
      "execution_count": null,
      "metadata": {
        "colab": {
          "base_uri": "https://localhost:8080/"
        },
        "id": "3DazcwtxZQO4",
        "outputId": "38a0e9e8-a8b2-44d3-8857-b6426b802501"
      },
      "outputs": [
        {
          "name": "stdout",
          "output_type": "stream",
          "text": [
            "Writing alt_modul.py\n"
          ]
        }
      ],
      "source": [
        "# Creăm un modul\n",
        "%%writefile alt_modul.py\n",
        "a = 3\n",
        "b = 7\n",
        "def test():\n",
        "  print (\"Salut\")\n",
        "\n",
        "# Se vor executa instrucțiunile de mai jos\n",
        "test()\n",
        "print(a+b)"
      ]
    },
    {
      "cell_type": "code",
      "execution_count": null,
      "metadata": {
        "colab": {
          "base_uri": "https://localhost:8080/"
        },
        "id": "L4XYf1XQZYjo",
        "outputId": "9982edd5-11da-444c-83fc-0d564e2cf4fc"
      },
      "outputs": [
        {
          "name": "stdout",
          "output_type": "stream",
          "text": [
            "Salut\n",
            "10\n"
          ]
        }
      ],
      "source": [
        "# Rulăm modulul independent (din linia de comandă)\n",
        "!python alt_modul.py"
      ]
    },
    {
      "cell_type": "markdown",
      "metadata": {
        "id": "NDKIyg327kxd"
      },
      "source": [
        "Definirea anterioară a modulului nu este una corectă, deoarece și la import se va rula același cod:"
      ]
    },
    {
      "cell_type": "code",
      "execution_count": null,
      "metadata": {
        "colab": {
          "base_uri": "https://localhost:8080/"
        },
        "id": "O9CzVado729b",
        "outputId": "6e0bdc01-f5db-417d-e9ae-ee218730e161"
      },
      "outputs": [
        {
          "name": "stdout",
          "output_type": "stream",
          "text": [
            "Salut\n",
            "10\n"
          ]
        }
      ],
      "source": [
        "import alt_modul"
      ]
    },
    {
      "cell_type": "markdown",
      "metadata": {
        "id": "4uCJsOAE797l"
      },
      "source": [
        "Astfel că e util să facem distincția între importul unui modul și rularea sa independentă. Pentru aceasta avem la dispoziție atributul `__name__`. Verificarea rulării independente se facem prin valoarea `__main__` a acestui atribut:"
      ]
    },
    {
      "cell_type": "code",
      "execution_count": null,
      "metadata": {
        "colab": {
          "base_uri": "https://localhost:8080/"
        },
        "id": "lcao1i_47k6A",
        "outputId": "8046c859-99d6-4859-d105-7d6cc96ed6f6"
      },
      "outputs": [
        {
          "name": "stdout",
          "output_type": "stream",
          "text": [
            "Writing modul_nou.py\n"
          ]
        }
      ],
      "source": [
        "# Creăm un modul\n",
        "%%writefile modul_nou.py\n",
        "a = 3\n",
        "b = 7\n",
        "def test():\n",
        "  print (\"Salut\")\n",
        "\n",
        "# Verificam daca rulam independent modulul\n",
        "if __name__ == '__main__':\n",
        "  print(a+b)\n",
        "  test()"
      ]
    },
    {
      "cell_type": "code",
      "execution_count": null,
      "metadata": {
        "colab": {
          "base_uri": "https://localhost:8080/"
        },
        "id": "8ZKg1RpO8Xw3",
        "outputId": "64538d9f-0691-4078-d24b-2edbab43c080"
      },
      "outputs": [
        {
          "name": "stdout",
          "output_type": "stream",
          "text": [
            "10\n",
            "Salut\n"
          ]
        }
      ],
      "source": [
        "# Rezultatul e același\n",
        "!python modul_nou.py"
      ]
    },
    {
      "cell_type": "code",
      "execution_count": null,
      "metadata": {
        "id": "HDsgoDvM9I70"
      },
      "outputs": [],
      "source": [
        "# La import nu se rulează codul din if\n",
        "import modul_nou"
      ]
    },
    {
      "cell_type": "markdown",
      "metadata": {
        "id": "WV-iMbiF8cEb"
      },
      "source": [
        "Rularea independentă a modulelor e utilă pentru testarea acestora. Codul de testare apare de obicei în instrucțiunea compusă `if __name__ == \"__main__\":`."
      ]
    },
    {
      "cell_type": "markdown",
      "metadata": {
        "id": "J1hm2-wTYsIm"
      },
      "source": [
        "**<font color=\"#1589FF\">Calea de căutare a modulelor</font>**\n",
        "\n",
        "Căile în care sunt căutate modulele importate respectă următoarea ierarhie: \n",
        "\n",
        "1. Directorul de bază (home) al aplicației;\n",
        "2. Căile din variabila PYTHONPATH (dacă e setată);\n",
        "3. Directoarele în care e stocată librăria standard Python;\n",
        "4. Conținutul fișierelor `.pth` (dacă există);\n",
        "5. Directorul de bază (home) al site-packages pentru module terțe.\n",
        "\n",
        "Rezultă lista stocată în variabila `sys.path`:"
      ]
    },
    {
      "cell_type": "code",
      "execution_count": null,
      "metadata": {
        "colab": {
          "base_uri": "https://localhost:8080/"
        },
        "id": "3ltzUCBUObWf",
        "outputId": "9fa4bc07-cd06-46e0-a8c3-8871b398f43b"
      },
      "outputs": [
        {
          "data": {
            "text/plain": [
              "['/content',\n",
              " '/env/python',\n",
              " '/usr/lib/python37.zip',\n",
              " '/usr/lib/python3.7',\n",
              " '/usr/lib/python3.7/lib-dynload',\n",
              " '',\n",
              " '/usr/local/lib/python3.7/dist-packages',\n",
              " '/usr/lib/python3/dist-packages',\n",
              " '/usr/local/lib/python3.7/dist-packages/IPython/extensions',\n",
              " '/root/.ipython']"
            ]
          },
          "execution_count": 89,
          "metadata": {},
          "output_type": "execute_result"
        }
      ],
      "source": [
        "import sys\n",
        "sys.path"
      ]
    },
    {
      "cell_type": "markdown",
      "metadata": {
        "id": "PJ8oIQL5vgey"
      },
      "source": [
        "Pentru a adăuga un director nou la calea de căutare a pachetelor/modulelor, trebuie să modificăm atributul `path` al modulului `sys`:"
      ]
    },
    {
      "cell_type": "code",
      "execution_count": null,
      "metadata": {
        "colab": {
          "base_uri": "https://localhost:8080/"
        },
        "id": "nPCovtt2vl_w",
        "outputId": "3b99ae02-034f-478f-f487-490395204dc8"
      },
      "outputs": [
        {
          "name": "stdout",
          "output_type": "stream",
          "text": [
            "['/content', '/env/python', '/usr/lib/python37.zip', '/usr/lib/python3.7', '/usr/lib/python3.7/lib-dynload', '', '/usr/local/lib/python3.7/dist-packages', '/usr/lib/python3/dist-packages', '/usr/local/lib/python3.7/dist-packages/IPython/extensions', '/root/.ipython']\n",
            "['/content', '/env/python', '/usr/lib/python37.zip', '/usr/lib/python3.7', '/usr/lib/python3.7/lib-dynload', '', '/usr/local/lib/python3.7/dist-packages', '/usr/lib/python3/dist-packages', '/usr/local/lib/python3.7/dist-packages/IPython/extensions', '/root/.ipython', '/usr/adriana']\n"
          ]
        }
      ],
      "source": [
        "import sys\n",
        "print(sys.path)\n",
        "sys.path.append('/usr/adriana') \n",
        "print(sys.path)"
      ]
    },
    {
      "cell_type": "markdown",
      "metadata": {
        "id": "DtmICt_MOnKd"
      },
      "source": [
        "**<font color=\"#1589FF\">Fișiere bytecode *.pyc</font>**\n",
        "\n",
        "Până la Python 3.1, fișierele compilate erau stocate în același director precum codul sursă, dar foloseau extensia `*.pyc`. Începând cu \n",
        "Python 3.2+ fișierele sunt stocate într-un subdirector `__pycache__` pentru a separa sursa de fișierul compilat. Folosesc tot extensia `*.pyc`, dar adăugă informații referitoare la versiunea de Python cu care au fost create. \n",
        "În ambele situații, fișierele sunt recompilate dacă s-a modificat codul sursă asociat lor."
      ]
    },
    {
      "cell_type": "markdown",
      "metadata": {
        "id": "w7vOAHnKOxqJ"
      },
      "source": [
        "## <font color=\"#e8710a\">Pachete</font>\n",
        "\n",
        "Când grupăm mai multe module Python în cadrul aceluiași director, creăm de fapt un **pachet** Python. Pachetul va crea un nou namespace ce corespunde ierarhiei de directoare creată. \n",
        "\n",
        "La import trebuie să specificăm calea relativă față de codul executat, până la modulul dorit:\n",
        "\n",
        "```\n",
        "import dir1.dir2.modul\n",
        "from dir1.dir2.modul import x\n",
        "```\n"
      ]
    },
    {
      "cell_type": "code",
      "execution_count": null,
      "metadata": {
        "id": "7BTCzEO5_eZv"
      },
      "outputs": [],
      "source": [
        "# Creăm două subdirectoare\n",
        "!mkdir dir1\n",
        "!mkdir dir1/dir2"
      ]
    },
    {
      "cell_type": "code",
      "execution_count": null,
      "metadata": {
        "colab": {
          "base_uri": "https://localhost:8080/"
        },
        "id": "ABA8nGVT_nED",
        "outputId": "abd0c46f-8630-4be1-a038-ff210a6fe5c6"
      },
      "outputs": [
        {
          "name": "stdout",
          "output_type": "stream",
          "text": [
            "Writing dir1/dir2/submodul.py\n"
          ]
        }
      ],
      "source": [
        "# Creăm un modul în cel de-al doilea subdirector\n",
        "%%writefile dir1/dir2/submodul.py\n",
        "a = 3\n",
        "b = 4"
      ]
    },
    {
      "cell_type": "code",
      "execution_count": null,
      "metadata": {
        "colab": {
          "base_uri": "https://localhost:8080/"
        },
        "id": "JZU3wOcc_xZw",
        "outputId": "64c16550-0f01-440d-dbf6-407950efeaf3"
      },
      "outputs": [
        {
          "data": {
            "text/plain": [
              "(3, 4)"
            ]
          },
          "execution_count": 93,
          "metadata": {},
          "output_type": "execute_result"
        }
      ],
      "source": [
        "# Importăm submodulul\n",
        "import dir1.dir2.submodul \n",
        "dir1.dir2.submodul.a, dir1.dir2.submodul.b"
      ]
    },
    {
      "cell_type": "code",
      "execution_count": null,
      "metadata": {
        "colab": {
          "base_uri": "https://localhost:8080/"
        },
        "id": "l6zyj_b5AbbT",
        "outputId": "eb1cdf5d-0707-4b7c-d3a2-57362a02e8a3"
      },
      "outputs": [
        {
          "data": {
            "text/plain": [
              "(3, 4)"
            ]
          },
          "execution_count": 94,
          "metadata": {},
          "output_type": "execute_result"
        }
      ],
      "source": [
        "# E mai eficient să folosim un alias\n",
        "import dir1.dir2.submodul as s \n",
        "s.a, s.b"
      ]
    },
    {
      "cell_type": "markdown",
      "metadata": {
        "id": "yztbiRCbt8t3"
      },
      "source": [
        "**<font color=\"#1589FF\">Căi relative cu from</font>**\n",
        "\n",
        "La importuri făcute cu from, putem utiliza căi relative, unde `.` se referă la directorul curent, iar `..` la directorul părinte. Dacă avem o structură de directoare de tipul \n",
        "\n",
        "```\n",
        "dir1 / \n",
        "  main.py\n",
        "  app.py\n",
        "app.py \n",
        "```\n",
        "\n",
        "Putem realiza următoarele importuri de module din `main.py`\n",
        "\n",
        "\n",
        "```\n",
        "from .  import app  # mod1/app.py\n",
        "from .. import app  # ../app.py\n",
        "```"
      ]
    },
    {
      "cell_type": "markdown",
      "metadata": {
        "id": "_WnfO1uGWsGa"
      },
      "source": [
        "\n",
        "**<font color=\"#1589FF\">\\_\\_init\\_\\_.py (Python <3.3)</font>**\n",
        "\n",
        "Pentru ca un director oarecare să fie tratat ca pachet până la versiunea Python 3.3, acesta trebuie să includă un fișier denumit `__init__.py` ce conține codul de inițializare pentru pachetul respectiv, dar putea fi și gol. De cele mai multe ori acest fișier implementa comportamentul la importurile ce folosesc `from`, precum și lista `__all__` ce include submodulele ce trebuie importate. Fișierele `__init__.py` nu sunt create pentru a fi rulate independent.\n",
        "\n",
        "De exemplu, pentru o structură de directoare de tipul:\n",
        "`dir0/dir1/dir2/modul.py`\n",
        "\n",
        "Și un import:\n",
        "\n",
        "`import dir1.dir2.modul`\n",
        "\n",
        "* `dir1` și `dir2` trebuie să conțină `__init__.py`;\n",
        "\n",
        "* `dir0` nu e necesar să conțină `__init__.py`. Acest fișier va fi ignorat dacă există;\n",
        "\n",
        "* `dir0`, dar nu `dir0/dir1`, trebuie să existe în calea de căutare a modulelor `sys.path`.\n",
        "\n",
        "\n",
        "Rezultă o structură de tipul:\n",
        "```\n",
        "dir0\\ # Container on module search path\n",
        "dir1\\\n",
        "  __init__.py\n",
        "dir2\\\n",
        "  __init__.py\n",
        "  mod.py\n",
        "```\n"
      ]
    },
    {
      "cell_type": "markdown",
      "metadata": {
        "id": "DByr0OgHt-GE"
      },
      "source": [
        "**<font color=\"#1589FF\">Ascunderea variabilelor (\\_X, \\_\\_all\\_\\_)</font>**\n",
        "\n",
        "Pentru a nu expune anumite obiecte către modulele apelante, există două metode de a le proteja într-o oarecare măsură:\n",
        "\n",
        "1. Variabilele ce încep cu `_` nu sunt importate print `from modul import *`. Însă acest variabile sunt disponibile la import simplu;\n",
        "\n",
        "2. Definirea listei `__all__` la nivelul superior al modulului.\n"
      ]
    },
    {
      "cell_type": "code",
      "execution_count": null,
      "metadata": {
        "colab": {
          "base_uri": "https://localhost:8080/"
        },
        "id": "v2yfsg9wOcGW",
        "outputId": "d0314f99-a161-4a45-b850-32958dd001fd"
      },
      "outputs": [
        {
          "name": "stdout",
          "output_type": "stream",
          "text": [
            "Writing amodul.py\n"
          ]
        }
      ],
      "source": [
        "%%writefile amodul.py\n",
        "a =  1\n",
        "_b = 2\n",
        "c =  3\n",
        "_d = 4"
      ]
    },
    {
      "cell_type": "code",
      "execution_count": null,
      "metadata": {
        "colab": {
          "base_uri": "https://localhost:8080/"
        },
        "id": "y3fw44SQPpl_",
        "outputId": "deffbd3a-fa60-42a4-b029-e9f2afd6d5c0"
      },
      "outputs": [
        {
          "data": {
            "text/plain": [
              "(1, 3)"
            ]
          },
          "execution_count": 96,
          "metadata": {},
          "output_type": "execute_result"
        }
      ],
      "source": [
        "from amodul import * # Se aduc doar variabilele ce nu încep cu _\n",
        "a, c"
      ]
    },
    {
      "cell_type": "code",
      "execution_count": null,
      "metadata": {
        "colab": {
          "base_uri": "https://localhost:8080/",
          "height": 187
        },
        "id": "aF_XbwLZPsYJ",
        "outputId": "f58077ec-3a53-4b2d-d795-fd5a47263d25"
      },
      "outputs": [
        {
          "ename": "NameError",
          "evalue": "ignored",
          "output_type": "error",
          "traceback": [
            "\u001b[0;31m---------------------------------------------------------------------------\u001b[0m",
            "\u001b[0;31mNameError\u001b[0m                                 Traceback (most recent call last)",
            "\u001b[0;32m<ipython-input-97-ba5b04df1ee1>\u001b[0m in \u001b[0;36m<module>\u001b[0;34m\u001b[0m\n\u001b[1;32m      1\u001b[0m \u001b[0;31m# Eroare\u001b[0m\u001b[0;34m\u001b[0m\u001b[0;34m\u001b[0m\u001b[0;34m\u001b[0m\u001b[0m\n\u001b[0;32m----> 2\u001b[0;31m \u001b[0m_b\u001b[0m\u001b[0;34m\u001b[0m\u001b[0;34m\u001b[0m\u001b[0m\n\u001b[0m",
            "\u001b[0;31mNameError\u001b[0m: name '_b' is not defined"
          ]
        }
      ],
      "source": [
        "# Eroare\n",
        "_b"
      ]
    },
    {
      "cell_type": "code",
      "execution_count": null,
      "metadata": {
        "colab": {
          "base_uri": "https://localhost:8080/"
        },
        "id": "oHIHxd1LPtyl",
        "outputId": "8ce45210-caaa-480b-f9fb-d8eb512cfa79"
      },
      "outputs": [
        {
          "data": {
            "text/plain": [
              "2"
            ]
          },
          "execution_count": 98,
          "metadata": {},
          "output_type": "execute_result"
        }
      ],
      "source": [
        "import amodul # La import simplu avem acces la toate variabilele\n",
        "amodul._b"
      ]
    },
    {
      "cell_type": "code",
      "execution_count": null,
      "metadata": {
        "colab": {
          "base_uri": "https://localhost:8080/"
        },
        "id": "ub17Pl_gPwXb",
        "outputId": "0de7e553-c420-4429-8056-adcfc2cab54f"
      },
      "outputs": [
        {
          "name": "stdout",
          "output_type": "stream",
          "text": [
            "Writing all_def.py\n"
          ]
        }
      ],
      "source": [
        "# Dacă definim lista __all__, aceasta are precedență asupra _X\n",
        "# Atenție la utilizarea ghilimelelor la definirea __all__\n",
        "%%writefile all_def.py\n",
        "__all__ = ['x', '_z', '_t']\n",
        "x, y, _z, _t = 1, 2, 3, 4"
      ]
    },
    {
      "cell_type": "code",
      "execution_count": null,
      "metadata": {
        "colab": {
          "base_uri": "https://localhost:8080/"
        },
        "id": "ZWDIEgEnPz7w",
        "outputId": "10d69e52-291e-4433-ec3c-d11b7b4acd28"
      },
      "outputs": [
        {
          "data": {
            "text/plain": [
              "(1, 3)"
            ]
          },
          "execution_count": 100,
          "metadata": {},
          "output_type": "execute_result"
        }
      ],
      "source": [
        "# Se aduc doar variabilele definite în __all__\n",
        "from all_def import * \n",
        "x, _z"
      ]
    },
    {
      "cell_type": "code",
      "execution_count": null,
      "metadata": {
        "colab": {
          "base_uri": "https://localhost:8080/",
          "height": 187
        },
        "id": "R66Lbl1VP1wM",
        "outputId": "55e31469-28ac-4831-d8f8-2337c2f02880"
      },
      "outputs": [
        {
          "ename": "NameError",
          "evalue": "ignored",
          "output_type": "error",
          "traceback": [
            "\u001b[0;31m---------------------------------------------------------------------------\u001b[0m",
            "\u001b[0;31mNameError\u001b[0m                                 Traceback (most recent call last)",
            "\u001b[0;32m<ipython-input-101-9558686eed14>\u001b[0m in \u001b[0;36m<module>\u001b[0;34m\u001b[0m\n\u001b[1;32m      1\u001b[0m \u001b[0;31m# Eroare\u001b[0m\u001b[0;34m\u001b[0m\u001b[0;34m\u001b[0m\u001b[0;34m\u001b[0m\u001b[0m\n\u001b[0;32m----> 2\u001b[0;31m \u001b[0my\u001b[0m\u001b[0;34m\u001b[0m\u001b[0;34m\u001b[0m\u001b[0m\n\u001b[0m",
            "\u001b[0;31mNameError\u001b[0m: name 'y' is not defined"
          ]
        }
      ],
      "source": [
        "# Eroare\n",
        "y"
      ]
    },
    {
      "cell_type": "code",
      "execution_count": null,
      "metadata": {
        "colab": {
          "base_uri": "https://localhost:8080/"
        },
        "id": "yyxgQlgeP23z",
        "outputId": "4b9a089c-59ec-4f13-9fb7-a1d7cce483f3"
      },
      "outputs": [
        {
          "data": {
            "text/plain": [
              "(1, 2, 3, 4)"
            ]
          },
          "execution_count": 102,
          "metadata": {},
          "output_type": "execute_result"
        }
      ],
      "source": [
        "# Fără wildcard putem aduce toate variabilele\n",
        "from all_def import x, y, _z, _t \n",
        "x, y, _z, _t"
      ]
    },
    {
      "cell_type": "code",
      "execution_count": null,
      "metadata": {
        "colab": {
          "base_uri": "https://localhost:8080/"
        },
        "id": "10sf4pUgP4xZ",
        "outputId": "a1ff8374-5aee-4b5f-c21a-95072347a6ef"
      },
      "outputs": [
        {
          "data": {
            "text/plain": [
              "(1, 2, 3, 4)"
            ]
          },
          "execution_count": 103,
          "metadata": {},
          "output_type": "execute_result"
        }
      ],
      "source": [
        "import all_def\n",
        "all_def.x, all_def.y, all_def._z, all_def._t"
      ]
    },
    {
      "cell_type": "markdown",
      "metadata": {
        "id": "cWYspG_vE_fi"
      },
      "source": [
        "## <font color=\"#e8710a\">Spațiul de nume</font>\n",
        "\n",
        "Vizibilitatea variabilelor este dată de următoarea ierarhie, denumită și LEGB (en. *local, enclosing, global, built-in*):\n",
        "* variabile locale (în funcție) ce nu sunt definite global;\n",
        "* variabile definite în funcțiile încapsulatoare (oricâte ar fi acestea), pornind de la cea mai interioară spre cele exterioare;\n",
        "* variabile globale (în modul) definite la începutul modulului sau precedate de cuvântul cheie `global` în alte funcții;\n",
        "* variabile build-in (în Python) definite în biblioteca standard.\n",
        "\n",
        "\n",
        "Să vedem câteva exemple:"
      ]
    },
    {
      "cell_type": "code",
      "execution_count": null,
      "metadata": {
        "colab": {
          "base_uri": "https://localhost:8080/"
        },
        "id": "CONniBaFgy__",
        "outputId": "92508c42-610d-48b7-bc9b-112d8c5afec6"
      },
      "outputs": [
        {
          "name": "stdout",
          "output_type": "stream",
          "text": [
            "10\n"
          ]
        }
      ],
      "source": [
        "i = 10\n",
        "def test():\n",
        "  # Utilizăm variabila globală\n",
        "  print(i)\n",
        "\n",
        "test()"
      ]
    },
    {
      "cell_type": "code",
      "execution_count": null,
      "metadata": {
        "colab": {
          "base_uri": "https://localhost:8080/"
        },
        "id": "1P27sPL-f0H1",
        "outputId": "b601baa8-96f3-4069-9694-3995afe3b121"
      },
      "outputs": [
        {
          "data": {
            "text/plain": [
              "10"
            ]
          },
          "execution_count": 105,
          "metadata": {},
          "output_type": "execute_result"
        }
      ],
      "source": [
        "i = 10\n",
        "def test():\n",
        "  # Definim o variabilă locală funcției\n",
        "  i = 12 \n",
        "\n",
        "test()\n",
        "# Variabila globală nu se modifică\n",
        "i"
      ]
    },
    {
      "cell_type": "code",
      "execution_count": null,
      "metadata": {
        "colab": {
          "base_uri": "https://localhost:8080/"
        },
        "id": "B_BMPK_vgBnt",
        "outputId": "2bffc49a-ab6a-4a28-9df3-e701ca242637"
      },
      "outputs": [
        {
          "name": "stdout",
          "output_type": "stream",
          "text": [
            "I in test_inner:  12\n",
            "I in test_outer:  12\n",
            "I in modul:  10\n"
          ]
        }
      ],
      "source": [
        "i = 10 \n",
        "def test_outer():\n",
        "  i = 12\n",
        "  def test_inner():\n",
        "    # test_inner va folosi variabila definită în test_outer\n",
        "    print (\"I in test_inner: \", i)\n",
        "  test_inner()\n",
        "  print (\"I in test_outer: \", i)\n",
        "\n",
        "test_outer()\n",
        "# variabila din modul rămâne neschimbată\n",
        "print (\"I in modul: \", i)"
      ]
    },
    {
      "cell_type": "code",
      "execution_count": null,
      "metadata": {
        "colab": {
          "base_uri": "https://localhost:8080/"
        },
        "id": "fI5O9Fellu3W",
        "outputId": "04fc1f59-d8c2-48ab-83a4-9b80f7dd4861"
      },
      "outputs": [
        {
          "name": "stdout",
          "output_type": "stream",
          "text": [
            "7\n"
          ]
        }
      ],
      "source": [
        "def outer_1():\n",
        "  a = 3\n",
        "  def outer_2():\n",
        "    b = 4\n",
        "    def inner():\n",
        "      # Inner are acces la variabilele definite în funcțiile încapsulatoare\n",
        "      print(a+b)\n",
        "    inner()\n",
        "  outer_2()\n",
        "outer_1()"
      ]
    },
    {
      "cell_type": "markdown",
      "metadata": {
        "id": "X1t47JqBhs0X"
      },
      "source": [
        "**<font color=\"#1589FF\">Global și non-local</font>**\n",
        "\n",
        "Cuvântul cheie `global` poate fi utilizat pentru a ne referi la variabile din codul încapsulator sau pentru a crea noi variabile la nivelul codului încapsulator:"
      ]
    },
    {
      "cell_type": "code",
      "execution_count": null,
      "metadata": {
        "colab": {
          "base_uri": "https://localhost:8080/"
        },
        "id": "7ryBd9lYh70J",
        "outputId": "dd9c749c-5bf4-42fc-f62b-3eae94014d65"
      },
      "outputs": [
        {
          "data": {
            "text/plain": [
              "24"
            ]
          },
          "execution_count": 108,
          "metadata": {},
          "output_type": "execute_result"
        }
      ],
      "source": [
        "# Creăm o variabilă globală din interiorul unei funcții\n",
        "def test():\n",
        "  global j\n",
        "  j = 24 \n",
        "test()\n",
        "# Putem utiliza j chiar dacă a fost definit în funcție\n",
        "j "
      ]
    },
    {
      "cell_type": "code",
      "execution_count": null,
      "metadata": {
        "colab": {
          "base_uri": "https://localhost:8080/"
        },
        "id": "fkuz4aZCj1vQ",
        "outputId": "baebccfa-f1de-4f77-cb25-70528dd29f57"
      },
      "outputs": [
        {
          "data": {
            "text/plain": [
              "20"
            ]
          },
          "execution_count": 109,
          "metadata": {},
          "output_type": "execute_result"
        }
      ],
      "source": [
        "# Modificăm o variabilă din exteriorul funcției\n",
        "k = 10\n",
        "def test():\n",
        "  global k\n",
        "  k = 20\n",
        "\n",
        "test()\n",
        "k"
      ]
    },
    {
      "cell_type": "markdown",
      "metadata": {
        "id": "4W8_XWvBihH7"
      },
      "source": [
        "Non-local este similar cu global, dar are utilitate doar în interiorul unei funcții. Spre deosebire de `global`, variabilele `non-local` nu pot fi create dinamic, ele trebuie să există în codul încapsulator. "
      ]
    },
    {
      "cell_type": "code",
      "execution_count": null,
      "metadata": {
        "colab": {
          "base_uri": "https://localhost:8080/",
          "height": 133
        },
        "id": "A9jmb5vljMb4",
        "outputId": "75964cc8-1c14-46a2-8f3b-a2489dcc61cf"
      },
      "outputs": [
        {
          "ename": "SyntaxError",
          "evalue": "ignored",
          "output_type": "error",
          "traceback": [
            "\u001b[0;36m  File \u001b[0;32m\"<ipython-input-110-4669ba2d1853>\"\u001b[0;36m, line \u001b[0;32m4\u001b[0m\n\u001b[0;31m    nonlocal ii\u001b[0m\n\u001b[0m    ^\u001b[0m\n\u001b[0;31mSyntaxError\u001b[0m\u001b[0;31m:\u001b[0m no binding for nonlocal 'ii' found\n"
          ]
        }
      ],
      "source": [
        "# Eroare, ii nu este definit anterior într-o funcție\n",
        "ii = 10\n",
        "def test():\n",
        "  nonlocal ii\n",
        "  ii = 12\n",
        "test()\n",
        "ii"
      ]
    },
    {
      "cell_type": "code",
      "execution_count": null,
      "metadata": {
        "colab": {
          "base_uri": "https://localhost:8080/"
        },
        "id": "2QcueTY9kiq5",
        "outputId": "c9e3c1f1-01fe-487a-d4c2-f24529e333dc"
      },
      "outputs": [
        {
          "name": "stdout",
          "output_type": "stream",
          "text": [
            "12\n"
          ]
        }
      ],
      "source": [
        "# Încapsulăm codul anterior într-o altă funcție\n",
        "def outer():\n",
        "  ii = 10\n",
        "  def test():\n",
        "    nonlocal ii\n",
        "    ii = 12\n",
        "  test()\n",
        "  print (ii)\n",
        "\n",
        "outer()"
      ]
    },
    {
      "cell_type": "markdown",
      "metadata": {
        "id": "G8nkW0RsFUFp"
      },
      "source": [
        "**<font color=\"#1589FF\">Built-in scope</font>**\n",
        "\n",
        "Pentru a accesa lista de variabile și funcții definite în librăria standard (en. *built-in*) putem rula următoarea secvență de cod:"
      ]
    },
    {
      "cell_type": "code",
      "execution_count": null,
      "metadata": {
        "colab": {
          "base_uri": "https://localhost:8080/",
          "height": 143
        },
        "id": "7PregIzzFQ7Z",
        "outputId": "9e5998fb-18eb-432d-8e24-cfbd0936a5fb"
      },
      "outputs": [
        {
          "data": {
            "application/vnd.google.colaboratory.intrinsic+json": {
              "type": "string"
            },
            "text/plain": [
              "'ArithmeticError AssertionError AttributeError BaseException BlockingIOError BrokenPipeError BufferError BytesWarning ChildProcessError ConnectionAbortedError ConnectionError ConnectionRefusedError ConnectionResetError DeprecationWarning EOFError Ellipsis EnvironmentError Exception False FileExistsError FileNotFoundError FloatingPointError FutureWarning GeneratorExit IOError ImportError ImportWarning IndentationError IndexError InterruptedError IsADirectoryError KeyError KeyboardInterrupt LookupError MemoryError ModuleNotFoundError NameError None NotADirectoryError NotImplemented NotImplementedError OSError OverflowError PendingDeprecationWarning PermissionError ProcessLookupError RecursionError ReferenceError ResourceWarning RuntimeError RuntimeWarning StopAsyncIteration StopIteration SyntaxError SyntaxWarning SystemError SystemExit TabError TimeoutError True TypeError UnboundLocalError UnicodeDecodeError UnicodeEncodeError UnicodeError UnicodeTranslateError UnicodeWarning UserWarning ValueError Warning ZeroDivisionError __IPYTHON__ __build_class__ __debug__ __doc__ __import__ __loader__ __name__ __package__ __spec__ abs all any ascii bin bool breakpoint bytearray bytes callable chr classmethod compile complex copyright credits delattr dict dir display divmod enumerate eval exec execfile filter float format frozenset get_ipython getattr globals hasattr hash help hex id input int isinstance issubclass iter len license list locals map max memoryview min next object oct open ord pow print property range repr reversed round runfile set setattr slice sorted staticmethod str sum super tuple type vars zip'"
            ]
          },
          "execution_count": 112,
          "metadata": {},
          "output_type": "execute_result"
        }
      ],
      "source": [
        "import builtins\n",
        "' '.join(dir(builtins))"
      ]
    },
    {
      "cell_type": "markdown",
      "metadata": {
        "id": "cV1QqiUHFb3O"
      },
      "source": [
        "Variabilele built-in sunt automat disponibile în codul scris și de aceea e important să nu le suprascriem:\n"
      ]
    },
    {
      "cell_type": "code",
      "execution_count": null,
      "metadata": {
        "colab": {
          "base_uri": "https://localhost:8080/",
          "height": 187
        },
        "id": "Irqmf4V-FWVs",
        "outputId": "f935b922-05b8-491c-cf9c-d8a4f843d4bd"
      },
      "outputs": [
        {
          "ename": "TypeError",
          "evalue": "ignored",
          "output_type": "error",
          "traceback": [
            "\u001b[0;31m---------------------------------------------------------------------------\u001b[0m",
            "\u001b[0;31mTypeError\u001b[0m                                 Traceback (most recent call last)",
            "\u001b[0;32m<ipython-input-113-1eea51cff875>\u001b[0m in \u001b[0;36m<module>\u001b[0;34m\u001b[0m\n\u001b[1;32m      1\u001b[0m \u001b[0mopen\u001b[0m \u001b[0;34m=\u001b[0m \u001b[0;34m'Ana'\u001b[0m     \u001b[0;31m# Variabilă locală ce ascunde built-in\u001b[0m\u001b[0;34m\u001b[0m\u001b[0;34m\u001b[0m\u001b[0m\n\u001b[0;32m----> 2\u001b[0;31m \u001b[0mopen\u001b[0m\u001b[0;34m(\u001b[0m\u001b[0;34m'data.txt'\u001b[0m\u001b[0;34m)\u001b[0m \u001b[0;31m# Open nu mai este funcția ce permite deschiderea fișierelor\u001b[0m\u001b[0;34m\u001b[0m\u001b[0;34m\u001b[0m\u001b[0m\n\u001b[0m",
            "\u001b[0;31mTypeError\u001b[0m: 'str' object is not callable"
          ]
        }
      ],
      "source": [
        "open = 'Ana'     # Variabilă locală ce ascunde built-in\n",
        "open('data.txt') # Open nu mai este funcția ce permite deschiderea fișierelor"
      ]
    },
    {
      "cell_type": "markdown",
      "metadata": {
        "id": "Xx60q1MCk4V5"
      },
      "source": [
        "---\n",
        "\n",
        "## <font color=\"#e8710a\">Concluzii</font>\n",
        "\n",
        "În acest tutorial am descoperit modul de definire a funcțiilor și organizarea codului Python în module și pachete. Tutorialul următor are în vedere introducerea aspectelor legate de programarea obiectuală (OOP)."
      ]
    },
    {
      "cell_type": "markdown",
      "metadata": {
        "id": "QRxzWsqKkLg0"
      },
      "source": [
        "---\n",
        "\n",
        "##<font color=\"#1589FF\"> Exerciții</font>\n",
        "\n",
        "1) Definiți o funcție ce returnează numărul de apariții ale unui caracter într-un string."
      ]
    },
    {
      "cell_type": "code",
      "execution_count": 34,
      "metadata": {
        "id": "J_5kcZfwkMxe"
      },
      "outputs": [
        {
          "name": "stdout",
          "output_type": "stream",
          "text": [
            "1\n"
          ]
        }
      ],
      "source": [
        "## REZOLVARE EX. 1\n",
        "def functie_string ( a = [ ] , b = [ ]) :\n",
        "    k = 0\n",
        "    for i in range(0,len(a[0])) :\n",
        "       \n",
        "         if(a[0][i] == b[0][0] ) :\n",
        "               k = k+1\n",
        "    return(k)\n",
        "\n",
        "print(functie_string( a = [\"marea\"] , b =[\"e\"]))\n"
      ]
    },
    {
      "cell_type": "markdown",
      "metadata": {
        "id": "mW_kX6NnCCev"
      },
      "source": [
        "2) Definiți o funcție ce concatenează oricâte stringuri sunt date la intrarea sa."
      ]
    },
    {
      "cell_type": "code",
      "execution_count": 95,
      "metadata": {
        "id": "X5I3FG5ECCmi"
      },
      "outputs": [
        {
          "name": "stdout",
          "output_type": "stream",
          "text": [
            "maresarecare\n"
          ]
        }
      ],
      "source": [
        "## REZOLVARE EX. 2\n",
        "import string\n",
        "def stringuri(*a):\n",
        "   b=\"\"\n",
        "   for i in range(0,len(a)):\n",
        "       b += a[i]\n",
        "\n",
        "   print(b) \n",
        "    \n",
        "\n",
        "stringuri(\"mare\" , \"sare\" , \"care\")\n"
      ]
    },
    {
      "cell_type": "markdown",
      "metadata": {
        "id": "xuLWf8d0CC_N"
      },
      "source": [
        "3) Definiți o funcție ce rezolvă ecuații de gradul 2. Funcția primește ca argumente coeficienții ecuației. "
      ]
    },
    {
      "cell_type": "code",
      "execution_count": 106,
      "metadata": {
        "id": "ty8YK6VtCDF8"
      },
      "outputs": [
        {
          "name": "stdout",
          "output_type": "stream",
          "text": [
            "((-0.1-0.6244997998398398j), (-0.1+0.6244997998398398j))\n"
          ]
        }
      ],
      "source": [
        "## REZOLVARE EX. 3\n",
        "import math\n",
        "import cmath\n",
        "def grad_2( a , b, c):\n",
        "   d = b**2 - 4*a*c\n",
        "   if( d >= 0) :\n",
        "      x1 = ( -b - math.sqrt(d)) /(2*a)  \n",
        "      x2 = ( -b + math.sqrt(d)) /(2*a) \n",
        "   else :\n",
        "        x1 = ( -b - cmath.sqrt(d)) /(2*a) \n",
        "        x2 = ( -b + cmath.sqrt(d)) /(2*a) \n",
        "\n",
        "   return(x1 , x2)\n",
        "\n",
        "print( grad_2(10 , 2 , 4))\n"
      ]
    },
    {
      "cell_type": "markdown",
      "metadata": {
        "id": "55VX6GB7CDcx"
      },
      "source": [
        "4) Definiți o listă de funcții lambda ce returnează: tot al doilea caracter dintr-un string; stringul cu litere majuscule; poziția pe care se găsește un anumit caracter dat la intrare. Apelați toate funcțiile din listă pe rând. "
      ]
    },
    {
      "cell_type": "code",
      "execution_count": 134,
      "metadata": {
        "id": "swJt-zaGCDj0"
      },
      "outputs": [
        {
          "name": "stdout",
          "output_type": "stream",
          "text": [
            "b\n",
            "DSDJSIDJSD\n"
          ]
        },
        {
          "data": {
            "text/plain": [
              "2"
            ]
          },
          "execution_count": 134,
          "metadata": {},
          "output_type": "execute_result"
        }
      ],
      "source": [
        "## REZOLVARE EX. 4\n",
        "\n",
        "string_2 = lambda a : a[1]\n",
        "print(string_2(\"sbrerere\")) \n",
        "string_maj = lambda a : a.upper()\n",
        "print(string_maj(\"dsdjsidjsd\"))\n",
        "string_caracter = lambda a , b : a.index(b)\n",
        "string_caracter(\"sarea\" , \"r\")"
      ]
    },
    {
      "cell_type": "markdown",
      "metadata": {
        "id": "vvihvceSCEAB"
      },
      "source": [
        "5) Definiți o funcție ce calculează media a trei note sprecificate la intrare. Dacă la apel nu se trimit toate notele, se vor folosi valori implicite egale cu 4. Apelați funcția cu diferite combinații de argumente poziționale și keyword."
      ]
    },
    {
      "cell_type": "code",
      "execution_count": 142,
      "metadata": {
        "id": "1WBr7QnkCEGa"
      },
      "outputs": [
        {
          "data": {
            "text/plain": [
              "5.0"
            ]
          },
          "execution_count": 142,
          "metadata": {},
          "output_type": "execute_result"
        }
      ],
      "source": [
        "## REZOLVARE EX. 5\n",
        "def media( a = 4 , b = 4 , c = 4) :\n",
        "    M = (a + b + c)/3\n",
        "    return(M)\n",
        "\n",
        "media (5, 6, 4 )"
      ]
    },
    {
      "cell_type": "markdown",
      "metadata": {
        "id": "_UucmzomCEaL"
      },
      "source": [
        "6) Definiți o funcție recursivă ce afișează suma primelor N numere naturale."
      ]
    },
    {
      "cell_type": "code",
      "execution_count": 148,
      "metadata": {
        "id": "E6vp4kqyCEgt"
      },
      "outputs": [
        {
          "name": "stdout",
          "output_type": "stream",
          "text": [
            "15\n"
          ]
        }
      ],
      "source": [
        "## REZOLVARE EX. 6\n",
        "\n",
        "def suma(n) :\n",
        "   if(n == 1) :\n",
        "     return  n \n",
        "   else :\n",
        "     return n + suma(n - 1)\n",
        "\n",
        "print(suma(5))\n"
      ]
    }
  ],
  "metadata": {
    "colab": {
      "collapsed_sections": [],
      "provenance": []
    },
    "kernelspec": {
      "display_name": "Python 3",
      "name": "python3"
    },
    "language_info": {
      "codemirror_mode": {
        "name": "ipython",
        "version": 3
      },
      "file_extension": ".py",
      "mimetype": "text/x-python",
      "name": "python",
      "nbconvert_exporter": "python",
      "pygments_lexer": "ipython3",
      "version": "3.10.8"
    }
  },
  "nbformat": 4,
  "nbformat_minor": 0
}
