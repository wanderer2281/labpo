{
  "cells": [
    {
      "cell_type": "markdown",
      "source": [
        "<img src='https://upload.wikimedia.org/wikipedia/commons/c/c3/Python-logo-notext.svg' width=50/>\n",
        "<img src='https://upload.wikimedia.org/wikipedia/commons/d/d0/Google_Colaboratory_SVG_Logo.svg' width=90/>\n",
        "\n",
        "<font color=\"#e8710a\">© Adriana STAN, 2022</font>\n",
        "\n",
        "<font color=\"#e8710a\">Contributor: Gabriel ERDEI </font>\n",
        "\n",
        "[![Open In Colab](https://colab.research.google.com/assets/colab-badge.svg)](https://colab.research.google.com/github/adrianastan/python-intro/blob/main/notebooks/ro/T02_Generalitati.ipynb)\n",
        "\n"
      ],
      "metadata": {
        "id": "Ap97Lc3Ug_Gy"
      }
    },
    {
      "cell_type": "markdown",
      "metadata": {
        "id": "-uK2brrdb8N9"
      },
      "source": [
        "# <font color=\"#e8710a\">T02. Generalități ale limbajului. Mediul de lucru.</font>\n",
        "\n",
        "---\n",
        "<font color=\"#1589FF\"><b>Timp estimat de parcurgere:</b> 60 min</font>\n",
        "\n",
        "---\n",
        "\n",
        "\n"
      ]
    },
    {
      "cell_type": "markdown",
      "metadata": {
        "id": "yGNVyNY0cto0"
      },
      "source": [
        "## <font color=\"#e8710a\">Limbajul Python. Generalități.</font>\n",
        "\n",
        "**<font color=\"#1589FF\">Istoric.</font>**\n",
        "\n",
        "Limbajul [Python](https://www.python.org/) a fost dezvoltat de către\n",
        "Guido van Rossum în cadrul Centrum Wiskunde & Informatica (CWI), Olanda. Python a apărut ca un succesor la limbajului [ABC](https://en.wikipedia.org/wiki/ABC_(programming_language), iar prima sa versiune a fost lansată în 20 februarie 1991.\n",
        "\n",
        "Între timp au fost lansate alte două [versiuni majore](https://www.python.org/downloads/):\n",
        "\n",
        "*   Python 2.0 - 16 Octombrie 2000\n",
        "*   Python 3.0 - 3 Decembrie 2008\n",
        "\n",
        "Începând cu ianuarie 2020, versiunea 2.0 nu mai are suport din partea echipei de dezvoltatori. Versiunea curentă este 3.11, iar cea mai utilizată implementare este [CPython](https://en.wikipedia.org/wiki/CPython).\n",
        "\n",
        "Putem afișa versiunea utilizată de interpretor astfel:"
      ]
    },
    {
      "cell_type": "code",
      "source": [
        "# Afișăm versiunea de Python utilizată\n",
        "import sys\n",
        "print(sys.version)"
      ],
      "metadata": {
        "colab": {
          "base_uri": "https://localhost:8080/"
        },
        "id": "DrBEXY5TFA0K",
        "outputId": "0bd35e1f-d552-4827-88f0-a5cb31f1dcc3"
      },
      "execution_count": null,
      "outputs": [
        {
          "output_type": "stream",
          "name": "stdout",
          "text": [
            "3.7.13 (default, Apr 24 2022, 01:04:09) \n",
            "[GCC 7.5.0]\n"
          ]
        }
      ]
    },
    {
      "cell_type": "markdown",
      "source": [
        "Rezultatul afișării ne informează privind versiunea utilizată (3.7.13), data la care a fost compilată (24 aprilie 2022) și versiunea de compilator C pe care se bazează (7.5.0)."
      ],
      "metadata": {
        "id": "3gFCX_3ForUW"
      }
    },
    {
      "cell_type": "markdown",
      "metadata": {
        "id": "MMZtxR9C_0gy"
      },
      "source": [
        "**<font color=\"#1589FF\">De ce Python?</font>**\n",
        "\n",
        "Limbajul de programare Python a venit ca urmare a necesității integrării mai multor paradigme de programare, precum și ca o simplificare a sintaxei complexe utilizate în limbajul C/C++.\n",
        "\n",
        "Cea mai bună descriere a limbajului poate fi dată de cele 19 principii ale lui Tim Peters ce au ghidat dezvoltarea limbajului și care sunt adunate sub denumirea *The Zen of Python*. Acestea poate fi vizualizate prin intermediul instrucțiunii `import this`."
      ]
    },
    {
      "cell_type": "code",
      "execution_count": null,
      "metadata": {
        "colab": {
          "base_uri": "https://localhost:8080/"
        },
        "id": "mQ3b8qTA8iPd",
        "outputId": "0d2e195a-0a39-4f2f-bf6d-988dbb9f7063"
      },
      "outputs": [
        {
          "output_type": "stream",
          "name": "stdout",
          "text": [
            "The Zen of Python, by Tim Peters\n",
            "\n",
            "Beautiful is better than ugly.\n",
            "Explicit is better than implicit.\n",
            "Simple is better than complex.\n",
            "Complex is better than complicated.\n",
            "Flat is better than nested.\n",
            "Sparse is better than dense.\n",
            "Readability counts.\n",
            "Special cases aren't special enough to break the rules.\n",
            "Although practicality beats purity.\n",
            "Errors should never pass silently.\n",
            "Unless explicitly silenced.\n",
            "In the face of ambiguity, refuse the temptation to guess.\n",
            "There should be one-- and preferably only one --obvious way to do it.\n",
            "Although that way may not be obvious at first unless you're Dutch.\n",
            "Now is better than never.\n",
            "Although never is often better than *right* now.\n",
            "If the implementation is hard to explain, it's a bad idea.\n",
            "If the implementation is easy to explain, it may be a good idea.\n",
            "Namespaces are one honking great idea -- let's do more of those!\n"
          ]
        }
      ],
      "source": [
        "import this"
      ]
    },
    {
      "cell_type": "markdown",
      "source": [
        "**<font color=\"#1589FF\">De ce NU Python?</font>**\n",
        "\n",
        "Deși are numeroase avantaje, limbajul Python nu se pretează oricărei aplicații. Acest lucru se datorează și specializării limbajului către un subset de aplicații, cele mai importante fiind calculul numeric și învățarea automată (en. *machine learning*). Printre [dezavantajele](https://www.geeksforgeeks.org/disadvantages-of-python/) Python se numără:\n",
        "\n",
        "* Python este puțin mai lent decât alte limbaje de programare datorită caracterului de limbaj interpretor;\n",
        "* Momentan nu există suport extins pentru realizarea de aplicații mobile;\n",
        "* Poate avea un consum de memorie mai ridicat decât alte limbaje;\n",
        "* Accesul la baze de date se realizează greoi;\n",
        "* Apariția erorilor la rulare (en. *runtime errors*) datorită caracterului de interpretor;\n",
        "* Dificultatea integrării altor limbaje în cod;\n",
        "* Simplitatea limbajului face ca în anumite cazuri calitatea codului să aibă de suferit."
      ],
      "metadata": {
        "id": "xHxmH-H7XXyY"
      }
    },
    {
      "cell_type": "markdown",
      "metadata": {
        "id": "C-JvgrsN_5uW"
      },
      "source": [
        "**<font color=\"#1589FF\">Încadrarea limbajului și domenii de utilizare</font>**\n",
        "\n",
        "Limbajul Python prezintă următoarele caracteristici:\n",
        "\n",
        "* Open source - întreg limbajul este disponibil în format open source, ceea ce înseamnă că poate fi distribuit și utilizat chiar și în medii comerciale fără a fi nevoie să se achiziționeze o licență de dezvoltator;\n",
        "\n",
        "* Multi-paradigmă - permite utilizarea mai multor paradigme de programare, precum: programare obiectuală, programare procedurală, programare funcțională, programare structurată și programare reflexivă;\n",
        "\n",
        "* De nivel înalt (high-level) - include o serie largă de abstractizări ale utilizării resurselor mașinii de calcul, ceea ce îl face mai apropiat de limbajul natural uman;\n",
        "\n",
        "* De tip interpretor - codul Python nu este pre-compilat, ci fiecare linie de cod este executată la momentul în care apare în cod;\n",
        "\n",
        "* Utilizează tipizarea dinamică - nu este nevoie să se specifice în clar tipul unui obiect, acesta fiind dedus automat din expresia de inițializare;\n",
        "\n",
        "* Utilizează rezoluția dinamică a numelor (en. *late binding*) - ceea ce înseamnă că numele funcțiilor sau a obiectelor sunt atașate unei funcționalități sau date doar la rulare și nu în partea de compilare. Acest lucru permite re-utilizarea denumirilor pentru a referi diferite elemente ale codului;\n",
        "\n",
        "* Foarte ușor extensibil - Python deține una dintre cele mai largi biblioteci de module și pachete create de programatori terți.\n",
        "\n",
        "Dintre cele mai importante [domenii de aplicare](https://www.python.org/about/apps/) ale limbajului Python, putem enumera:\n",
        "\n",
        "* aplicații web folosind framework-urile [Django](https://www.djangoproject.com/) sau [Flask](https://palletsprojects.com/p/flask/);\n",
        "\n",
        "* aplicații științifice sau numerice folosind modulele [SciPy](https://scipy.org/) și [NumPy](https://numpy.org/);\n",
        "\n",
        "* aplicații de învățare automată folosind modulele [PyTorch](https://pytorch.org/) sau [TensorFlow](https://www.tensorflow.org/).\n",
        "\n",
        "\n",
        "Iar o listă de aplicații de succes ce utilizează limbajul Python poate fi găsită pe [site-ul oficial](https://www.python.org/success-stories/)."
      ]
    },
    {
      "cell_type": "markdown",
      "metadata": {
        "id": "q421bJKVd27u"
      },
      "source": [
        "### <font color=\"#e8710a\">Cum rulează un program Python?</font>\n",
        "\n",
        "**<font color=\"#1589FF\">Interpretorul Python</font>**\n",
        "\n",
        "Codul scris în limbajul Python **NU** este compilat.\n",
        "Fiecare linie de cod este executată atunci când apare în cod, inclusiv partea de includere de module externe și crearea/apelarea claselor/funcțiilor/metodelor.\n",
        "\n",
        "Există însă o formă intermediară, denumită *byte code* care rezidă în fișiere cu extensia *.pyc* și care începând cu Python 3.0 sunt stocate în directoare denumite `__pycache__`.\n",
        "\n",
        "Pentru a obține aceste reprezentări intermediare se poate utiliza comanda de mai jos asupra fișierelor Python pe care dorim să le precompilăm:\n",
        "\n",
        "```\n",
        "python -m compileall file_1.py ... file_n.py\n",
        "```"
      ]
    },
    {
      "cell_type": "markdown",
      "metadata": {
        "id": "xS0leHeZBFI8"
      },
      "source": [
        "**<font color=\"#1589FF\">Structurarea codului Python</font>**\n",
        "\n",
        "Convenția de notare a extensiei fișierelor ce conțin cod Python este `.py`. Din punct de vedere al ierarhiei unei aplicații Python avem următoarele componente:\n",
        "\n",
        "- programele sunt compuse din module;\n",
        "- modulele conțin instrucțiuni;\n",
        "- instrucțiunile conțin expresii;\n",
        "- expresiile crează și prelucrează obiecte;\n",
        "- mai multe module pot fi grupate într-un pachet.\n",
        "\n",
        "Spre deosebire de alte limbaje de programare des utilizate, Python nu folosește un simbol pentru marcarea sfârșitului unei instrucțiuni (de ex. `;`) sau simboluri speciale pentru marcarea începutului și finalului instrucțiunilor compuse (de ex. `{}`).\n",
        "\n",
        "Modul în care Python structurează instrucțiunile se bazează pe utilizarea spațiilor albe sau a indentării codului. Acest lucru înseamnă că instrucțiunile de același nivel vor fi plasate la același nivel de indentare. Corpul instrucțiunilor compuse va fi demarcat de un nivel de indentare suplimentar, iar începutul instrucțiunii compuse se va marca prin utilizarea simbolului `:`. Finalul acesteia este determinat de revenirea la nivelul de indentare anterior. De exemplu:\n",
        "\n",
        "```\n",
        "if a > b:\n",
        "\tif a > c:\n",
        "\t\tprint(a)\n",
        "\telse:\n",
        "\t\tprint(c)\n",
        "else:\n",
        "\tprint(b)\n",
        "```\n",
        "\n",
        "\n",
        "Este foarte important ca utilizarea spațiilor albe să fie consecventă, fie spații albe `' '`, fie taburi `'\\t'`. [Se recomandă](https://peps.python.org/pep-0008/) pentru simplitate utilizarea de spații albe, de obicei 2 sau 4 pentru indentarea codului.\n"
      ]
    },
    {
      "cell_type": "markdown",
      "metadata": {
        "id": "2e8WNi1PCkeJ"
      },
      "source": [
        "---\n",
        "\n",
        "În secțiunile următoare vor fi indexate pe scurt principalele tipuri de date, operatori și instrucțiuni specifice Python și care vor fi reluate pe larg în tutorialele următoare.\n",
        "Spre finalul acestui tutorial vor fi prezentate și o serie de noțiuni legate de crearea unui mediu de lucru virtual, salvarea listei de module dependente din aplicații și documentarea codului."
      ]
    },
    {
      "cell_type": "markdown",
      "metadata": {
        "id": "4F8-BDnkebZ_"
      },
      "source": [
        "### <font color=\"#e8710a\">Introducere în tipuri de date</font>\n",
        "\n",
        "> **<font color=\"#1589FF\">În limbajul Python toate datele sunt OBIECTE!!!</font>**.\n",
        "\n",
        "Acest lucru înseamnă că nu vom avea tipuri de date primitive, așa cum există în C/C++ sau Java.\n",
        "\n",
        "O altă caracteristică a limbajului ce simplifică scrierea aplicațiilor se referă la utilizarea tipizării dinamice (en. *dynamic typing*). Prin acest mecanism, tipul obiectului sau a datei utilizate nu trebuie menționat la instanțierea variabilelor. Tipul variabilei va fi determinat automat pe baza valorii cu care este inițializată:"
      ]
    },
    {
      "cell_type": "code",
      "execution_count": null,
      "metadata": {
        "id": "6AOrb2wNDXuU"
      },
      "outputs": [],
      "source": [
        "# date întregi\n",
        "a = 314\n",
        "# date reale\n",
        "b = 3.14\n",
        "# șiruri de caractere (string)\n",
        "c = \"Python\""
      ]
    },
    {
      "cell_type": "markdown",
      "metadata": {
        "id": "wy2T5AinEApK"
      },
      "source": [
        "Totodată, deși nu se definesc în clar tipurile de date, limbajul Python este tipizat puternic (en. *strongly typed*), ceea ce înseamnă că se pot realiza doar operații specifice acelui tip de date. Utilizarea unei operații nepermise este marcată de interpretor ca fiind o eroare.\n",
        "\n",
        "Codul de mai jos va genera o eroare de tip `TypeError` deoarece interpretorul nu știe cum să adune valoarea întreagă 2 la șirul de caractere \"Ana\"."
      ]
    },
    {
      "cell_type": "code",
      "execution_count": null,
      "metadata": {
        "colab": {
          "base_uri": "https://localhost:8080/",
          "height": 187
        },
        "id": "9UQyzKNyEAIB",
        "outputId": "906dd3b1-ceae-4254-f2dc-cf927aa3e570"
      },
      "outputs": [
        {
          "output_type": "error",
          "ename": "TypeError",
          "evalue": "ignored",
          "traceback": [
            "\u001b[0;31m---------------------------------------------------------------------------\u001b[0m",
            "\u001b[0;31mTypeError\u001b[0m                                 Traceback (most recent call last)",
            "\u001b[0;32m<ipython-input-4-68f083afd972>\u001b[0m in \u001b[0;36m<module>\u001b[0;34m\u001b[0m\n\u001b[1;32m      1\u001b[0m \u001b[0ma\u001b[0m \u001b[0;34m=\u001b[0m \u001b[0;34m\"Ana\"\u001b[0m\u001b[0;34m\u001b[0m\u001b[0;34m\u001b[0m\u001b[0m\n\u001b[0;32m----> 2\u001b[0;31m \u001b[0;34m\"Ana\"\u001b[0m \u001b[0;34m+\u001b[0m \u001b[0;36m2\u001b[0m\u001b[0;34m\u001b[0m\u001b[0;34m\u001b[0m\u001b[0m\n\u001b[0m",
            "\u001b[0;31mTypeError\u001b[0m: can only concatenate str (not \"int\") to str"
          ]
        }
      ],
      "source": [
        "a = \"Ana\"\n",
        "\"Ana\" + 2"
      ]
    },
    {
      "cell_type": "markdown",
      "metadata": {
        "id": "O2hN379sDi9E"
      },
      "source": [
        "**<font color=\"#1589FF\">Tipuri de date Python fundamentale</font>**\n",
        "\n",
        "La fel ca în orice limbaj de programare, Python include un set de tipuri de date fundamentale, listate mai jos și care pot fi extinse prin definirea de obiecte de către programator.\n",
        "\n",
        "\n",
        "\n",
        "Tipul obiectului | Exemplu\n",
        "--- | ---\n",
        "Număr | 1234, 3.1415, 3+4j, 0b111, Decimal(), Fraction()\n",
        "String | 'Ana', \"Maria\", b'a\\x01c', u'An\\xc4'\n",
        "Listă | [1, [2, 'trei'], 4.5], list(range(10))\n",
        "Dicționar | {'cheie': 'valoare', 'key': 'value'}, dict(cheie=3.14)\n",
        "Tuplu | (1, 'Ana', 'c', 3.14), tuple('Ana'), namedtuple\n",
        "Set | set('abc'), {'a', 'b', 'c'}\n",
        "Fișier | open('fisier.txt'), open(r'C:\\fisier.bin', 'wb')\n",
        "Alte tipuri de bază | Boolean, bytes, bytearray, None\n",
        "\n",
        "\n",
        "\n",
        "Un aspect important legat de date în Python se referă la caracterul mutabil al acestora. **Mutabilitatea** reprezintă posibilitatea modificării conținutului unui obiect:\n",
        "\n",
        "* **obiecte mutabile** - valorile lor pot fi modificate (ex.\n",
        "liste, dicționare și seturi,\n",
        "toate obiectele definite în clase utilizator);\n",
        "\n",
        "* **obiecte imutabile** - valorile lor nu pot fi modificate (ex. int, float, complex, string, tuple, frozen set, bytes).\n",
        "\n",
        "> **NOTĂ!** Înainte de a intra în mai multe detaii legate de mutabilitate, este important să menționăm faptul că în Python variabilele sunt de fapt doar referințe (pointeri) la locații de memorie ce conțin datele în sine. Cu alte cuvinte, spațiul de memorie alocat unei variabile se rezumă la dimensiunea unei adrese de memorie, iar datele (valorile) vor fi stocate în alte zone de memorie. Vom reveni asupra acestui aspect în tutorialul următor.\n",
        "\n",
        "În cazul obiectelor imutabile, putem atribui o nouă valoare variabilei utilizate, însă acest lucru duce la crearea unui nou obiect și referențierea sa prin intermediul variabilei. Putem verifica acest lucru folosind funcția `id(Object)` ce ne va returna un identificator unic pentru fiecare obiect din cod:"
      ]
    },
    {
      "cell_type": "code",
      "source": [
        "a = 3\n",
        "print (\"Adresa obiectului 3: \", hex(id(3)))\n",
        "print(\"Adresa referită de a: \", hex(id(a)))\n",
        "a = 4\n",
        "print (\"Adresa obiectului 4: \", hex(id(4)))\n",
        "print (\"Adresa referită de a : \", hex(id(a)))"
      ],
      "metadata": {
        "colab": {
          "base_uri": "https://localhost:8080/"
        },
        "id": "588JLrIWvGOU",
        "outputId": "06a02be3-ed88-4da4-cb88-026cc98df4c3"
      },
      "execution_count": null,
      "outputs": [
        {
          "output_type": "stream",
          "name": "stdout",
          "text": [
            "Adresa obiectului 3:  0xabc140\n",
            "Adresa referită de a:  0xabc140\n",
            "Adresa obiectului 4:  0xabc160\n",
            "Adresa referită de a :  0xabc160\n"
          ]
        }
      ]
    },
    {
      "cell_type": "markdown",
      "source": [
        "În schimb, pentru obiecte mutabile, adresa referită de variabilă se păstrează la modificările conținutului obiectului:"
      ],
      "metadata": {
        "id": "zXA0t9XKwhwu"
      }
    },
    {
      "cell_type": "code",
      "source": [
        "# definim o listă de obiecte\n",
        "lista = ['a', 1, 3.14]\n",
        "print (\"Lista inițială:\", lista)\n",
        "print(\"Adresa inițială:\", hex(id(a)))\n",
        "# modificăm primul element din listă\n",
        "lista[0] = 'b'\n",
        "print (\"\\nNoua listă:\", lista)\n",
        "print(\"Adresa după modificare:\", hex(id(a)))"
      ],
      "metadata": {
        "colab": {
          "base_uri": "https://localhost:8080/"
        },
        "id": "TXZtbjgFwhTO",
        "outputId": "0133e10d-98d4-4664-bfb2-b5ae3659b7b5"
      },
      "execution_count": null,
      "outputs": [
        {
          "output_type": "stream",
          "name": "stdout",
          "text": [
            "Lista inițială: ['a', 1, 3.14]\n",
            "Adresa inițială: 0xabc160\n",
            "\n",
            "Noua listă: ['b', 1, 3.14]\n",
            "Adresa după modificare: 0xabc160\n"
          ]
        }
      ]
    },
    {
      "cell_type": "markdown",
      "metadata": {
        "id": "D0lkIJsCFY_L"
      },
      "source": [
        "**<font color=\"#1589FF\">Metode implicite asociate obiectelor</font>**\n",
        "\n",
        "Tipurile de date fundamentale au o serie de *metode implicite* asociate.\n",
        "Pentru a afla metodele asociate unui obiect putem utiliza funcția:\n",
        "`dir(Object)`"
      ]
    },
    {
      "cell_type": "code",
      "execution_count": null,
      "metadata": {
        "colab": {
          "base_uri": "https://localhost:8080/",
          "height": 143
        },
        "id": "sNSFAfj4eWOh",
        "outputId": "c00032fc-be87-4154-c2e5-a140330815d9"
      },
      "outputs": [
        {
          "output_type": "execute_result",
          "data": {
            "text/plain": [
              "'__add__ __class__ __contains__ __delattr__ __dir__ __doc__ __eq__ __format__ __ge__ __getattribute__ __getitem__ __getnewargs__ __gt__ __hash__ __init__ __init_subclass__ __iter__ __le__ __len__ __lt__ __mod__ __mul__ __ne__ __new__ __reduce__ __reduce_ex__ __repr__ __rmod__ __rmul__ __setattr__ __sizeof__ __str__ __subclasshook__ capitalize casefold center count encode endswith expandtabs find format format_map index isalnum isalpha isascii isdecimal isdigit isidentifier islower isnumeric isprintable isspace istitle isupper join ljust lower lstrip maketrans partition replace rfind rindex rjust rpartition rsplit rstrip split splitlines startswith strip swapcase title translate upper zfill'"
            ],
            "application/vnd.google.colaboratory.intrinsic+json": {
              "type": "string"
            }
          },
          "metadata": {},
          "execution_count": 7
        }
      ],
      "source": [
        "S = \"abc\"\n",
        "# Pentru a eficientiza spațiul, lista metodelor a fost concatenată\n",
        "# prin spații albe. Se poate utiliza și dir(S) direct.\n",
        "' '.join(dir(S))"
      ]
    },
    {
      "cell_type": "markdown",
      "metadata": {
        "id": "m6BCLY9EfKwc"
      },
      "source": [
        "Metodele implicite, precum și cele create de utilizator au în mod normal asociate documentații de utilizare. Această documentație poate fi accesată prin intermediul funcției\n",
        "`help(Object.method)`."
      ]
    },
    {
      "cell_type": "code",
      "execution_count": null,
      "metadata": {
        "colab": {
          "base_uri": "https://localhost:8080/"
        },
        "id": "FvVZn0tmbtyk",
        "outputId": "8cbb8272-36f8-44e6-c776-76b5d8f93fef"
      },
      "outputs": [
        {
          "output_type": "stream",
          "name": "stdout",
          "text": [
            "Help on built-in function replace:\n",
            "\n",
            "replace(old, new, count=-1, /) method of builtins.str instance\n",
            "    Return a copy with all occurrences of substring old replaced by new.\n",
            "    \n",
            "      count\n",
            "        Maximum number of occurrences to replace.\n",
            "        -1 (the default value) means replace all occurrences.\n",
            "    \n",
            "    If the optional argument count is given, only the first count occurrences are\n",
            "    replaced.\n",
            "\n"
          ]
        }
      ],
      "source": [
        "help(S.replace)"
      ]
    },
    {
      "cell_type": "markdown",
      "metadata": {
        "id": "hgUmI6XYfQJ5"
      },
      "source": [
        "**<font color=\"#1589FF\">Introspecția obiectelor</font>**\n",
        "\n",
        "Python include mecanismul de [introspecție](https://docs.python.org/3/library/inspect.html), prin intermediul căruia se pot determina caracteristici ale obiectelor utilizate în cod. Din acest mecanism fac parte funcții precum\n",
        "`type(Object), dir(Object)` sau `hasattr(Object)`. În tutorialele viitoare vom vedea mecanismul de introspecție aplicat și funcțiilor și claselor, care de altfel sunt tot obiecte în Python.\n",
        "\n"
      ]
    },
    {
      "cell_type": "code",
      "execution_count": null,
      "metadata": {
        "colab": {
          "base_uri": "https://localhost:8080/"
        },
        "id": "pQ9ngrGkfNFC",
        "outputId": "211fa5f1-0811-4abc-b126-00b949d93ed5"
      },
      "outputs": [
        {
          "output_type": "stream",
          "name": "stdout",
          "text": [
            "<class 'str'>\n",
            "['__add__', '__class__', '__contains__', '__delattr__', '__dir__', '__doc__', '__eq__', '__format__', '__ge__', '__getattribute__', '__getitem__', '__getnewargs__', '__gt__', '__hash__', '__init__', '__init_subclass__', '__iter__', '__le__', '__len__', '__lt__', '__mod__', '__mul__', '__ne__', '__new__', '__reduce__', '__reduce_ex__', '__repr__', '__rmod__', '__rmul__', '__setattr__', '__sizeof__', '__str__', '__subclasshook__', 'capitalize', 'casefold', 'center', 'count', 'encode', 'endswith', 'expandtabs', 'find', 'format', 'format_map', 'index', 'isalnum', 'isalpha', 'isascii', 'isdecimal', 'isdigit', 'isidentifier', 'islower', 'isnumeric', 'isprintable', 'isspace', 'istitle', 'isupper', 'join', 'ljust', 'lower', 'lstrip', 'maketrans', 'partition', 'replace', 'rfind', 'rindex', 'rjust', 'rpartition', 'rsplit', 'rstrip', 'split', 'splitlines', 'startswith', 'strip', 'swapcase', 'title', 'translate', 'upper', 'zfill']\n",
            "False\n"
          ]
        }
      ],
      "source": [
        "S = \"abc\"\n",
        "# Tipul obiectului\n",
        "print(type(S))\n",
        "# Lista metodelor asociate\n",
        "print(dir(S))\n",
        "# Verificăm dacă obiectul S are asociat atributul 'length'\n",
        "print(hasattr(S, 'length'))"
      ]
    },
    {
      "cell_type": "markdown",
      "metadata": {
        "id": "rWct20OSfX3T"
      },
      "source": [
        "### <font color=\"#e8710a\">Introducere în operatori</font>\n",
        "\n",
        "Operatorii în Python, la fel ca în orice alt limbaj de programare leagă datele în cadrul expresiilor. Din nou, ca în alte limbaje de programare, ordinea de execuție a operatorilor în expresii complexe este dată de așa numita precedență. În Python [tabelul de precedență](https://docs.python.org/3/reference/expressions.html) al operatorilor este următorul:\n",
        "\n",
        "\n",
        "Operator | Exemplu\n",
        "--- | ---\n",
        "(expressions...),[expressions...], {key: value...}, {expressions...} | Expresii în paranteze, de asociere, afișare liste, dicționare, seturi\n",
        "x[index], x[index:index], x(arguments...), x.attribute | Indexare, partiționare, apel, referirea atributelor\n",
        "await x | Await\n",
        "** | Ridicare la putere\n",
        "+x, -x, ~x | Operator unar +/- și negare pe biți\n",
        "*, @, /, //, % | Înmulțire, matrice, împărțire, împărțire întreagă, modulo\n",
        "+, - |Adunare și scădere\n",
        "<<, >> | Deplasare la stânga/dreapta\n",
        "& | Și pe biți\n",
        "^ | Sau exclusiv pe biți\n",
        "\\| | Sau pe biți\n",
        "in, not in, is, is not, <, <=, >, >=, !=, == | Comparații, inclusiv testarea calității de membru și a identității\n",
        "not x | Negare booleană\n",
        "and | Și boolean\n",
        "or | Sau boolean\n",
        "if – else | Expresie condițională\n",
        "lambda | Funcție anonimă (lambda)\n",
        ":= | Atribuire"
      ]
    },
    {
      "cell_type": "markdown",
      "metadata": {
        "id": "x1prDlQRfleG"
      },
      "source": [
        "### <font color=\"#e8710a\">Introducere în instrucțiuni </font>\n",
        "\n",
        "Pe scurt, lista de instrucțiuni disponibile în Python este prezentată în tabelul următor. Instrucțiunile pot fi simple (ex. apeluri de funcții) sau compuse (ex. `if/elif/else`).\n",
        "\n",
        "Instrucțiune | Rol | Exemplu\n",
        "--- | --- | ---\n",
        "Atribuire | Crearea de referințe | a, b = 'Ana', 'Maria'\n",
        "Apel și alte expresii | Rulare funcții | suma(3, 4)\n",
        "Apeluri print | Afișare obiecte | print(obiect)\n",
        "if/elif/else | Selectare acțiuni | if True: print(text)\n",
        "for/else |  Bucle  |for x in lista: print(x)\n",
        "while/else | Bucle | while x > 0: print('Salut')\n",
        "pass | Instrucțiune vidă | while True: pass\n",
        "break |  Ieșire din buclă | while True: if conditie: break\n",
        "continue | Continuare buclă | while True: if conditie: continue\n",
        "def |  Funcții și metode | def suma(a, b): print(a+b)\n",
        "return | Revenire din funcții | def suma(a, b): return a+b\n",
        "yield | Funcții generator | def gen(n): for i in n: yield i*2\n",
        "global | Spații de nume | global x, y; x = 'a'\n",
        "nonlocal | Spații de nume (3.x) | nonlocal x; x = 'a'\n",
        "import | Import module | import sys\n",
        "from | Acces la componente ale modulului | from modul import clasa\n",
        "class | Definire clase de obiecte | class C(A,B):\n",
        "try/except/ finally | Prindere excepții| try: actiune; except: print('Exceptie')\n",
        "raise | Aruncare excepții |raise Exceptie\n",
        "assert | Aserțiuni | assert X > 0, 'X negativ'\n",
        "with/as | Manager de context (3.X, 2.6>)| with open('fisier') as f:  pass)\n",
        "del |  Ștergere referințe | del Obj"
      ]
    },
    {
      "cell_type": "markdown",
      "metadata": {
        "id": "lUXCjI8fJyNu"
      },
      "source": [
        "---\n",
        "\n",
        "Asupra tipurilor de date, a operatorilor și instrucțiunilor vom reveni cu mai multe detalii în tutorialele următoare. Trecem acum spre zona de organizare a mediului de lucru pentru aplicațiile Python și utilizarea bibliotecii standard și a documentației."
      ]
    },
    {
      "cell_type": "markdown",
      "metadata": {
        "id": "vuNnVAKsgFbT"
      },
      "source": [
        "## <font color=\"#e8710a\">Organizarea mediului de lucru Python</font>\n",
        "\n",
        "###<font color=\"#e8710a\">Pachete și module</font>\n",
        "\n",
        "Scrierea codului Python în afara mediilor de programare interactive precum Google Colab se face în cadrul fișierelor ce au extensia `.py`. Un fișier ce conține cod Python este denumit și are rol de *modul*. Un modul va conține instanțieri de date și instrucțiuni.\n",
        "\n",
        "De exemplu, putem crea chiar în Colab un astfel de modul, folosind [funcțiile magice IPython](https://ipython.readthedocs.io/en/stable/interactive/magics.html). Codul de mai jos va crea un fișier în mașina virtuală curentă denumit `modul.py`."
      ]
    },
    {
      "cell_type": "code",
      "source": [
        "%%writefile modul.py\n",
        "a = 3\n",
        "b = 7\n",
        "for i in range(5):\n",
        "    print(i)"
      ],
      "metadata": {
        "colab": {
          "base_uri": "https://localhost:8080/"
        },
        "id": "PqYhBrqZ2Edv",
        "outputId": "592c8e87-98be-4d7c-fe5f-897f44871ba7"
      },
      "execution_count": null,
      "outputs": [
        {
          "output_type": "stream",
          "name": "stdout",
          "text": [
            "Overwriting modul.py\n"
          ]
        }
      ]
    },
    {
      "cell_type": "markdown",
      "source": [
        "Acest modul a fost scris în sesiunea curentă de Colab și poate fi vizualizat prin selectarea din bara de meniu din stânga notebook-ului a tab-ului `Files`.\n",
        "\n",
        "\n",
        "<center><img src='https://raw.githubusercontent.com/adrianastan/python-intro/main/notebooks/ro/imgs/T01_files.png' height=250/></center>\n",
        "\n",
        "\n",
        "Iar acum putem importa conținutul acestui modul în notebook-ul curent:"
      ],
      "metadata": {
        "id": "Ozfl0HkC2RGl"
      }
    },
    {
      "cell_type": "code",
      "source": [
        "import modul"
      ],
      "metadata": {
        "id": "AboWP4ZM3sbe",
        "colab": {
          "base_uri": "https://localhost:8080/"
        },
        "outputId": "93255206-10c6-453e-ae9e-a644fcb2a4a1"
      },
      "execution_count": null,
      "outputs": [
        {
          "output_type": "stream",
          "name": "stdout",
          "text": [
            "0\n",
            "1\n",
            "2\n",
            "3\n",
            "4\n"
          ]
        }
      ]
    },
    {
      "cell_type": "markdown",
      "source": [
        "La import, codul ce accesibil în afara claselor sau a funcțiilor este executat automat.\n",
        "\n",
        "Un modul este un set de identificatori denumit și *namespace*, iar identificatorii din modul sunt denumiți *atribute*.\n",
        "După import, putem să folosim și valorile atributelor `a` și `b` ale modulului:"
      ],
      "metadata": {
        "id": "GYjtm8zH4L6T"
      }
    },
    {
      "cell_type": "code",
      "source": [
        "notebook_a = modul.a\n",
        "notebook_b = modul.b\n",
        "print(notebook_a + notebook_b)"
      ],
      "metadata": {
        "colab": {
          "base_uri": "https://localhost:8080/"
        },
        "id": "aTgC4suw4LKS",
        "outputId": "e2730ff3-b3d8-4a60-8fdb-f1eba5428e7b"
      },
      "execution_count": null,
      "outputs": [
        {
          "output_type": "stream",
          "name": "stdout",
          "text": [
            "10\n"
          ]
        }
      ]
    },
    {
      "cell_type": "markdown",
      "source": [
        "Numele fișierului în care este stocat un modul e disponibil ca atribut:\n",
        "`__name__`"
      ],
      "metadata": {
        "id": "eYGG6myB507T"
      }
    },
    {
      "cell_type": "code",
      "source": [
        "modul.__name__"
      ],
      "metadata": {
        "colab": {
          "base_uri": "https://localhost:8080/",
          "height": 35
        },
        "id": "GRnSpEbT5wVP",
        "outputId": "a5582264-b40e-458c-97fc-afbaa2c3a225"
      },
      "execution_count": null,
      "outputs": [
        {
          "output_type": "execute_result",
          "data": {
            "text/plain": [
              "'modul'"
            ],
            "application/vnd.google.colaboratory.intrinsic+json": {
              "type": "string"
            }
          },
          "metadata": {},
          "execution_count": 13
        }
      ]
    },
    {
      "cell_type": "markdown",
      "source": [
        "Iar prin intermediul funcției `dir()` putem afla lista de atribute ale modulului:"
      ],
      "metadata": {
        "id": "Hv2fO-f882Pf"
      }
    },
    {
      "cell_type": "code",
      "source": [
        "' '.join(dir(modul))"
      ],
      "metadata": {
        "colab": {
          "base_uri": "https://localhost:8080/",
          "height": 35
        },
        "id": "j1HjJQOf82rI",
        "outputId": "46d04e8d-eb15-4cec-c713-a6c0d14ebacd"
      },
      "execution_count": null,
      "outputs": [
        {
          "output_type": "execute_result",
          "data": {
            "text/plain": [
              "'__builtins__ __cached__ __doc__ __file__ __loader__ __name__ __package__ __spec__ a b i'"
            ],
            "application/vnd.google.colaboratory.intrinsic+json": {
              "type": "string"
            }
          },
          "metadata": {},
          "execution_count": 14
        }
      ]
    },
    {
      "cell_type": "markdown",
      "source": [
        "Putem să remarcăm faptul că pe lângă atributele definite în codul modulului, mai există o serie de atribute predefinite disponibile pentru orice modul Pyhton.\n",
        "\n"
      ],
      "metadata": {
        "id": "fuGPWWoa4i_A"
      }
    },
    {
      "cell_type": "markdown",
      "source": [
        "Pentru importarea modulelor mai avem disponibile două metode. Una prin care redenumim modulul în cadrul codului curent sau îi creăm un așa numit alias:\n",
        "\n",
        "```\n",
        "import modul as alias\n",
        "```"
      ],
      "metadata": {
        "id": "z77g-lGS1_0a"
      }
    },
    {
      "cell_type": "code",
      "execution_count": null,
      "metadata": {
        "id": "6202FFjahxvs",
        "colab": {
          "base_uri": "https://localhost:8080/",
          "height": 35
        },
        "outputId": "ef253e9c-6ead-4ea1-f896-d1fd846e95c2"
      },
      "outputs": [
        {
          "output_type": "execute_result",
          "data": {
            "text/plain": [
              "'numpy'"
            ],
            "application/vnd.google.colaboratory.intrinsic+json": {
              "type": "string"
            }
          },
          "metadata": {},
          "execution_count": 15
        }
      ],
      "source": [
        "import numpy as np\n",
        "np.__name__"
      ]
    },
    {
      "cell_type": "markdown",
      "source": [
        "Și una prin care putem specificam doar importul unui subset de atribute ale modulului:\n",
        "\n",
        "```\n",
        "from modul import class/function/attribute\n",
        "```\n",
        "\n",
        "În acest caz, atributele respective vor fi disponibile fără a specifica numele modulului înainte de acestea. Cu alte cuvinte, realizăm importul atributelor în spațiul de nume curent."
      ],
      "metadata": {
        "id": "GRNiqveu6qoj"
      }
    },
    {
      "cell_type": "code",
      "source": [
        "from numpy import sort\n",
        "sort([1,9,2,8])"
      ],
      "metadata": {
        "colab": {
          "base_uri": "https://localhost:8080/"
        },
        "id": "mpJVNiur6vtf",
        "outputId": "51837b5d-efb7-4d12-c214-661c8b02086f"
      },
      "execution_count": null,
      "outputs": [
        {
          "output_type": "execute_result",
          "data": {
            "text/plain": [
              "array([1, 2, 8, 9])"
            ]
          },
          "metadata": {},
          "execution_count": 16
        }
      ]
    },
    {
      "cell_type": "markdown",
      "source": [
        "O a treia metodă (nerecomandată) de import a conținutului unui pachet este prin utilizarea caracterului wildcard `*` ce permite importul tuturor atributelor disponibile în pachet în spațiul de nume curent.\n",
        "\n",
        "`from modul import *`\n",
        "\n",
        "Pentru acest tip de import vom discuta în tutorialul referitor la pachete și modul despre așa numita listă `__all__` inclusă în fișierul de inițializare `__init__.py` și care specifică atributele ce pot fi importate prin această instrucțiune."
      ],
      "metadata": {
        "id": "4h8YqNSoC7X7"
      }
    },
    {
      "cell_type": "markdown",
      "source": [
        "---\n",
        "\n",
        "**<font color=\"#1589FF\">Rulare independentă a modulelor</font>**\n",
        "\n",
        "Evident că putem rula conținutul unui modulul ca script independent.\n",
        "\n",
        "> **NOTĂ**: În Colab pentru [instrucțiunile de linie de comandă (shell)](https://www.tutorialspoint.com/google_colab/google_colab_magics.htm) este necesară utilizarea semnului `!` înaintea instrucțiunii."
      ],
      "metadata": {
        "id": "wRPcGaYO9NnS"
      }
    },
    {
      "cell_type": "code",
      "source": [
        "!python modul.py"
      ],
      "metadata": {
        "colab": {
          "base_uri": "https://localhost:8080/"
        },
        "id": "UMroavAM9P9t",
        "outputId": "a0c7bf05-de12-425d-b786-af1a3dc2475c"
      },
      "execution_count": null,
      "outputs": [
        {
          "output_type": "stream",
          "name": "stdout",
          "text": [
            "0\n",
            "1\n",
            "2\n",
            "3\n",
            "4\n"
          ]
        }
      ]
    },
    {
      "cell_type": "markdown",
      "source": [
        "La fel, se va executa codul disponibil în modul aflat în afara funcțiilor și claselor."
      ],
      "metadata": {
        "id": "bhMvpAb-UDVj"
      }
    },
    {
      "cell_type": "markdown",
      "source": [
        "**<font color=\"#1589FF\">Pachete</font>**\n",
        "\n",
        "Modulele cu funcționalități similare sunt organizate în **pachete** (en. *packets* sau *dotted module names*). Acest lucru înseamnă că modulele de nivel ierarhic similar vor fi stocate în directoare de același nivel. De exemplu:\n",
        "\n",
        "\n",
        "```\n",
        "pachet/                          Pachetul de nivel înalt\n",
        "      __init__.py                Cod pentru inițializarea pachetului\n",
        "      subpachet1/                  Subpachet 1\n",
        "              __init__.py\n",
        "              modul1_1.py\n",
        "              modul1_2.py\n",
        "              ...\n",
        "      subpachet2/                  Subpachet 2\n",
        "              __init__.py\n",
        "              modul2_1.py\n",
        "              modul2_2.py\n",
        "              ...\n",
        "\n",
        "```\n",
        "\n",
        "Accesul la subpachete se face prin numele pachetului urmat de `'.'`, numele subpachetului și apoi funcția sau clasa apelată. De aici și numele de *dotted module names*.\n",
        "\n",
        "Fișierul `__init__.py` se folosește pentru a informa interpretorul că directoarele în care există trebuie tratate ca subpachete.\n",
        "Fișierul e de cele mai multe ori gol, dar poate fi utilizat și pentru anumite inițializări/definiții la importul modulului."
      ],
      "metadata": {
        "id": "ptu9YXad-m8c"
      }
    },
    {
      "cell_type": "markdown",
      "source": [
        "---\n",
        "\n",
        "###<font color=\"#e8710a\">Biblioteca standard Python</font>\n",
        "\n",
        "[Biblioteca standard Python](https://docs.python.org/3/library/) include un număr destul de mare de pachete predefinite, ceea ce face ca scrierea aplicațiilor complexe să se rezume de cele mai multe ori la cunoașterea acestor pachete și funcționalitățile lor.\n",
        "\n",
        "\n"
      ],
      "metadata": {
        "id": "ZBlrMXwr7JaJ"
      }
    },
    {
      "cell_type": "markdown",
      "metadata": {
        "id": "OlYyCG-Ijcdz"
      },
      "source": [
        "**<font color=\"#1589FF\">PIP </font>**\n",
        "\n",
        "Pe lângă pachetele Python de bază, pachete create de alți programatori sunt incluse în [The Python Package Index (PyPI)](https://pypi.org/). Orice programator poate publica pachetul propriu pe PyPI.  \n",
        "\n",
        "Pentru a instala pachete din PyPI se pot utiliza următoarele comenzi:\n",
        "\n",
        "```\n",
        ">> python3 -m pip install UnPachet\n",
        ">> pip install UnPachet\n",
        ">> pip install UnPachet==version.number\n",
        ">> pip install \"UnPachet>=minimum.version\"\n",
        "```"
      ]
    },
    {
      "cell_type": "code",
      "source": [
        "# Instalam un pachet de prelucrare audio\n",
        "# https://librosa.org/\n",
        "!pip install librosa"
      ],
      "metadata": {
        "colab": {
          "base_uri": "https://localhost:8080/"
        },
        "id": "NGjs9LQrB-CP",
        "outputId": "d51202fe-12b3-4ed7-8106-b5c65f9e7d43"
      },
      "execution_count": null,
      "outputs": [
        {
          "output_type": "stream",
          "name": "stdout",
          "text": [
            "Looking in indexes: https://pypi.org/simple, https://us-python.pkg.dev/colab-wheels/public/simple/\n",
            "Collecting librosa\n",
            "  Downloading librosa-0.9.2-py3-none-any.whl (214 kB)\n",
            "\u001b[K     |████████████████████████████████| 214 kB 5.2 MB/s \n",
            "\u001b[?25hRequirement already satisfied: joblib>=0.14 in /usr/local/lib/python3.7/dist-packages (from librosa) (1.1.0)\n",
            "Requirement already satisfied: audioread>=2.1.9 in /usr/local/lib/python3.7/dist-packages (from librosa) (3.0.0)\n",
            "Requirement already satisfied: resampy>=0.2.2 in /usr/local/lib/python3.7/dist-packages (from librosa) (0.4.0)\n",
            "Requirement already satisfied: decorator>=4.0.10 in /usr/local/lib/python3.7/dist-packages (from librosa) (4.4.2)\n",
            "Requirement already satisfied: numpy>=1.17.0 in /usr/local/lib/python3.7/dist-packages (from librosa) (1.21.6)\n",
            "Requirement already satisfied: packaging>=20.0 in /usr/local/lib/python3.7/dist-packages (from librosa) (21.3)\n",
            "Requirement already satisfied: scipy>=1.2.0 in /usr/local/lib/python3.7/dist-packages (from librosa) (1.7.3)\n",
            "Requirement already satisfied: numba>=0.45.1 in /usr/local/lib/python3.7/dist-packages (from librosa) (0.56.0)\n",
            "Requirement already satisfied: pooch>=1.0 in /usr/local/lib/python3.7/dist-packages (from librosa) (1.6.0)\n",
            "Requirement already satisfied: scikit-learn>=0.19.1 in /usr/local/lib/python3.7/dist-packages (from librosa) (1.0.2)\n",
            "Requirement already satisfied: soundfile>=0.10.2 in /usr/local/lib/python3.7/dist-packages (from librosa) (0.10.3.post1)\n",
            "Requirement already satisfied: setuptools in /usr/local/lib/python3.7/dist-packages (from numba>=0.45.1->librosa) (57.4.0)\n",
            "Requirement already satisfied: importlib-metadata in /usr/local/lib/python3.7/dist-packages (from numba>=0.45.1->librosa) (4.12.0)\n",
            "Requirement already satisfied: llvmlite<0.40,>=0.39.0dev0 in /usr/local/lib/python3.7/dist-packages (from numba>=0.45.1->librosa) (0.39.0)\n",
            "Requirement already satisfied: pyparsing!=3.0.5,>=2.0.2 in /usr/local/lib/python3.7/dist-packages (from packaging>=20.0->librosa) (3.0.9)\n",
            "Requirement already satisfied: requests>=2.19.0 in /usr/local/lib/python3.7/dist-packages (from pooch>=1.0->librosa) (2.23.0)\n",
            "Requirement already satisfied: appdirs>=1.3.0 in /usr/local/lib/python3.7/dist-packages (from pooch>=1.0->librosa) (1.4.4)\n",
            "Requirement already satisfied: idna<3,>=2.5 in /usr/local/lib/python3.7/dist-packages (from requests>=2.19.0->pooch>=1.0->librosa) (2.10)\n",
            "Requirement already satisfied: certifi>=2017.4.17 in /usr/local/lib/python3.7/dist-packages (from requests>=2.19.0->pooch>=1.0->librosa) (2022.6.15)\n",
            "Requirement already satisfied: urllib3!=1.25.0,!=1.25.1,<1.26,>=1.21.1 in /usr/local/lib/python3.7/dist-packages (from requests>=2.19.0->pooch>=1.0->librosa) (1.24.3)\n",
            "Requirement already satisfied: chardet<4,>=3.0.2 in /usr/local/lib/python3.7/dist-packages (from requests>=2.19.0->pooch>=1.0->librosa) (3.0.4)\n",
            "Requirement already satisfied: threadpoolctl>=2.0.0 in /usr/local/lib/python3.7/dist-packages (from scikit-learn>=0.19.1->librosa) (3.1.0)\n",
            "Requirement already satisfied: cffi>=1.0 in /usr/local/lib/python3.7/dist-packages (from soundfile>=0.10.2->librosa) (1.15.1)\n",
            "Requirement already satisfied: pycparser in /usr/local/lib/python3.7/dist-packages (from cffi>=1.0->soundfile>=0.10.2->librosa) (2.21)\n",
            "Requirement already satisfied: typing-extensions>=3.6.4 in /usr/local/lib/python3.7/dist-packages (from importlib-metadata->numba>=0.45.1->librosa) (4.1.1)\n",
            "Requirement already satisfied: zipp>=0.5 in /usr/local/lib/python3.7/dist-packages (from importlib-metadata->numba>=0.45.1->librosa) (3.8.1)\n",
            "Installing collected packages: librosa\n",
            "Successfully installed librosa-0.9.2\n"
          ]
        }
      ]
    },
    {
      "cell_type": "markdown",
      "source": [
        "Iar pentru dezinstalare putem utiliza:\n",
        "\n",
        "`!pip uninstall UnPachet`"
      ],
      "metadata": {
        "id": "ZN63bkVUB9Xv"
      }
    },
    {
      "cell_type": "code",
      "execution_count": null,
      "metadata": {
        "colab": {
          "base_uri": "https://localhost:8080/"
        },
        "id": "59BHgVEmlZWN",
        "outputId": "1e40b61d-67f2-40d1-a1fb-e59f5b7fe91e"
      },
      "outputs": [
        {
          "output_type": "stream",
          "name": "stdout",
          "text": [
            "Found existing installation: librosa 0.9.2\n",
            "Uninstalling librosa-0.9.2:\n",
            "  Would remove:\n",
            "    /usr/local/lib/python3.7/dist-packages/librosa-0.9.2.dist-info/*\n",
            "    /usr/local/lib/python3.7/dist-packages/librosa/*\n",
            "Proceed (y/n)? y\n",
            "  Successfully uninstalled librosa-0.9.2\n"
          ]
        }
      ],
      "source": [
        "!pip uninstall librosa"
      ]
    },
    {
      "cell_type": "markdown",
      "metadata": {
        "id": "dXXVl9pflRQd"
      },
      "source": [
        "În orice moment putem vizualiza lista completă a pachetelor disponibile în mediul de programare Python curent prin `pip list`.\n",
        "\n",
        "> **NOTĂ:** În Google Colab această listă este extrem de extinsă deoarece mediul este pregătit pentru diferite aplicații de învățare automată și calcul numeric."
      ]
    },
    {
      "cell_type": "code",
      "execution_count": null,
      "metadata": {
        "id": "FeCLp3H-lS83",
        "colab": {
          "base_uri": "https://localhost:8080/"
        },
        "outputId": "899a32bd-2ddf-47ae-c628-37f01b4285a0"
      },
      "outputs": [
        {
          "output_type": "stream",
          "name": "stdout",
          "text": [
            "Package                       Version\n",
            "----------------------------- ----------------------------\n",
            "absl-py                       1.2.0\n",
            "aiohttp                       3.8.1\n",
            "aiosignal                     1.2.0\n",
            "alabaster                     0.7.12\n",
            "albumentations                1.2.1\n",
            "altair                        4.2.0\n",
            "appdirs                       1.4.4\n",
            "arviz                         0.12.1\n",
            "astor                         0.8.1\n",
            "astropy                       4.3.1\n",
            "astunparse                    1.6.3\n",
            "async-timeout                 4.0.2\n",
            "asynctest                     0.13.0\n",
            "atari-py                      0.2.9\n",
            "atomicwrites                  1.4.1\n",
            "attrs                         22.1.0\n",
            "audioread                     3.0.0\n",
            "autograd                      1.4\n",
            "Babel                         2.10.3\n",
            "backcall                      0.2.0\n",
            "beautifulsoup4                4.6.3\n",
            "bleach                        5.0.1\n",
            "blis                          0.7.8\n",
            "bokeh                         2.3.3\n",
            "branca                        0.5.0\n",
            "bs4                           0.0.1\n",
            "CacheControl                  0.12.11\n",
            "cached-property               1.5.2\n",
            "cachetools                    4.2.4\n",
            "catalogue                     2.0.8\n",
            "certifi                       2022.6.15\n",
            "cffi                          1.15.1\n",
            "cftime                        1.6.1\n",
            "chardet                       3.0.4\n",
            "charset-normalizer            2.1.0\n",
            "click                         7.1.2\n",
            "clikit                        0.6.2\n",
            "cloudpickle                   1.5.0\n",
            "cmake                         3.22.6\n",
            "cmdstanpy                     1.0.4\n",
            "colorcet                      3.0.0\n",
            "colorlover                    0.3.0\n",
            "community                     1.0.0b1\n",
            "contextlib2                   0.5.5\n",
            "convertdate                   2.4.0\n",
            "crashtest                     0.3.1\n",
            "crcmod                        1.7\n",
            "cufflinks                     0.17.3\n",
            "cvxopt                        1.3.0\n",
            "cvxpy                         1.2.1\n",
            "cycler                        0.11.0\n",
            "cymem                         2.0.6\n",
            "Cython                        0.29.32\n",
            "daft                          0.0.4\n",
            "dask                          2022.2.0\n",
            "datascience                   0.17.5\n",
            "debugpy                       1.0.0\n",
            "decorator                     4.4.2\n",
            "defusedxml                    0.7.1\n",
            "deprecat                      2.1.1\n",
            "descartes                     1.1.0\n",
            "dill                          0.3.5.1\n",
            "distributed                   2022.2.0\n",
            "dlib                          19.24.0\n",
            "dm-tree                       0.1.7\n",
            "docutils                      0.17.1\n",
            "dopamine-rl                   1.0.5\n",
            "earthengine-api               0.1.320\n",
            "easydict                      1.9\n",
            "ecos                          2.0.10\n",
            "editdistance                  0.5.3\n",
            "en-core-web-sm                3.4.0\n",
            "entrypoints                   0.4\n",
            "ephem                         4.1.3\n",
            "et-xmlfile                    1.1.0\n",
            "etils                         0.7.1\n",
            "fa2                           0.3.5\n",
            "fastai                        2.7.9\n",
            "fastcore                      1.5.21\n",
            "fastdownload                  0.0.7\n",
            "fastdtw                       0.3.4\n",
            "fastjsonschema                2.16.1\n",
            "fastprogress                  1.0.3\n",
            "fastrlock                     0.8\n",
            "feather-format                0.4.1\n",
            "filelock                      3.8.0\n",
            "firebase-admin                4.4.0\n",
            "fix-yahoo-finance             0.0.22\n",
            "Flask                         1.1.4\n",
            "flatbuffers                   2.0\n",
            "folium                        0.12.1.post1\n",
            "frozenlist                    1.3.1\n",
            "fsspec                        2022.7.1\n",
            "future                        0.16.0\n",
            "gast                          0.5.3\n",
            "GDAL                          2.2.2\n",
            "gdown                         4.4.0\n",
            "gensim                        3.6.0\n",
            "geographiclib                 1.52\n",
            "geopy                         1.17.0\n",
            "gin-config                    0.5.0\n",
            "glob2                         0.7\n",
            "google                        2.0.3\n",
            "google-api-core               1.31.6\n",
            "google-api-python-client      1.12.11\n",
            "google-auth                   1.35.0\n",
            "google-auth-httplib2          0.0.4\n",
            "google-auth-oauthlib          0.4.6\n",
            "google-cloud-bigquery         1.21.0\n",
            "google-cloud-bigquery-storage 1.1.2\n",
            "google-cloud-core             1.0.3\n",
            "google-cloud-datastore        1.8.0\n",
            "google-cloud-firestore        1.7.0\n",
            "google-cloud-language         1.2.0\n",
            "google-cloud-storage          1.18.1\n",
            "google-cloud-translate        1.5.0\n",
            "google-colab                  1.0.0\n",
            "google-pasta                  0.2.0\n",
            "google-resumable-media        0.4.1\n",
            "googleapis-common-protos      1.56.4\n",
            "googledrivedownloader         0.4\n",
            "graphviz                      0.10.1\n",
            "greenlet                      1.1.2\n",
            "grpcio                        1.47.0\n",
            "gspread                       3.4.2\n",
            "gspread-dataframe             3.0.8\n",
            "gym                           0.25.1\n",
            "gym-notices                   0.0.8\n",
            "h5py                          3.1.0\n",
            "HeapDict                      1.0.1\n",
            "hijri-converter               2.2.4\n",
            "holidays                      0.14.2\n",
            "holoviews                     1.14.9\n",
            "html5lib                      1.0.1\n",
            "httpimport                    0.5.18\n",
            "httplib2                      0.17.4\n",
            "httplib2shim                  0.0.3\n",
            "httpstan                      4.6.1\n",
            "humanize                      0.5.1\n",
            "hyperopt                      0.1.2\n",
            "idna                          2.10\n",
            "imageio                       2.9.0\n",
            "imagesize                     1.4.1\n",
            "imbalanced-learn              0.8.1\n",
            "imblearn                      0.0\n",
            "imgaug                        0.4.0\n",
            "importlib-metadata            4.12.0\n",
            "importlib-resources           5.9.0\n",
            "imutils                       0.5.4\n",
            "inflect                       2.1.0\n",
            "intel-openmp                  2022.1.0\n",
            "intervaltree                  2.1.0\n",
            "ipykernel                     5.3.4\n",
            "ipython                       7.9.0\n",
            "ipython-genutils              0.2.0\n",
            "ipython-sql                   0.3.9\n",
            "ipywidgets                    7.7.1\n",
            "itsdangerous                  1.1.0\n",
            "jax                           0.3.14\n",
            "jaxlib                        0.3.14+cuda11.cudnn805\n",
            "jieba                         0.42.1\n",
            "Jinja2                        2.11.3\n",
            "joblib                        1.1.0\n",
            "jpeg4py                       0.1.4\n",
            "jsonschema                    4.3.3\n",
            "jupyter-client                6.1.12\n",
            "jupyter-console               6.1.0\n",
            "jupyter-core                  4.11.1\n",
            "jupyterlab-widgets            3.0.2\n",
            "kaggle                        1.5.12\n",
            "kapre                         0.3.7\n",
            "keras                         2.8.0\n",
            "Keras-Preprocessing           1.1.2\n",
            "keras-vis                     0.4.1\n",
            "kiwisolver                    1.4.4\n",
            "korean-lunar-calendar         0.2.1\n",
            "langcodes                     3.3.0\n",
            "libclang                      14.0.6\n",
            "lightgbm                      2.2.3\n",
            "llvmlite                      0.39.0\n",
            "lmdb                          0.99\n",
            "locket                        1.0.0\n",
            "LunarCalendar                 0.0.9\n",
            "lxml                          4.9.1\n",
            "Markdown                      3.4.1\n",
            "MarkupSafe                    2.0.1\n",
            "marshmallow                   3.17.0\n",
            "matplotlib                    3.2.2\n",
            "matplotlib-venn               0.11.7\n",
            "missingno                     0.5.1\n",
            "mistune                       0.8.4\n",
            "mizani                        0.7.3\n",
            "mkl                           2019.0\n",
            "mlxtend                       0.14.0\n",
            "more-itertools                8.14.0\n",
            "moviepy                       0.2.3.5\n",
            "mpmath                        1.2.1\n",
            "msgpack                       1.0.4\n",
            "multidict                     6.0.2\n",
            "multitasking                  0.0.11\n",
            "murmurhash                    1.0.8\n",
            "music21                       5.5.0\n",
            "natsort                       5.5.0\n",
            "nbconvert                     5.6.1\n",
            "nbformat                      5.4.0\n",
            "netCDF4                       1.6.0\n",
            "networkx                      2.6.3\n",
            "nibabel                       3.0.2\n",
            "nltk                          3.7\n",
            "notebook                      5.3.1\n",
            "numba                         0.56.0\n",
            "numexpr                       2.8.3\n",
            "numpy                         1.21.6\n",
            "oauth2client                  4.1.3\n",
            "oauthlib                      3.2.0\n",
            "okgrade                       0.4.3\n",
            "opencv-contrib-python         4.6.0.66\n",
            "opencv-python                 4.6.0.66\n",
            "opencv-python-headless        4.6.0.66\n",
            "openpyxl                      3.0.10\n",
            "opt-einsum                    3.3.0\n",
            "osqp                          0.6.2.post0\n",
            "packaging                     21.3\n",
            "palettable                    3.3.0\n",
            "pandas                        1.3.5\n",
            "pandas-datareader             0.9.0\n",
            "pandas-gbq                    0.13.3\n",
            "pandas-profiling              1.4.1\n",
            "pandocfilters                 1.5.0\n",
            "panel                         0.12.1\n",
            "param                         1.12.2\n",
            "parso                         0.8.3\n",
            "partd                         1.3.0\n",
            "pastel                        0.2.1\n",
            "pathlib                       1.0.1\n",
            "pathy                         0.6.2\n",
            "patsy                         0.5.2\n",
            "pep517                        0.13.0\n",
            "pexpect                       4.8.0\n",
            "pickleshare                   0.7.5\n",
            "Pillow                        7.1.2\n",
            "pip                           21.1.3\n",
            "pip-tools                     6.2.0\n",
            "plotly                        5.5.0\n",
            "plotnine                      0.8.0\n",
            "pluggy                        0.7.1\n",
            "pooch                         1.6.0\n",
            "portpicker                    1.3.9\n",
            "prefetch-generator            1.0.1\n",
            "preshed                       3.0.7\n",
            "prettytable                   3.3.0\n",
            "progressbar2                  3.38.0\n",
            "promise                       2.3\n",
            "prompt-toolkit                2.0.10\n",
            "prophet                       1.1\n",
            "protobuf                      3.17.3\n",
            "psutil                        5.4.8\n",
            "psycopg2                      2.9.3\n",
            "ptyprocess                    0.7.0\n",
            "py                            1.11.0\n",
            "pyarrow                       6.0.1\n",
            "pyasn1                        0.4.8\n",
            "pyasn1-modules                0.2.8\n",
            "pycocotools                   2.0.4\n",
            "pycparser                     2.21\n",
            "pyct                          0.4.8\n",
            "pydantic                      1.9.2\n",
            "pydata-google-auth            1.4.0\n",
            "pydot                         1.3.0\n",
            "pydot-ng                      2.0.0\n",
            "pydotplus                     2.0.2\n",
            "PyDrive                       1.3.1\n",
            "pyemd                         0.5.1\n",
            "pyerfa                        2.0.0.1\n",
            "Pygments                      2.6.1\n",
            "pygobject                     3.26.1\n",
            "pylev                         1.4.0\n",
            "pymc3                         3.11.5\n",
            "PyMeeus                       0.5.11\n",
            "pymongo                       4.2.0\n",
            "pymystem3                     0.2.0\n",
            "PyOpenGL                      3.1.6\n",
            "pyparsing                     3.0.9\n",
            "pyrsistent                    0.18.1\n",
            "pysimdjson                    3.2.0\n",
            "pysndfile                     1.3.8\n",
            "PySocks                       1.7.1\n",
            "pystan                        3.3.0\n",
            "pytest                        3.6.4\n",
            "python-apt                    0.0.0\n",
            "python-chess                  0.23.11\n",
            "python-dateutil               2.8.2\n",
            "python-louvain                0.16\n",
            "python-slugify                6.1.2\n",
            "python-utils                  3.3.3\n",
            "pytz                          2022.2.1\n",
            "pyviz-comms                   2.2.1\n",
            "PyWavelets                    1.3.0\n",
            "PyYAML                        6.0\n",
            "pyzmq                         23.2.1\n",
            "qdldl                         0.1.5.post2\n",
            "qudida                        0.0.4\n",
            "regex                         2022.6.2\n",
            "requests                      2.23.0\n",
            "requests-oauthlib             1.3.1\n",
            "resampy                       0.4.0\n",
            "rpy2                          3.4.5\n",
            "rsa                           4.9\n",
            "scikit-image                  0.18.3\n",
            "scikit-learn                  1.0.2\n",
            "scipy                         1.7.3\n",
            "screen-resolution-extra       0.0.0\n",
            "scs                           3.2.0\n",
            "seaborn                       0.11.2\n",
            "semver                        2.13.0\n",
            "Send2Trash                    1.8.0\n",
            "setuptools                    57.4.0\n",
            "setuptools-git                1.2\n",
            "Shapely                       1.8.4\n",
            "six                           1.15.0\n",
            "sklearn-pandas                1.8.0\n",
            "smart-open                    5.2.1\n",
            "snowballstemmer               2.2.0\n",
            "sortedcontainers              2.4.0\n",
            "SoundFile                     0.10.3.post1\n",
            "spacy                         3.4.1\n",
            "spacy-legacy                  3.0.10\n",
            "spacy-loggers                 1.0.3\n",
            "Sphinx                        1.8.6\n",
            "sphinxcontrib-serializinghtml 1.1.5\n",
            "sphinxcontrib-websupport      1.2.4\n",
            "SQLAlchemy                    1.4.40\n",
            "sqlparse                      0.4.2\n",
            "srsly                         2.4.4\n",
            "statsmodels                   0.12.2\n",
            "sympy                         1.7.1\n",
            "tables                        3.7.0\n",
            "tabulate                      0.8.10\n",
            "tblib                         1.7.0\n",
            "tenacity                      8.0.1\n",
            "tensorboard                   2.8.0\n",
            "tensorboard-data-server       0.6.1\n",
            "tensorboard-plugin-wit        1.8.1\n",
            "tensorflow                    2.8.2+zzzcolab20220719082949\n",
            "tensorflow-datasets           4.6.0\n",
            "tensorflow-estimator          2.8.0\n",
            "tensorflow-gcs-config         2.8.0\n",
            "tensorflow-hub                0.12.0\n",
            "tensorflow-io-gcs-filesystem  0.26.0\n",
            "tensorflow-metadata           1.9.0\n",
            "tensorflow-probability        0.16.0\n",
            "termcolor                     1.1.0\n",
            "terminado                     0.13.3\n",
            "testpath                      0.6.0\n",
            "text-unidecode                1.3\n",
            "textblob                      0.15.3\n",
            "Theano-PyMC                   1.1.2\n",
            "thinc                         8.1.0\n",
            "threadpoolctl                 3.1.0\n",
            "tifffile                      2021.11.2\n",
            "toml                          0.10.2\n",
            "tomli                         2.0.1\n",
            "toolz                         0.12.0\n",
            "torch                         1.12.1+cu113\n",
            "torchaudio                    0.12.1+cu113\n",
            "torchsummary                  1.5.1\n",
            "torchtext                     0.13.1\n",
            "torchvision                   0.13.1+cu113\n",
            "tornado                       5.1.1\n",
            "tqdm                          4.64.0\n",
            "traitlets                     5.1.1\n",
            "tweepy                        3.10.0\n",
            "typeguard                     2.7.1\n",
            "typer                         0.4.2\n",
            "typing-extensions             4.1.1\n",
            "tzlocal                       1.5.1\n",
            "ujson                         5.4.0\n",
            "uritemplate                   3.0.1\n",
            "urllib3                       1.24.3\n",
            "vega-datasets                 0.9.0\n",
            "wasabi                        0.10.1\n",
            "wcwidth                       0.2.5\n",
            "webargs                       8.2.0\n",
            "webencodings                  0.5.1\n",
            "Werkzeug                      1.0.1\n",
            "wheel                         0.37.1\n",
            "widgetsnbextension            3.6.1\n",
            "wordcloud                     1.8.2.2\n",
            "wrapt                         1.14.1\n",
            "xarray                        0.20.2\n",
            "xarray-einstats               0.2.2\n",
            "xgboost                       0.90\n",
            "xkit                          0.0.0\n",
            "xlrd                          1.1.0\n",
            "xlwt                          1.3.0\n",
            "yarl                          1.8.1\n",
            "yellowbrick                   1.4\n",
            "zict                          2.2.0\n",
            "zipp                          3.8.1\n"
          ]
        }
      ],
      "source": [
        "# Afișăm primele 10 pachete instalate\n",
        "!pip list"
      ]
    },
    {
      "cell_type": "markdown",
      "metadata": {
        "id": "HzeURohihvwG"
      },
      "source": [
        "\n",
        "\n",
        "**<font color=\"#1589FF\">System Path</font>**\n",
        "\n",
        "Calea către pachetele externe bibliotecii standard este păstrată în\n",
        "`sys.path `. Această listă de căi este parcursă de interpretor pentru a găsi pachetele referite în cod de către programator.\n",
        "\n",
        "În momentul instalării unui pachet folosind utilitarul `pip`, calea sa este automat adăugată la `sys.path`."
      ]
    },
    {
      "cell_type": "code",
      "source": [
        "import sys\n",
        "print(sys.path)"
      ],
      "metadata": {
        "colab": {
          "base_uri": "https://localhost:8080/"
        },
        "id": "oRP2LKhMBOtm",
        "outputId": "fcb1a149-1d13-451d-9d23-9c37df13963a"
      },
      "execution_count": null,
      "outputs": [
        {
          "output_type": "stream",
          "name": "stdout",
          "text": [
            "['/content', '/env/python', '/usr/lib/python37.zip', '/usr/lib/python3.7', '/usr/lib/python3.7/lib-dynload', '', '/usr/local/lib/python3.7/dist-packages', '/usr/lib/python3/dist-packages', '/usr/local/lib/python3.7/dist-packages/IPython/extensions', '/root/.ipython']\n"
          ]
        }
      ]
    },
    {
      "cell_type": "markdown",
      "source": [
        "Dacă dorim să adăugăm noi o cale proprie, putem folosi funcția append:"
      ],
      "metadata": {
        "id": "1NAj78v2BRs-"
      }
    },
    {
      "cell_type": "code",
      "execution_count": null,
      "metadata": {
        "colab": {
          "base_uri": "https://localhost:8080/"
        },
        "id": "J-YwGMjYhdcU",
        "outputId": "e886c2c9-bd5b-4a45-8925-1cd0d6ba6020"
      },
      "outputs": [
        {
          "output_type": "stream",
          "name": "stdout",
          "text": [
            "['/root/.ipython', '/user/adriana/modul1/']\n"
          ]
        }
      ],
      "source": [
        "sys.path.append('/user/adriana/modul1/')\n",
        "# Afișăm doar ultimele intrări din sys.path pentru a verifica\n",
        "# daca s-a adăugat calea specificata de noi\n",
        "print(sys.path[-2:])"
      ]
    },
    {
      "cell_type": "markdown",
      "metadata": {
        "id": "tSQtxgS9jPrr"
      },
      "source": [
        "###<font color=\"#e8710a\">Python virtual environment (venv)</font>\n",
        "\n",
        "De cele mai multe ori, aplicațiile dezvoltate de programatori necesită instalarea unui set de module externe. În momentul în care aplicațiile sunt transmise către clienți, aceste module trebuie cunoscute și specificate în clar. Iar dacă un programator realizează mai multe aplicații în paralel este utilă separarea mediilor de programare în cadrul aceleiași mașini fizice.\n",
        "\n",
        "Pentru a putea separa mediul de lucru de pe o anumită mașină de dezvoltare, Python pune la dispoziție [**Python virtual environment**](https://docs.python.org/3/library/venv.html#). Acest mediu virtual permite separarea aplicațiilor, astfel încât fiecare dintre acestea să ruleze independent, iar totalitatea modulelor de care depind să fie cunoscută. Este important de specificat aici faptul că orice IDE de dezvoltare Python va crea automat astfel de medii virtuale.\n",
        "\n",
        "Pentru a crea un mediu virtual din linia de comandă putem rula:\n",
        "\n",
        "```\n",
        "python -m venv tutorial-env\n",
        "```\n",
        "\n",
        "S-a creat o mașină virtuală Python denumită `tutorial-env`. Putem activa această mașină prin intermediul:\n",
        "\n",
        "```\n",
        "source tutorial-env/bin/activate\n",
        "```\n",
        "\n",
        "După rularea comenzii, se va crea un director denumit `tutorial-env` ce conține toate sursele necesare și pachetele instalate. După activarea mediului, se va modifica indicatorul liniei de comandă pentru a reflecta mediul virtual utilizat momentan.\n",
        "\n",
        "> **NOTĂ**: Utilizarea mediilor virtuale în Google Colab nu este necesară, deoarece fiecare notebook este un mediu de programare independent."
      ]
    },
    {
      "cell_type": "markdown",
      "metadata": {
        "id": "QJZnH9mvjsMM"
      },
      "source": [
        "###<font color=\"#e8710a\">Fișierul de dependențe (en. *requirements file*)</font>\n",
        "\n",
        "La distribuirea unei aplicații, menționam anterior faptul că este nevoie să se specifice setul de pachete și versiuni ale acestora necesare rulării aplicației.\n",
        "Dacă utilizăm un mediu virtual această listă de pachete poate fi obținută foarte ușor prin comanda:\n"
      ]
    },
    {
      "cell_type": "code",
      "execution_count": null,
      "metadata": {
        "id": "_IGEJMgClDSv"
      },
      "outputs": [],
      "source": [
        "!pip freeze > requirements.txt"
      ]
    },
    {
      "cell_type": "markdown",
      "source": [
        "După rularea comenzii, fișierul `requirements.txt` va conține informație de tipul:\n",
        "\n",
        "<center><img src='https://drive.google.com/uc?export=view&id=1rtUh28Fo3OeVdJXJHZ7UAzmAsjOWIXAU' height=250/></center>\n",
        "\n",
        "Destinatarul final al aplicației poate mai apoi să instaleze automat toate aceste pachete prin instalarea listei de module specificată în fișierul creat. Numele `requirements.txt` nu este impus, dar este o convenție de denumire a sa."
      ],
      "metadata": {
        "id": "gZdbHGHKF7f8"
      }
    },
    {
      "cell_type": "code",
      "source": [
        "# Creăm o lista de pachete\n",
        "%%writefile requirements.txt\n",
        "librosa\n",
        "pywer"
      ],
      "metadata": {
        "colab": {
          "base_uri": "https://localhost:8080/"
        },
        "id": "pA4vYAOQHkLm",
        "outputId": "1ccc7173-5aae-4d4d-b20b-316204ad4e56"
      },
      "execution_count": null,
      "outputs": [
        {
          "output_type": "stream",
          "name": "stdout",
          "text": [
            "Overwriting requirements.txt\n"
          ]
        }
      ]
    },
    {
      "cell_type": "code",
      "source": [
        "!pip install -r requirements.txt"
      ],
      "metadata": {
        "colab": {
          "base_uri": "https://localhost:8080/"
        },
        "id": "6DB19F4DGLDS",
        "outputId": "66003946-ddc2-4c4e-bddf-1cbba10c1b84"
      },
      "execution_count": null,
      "outputs": [
        {
          "output_type": "stream",
          "name": "stdout",
          "text": [
            "Looking in indexes: https://pypi.org/simple, https://us-python.pkg.dev/colab-wheels/public/simple/\n",
            "Collecting librosa\n",
            "  Using cached librosa-0.9.2-py3-none-any.whl (214 kB)\n",
            "Collecting pywer\n",
            "  Downloading pywer-0.1.1-py3-none-any.whl (3.6 kB)\n",
            "Requirement already satisfied: resampy>=0.2.2 in /usr/local/lib/python3.7/dist-packages (from librosa->-r requirements.txt (line 1)) (0.4.0)\n",
            "Requirement already satisfied: pooch>=1.0 in /usr/local/lib/python3.7/dist-packages (from librosa->-r requirements.txt (line 1)) (1.6.0)\n",
            "Requirement already satisfied: soundfile>=0.10.2 in /usr/local/lib/python3.7/dist-packages (from librosa->-r requirements.txt (line 1)) (0.10.3.post1)\n",
            "Requirement already satisfied: numpy>=1.17.0 in /usr/local/lib/python3.7/dist-packages (from librosa->-r requirements.txt (line 1)) (1.21.6)\n",
            "Requirement already satisfied: decorator>=4.0.10 in /usr/local/lib/python3.7/dist-packages (from librosa->-r requirements.txt (line 1)) (4.4.2)\n",
            "Requirement already satisfied: scikit-learn>=0.19.1 in /usr/local/lib/python3.7/dist-packages (from librosa->-r requirements.txt (line 1)) (1.0.2)\n",
            "Requirement already satisfied: packaging>=20.0 in /usr/local/lib/python3.7/dist-packages (from librosa->-r requirements.txt (line 1)) (21.3)\n",
            "Requirement already satisfied: audioread>=2.1.9 in /usr/local/lib/python3.7/dist-packages (from librosa->-r requirements.txt (line 1)) (3.0.0)\n",
            "Requirement already satisfied: numba>=0.45.1 in /usr/local/lib/python3.7/dist-packages (from librosa->-r requirements.txt (line 1)) (0.56.0)\n",
            "Requirement already satisfied: joblib>=0.14 in /usr/local/lib/python3.7/dist-packages (from librosa->-r requirements.txt (line 1)) (1.1.0)\n",
            "Requirement already satisfied: scipy>=1.2.0 in /usr/local/lib/python3.7/dist-packages (from librosa->-r requirements.txt (line 1)) (1.7.3)\n",
            "Requirement already satisfied: llvmlite<0.40,>=0.39.0dev0 in /usr/local/lib/python3.7/dist-packages (from numba>=0.45.1->librosa->-r requirements.txt (line 1)) (0.39.0)\n",
            "Requirement already satisfied: setuptools in /usr/local/lib/python3.7/dist-packages (from numba>=0.45.1->librosa->-r requirements.txt (line 1)) (57.4.0)\n",
            "Requirement already satisfied: importlib-metadata in /usr/local/lib/python3.7/dist-packages (from numba>=0.45.1->librosa->-r requirements.txt (line 1)) (4.12.0)\n",
            "Requirement already satisfied: pyparsing!=3.0.5,>=2.0.2 in /usr/local/lib/python3.7/dist-packages (from packaging>=20.0->librosa->-r requirements.txt (line 1)) (3.0.9)\n",
            "Requirement already satisfied: appdirs>=1.3.0 in /usr/local/lib/python3.7/dist-packages (from pooch>=1.0->librosa->-r requirements.txt (line 1)) (1.4.4)\n",
            "Requirement already satisfied: requests>=2.19.0 in /usr/local/lib/python3.7/dist-packages (from pooch>=1.0->librosa->-r requirements.txt (line 1)) (2.23.0)\n",
            "Requirement already satisfied: certifi>=2017.4.17 in /usr/local/lib/python3.7/dist-packages (from requests>=2.19.0->pooch>=1.0->librosa->-r requirements.txt (line 1)) (2022.6.15)\n",
            "Requirement already satisfied: urllib3!=1.25.0,!=1.25.1,<1.26,>=1.21.1 in /usr/local/lib/python3.7/dist-packages (from requests>=2.19.0->pooch>=1.0->librosa->-r requirements.txt (line 1)) (1.24.3)\n",
            "Requirement already satisfied: idna<3,>=2.5 in /usr/local/lib/python3.7/dist-packages (from requests>=2.19.0->pooch>=1.0->librosa->-r requirements.txt (line 1)) (2.10)\n",
            "Requirement already satisfied: chardet<4,>=3.0.2 in /usr/local/lib/python3.7/dist-packages (from requests>=2.19.0->pooch>=1.0->librosa->-r requirements.txt (line 1)) (3.0.4)\n",
            "Requirement already satisfied: threadpoolctl>=2.0.0 in /usr/local/lib/python3.7/dist-packages (from scikit-learn>=0.19.1->librosa->-r requirements.txt (line 1)) (3.1.0)\n",
            "Requirement already satisfied: cffi>=1.0 in /usr/local/lib/python3.7/dist-packages (from soundfile>=0.10.2->librosa->-r requirements.txt (line 1)) (1.15.1)\n",
            "Requirement already satisfied: pycparser in /usr/local/lib/python3.7/dist-packages (from cffi>=1.0->soundfile>=0.10.2->librosa->-r requirements.txt (line 1)) (2.21)\n",
            "Requirement already satisfied: editdistance in /usr/local/lib/python3.7/dist-packages (from pywer->-r requirements.txt (line 2)) (0.5.3)\n",
            "Requirement already satisfied: zipp>=0.5 in /usr/local/lib/python3.7/dist-packages (from importlib-metadata->numba>=0.45.1->librosa->-r requirements.txt (line 1)) (3.8.1)\n",
            "Requirement already satisfied: typing-extensions>=3.6.4 in /usr/local/lib/python3.7/dist-packages (from importlib-metadata->numba>=0.45.1->librosa->-r requirements.txt (line 1)) (4.1.1)\n",
            "Installing collected packages: pywer, librosa\n",
            "Successfully installed librosa-0.9.2 pywer-0.1.1\n"
          ]
        }
      ]
    },
    {
      "cell_type": "markdown",
      "metadata": {
        "id": "kf36thL-lFvk"
      },
      "source": [
        "\n",
        "###<font color=\"#e8710a\">Documentația codului (en. *docstrings*)</font>\n",
        "\n",
        "Orice cod scris în mod profesional trebuie să conțină o documentație aferentă. Cel mai ușor de redactat această documentație este atunci când ea rezidă direct în cod. Din acest punct de vedere, Python permite crearea documentației prin scrierea ca prime instrucțiuni în cadrul modulelor, claselor sau funcțiilor a unor explicații privind utilizarea lor sub forma unui comentariu încadrat de ghilimele triple `\"\"\"`.\n",
        "\n",
        "Aceste instrucțiuni devin automat atributul `__doc__` al acelui modul/clasă/funcție."
      ]
    },
    {
      "cell_type": "code",
      "execution_count": null,
      "metadata": {
        "colab": {
          "base_uri": "https://localhost:8080/"
        },
        "id": "NTcXoe2bjO3X",
        "outputId": "b96f3578-4557-46fd-adb5-ec5907a9908f"
      },
      "outputs": [
        {
          "output_type": "stream",
          "name": "stdout",
          "text": [
            "Writing moduldoc.py\n"
          ]
        }
      ],
      "source": [
        "%%writefile moduldoc.py\n",
        "\"\"\"Documentația modulului\"\"\"\n",
        "class Clasa:\n",
        "    \"\"\"Documentația clasei\"\"\"\n",
        "    def metoda(self):\n",
        "        \"\"\"Documentația metodei\"\"\"\n",
        "def functia():\n",
        "    \"\"\"Documentația funcției\"\"\""
      ]
    },
    {
      "cell_type": "code",
      "execution_count": null,
      "metadata": {
        "colab": {
          "base_uri": "https://localhost:8080/"
        },
        "id": "nkHg2OISjKi3",
        "outputId": "9c1f2119-1979-4dd0-c453-6709aed20269"
      },
      "outputs": [
        {
          "output_type": "stream",
          "name": "stdout",
          "text": [
            "Help on module moduldoc:\n",
            "\n",
            "NAME\n",
            "    moduldoc - Documentația modulului\n",
            "\n",
            "CLASSES\n",
            "    builtins.object\n",
            "        Clasa\n",
            "    \n",
            "    class Clasa(builtins.object)\n",
            "     |  Documentația clasei\n",
            "     |  \n",
            "     |  Methods defined here:\n",
            "     |  \n",
            "     |  metoda(self)\n",
            "     |      Documentația metodei\n",
            "     |  \n",
            "     |  ----------------------------------------------------------------------\n",
            "     |  Data descriptors defined here:\n",
            "     |  \n",
            "     |  __dict__\n",
            "     |      dictionary for instance variables (if defined)\n",
            "     |  \n",
            "     |  __weakref__\n",
            "     |      list of weak references to the object (if defined)\n",
            "\n",
            "FUNCTIONS\n",
            "    functia()\n",
            "        Documentația funcției\n",
            "\n",
            "FILE\n",
            "    /content/moduldoc.py\n",
            "\n",
            "\n"
          ]
        }
      ],
      "source": [
        "import moduldoc\n",
        "help(moduldoc)"
      ]
    },
    {
      "cell_type": "code",
      "execution_count": null,
      "metadata": {
        "colab": {
          "base_uri": "https://localhost:8080/"
        },
        "id": "EoLvHGaWkbBM",
        "outputId": "3c159596-d521-4e8c-e78f-4a74f89c8646"
      },
      "outputs": [
        {
          "output_type": "stream",
          "name": "stdout",
          "text": [
            "Help on class Clasa in module moduldoc:\n",
            "\n",
            "class Clasa(builtins.object)\n",
            " |  Documentația clasei\n",
            " |  \n",
            " |  Methods defined here:\n",
            " |  \n",
            " |  metoda(self)\n",
            " |      Documentația metodei\n",
            " |  \n",
            " |  ----------------------------------------------------------------------\n",
            " |  Data descriptors defined here:\n",
            " |  \n",
            " |  __dict__\n",
            " |      dictionary for instance variables (if defined)\n",
            " |  \n",
            " |  __weakref__\n",
            " |      list of weak references to the object (if defined)\n",
            "\n"
          ]
        }
      ],
      "source": [
        "help(moduldoc.Clasa)"
      ]
    },
    {
      "cell_type": "code",
      "execution_count": null,
      "metadata": {
        "colab": {
          "base_uri": "https://localhost:8080/"
        },
        "id": "L291Cx4ekd6S",
        "outputId": "f0f9a2fd-459a-405c-d967-a373a22b23fc"
      },
      "outputs": [
        {
          "output_type": "stream",
          "name": "stdout",
          "text": [
            "Help on function metoda in module moduldoc:\n",
            "\n",
            "metoda(self)\n",
            "    Documentația metodei\n",
            "\n"
          ]
        }
      ],
      "source": [
        "help(moduldoc.Clasa.metoda)"
      ]
    },
    {
      "cell_type": "code",
      "execution_count": null,
      "metadata": {
        "colab": {
          "base_uri": "https://localhost:8080/"
        },
        "id": "OoFTIyJvkg9L",
        "outputId": "969f43e4-f2cf-464a-92e9-95fad752ff55"
      },
      "outputs": [
        {
          "output_type": "stream",
          "name": "stdout",
          "text": [
            "Help on function functia in module moduldoc:\n",
            "\n",
            "functia()\n",
            "    Documentația funcției\n",
            "\n"
          ]
        }
      ],
      "source": [
        "help(moduldoc.functia)"
      ]
    },
    {
      "cell_type": "markdown",
      "source": [
        "---\n",
        "\n",
        "## <font color=\"#e8710a\">Concluzii</font>\n",
        "\n",
        "În acest tutorial am realizat o introducere destul de abruptă asupra noțiunilor fundamentale ale limbajului Python și a modului de redactare și organizare a codului. Vom reveni în detaliu asupra majorității acestor aspecte în tutorialele următoare, însă considerăm importantă o viziune globală a lucrurilor pe care trebuie să le aprofundăm și la fel de importantă posibilitatea de a redacta cod Python minimal cât mai rapir.\n",
        "\n",
        "Este important de remarcat simplitatea redactării codului și a organizării acestuia, fapt ce îl face unul dintre cele mai ușor de învățat și utilizat limbaje de programare."
      ],
      "metadata": {
        "id": "Xx60q1MCk4V5"
      }
    },
    {
      "cell_type": "markdown",
      "metadata": {
        "id": "QRxzWsqKkLg0"
      },
      "source": [
        "---\n",
        "\n",
        "##<font color=\"#1589FF\"> Exerciții</font>\n",
        "\n",
        "1) Definiți un obiect de tip `float` și verificați cu ajutorul funcției `id()` faptul că este de tip **imutabil**."
      ]
    },
    {
      "cell_type": "code",
      "source": [
        "## REZOLVARE EX. 1\n",
        "\n",
        "a= 3.34\n",
        "print(hex(id(a)))\n",
        "print(hex(id(a)))\n",
        "\n"
      ],
      "metadata": {
        "id": "nlwC9NZHWvA1",
        "outputId": "6c78c13b-2cd0-4b93-b13a-8037d743de9e",
        "colab": {
          "base_uri": "https://localhost:8080/"
        }
      },
      "execution_count": 5,
      "outputs": [
        {
          "output_type": "stream",
          "name": "stdout",
          "text": [
            "0x7b8a33b28110\n",
            "0x7b8a33b28110\n"
          ]
        }
      ]
    },
    {
      "cell_type": "markdown",
      "source": [
        "2) Consultați lista de metode predefinite ale obiectului de tip `float` definit în exercițiul 1. Verificați programatic dacă metoda `split()` face parte din această listă."
      ],
      "metadata": {
        "id": "WFvUgOIcWvJK"
      }
    },
    {
      "cell_type": "code",
      "source": [
        "\n",
        "## REZOLVARE EX. 2\n",
        "if('__split__' in  dir(a)) :\n",
        "             print(\"Da\")\n",
        "else :\n",
        "    print(\"Nu\")\n",
        "\n",
        "print(dir(a))"
      ],
      "metadata": {
        "id": "cTXcF-IaWwab",
        "outputId": "7e6c9caa-19bc-432b-b055-5840074b8f6b",
        "colab": {
          "base_uri": "https://localhost:8080/"
        }
      },
      "execution_count": 89,
      "outputs": [
        {
          "output_type": "stream",
          "name": "stdout",
          "text": [
            "Nu\n",
            "['__abs__', '__add__', '__bool__', '__ceil__', '__class__', '__delattr__', '__dir__', '__divmod__', '__doc__', '__eq__', '__float__', '__floor__', '__floordiv__', '__format__', '__ge__', '__getattribute__', '__getformat__', '__getnewargs__', '__gt__', '__hash__', '__init__', '__init_subclass__', '__int__', '__le__', '__lt__', '__mod__', '__mul__', '__ne__', '__neg__', '__new__', '__pos__', '__pow__', '__radd__', '__rdivmod__', '__reduce__', '__reduce_ex__', '__repr__', '__rfloordiv__', '__rmod__', '__rmul__', '__round__', '__rpow__', '__rsub__', '__rtruediv__', '__setattr__', '__setformat__', '__sizeof__', '__str__', '__sub__', '__subclasshook__', '__truediv__', '__trunc__', 'as_integer_ratio', 'conjugate', 'fromhex', 'hex', 'imag', 'is_integer', 'real']\n"
          ]
        }
      ]
    },
    {
      "cell_type": "markdown",
      "source": [
        "3) Afișați la ecran documentația funcției `split()` a unui șir de caractere.\n"
      ],
      "metadata": {
        "id": "vwLe9nunWw3v"
      }
    },
    {
      "cell_type": "code",
      "source": [
        "## REZOLVARE EX. 3\n",
        "str_1 = \"Bar\"\n",
        "help(str_1.split)"
      ],
      "metadata": {
        "id": "SknWSKOtWx6T",
        "outputId": "6f75d33c-ff6f-48f9-ebc0-1f54a65c89ce",
        "colab": {
          "base_uri": "https://localhost:8080/"
        }
      },
      "execution_count": 82,
      "outputs": [
        {
          "output_type": "stream",
          "name": "stdout",
          "text": [
            "Help on built-in function split:\n",
            "\n",
            "split(sep=None, maxsplit=-1) method of builtins.str instance\n",
            "    Return a list of the substrings in the string, using sep as the separator string.\n",
            "    \n",
            "      sep\n",
            "        The separator used to split the string.\n",
            "    \n",
            "        When set to None (the default value), will split on any whitespace\n",
            "        character (including \\\\n \\\\r \\\\t \\\\f and spaces) and will discard\n",
            "        empty strings from the result.\n",
            "      maxsplit\n",
            "        Maximum number of splits (starting from the left).\n",
            "        -1 (the default value) means no limit.\n",
            "    \n",
            "    Note, str.split() is mainly useful for data that has been intentionally\n",
            "    delimited.  With natural text that includes punctuation, consider using\n",
            "    the regular expression module.\n",
            "\n"
          ]
        }
      ]
    },
    {
      "cell_type": "markdown",
      "source": [
        "4) Instalați pachetul `flask` folosind `pip`. Verificați că instalarea a avut succes folosind `!pip list`.\n"
      ],
      "metadata": {
        "id": "gOJ8UOoNWyCg"
      }
    },
    {
      "cell_type": "code",
      "source": [
        "## REZOLVARE EX. 4\n",
        "\n",
        "!pip.install flask\n",
        "!pip list"
      ],
      "metadata": {
        "id": "QyF2LqfLWzCj",
        "outputId": "033dfce1-8a0a-4fb5-a978-088ba0ec7c1c",
        "colab": {
          "base_uri": "https://localhost:8080/"
        }
      },
      "execution_count": 97,
      "outputs": [
        {
          "output_type": "stream",
          "name": "stdout",
          "text": [
            "/bin/bash: line 1: pip.install: command not found\n",
            "Package                          Version\n",
            "-------------------------------- ---------------------\n",
            "absl-py                          1.4.0\n",
            "aiohttp                          3.8.6\n",
            "aiosignal                        1.3.1\n",
            "alabaster                        0.7.13\n",
            "albumentations                   1.3.1\n",
            "altair                           4.2.2\n",
            "anyio                            3.7.1\n",
            "appdirs                          1.4.4\n",
            "argon2-cffi                      23.1.0\n",
            "argon2-cffi-bindings             21.2.0\n",
            "array-record                     0.4.1\n",
            "arviz                            0.15.1\n",
            "astropy                          5.3.4\n",
            "astunparse                       1.6.3\n",
            "async-timeout                    4.0.3\n",
            "atpublic                         4.0\n",
            "attrs                            23.1.0\n",
            "audioread                        3.0.1\n",
            "autograd                         1.6.2\n",
            "Babel                            2.13.0\n",
            "backcall                         0.2.0\n",
            "beautifulsoup4                   4.11.2\n",
            "bidict                           0.22.1\n",
            "bigframes                        0.8.0\n",
            "bleach                           6.1.0\n",
            "blinker                          1.4\n",
            "blis                             0.7.11\n",
            "blosc2                           2.0.0\n",
            "bokeh                            3.2.2\n",
            "bqplot                           0.12.42\n",
            "branca                           0.6.0\n",
            "build                            1.0.3\n",
            "CacheControl                     0.13.1\n",
            "cachetools                       5.3.1\n",
            "catalogue                        2.0.10\n",
            "certifi                          2023.7.22\n",
            "cffi                             1.16.0\n",
            "chardet                          5.2.0\n",
            "charset-normalizer               3.3.0\n",
            "chex                             0.1.7\n",
            "click                            8.1.7\n",
            "click-plugins                    1.1.1\n",
            "cligj                            0.7.2\n",
            "cloudpickle                      2.2.1\n",
            "cmake                            3.27.7\n",
            "cmdstanpy                        1.2.0\n",
            "colorcet                         3.0.1\n",
            "colorlover                       0.3.0\n",
            "colour                           0.1.5\n",
            "community                        1.0.0b1\n",
            "confection                       0.1.3\n",
            "cons                             0.4.6\n",
            "contextlib2                      21.6.0\n",
            "contourpy                        1.1.1\n",
            "cryptography                     41.0.4\n",
            "cufflinks                        0.17.3\n",
            "cupy-cuda11x                     11.0.0\n",
            "cvxopt                           1.3.2\n",
            "cvxpy                            1.3.2\n",
            "cycler                           0.12.1\n",
            "cymem                            2.0.8\n",
            "Cython                           3.0.4\n",
            "dask                             2023.8.1\n",
            "datascience                      0.17.6\n",
            "db-dtypes                        1.1.1\n",
            "dbus-python                      1.2.18\n",
            "debugpy                          1.6.6\n",
            "decorator                        4.4.2\n",
            "defusedxml                       0.7.1\n",
            "diskcache                        5.6.3\n",
            "distributed                      2023.8.1\n",
            "distro                           1.7.0\n",
            "dlib                             19.24.2\n",
            "dm-tree                          0.1.8\n",
            "docutils                         0.18.1\n",
            "dopamine-rl                      4.0.6\n",
            "duckdb                           0.8.1\n",
            "earthengine-api                  0.1.374\n",
            "easydict                         1.10\n",
            "ecos                             2.0.12\n",
            "editdistance                     0.6.2\n",
            "eerepr                           0.0.4\n",
            "en-core-web-sm                   3.6.0\n",
            "entrypoints                      0.4\n",
            "et-xmlfile                       1.1.0\n",
            "etils                            1.5.1\n",
            "etuples                          0.3.9\n",
            "exceptiongroup                   1.1.3\n",
            "fastai                           2.7.13\n",
            "fastcore                         1.5.29\n",
            "fastdownload                     0.0.7\n",
            "fastjsonschema                   2.18.1\n",
            "fastprogress                     1.0.3\n",
            "fastrlock                        0.8.2\n",
            "filelock                         3.12.4\n",
            "fiona                            1.9.5\n",
            "firebase-admin                   5.3.0\n",
            "Flask                            2.2.5\n",
            "flatbuffers                      23.5.26\n",
            "flax                             0.7.4\n",
            "folium                           0.14.0\n",
            "fonttools                        4.43.1\n",
            "frozendict                       2.3.8\n",
            "frozenlist                       1.4.0\n",
            "fsspec                           2023.6.0\n",
            "future                           0.18.3\n",
            "gast                             0.4.0\n",
            "gcsfs                            2023.6.0\n",
            "GDAL                             3.4.3\n",
            "gdown                            4.6.6\n",
            "geemap                           0.28.2\n",
            "gensim                           4.3.2\n",
            "geocoder                         1.38.1\n",
            "geographiclib                    2.0\n",
            "geopandas                        0.13.2\n",
            "geopy                            2.3.0\n",
            "gin-config                       0.5.0\n",
            "glob2                            0.7\n",
            "google                           2.0.3\n",
            "google-api-core                  2.11.1\n",
            "google-api-python-client         2.84.0\n",
            "google-auth                      2.17.3\n",
            "google-auth-httplib2             0.1.1\n",
            "google-auth-oauthlib             1.0.0\n",
            "google-cloud-bigquery            3.10.0\n",
            "google-cloud-bigquery-connection 1.12.1\n",
            "google-cloud-bigquery-storage    2.22.0\n",
            "google-cloud-core                2.3.3\n",
            "google-cloud-datastore           2.15.2\n",
            "google-cloud-firestore           2.11.1\n",
            "google-cloud-functions           1.13.3\n",
            "google-cloud-iam                 2.12.2\n",
            "google-cloud-language            2.9.1\n",
            "google-cloud-resource-manager    1.10.4\n",
            "google-cloud-storage             2.8.0\n",
            "google-cloud-translate           3.11.3\n",
            "google-colab                     1.0.0\n",
            "google-crc32c                    1.5.0\n",
            "google-pasta                     0.2.0\n",
            "google-resumable-media           2.6.0\n",
            "googleapis-common-protos         1.61.0\n",
            "googledrivedownloader            0.4\n",
            "graphviz                         0.20.1\n",
            "greenlet                         3.0.0\n",
            "grpc-google-iam-v1               0.12.6\n",
            "grpcio                           1.59.0\n",
            "grpcio-status                    1.48.2\n",
            "gspread                          3.4.2\n",
            "gspread-dataframe                3.3.1\n",
            "gym                              0.25.2\n",
            "gym-notices                      0.0.8\n",
            "h5netcdf                         1.2.0\n",
            "h5py                             3.9.0\n",
            "holidays                         0.35\n",
            "holoviews                        1.17.1\n",
            "html5lib                         1.1\n",
            "httpimport                       1.3.1\n",
            "httplib2                         0.22.0\n",
            "humanize                         4.7.0\n",
            "hyperopt                         0.2.7\n",
            "ibis-framework                   6.2.0\n",
            "idna                             3.4\n",
            "imageio                          2.31.5\n",
            "imageio-ffmpeg                   0.4.9\n",
            "imagesize                        1.4.1\n",
            "imbalanced-learn                 0.10.1\n",
            "imgaug                           0.4.0\n",
            "importlib-metadata               6.8.0\n",
            "importlib-resources              6.1.0\n",
            "imutils                          0.5.4\n",
            "inflect                          7.0.0\n",
            "iniconfig                        2.0.0\n",
            "install                          1.3.5\n",
            "intel-openmp                     2023.2.0\n",
            "ipyevents                        2.0.2\n",
            "ipyfilechooser                   0.6.0\n",
            "ipykernel                        5.5.6\n",
            "ipyleaflet                       0.17.4\n",
            "ipython                          7.34.0\n",
            "ipython-genutils                 0.2.0\n",
            "ipython-sql                      0.5.0\n",
            "ipytree                          0.2.2\n",
            "ipywidgets                       7.7.1\n",
            "itsdangerous                     2.1.2\n",
            "jax                              0.4.16\n",
            "jaxlib                           0.4.16+cuda11.cudnn86\n",
            "jeepney                          0.7.1\n",
            "jieba                            0.42.1\n",
            "Jinja2                           3.1.2\n",
            "joblib                           1.3.2\n",
            "jsonpickle                       3.0.2\n",
            "jsonschema                       4.19.1\n",
            "jsonschema-specifications        2023.7.1\n",
            "jupyter-client                   6.1.12\n",
            "jupyter-console                  6.1.0\n",
            "jupyter_core                     5.4.0\n",
            "jupyter-server                   1.24.0\n",
            "jupyterlab-pygments              0.2.2\n",
            "jupyterlab-widgets               3.0.9\n",
            "kaggle                           1.5.16\n",
            "keras                            2.13.1\n",
            "keyring                          23.5.0\n",
            "kiwisolver                       1.4.5\n",
            "langcodes                        3.3.0\n",
            "launchpadlib                     1.10.16\n",
            "lazr.restfulclient               0.14.4\n",
            "lazr.uri                         1.0.6\n",
            "lazy_loader                      0.3\n",
            "libclang                         16.0.6\n",
            "librosa                          0.10.1\n",
            "lida                             0.0.10\n",
            "lightgbm                         4.0.0\n",
            "linkify-it-py                    2.0.2\n",
            "llmx                             0.0.15a0\n",
            "llvmlite                         0.39.1\n",
            "locket                           1.0.0\n",
            "logical-unification              0.4.6\n",
            "lxml                             4.9.3\n",
            "malloy                           2023.1056\n",
            "Markdown                         3.5\n",
            "markdown-it-py                   3.0.0\n",
            "MarkupSafe                       2.1.3\n",
            "matplotlib                       3.7.1\n",
            "matplotlib-inline                0.1.6\n",
            "matplotlib-venn                  0.11.9\n",
            "mdit-py-plugins                  0.4.0\n",
            "mdurl                            0.1.2\n",
            "miniKanren                       1.0.3\n",
            "missingno                        0.5.2\n",
            "mistune                          0.8.4\n",
            "mizani                           0.9.3\n",
            "mkl                              2023.2.0\n",
            "ml-dtypes                        0.3.1\n",
            "mlxtend                          0.22.0\n",
            "more-itertools                   10.1.0\n",
            "moviepy                          1.0.3\n",
            "mpmath                           1.3.0\n",
            "msgpack                          1.0.7\n",
            "multidict                        6.0.4\n",
            "multipledispatch                 1.0.0\n",
            "multitasking                     0.0.11\n",
            "murmurhash                       1.0.10\n",
            "music21                          9.1.0\n",
            "natsort                          8.4.0\n",
            "nbclassic                        1.0.0\n",
            "nbclient                         0.8.0\n",
            "nbconvert                        6.5.4\n",
            "nbformat                         5.9.2\n",
            "nest-asyncio                     1.5.8\n",
            "networkx                         3.1\n",
            "nibabel                          4.0.2\n",
            "nltk                             3.8.1\n",
            "notebook                         6.5.5\n",
            "notebook_shim                    0.2.3\n",
            "numba                            0.56.4\n",
            "numexpr                          2.8.7\n",
            "numpy                            1.23.5\n",
            "oauth2client                     4.1.3\n",
            "oauthlib                         3.2.2\n",
            "opencv-contrib-python            4.8.0.76\n",
            "opencv-python                    4.8.0.76\n",
            "opencv-python-headless           4.8.1.78\n",
            "openpyxl                         3.1.2\n",
            "opt-einsum                       3.3.0\n",
            "optax                            0.1.7\n",
            "orbax-checkpoint                 0.4.1\n",
            "osqp                             0.6.2.post8\n",
            "packaging                        23.2\n",
            "pandas                           1.5.3\n",
            "pandas-datareader                0.10.0\n",
            "pandas-gbq                       0.17.9\n",
            "pandas-stubs                     1.5.3.230304\n",
            "pandocfilters                    1.5.0\n",
            "panel                            1.2.3\n",
            "param                            1.13.0\n",
            "parso                            0.8.3\n",
            "parsy                            2.1\n",
            "partd                            1.4.1\n",
            "pathlib                          1.0.1\n",
            "pathy                            0.10.2\n",
            "patsy                            0.5.3\n",
            "peewee                           3.17.0\n",
            "pexpect                          4.8.0\n",
            "pickleshare                      0.7.5\n",
            "Pillow                           9.4.0\n",
            "pip                              23.1.2\n",
            "pip-tools                        6.13.0\n",
            "platformdirs                     3.11.0\n",
            "plotly                           5.15.0\n",
            "plotnine                         0.12.3\n",
            "pluggy                           1.3.0\n",
            "polars                           0.17.3\n",
            "pooch                            1.7.0\n",
            "portpicker                       1.5.2\n",
            "prefetch-generator               1.0.3\n",
            "preshed                          3.0.9\n",
            "prettytable                      3.9.0\n",
            "proglog                          0.1.10\n",
            "progressbar2                     4.2.0\n",
            "prometheus-client                0.17.1\n",
            "promise                          2.3\n",
            "prompt-toolkit                   3.0.39\n",
            "prophet                          1.1.5\n",
            "proto-plus                       1.22.3\n",
            "protobuf                         3.20.3\n",
            "psutil                           5.9.5\n",
            "psycopg2                         2.9.9\n",
            "ptyprocess                       0.7.0\n",
            "py-cpuinfo                       9.0.0\n",
            "py4j                             0.10.9.7\n",
            "pyarrow                          9.0.0\n",
            "pyasn1                           0.5.0\n",
            "pyasn1-modules                   0.3.0\n",
            "pycocotools                      2.0.7\n",
            "pycparser                        2.21\n",
            "pyct                             0.5.0\n",
            "pydantic                         1.10.13\n",
            "pydata-google-auth               1.8.2\n",
            "pydot                            1.4.2\n",
            "pydot-ng                         2.0.0\n",
            "pydotplus                        2.0.2\n",
            "PyDrive                          1.3.1\n",
            "PyDrive2                         1.6.3\n",
            "pyerfa                           2.0.1\n",
            "pygame                           2.5.2\n",
            "Pygments                         2.16.1\n",
            "PyGObject                        3.42.1\n",
            "PyJWT                            2.3.0\n",
            "pymc                             5.7.2\n",
            "pymystem3                        0.2.0\n",
            "PyOpenGL                         3.1.7\n",
            "pyOpenSSL                        23.2.0\n",
            "pyparsing                        3.1.1\n",
            "pyperclip                        1.8.2\n",
            "pyproj                           3.6.1\n",
            "pyproject_hooks                  1.0.0\n",
            "pyshp                            2.3.1\n",
            "PySocks                          1.7.1\n",
            "pytensor                         2.14.2\n",
            "pytest                           7.4.2\n",
            "python-apt                       0.0.0\n",
            "python-box                       7.1.1\n",
            "python-dateutil                  2.8.2\n",
            "python-louvain                   0.16\n",
            "python-slugify                   8.0.1\n",
            "python-utils                     3.8.1\n",
            "pytz                             2023.3.post1\n",
            "pyviz_comms                      3.0.0\n",
            "PyWavelets                       1.4.1\n",
            "PyYAML                           6.0.1\n",
            "pyzmq                            23.2.1\n",
            "qdldl                            0.1.7.post0\n",
            "qudida                           0.0.4\n",
            "ratelim                          0.1.6\n",
            "referencing                      0.30.2\n",
            "regex                            2023.6.3\n",
            "requests                         2.31.0\n",
            "requests-oauthlib                1.3.1\n",
            "requirements-parser              0.5.0\n",
            "rich                             13.6.0\n",
            "rpds-py                          0.10.6\n",
            "rpy2                             3.4.2\n",
            "rsa                              4.9\n",
            "scikit-image                     0.19.3\n",
            "scikit-learn                     1.2.2\n",
            "scipy                            1.11.3\n",
            "scooby                           0.7.4\n",
            "scs                              3.2.3\n",
            "seaborn                          0.12.2\n",
            "SecretStorage                    3.3.1\n",
            "Send2Trash                       1.8.2\n",
            "setuptools                       67.7.2\n",
            "shapely                          2.0.2\n",
            "six                              1.16.0\n",
            "sklearn-pandas                   2.2.0\n",
            "smart-open                       6.4.0\n",
            "sniffio                          1.3.0\n",
            "snowballstemmer                  2.2.0\n",
            "sortedcontainers                 2.4.0\n",
            "soundfile                        0.12.1\n",
            "soupsieve                        2.5\n",
            "soxr                             0.3.7\n",
            "spacy                            3.6.1\n",
            "spacy-legacy                     3.0.12\n",
            "spacy-loggers                    1.0.5\n",
            "Sphinx                           5.0.2\n",
            "sphinxcontrib-applehelp          1.0.7\n",
            "sphinxcontrib-devhelp            1.0.5\n",
            "sphinxcontrib-htmlhelp           2.0.4\n",
            "sphinxcontrib-jsmath             1.0.1\n",
            "sphinxcontrib-qthelp             1.0.6\n",
            "sphinxcontrib-serializinghtml    1.1.9\n",
            "SQLAlchemy                       2.0.22\n",
            "sqlglot                          17.16.2\n",
            "sqlparse                         0.4.4\n",
            "srsly                            2.4.8\n",
            "stanio                           0.3.0\n",
            "statsmodels                      0.14.0\n",
            "sympy                            1.12\n",
            "tables                           3.8.0\n",
            "tabulate                         0.9.0\n",
            "tbb                              2021.10.0\n",
            "tblib                            2.0.0\n",
            "tenacity                         8.2.3\n",
            "tensorboard                      2.13.0\n",
            "tensorboard-data-server          0.7.1\n",
            "tensorflow                       2.13.0\n",
            "tensorflow-datasets              4.9.3\n",
            "tensorflow-estimator             2.13.0\n",
            "tensorflow-gcs-config            2.13.0\n",
            "tensorflow-hub                   0.15.0\n",
            "tensorflow-io-gcs-filesystem     0.34.0\n",
            "tensorflow-metadata              1.14.0\n",
            "tensorflow-probability           0.20.1\n",
            "tensorstore                      0.1.45\n",
            "termcolor                        2.3.0\n",
            "terminado                        0.17.1\n",
            "text-unidecode                   1.3\n",
            "textblob                         0.17.1\n",
            "tf-slim                          1.1.0\n",
            "thinc                            8.1.12\n",
            "threadpoolctl                    3.2.0\n",
            "tifffile                         2023.9.26\n",
            "tinycss2                         1.2.1\n",
            "toml                             0.10.2\n",
            "tomli                            2.0.1\n",
            "toolz                            0.12.0\n",
            "torch                            2.1.0+cu118\n",
            "torchaudio                       2.1.0+cu118\n",
            "torchdata                        0.7.0\n",
            "torchsummary                     1.5.1\n",
            "torchtext                        0.16.0\n",
            "torchvision                      0.16.0+cu118\n",
            "tornado                          6.3.2\n",
            "tqdm                             4.66.1\n",
            "traitlets                        5.7.1\n",
            "traittypes                       0.2.1\n",
            "triton                           2.1.0\n",
            "tweepy                           4.13.0\n",
            "typer                            0.9.0\n",
            "types-pytz                       2023.3.1.1\n",
            "types-setuptools                 68.2.0.0\n",
            "typing_extensions                4.5.0\n",
            "tzlocal                          5.1\n",
            "uc-micro-py                      1.0.2\n",
            "uritemplate                      4.1.1\n",
            "urllib3                          2.0.7\n",
            "vega-datasets                    0.9.0\n",
            "wadllib                          1.3.6\n",
            "wasabi                           1.1.2\n",
            "wcwidth                          0.2.8\n",
            "webcolors                        1.13\n",
            "webencodings                     0.5.1\n",
            "websocket-client                 1.6.4\n",
            "Werkzeug                         3.0.0\n",
            "wheel                            0.41.2\n",
            "widgetsnbextension               3.6.6\n",
            "wordcloud                        1.9.2\n",
            "wrapt                            1.15.0\n",
            "xarray                           2023.7.0\n",
            "xarray-einstats                  0.6.0\n",
            "xgboost                          2.0.0\n",
            "xlrd                             2.0.1\n",
            "xxhash                           3.4.1\n",
            "xyzservices                      2023.10.0\n",
            "yarl                             1.9.2\n",
            "yellowbrick                      1.5\n",
            "yfinance                         0.2.31\n",
            "zict                             3.0.0\n",
            "zipp                             3.17.0\n"
          ]
        }
      ]
    },
    {
      "cell_type": "markdown",
      "source": [
        "5) Salvați lista pachetelor instalate pentru notebook-ul curent într-un fișier numit `requirements-notebook.txt` folosind `!pip freeze`.\n"
      ],
      "metadata": {
        "id": "5h5HG1sFWzv-"
      }
    },
    {
      "cell_type": "code",
      "source": [
        "## REZOLVARE EX. 5\n",
        "!pip freeze > requirements-notebook.txt\n"
      ],
      "metadata": {
        "id": "RYqCvWmDW1I9"
      },
      "execution_count": 103,
      "outputs": []
    },
    {
      "cell_type": "markdown",
      "source": [
        "6) Scrieți într-un fișier denumit `prime.py` un modul care printează primele 10 numere prime. Importați modulul `prime` în notebook-ul curent și verificați că numerele printate sunt corecte. Rulați independent modulul `prime` din linia de comandă folosind `!python`."
      ],
      "metadata": {
        "id": "D1_ndbYiW1Zj"
      }
    },
    {
      "cell_type": "code",
      "source": [
        "## REZOLVARE EX. 6\n",
        "l=0\n",
        "for float(i) in range (2,30):\n",
        "  ok=1\n",
        "  for j in range(2,i-1):\n",
        "    if(i%j == 0):\n",
        "      ok = 0\n",
        "  if(ok==1):\n",
        "     a[l] = i\n",
        "\n",
        "\n",
        "\n"
      ],
      "metadata": {
        "id": "GrKv-O0BW8W7",
        "outputId": "262f2bde-01a8-4d62-e9a9-f8a64894c0a5",
        "colab": {
          "base_uri": "https://localhost:8080/",
          "height": 140
        }
      },
      "execution_count": 122,
      "outputs": [
        {
          "output_type": "error",
          "ename": "SyntaxError",
          "evalue": "ignored",
          "traceback": [
            "\u001b[0;36m  File \u001b[0;32m\"<ipython-input-122-79f186add020>\"\u001b[0;36m, line \u001b[0;32m3\u001b[0m\n\u001b[0;31m    for float(i) in range (2,30):\u001b[0m\n\u001b[0m        ^\u001b[0m\n\u001b[0;31mSyntaxError\u001b[0m\u001b[0;31m:\u001b[0m cannot assign to function call\n"
          ]
        }
      ]
    },
    {
      "cell_type": "markdown",
      "metadata": {
        "id": "pIFtN5c87ymd"
      },
      "source": [
        "##Referințe suplimentare\n",
        "\n",
        "1. Evoluția celor mai populare limbaje de programare:\n",
        "https://www.youtube.com/watch?v=Og847HVwRSI&ab_channel=DataIsBeautiful\n",
        "\n",
        "2. O scurtă istorie a limbajelor de programare:\n",
        "https://www.youtube.com/watch?v=mhpslN-OD_o&ab_channel=m%3Achael"
      ]
    }
  ],
  "metadata": {
    "colab": {
      "provenance": []
    },
    "kernelspec": {
      "display_name": "Python 3",
      "name": "python3"
    },
    "language_info": {
      "name": "python"
    }
  },
  "nbformat": 4,
  "nbformat_minor": 0
}