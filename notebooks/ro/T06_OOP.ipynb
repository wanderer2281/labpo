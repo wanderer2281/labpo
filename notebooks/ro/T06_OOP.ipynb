{
  "cells": [
    {
      "cell_type": "markdown",
      "metadata": {
        "id": "upQ24p4DtjXK"
      },
      "source": [
        "<img src='https://upload.wikimedia.org/wikipedia/commons/c/c3/Python-logo-notext.svg' width=50/>\n",
        "<img src='https://upload.wikimedia.org/wikipedia/commons/d/d0/Google_Colaboratory_SVG_Logo.svg' width=90/>\n",
        "\n",
        "# <font size=50>Introducere în Python folosind Google Colab</font>\n",
        "<font color=\"#e8710a\">© Adriana STAN, 2022</font>\n",
        "\n",
        "<font color=\"#e8710a\">Contributor: Gabriel ERDEI </font>\n",
        "\n",
        "\n"
      ]
    },
    {
      "cell_type": "markdown",
      "metadata": {
        "id": "85_MVp-arEhP"
      },
      "source": [
        "[![Open In Colab](https://colab.research.google.com/assets/colab-badge.svg)](https://colab.research.google.com/github/adrianastan/python-intro/blob/main/notebooks/ro/T06_OOP.ipynb)"
      ]
    },
    {
      "cell_type": "markdown",
      "metadata": {
        "id": "8Vt1YhNMQqHP"
      },
      "source": [
        "#<font color=\"#e8710a\">T06. Programare obiectuală. Excepții.</font>\n",
        "\n",
        "Tutorialul 5 prezintă în linii mari aspectele legate de programarea obiectuală în Python. Acestea includ noțiuni legate de definirea claselor, moștenire, polimorfism și excepții. \n",
        "\n",
        "\n",
        "---\n",
        "<font color=\"#1589FF\"><b>Timp estimat de parcurgere:</b> 150 min</font>\n",
        "\n",
        "---"
      ]
    },
    {
      "cell_type": "markdown",
      "metadata": {
        "id": "-X2usRXuDz-o"
      },
      "source": [
        "## <font color=\"#e8710a\">Clase</font>\n",
        "\n",
        "Programarea orientată pe obiecte (en. *OOP - Object Oriented Programming*) are o serie de avantaje, așa cum sunt ele definite și în alte limbaje obiectuale:\n",
        "  * moștenire;\n",
        "  * compunere;\n",
        "  * instanțe multiple;\n",
        "  * specializare prin moștenire;\n",
        "  * supraîncărcarea operatorilor;\n",
        "  * polimorfism;\n",
        "  * reducerea redundanței codului;\n",
        "  * încapsulare.\n",
        "\n",
        "Toate aceste aspecte sunt reprezentate în limbajul Python ce permite astfel și implementarea paradigmei de programare obiectuală pe lângă cea funcțională pe care am văzut-o în tutorialul anterior. \n",
        "\n"
      ]
    },
    {
      "cell_type": "markdown",
      "metadata": {
        "id": "CcGroTqeqer4"
      },
      "source": [
        "### <font color=\"#e8710a\">Definire. Instanțe. Atribute. Metode.</font>\n",
        "Pentru a defini o clasă în Python se utilizează cuvântul cheie `class`, iar sintaxa generală este: \n",
        "\n",
        "```\n",
        "class nume(clasadebaza1,clasadebaza2): \n",
        "  atribut = valoare\n",
        "  def metodă(self,...): \n",
        "    self.atribut = valoare \n",
        "```\n",
        "\n",
        "Să vedem un prim exemplu:"
      ]
    },
    {
      "cell_type": "code",
      "execution_count": null,
      "metadata": {
        "id": "nUqvdyIeELwb"
      },
      "outputs": [],
      "source": [
        "# Creăm o clasă fără corp\n",
        "class Persoana:\n",
        "  pass"
      ]
    },
    {
      "cell_type": "markdown",
      "metadata": {
        "id": "N_GIYqcHk0TI"
      },
      "source": [
        "Pentru a instanția un obiect, folosim numele clasei urmat de paranteze rotunde:"
      ]
    },
    {
      "cell_type": "code",
      "execution_count": null,
      "metadata": {
        "colab": {
          "base_uri": "https://localhost:8080/"
        },
        "id": "KrksySdelAry",
        "outputId": "913b9e56-27dc-4c9e-fb18-3bdbd2ec61df"
      },
      "outputs": [
        {
          "data": {
            "text/plain": [
              "__main__.Persoana"
            ]
          },
          "execution_count": 2,
          "metadata": {},
          "output_type": "execute_result"
        }
      ],
      "source": [
        "# Instanțiem un obiect din clasă\n",
        "P = Persoana()\n",
        "# Afișăm tipul obiectului\n",
        "type(P)"
      ]
    },
    {
      "cell_type": "markdown",
      "metadata": {
        "id": "JU-wIIa7JCWY"
      },
      "source": [
        "**<font color=\"#1589FF\">Atribute</font>**\n",
        "\n",
        "Atributele de clasă se definesc simplu, la fel ca orice altă variabilă și pot fi accesate mai apoi prin numele obiectului urmat de punct `.` și numele atributului:"
      ]
    },
    {
      "cell_type": "code",
      "execution_count": null,
      "metadata": {
        "colab": {
          "base_uri": "https://localhost:8080/"
        },
        "id": "FYQj363xJP2X",
        "outputId": "df6f8b1f-3a2d-4b1d-a148-73c51de147e0"
      },
      "outputs": [
        {
          "data": {
            "text/plain": [
              "(3, 4)"
            ]
          },
          "execution_count": 3,
          "metadata": {},
          "output_type": "execute_result"
        }
      ],
      "source": [
        "class Persoana:\n",
        "  # Două atribute ale clasei\n",
        "  a = 3\n",
        "  b = 4\n",
        "\n",
        "P = Persoana()\n",
        "# Accesăm atributele obiectului\n",
        "P.a, P.b"
      ]
    },
    {
      "cell_type": "markdown",
      "metadata": {
        "id": "qLg97b2Sdxbi"
      },
      "source": [
        "În Python toate atributele sunt publice și virtuale (echivalent C++). Există, însă, o convenție de notare a atributelor private folosind `_atribut`. Dar această notație nu are valoare programatică, ci doar informează programatorul ce utilizează codul, că acele atribute nu sunt proiectate pentru a fi utilizate în afara claselor.\n",
        "\n",
        "\n"
      ]
    },
    {
      "cell_type": "code",
      "execution_count": null,
      "metadata": {
        "colab": {
          "base_uri": "https://localhost:8080/"
        },
        "id": "xV-ZnTG-FrEM",
        "outputId": "9e61cf61-3ed8-4bff-da34-d081b9a44207"
      },
      "outputs": [
        {
          "data": {
            "text/plain": [
              "3"
            ]
          },
          "execution_count": 4,
          "metadata": {},
          "output_type": "execute_result"
        }
      ],
      "source": [
        "class Persoana:\n",
        "    _a = 3\n",
        "\n",
        "P = Persoana()\n",
        "# Putem folosi atributul _a\n",
        "P._a"
      ]
    },
    {
      "cell_type": "markdown",
      "metadata": {
        "id": "Hw8UQ3XiFqiv"
      },
      "source": [
        "O funcționalitate a atributelor claselor în Python se referă la modificarea numelor variabilelor (en. *name mangling*). Atunci când o variabilă începe cu dunder `__`, numele său este automat extins de interpretor pentru a include și numele clasei: `__atribut` devine `_Clasa__atribut`. Este folosit pentru a nu ascunde/suprascrie atribute din ierarhia de moștenire."
      ]
    },
    {
      "cell_type": "code",
      "execution_count": null,
      "metadata": {
        "colab": {
          "base_uri": "https://localhost:8080/"
        },
        "id": "nWhMpPA2H8Py",
        "outputId": "88976d6c-9f50-4d30-e2db-6f64033f5c6c"
      },
      "outputs": [
        {
          "name": "stdout",
          "output_type": "stream",
          "text": [
            "['_Persoana__nume', '__class__', '__delattr__', '__dict__', '__dir__', '__doc__', '__eq__', '__format__', '__ge__', '__getattribute__', '__gt__', '__hash__', '__init__', '__init_subclass__', '__le__', '__lt__', '__module__', '__ne__', '__new__', '__reduce__', '__reduce_ex__', '__repr__', '__setattr__', '__sizeof__', '__str__', '__subclasshook__', '__weakref__']\n"
          ]
        }
      ],
      "source": [
        "class Persoana:\n",
        "    __nume = \"Ana\"\n",
        "  \n",
        "P = Persoana()\n",
        "# Afișăm atributele obiectului\n",
        "print(dir(P))"
      ]
    },
    {
      "cell_type": "markdown",
      "metadata": {
        "id": "i-F8-GX6GCEk"
      },
      "source": [
        "> **NOTĂ!** Obsevăm că, la fel ca în cazul tipurilor de date built-in, avem o serie de atribute predefinite pentru orice obiect instanțiat din clase definite de programator. Vom reveni asupra unora dintre acestea ulterior."
      ]
    },
    {
      "cell_type": "markdown",
      "metadata": {
        "id": "FAoM9WG0INfG"
      },
      "source": [
        "Accesul la acest tip de atribute se face prin numele complet:"
      ]
    },
    {
      "cell_type": "code",
      "execution_count": null,
      "metadata": {
        "colab": {
          "base_uri": "https://localhost:8080/"
        },
        "id": "OHdsVA0nIQl-",
        "outputId": "09c55928-43f2-4da7-db3c-4ce1b78a3614"
      },
      "outputs": [
        {
          "name": "stdout",
          "output_type": "stream",
          "text": [
            "Ana\n"
          ]
        }
      ],
      "source": [
        "print(P._Persoana__nume)"
      ]
    },
    {
      "cell_type": "code",
      "execution_count": null,
      "metadata": {
        "colab": {
          "base_uri": "https://localhost:8080/",
          "height": 187
        },
        "id": "6deLtSz4IyKA",
        "outputId": "2a607845-b2bc-4345-f5fb-9855a3a342d7"
      },
      "outputs": [
        {
          "ename": "AttributeError",
          "evalue": "ignored",
          "output_type": "error",
          "traceback": [
            "\u001b[0;31m---------------------------------------------------------------------------\u001b[0m",
            "\u001b[0;31mAttributeError\u001b[0m                            Traceback (most recent call last)",
            "\u001b[0;32m<ipython-input-7-3bf65905cfa5>\u001b[0m in \u001b[0;36m<module>\u001b[0;34m\u001b[0m\n\u001b[1;32m      1\u001b[0m \u001b[0;31m# Eroare\u001b[0m\u001b[0;34m\u001b[0m\u001b[0;34m\u001b[0m\u001b[0;34m\u001b[0m\u001b[0m\n\u001b[0;32m----> 2\u001b[0;31m \u001b[0mprint\u001b[0m\u001b[0;34m(\u001b[0m\u001b[0mP\u001b[0m\u001b[0;34m.\u001b[0m\u001b[0m__nume\u001b[0m\u001b[0;34m)\u001b[0m\u001b[0;34m\u001b[0m\u001b[0;34m\u001b[0m\u001b[0m\n\u001b[0m",
            "\u001b[0;31mAttributeError\u001b[0m: 'Persoana' object has no attribute '__nume'"
          ]
        }
      ],
      "source": [
        "# Eroare\n",
        "print(P.__nume)"
      ]
    },
    {
      "cell_type": "markdown",
      "metadata": {
        "id": "t8nqkWZuKk3y"
      },
      "source": [
        "**<font color=\"#1589FF\">Metode</font>**\n",
        "\n",
        "Funcțiile definite în clase sunt denumite **metode**.\n",
        "Au aceleași funcționalități ca funcțiile de bază, doar că vor conține ca prim argument, o referință la instanța curentă (cu excepția metodelor statice și a celor de clasă). Referința la instanța curentă se face prin variabila `self`:\n"
      ]
    },
    {
      "cell_type": "code",
      "execution_count": null,
      "metadata": {
        "colab": {
          "base_uri": "https://localhost:8080/"
        },
        "id": "zsg1gppPGwRP",
        "outputId": "57198fc2-8a56-4ee5-81b1-101e06fc355a"
      },
      "outputs": [
        {
          "name": "stdout",
          "output_type": "stream",
          "text": [
            "Nume: Ana, varsta: 19\n"
          ]
        }
      ],
      "source": [
        "# Metodă a instanței\n",
        "class Persoana:\n",
        "  nume = \"Ana\"\n",
        "  varsta = 19\n",
        "  def print_info(self, nume, varsta):\n",
        "    print (\"Nume: %s, varsta: %d\" %(self.nume, self.varsta))\n",
        "\n",
        "P = Persoana()\n",
        "P.print_info(\"Ana\", 19)"
      ]
    },
    {
      "cell_type": "code",
      "execution_count": null,
      "metadata": {
        "colab": {
          "base_uri": "https://localhost:8080/",
          "height": 187
        },
        "id": "AFT4BZLVofG9",
        "outputId": "c1596e92-9b59-4c57-8a47-80083315ac76"
      },
      "outputs": [
        {
          "ename": "TypeError",
          "evalue": "ignored",
          "output_type": "error",
          "traceback": [
            "\u001b[0;31m---------------------------------------------------------------------------\u001b[0m",
            "\u001b[0;31mTypeError\u001b[0m                                 Traceback (most recent call last)",
            "\u001b[0;32m<ipython-input-9-3ab5d6f7fb95>\u001b[0m in \u001b[0;36m<module>\u001b[0;34m\u001b[0m\n\u001b[1;32m      1\u001b[0m \u001b[0;31m# Nu putem apela metoda prin numele clasei doar\u001b[0m\u001b[0;34m\u001b[0m\u001b[0;34m\u001b[0m\u001b[0;34m\u001b[0m\u001b[0m\n\u001b[0;32m----> 2\u001b[0;31m \u001b[0mPersoana\u001b[0m\u001b[0;34m.\u001b[0m\u001b[0mprint_info\u001b[0m\u001b[0;34m(\u001b[0m\u001b[0;34m\"Ana\"\u001b[0m\u001b[0;34m,\u001b[0m \u001b[0;36m19\u001b[0m\u001b[0;34m)\u001b[0m\u001b[0;34m\u001b[0m\u001b[0;34m\u001b[0m\u001b[0m\n\u001b[0m",
            "\u001b[0;31mTypeError\u001b[0m: print_info() missing 1 required positional argument: 'varsta'"
          ]
        }
      ],
      "source": [
        "# Nu putem apela metoda prin numele clasei doar\n",
        "Persoana.print_info(\"Ana\", 19)"
      ]
    },
    {
      "cell_type": "markdown",
      "metadata": {
        "id": "wO1NvptCm2ai"
      },
      "source": [
        "Din eroarea generată înțelegem faptul că, odată cu apelarea metodei prin intermediul numelui clasei, nu se transmite și referința la obiectul curent (`self`), ci doar argumentele `Ana` și `19`. Definiția metodei așteaptă 3 argumente, `self`, `nume` și `varsta`. \n",
        "\n",
        "Dacă dorim să apelăm o anumită metodă prin intermediul numelui clasei, deși nu este recomandat, putem folosi următoarea instrucțiune în care trimitem și o instanță a clasei:"
      ]
    },
    {
      "cell_type": "code",
      "execution_count": null,
      "metadata": {
        "colab": {
          "base_uri": "https://localhost:8080/",
          "height": 169
        },
        "id": "K10bvYQ0tMI-",
        "outputId": "d89ac9ca-d583-4eb4-8c69-9f857e7b308b"
      },
      "outputs": [
        {
          "ename": "AttributeError",
          "evalue": "ignored",
          "output_type": "error",
          "traceback": [
            "\u001b[0;31m---------------------------------------------------------------------------\u001b[0m",
            "\u001b[0;31mAttributeError\u001b[0m                            Traceback (most recent call last)",
            "\u001b[0;32m<ipython-input-8-bc56ff4238f9>\u001b[0m in \u001b[0;36m<module>\u001b[0;34m\u001b[0m\n\u001b[0;32m----> 1\u001b[0;31m \u001b[0mPersoana\u001b[0m\u001b[0;34m.\u001b[0m\u001b[0mprint_info\u001b[0m\u001b[0;34m(\u001b[0m\u001b[0mP\u001b[0m\u001b[0;34m,\u001b[0m \u001b[0;34m\"Ana\"\u001b[0m\u001b[0;34m,\u001b[0m \u001b[0;36m19\u001b[0m\u001b[0;34m)\u001b[0m\u001b[0;34m\u001b[0m\u001b[0;34m\u001b[0m\u001b[0m\n\u001b[0m",
            "\u001b[0;31mAttributeError\u001b[0m: type object 'Persoana' has no attribute 'print_info'"
          ]
        }
      ],
      "source": [
        "Persoana.print_info(P, \"Ana\", 19)"
      ]
    },
    {
      "cell_type": "markdown",
      "metadata": {
        "id": "SZIM7BebRAK_"
      },
      "source": [
        "**<font color=\"#1589FF\">Constructori</font>**\n",
        "\n",
        "**Constructorii** sunt metode speciale ale unei clase cu nume predefinit, `__init__()`. Constructorii sunt apelați automat la instanțierea unui nou obiect din clasa respectivă. \n",
        "De obicei sunt folosiți pentru a defini atributele instanțelor și pentru a rula alte metode necesare la inițializarea obiectului curent. În cadrul constructorului trebuie utilizată o referință la obiectul curent, specificată prin argumentul `self`.\n",
        "\n",
        "Așa cum am văzut în exemplele anterioare, nu este necesar să fie definit un constructor explicit, existând oricum unul implicit. Fără a defini, însă, un constructor, devine mai complicată personalizarea diferitelor instanțe ale obiectului."
      ]
    },
    {
      "cell_type": "code",
      "execution_count": null,
      "metadata": {
        "colab": {
          "base_uri": "https://localhost:8080/"
        },
        "id": "QJ-bQtVtQ_qH",
        "outputId": "2f886619-71bd-405b-db2b-4076988f0880"
      },
      "outputs": [
        {
          "name": "stdout",
          "output_type": "stream",
          "text": [
            "Nume: Ana, varsta: 19\n",
            "Nume: Maria, varsta: 20\n"
          ]
        }
      ],
      "source": [
        "class Persoana:\n",
        "  # Constructor explicit\n",
        "  def __init__(self, nume, varsta): \n",
        "    self.nume = nume \n",
        "    self.varsta = varsta\n",
        "  # Metodă a instanței\n",
        "  def print_info(self):\n",
        "    print (\"Nume: %s, varsta: %d\" %(self.nume, self.varsta))\n",
        "    \n",
        "# Definim două obiecte cu atribute diferite\n",
        "P1 = Persoana(\"Ana\", 19)\n",
        "P1.print_info()\n",
        "P2 = Persoana(\"Maria\", 20)\n",
        "P2.print_info()"
      ]
    },
    {
      "cell_type": "markdown",
      "metadata": {
        "id": "48ZYOlABNGn0"
      },
      "source": [
        "În Python **NU** putem avea mai mulți constructori într-o clasă. Dacă sunt definite mai multe metode `__init__()`, doar ultima va fi apelată. \n",
        "\n",
        "Dacă, însă, dorim să avem comportamente diferite în funcție de numărul de obiecte transmise la instanțierea unui obiect, putem utiliza valori implicite pentru argumentele constructorului:"
      ]
    },
    {
      "cell_type": "code",
      "execution_count": null,
      "metadata": {
        "colab": {
          "base_uri": "https://localhost:8080/"
        },
        "id": "QlRtSbkQNNoq",
        "outputId": "5d67a26b-2702-4bff-a065-bf5247ba9c3d"
      },
      "outputs": [
        {
          "name": "stdout",
          "output_type": "stream",
          "text": [
            "Nume: UNK, varsta: -1\n",
            "Nume: Ionuț, varsta: -1\n",
            "Nume: UNK, varsta: 21\n",
            "Nume: Mihai, varsta: 22\n"
          ]
        }
      ],
      "source": [
        "class Persoana:\n",
        "  # Constructor explicit cu valori implicite\n",
        "  def __init__(self, nume = \"UNK\", varsta = -1): \n",
        "    self.nume = nume \n",
        "    self.varsta = varsta\n",
        "  \n",
        "  # Metodă a instanței\n",
        "  def print_info(self):\n",
        "    print (\"Nume: %s, varsta: %d\" %(self.nume, self.varsta))\n",
        "\n",
        "# Utilizăm valorile implicite pentru atribute\n",
        "P = Persoana()\n",
        "P.print_info()\n",
        "# Dăm valori atributului nume\n",
        "P1 = Persoana(nume=\"Ionuț\")\n",
        "P1.print_info()\n",
        "# Dăm valori atributului varsta\n",
        "P2 = Persoana(varsta=21)\n",
        "P2.print_info()\n",
        "# Dăm valori ambelor atribute\n",
        "P3 = Persoana(\"Mihai\", 22)\n",
        "P3.print_info()"
      ]
    },
    {
      "cell_type": "markdown",
      "metadata": {
        "id": "LzN0WxILO9bb"
      },
      "source": [
        "**<font color=\"#1589FF\">Clase - observații</font>**\n",
        "\n",
        "* Instrucțiunea `class` creează un obiect clasă și îi atribuie un nume;\n",
        "* Atribuirile din interiorul clasei creează atribute de clasă;\n",
        "* Atributele clasei definesc starea și comportamentul unui obiect;\n",
        "* Obiectele instanță sunt elemente concrete;\n",
        "* Instanțele sunt create prin constructorul clasei;\n",
        "* Fiecare obiect are asociate atributele instanței;\n",
        "* Referirea la instanța curentă se face prin `self` (convenție).\n",
        "* Clasele sunt atribute ale modulelor;\n",
        "* Pot fi definite mai multe clase în cadrul aceluiași modul\n",
        "* La instanțierea obiectelor din module externe celui curent, trebuie urmărită ierarhia modulului.\n",
        "\n"
      ]
    },
    {
      "cell_type": "markdown",
      "metadata": {
        "id": "FZabBosrpEqz"
      },
      "source": [
        "Referitor la `self`, putem utiliza și alt identificator pentru a face referire la instanța curentă, doar că nu este recomandat:"
      ]
    },
    {
      "cell_type": "code",
      "execution_count": null,
      "metadata": {
        "colab": {
          "base_uri": "https://localhost:8080/"
        },
        "id": "pvQ2VbIuOvDX",
        "outputId": "42ebf3e8-2d0c-4890-ad22-aefe0db446c5"
      },
      "outputs": [
        {
          "name": "stdout",
          "output_type": "stream",
          "text": [
            "Nume: , varsta: -1\n"
          ]
        }
      ],
      "source": [
        "class Persoana:\n",
        "  # Folosim this in loc de self pentru instanța curentă\n",
        "  def __init__(this, nume = \"\", varsta = -1): \n",
        "    this.nume = nume \n",
        "    this.varsta = varsta\n",
        "  \n",
        "  def print_info(this):\n",
        "    print (\"Nume: %s, varsta: %d\" %(this.nume, this.varsta))\n",
        "\n",
        "P = Persoana()\n",
        "P.print_info()"
      ]
    },
    {
      "cell_type": "markdown",
      "metadata": {
        "id": "Bh2lmvrvRwqZ"
      },
      "source": [
        "### <font color=\"#e8710a\">Moștenire</font>\n",
        "\n",
        "Pentru a moșteni alte clase în Python, din punct de vedere al sintaxei trebuie doar să le enumerăm între paranteze după numele clasei:\n",
        "\n",
        "```\n",
        "class C(CB1, CB2): \n",
        "  …\n",
        "```\n",
        "\n",
        "Accesul la metodele claselor de bază se face prin `super()` sau prin numele clasei de bază:"
      ]
    },
    {
      "cell_type": "code",
      "execution_count": null,
      "metadata": {
        "colab": {
          "base_uri": "https://localhost:8080/",
          "height": 107
        },
        "id": "eAbSe84RQXUs",
        "outputId": "83cb5135-d909-4629-c270-d4ae22ed5ce0"
      },
      "outputs": [
        {
          "name": "stdout",
          "output_type": "stream",
          "text": [
            "Nume: Ana, varsta: 20, tip: om, gen: feminin\n",
            "Tip: om, gen: feminin\n",
            "Tip: om, gen: feminin\n",
            "Tip: om, gen: feminin\n"
          ]
        },
        {
          "data": {
            "application/vnd.google.colaboratory.intrinsic+json": {
              "type": "string"
            },
            "text/plain": [
              "'om'"
            ]
          },
          "execution_count": 12,
          "metadata": {},
          "output_type": "execute_result"
        }
      ],
      "source": [
        "# Clasa de baza\n",
        "class Baza:\n",
        "  def __init__(self):\n",
        "    self.tip = \"om\"\n",
        "    self.gen = \"feminin\"\n",
        "\n",
        "  def print_base_info(self):\n",
        "    print(\"Tip: %s, gen: %s\" %(self.tip, self.gen))\n",
        "  \n",
        "# Clasa derivata\n",
        "class Persoana(Baza):\n",
        "  def __init__(self, nume = \"\", varsta = -1): \n",
        "    # Apel constructor clasa de baza\n",
        "    Baza.__init__(self)\n",
        "    self.nume = nume \n",
        "    self.varsta = varsta\n",
        "  \n",
        "  def print_info(self):\n",
        "    # Folosim și atribute ale clasei de bază\n",
        "    print (\"Nume: %s, varsta: %d, tip: %s, gen: %s\" %(self.nume, self.varsta, self.tip, self.gen))\n",
        "    # Apel metodă din clasa de baza prin super()\n",
        "    super().print_base_info()\n",
        "    # Apel metodă din clasa de baza prin numele clasei\n",
        "    Baza.print_base_info(self)\n",
        "\n",
        "P = Persoana(\"Ana\", 20)\n",
        "P.print_info()\n",
        "# Apelam o metoda a clasei de bază prin intermediul instanței derivate\n",
        "P.print_base_info()\n",
        "# Folosim un atribut din clasa de bază\n",
        "P.tip"
      ]
    },
    {
      "cell_type": "markdown",
      "metadata": {
        "id": "lYtqgXc3SdEE"
      },
      "source": [
        "**<font color=\"#1589FF\">Ordinea de rezoluție a metodelor</font>**\n",
        "\n",
        "**Ordinea de rezoluție a metodelor** (en. *MRO - Method resolution order*) se referă la modul în care interpretorul determină metoda ce trebuie apelată din ierarhia de moștenire. Procesul decurge astfel: se caută metoda în clasa curentă, iar mai apoi în clasele de bază, în ordinea enumerării lor la definirea clasei curente.\n"
      ]
    },
    {
      "cell_type": "code",
      "execution_count": null,
      "metadata": {
        "colab": {
          "base_uri": "https://localhost:8080/"
        },
        "id": "bFOdHrKNSg7W",
        "outputId": "b8d48b62-7663-4507-8cc2-48f5b0ffbd4b"
      },
      "outputs": [
        {
          "name": "stdout",
          "output_type": "stream",
          "text": [
            "Met() din C\n",
            "Met() din A\n",
            "Met() din A\n"
          ]
        }
      ],
      "source": [
        "class A:\n",
        "    def met(self):\n",
        "        print(\"Met() din A\")\n",
        "class B:\n",
        "    def met(self):\n",
        "        print(\"Met() din B\")\n",
        "\n",
        "# Clasa C moștenește A și B și redefinește met()\n",
        "class C(A,B):\n",
        "  def met(self):\n",
        "    print(\"Met() din C\")\n",
        "# Clasa D moștenește A și B și nu redefinește met()\n",
        "class D(A,B):\n",
        "\tpass\n",
        "# Inversăm ordinea moștenirii\n",
        "class E(A,B):\n",
        "\tpass\n",
        "\n",
        "# Obiect din clasa C\n",
        "O1 = C()\n",
        "O1.met()\n",
        "\n",
        "# Obiect din clasa D\n",
        "O2 = D()\n",
        "O2.met()\n",
        "\n",
        "# Obiect din clasa E\n",
        "O3 = E()\n",
        "O3.met()"
      ]
    },
    {
      "cell_type": "markdown",
      "metadata": {
        "id": "i3DMHOV1SoA9"
      },
      "source": [
        "Același principiu se aplică și atunci când apelăm metode prin intermediul `super()`, ordinea de enumerare a claselor moștenite determină metoda apelată.\n"
      ]
    },
    {
      "cell_type": "markdown",
      "metadata": {
        "id": "_QC0QdYKTJ2j"
      },
      "source": [
        "**<font color=\"#1589FF\">Clase abstracte</font>**\n",
        "\n",
        "Clasele abstracte sunt acele clase ce au cel puțin o metodă ce nu este definită și nu pot fi instanțiate. Sunt de fapt o bază pentru clasele derivate. \n",
        "\n",
        "În Python nu există un mecanism implicit de definire a claselor abstracte, ci se poate realiza prin utilizarea modulului `abc` (Abstract Base Class). Metodele neimplementate ale clasei abstracte vor fi decorate cu `@abstractmethod`, iar clasele derivate va trebui să implementeze aceste metode:\n"
      ]
    },
    {
      "cell_type": "code",
      "execution_count": null,
      "metadata": {
        "id": "cXX_ttarTO-E"
      },
      "outputs": [],
      "source": [
        "# Definim o clasă abstractă ce conține o metodă abstractă și una implementată\n",
        "from abc import ABC, abstractmethod\n",
        "\n",
        "class FormaGeometrica(ABC):\n",
        "  @abstractmethod\n",
        "  def perimetru(self, L:list):\n",
        "    pass\n",
        "\n",
        "  def salut(self):\n",
        "    return \"Salut, sunt o formă geometrică de tipul: \""
      ]
    },
    {
      "cell_type": "code",
      "execution_count": null,
      "metadata": {
        "colab": {
          "base_uri": "https://localhost:8080/",
          "height": 187
        },
        "id": "vG21pW6iNIGr",
        "outputId": "45ffe0e4-a5ea-4daa-8608-94084475dda6"
      },
      "outputs": [
        {
          "ename": "TypeError",
          "evalue": "ignored",
          "output_type": "error",
          "traceback": [
            "\u001b[0;31m---------------------------------------------------------------------------\u001b[0m",
            "\u001b[0;31mTypeError\u001b[0m                                 Traceback (most recent call last)",
            "\u001b[0;32m<ipython-input-15-5c0b048ad3ae>\u001b[0m in \u001b[0;36m<module>\u001b[0;34m\u001b[0m\n\u001b[1;32m      1\u001b[0m \u001b[0;31m# Nu o putem instanția\u001b[0m\u001b[0;34m\u001b[0m\u001b[0;34m\u001b[0m\u001b[0;34m\u001b[0m\u001b[0m\n\u001b[0;32m----> 2\u001b[0;31m \u001b[0mFG\u001b[0m \u001b[0;34m=\u001b[0m \u001b[0mFormaGeometrica\u001b[0m\u001b[0;34m(\u001b[0m\u001b[0;34m)\u001b[0m\u001b[0;34m\u001b[0m\u001b[0;34m\u001b[0m\u001b[0m\n\u001b[0m",
            "\u001b[0;31mTypeError\u001b[0m: Can't instantiate abstract class FormaGeometrica with abstract methods perimetru"
          ]
        }
      ],
      "source": [
        "# Nu o putem instanția\n",
        "FG = FormaGeometrica()"
      ]
    },
    {
      "cell_type": "code",
      "execution_count": null,
      "metadata": {
        "colab": {
          "base_uri": "https://localhost:8080/"
        },
        "id": "7YdistxnMgY5",
        "outputId": "2e80880d-c59f-4f69-9ef6-e7ffffc5eab0"
      },
      "outputs": [
        {
          "name": "stdout",
          "output_type": "stream",
          "text": [
            "9\n",
            "Salut, sunt o formă geometrică de tipul: triunghi\n",
            "10\n",
            "Salut, sunt o formă geometrică de tipul: dreptunghi\n"
          ]
        }
      ],
      "source": [
        "# Definim clase derivate ce vor implementa metoda abstractă\n",
        "class Triunghi(FormaGeometrica):\n",
        "  def perimetru(self, L:list):\n",
        "    return L[0]+L[1]+L[2]\n",
        "  def salut(self):\n",
        "    # Apelăm metoda din clasa de bază\n",
        "    print(super().salut()+\"triunghi\")\n",
        "\n",
        "class Dreptunghi(FormaGeometrica):\n",
        "  def perimetru(self, L:list):\n",
        "    return L[0]+L[1]+L[2]+L[3]\n",
        "\n",
        "  def salut(self):\n",
        "    # Apelăm metoda din clasa de bază\n",
        "    print(super().salut()+\"dreptunghi\")\n",
        "\n",
        "\n",
        "T = Triunghi()\n",
        "print(T.perimetru([2,3,4]))\n",
        "T.salut()\n",
        "\n",
        "D = Dreptunghi()\n",
        "print(D.perimetru([2,3,2,3]))\n",
        "D.salut()"
      ]
    },
    {
      "cell_type": "markdown",
      "metadata": {
        "id": "yOHNuS2wTSgR"
      },
      "source": [
        "**<font color=\"#1589FF\">Introspecția în clase</font>**\n",
        "\n",
        "Introspecția se poate aplica și asupra claselor Python, unde putem folosi atribute precum:\n",
        "\n",
        "* `instance.__class__ ` -  clasa din care face parte instanța\n",
        "* `class.__name__` - numele clasei\n",
        "* `class.__bases__` - clasele din ierarhie\n",
        "* `object.__dict__` - dicționar cu lista de atribute asociată obiectului\n"
      ]
    },
    {
      "cell_type": "code",
      "execution_count": null,
      "metadata": {
        "colab": {
          "base_uri": "https://localhost:8080/"
        },
        "id": "jBLNyB1fcYVf",
        "outputId": "f3aba387-bef0-4a18-f862-48988efdce24"
      },
      "outputs": [
        {
          "name": "stdout",
          "output_type": "stream",
          "text": [
            "Writing person.py\n"
          ]
        }
      ],
      "source": [
        "# Creăm un modul ce conține o clasă\n",
        "%%writefile person.py\n",
        "class Persoana:\n",
        "  # Constructor explicit\n",
        "  def __init__(self, nume, varsta): \n",
        "    self.nume = nume \n",
        "    self.varsta = varsta\n",
        "  # Metodă a instanței\n",
        "  def print_info(self):\n",
        "    print (\"Nume: %s, varsta: %d\" %(self.nume, self.varsta))"
      ]
    },
    {
      "cell_type": "code",
      "execution_count": null,
      "metadata": {
        "colab": {
          "base_uri": "https://localhost:8080/"
        },
        "id": "yUYT37Y0Tbv6",
        "outputId": "d0081466-0414-41d8-b409-5ff922891d8f"
      },
      "outputs": [
        {
          "data": {
            "text/plain": [
              "person.Persoana"
            ]
          },
          "execution_count": 18,
          "metadata": {},
          "output_type": "execute_result"
        }
      ],
      "source": [
        "# Importăm modulul\n",
        "from person import Persoana\n",
        "ana = Persoana('Ana', 19)\n",
        "# Afișăm tipul obiectului \n",
        "type(ana) # Se afișează și numele modulului"
      ]
    },
    {
      "cell_type": "code",
      "execution_count": null,
      "metadata": {
        "colab": {
          "base_uri": "https://localhost:8080/",
          "height": 35
        },
        "id": "dd3SDmBXqcOz",
        "outputId": "42231da7-83a0-4d01-8104-96d525489b3e"
      },
      "outputs": [
        {
          "data": {
            "application/vnd.google.colaboratory.intrinsic+json": {
              "type": "string"
            },
            "text/plain": [
              "'person'"
            ]
          },
          "execution_count": 19,
          "metadata": {},
          "output_type": "execute_result"
        }
      ],
      "source": [
        "# Afișăm numele modulului din care face parte clasa obiectului\n",
        "ana.__module__"
      ]
    },
    {
      "cell_type": "code",
      "execution_count": null,
      "metadata": {
        "colab": {
          "base_uri": "https://localhost:8080/"
        },
        "id": "J7OU2cb8Tfv0",
        "outputId": "2fa45c49-8569-403b-a04a-70f61e632005"
      },
      "outputs": [
        {
          "data": {
            "text/plain": [
              "person.Persoana"
            ]
          },
          "execution_count": 20,
          "metadata": {},
          "output_type": "execute_result"
        }
      ],
      "source": [
        "# Afișăm clasa asociată obiectului cu numele modulului inclus\n",
        "ana.__class__ "
      ]
    },
    {
      "cell_type": "code",
      "execution_count": null,
      "metadata": {
        "colab": {
          "base_uri": "https://localhost:8080/",
          "height": 35
        },
        "id": "nuzpsGDHTgAz",
        "outputId": "d4750a1c-f857-4c0d-f549-652a117c71c1"
      },
      "outputs": [
        {
          "data": {
            "application/vnd.google.colaboratory.intrinsic+json": {
              "type": "string"
            },
            "text/plain": [
              "'Persoana'"
            ]
          },
          "execution_count": 21,
          "metadata": {},
          "output_type": "execute_result"
        }
      ],
      "source": [
        "# Afișăm doar numele clasei asociate obiectului\n",
        "ana.__class__.__name__"
      ]
    },
    {
      "cell_type": "code",
      "execution_count": null,
      "metadata": {
        "colab": {
          "base_uri": "https://localhost:8080/"
        },
        "id": "11u_3mvQThMj",
        "outputId": "2e2fddbe-4236-4871-ba01-a3f91ea69a92"
      },
      "outputs": [
        {
          "data": {
            "text/plain": [
              "['nume', 'varsta']"
            ]
          },
          "execution_count": 22,
          "metadata": {},
          "output_type": "execute_result"
        }
      ],
      "source": [
        "# Afișăm atributele asociate obiectului din clasa Persoana\n",
        "list(ana.__dict__.keys()) "
      ]
    },
    {
      "cell_type": "code",
      "execution_count": null,
      "metadata": {
        "colab": {
          "base_uri": "https://localhost:8080/"
        },
        "id": "g1no4sgzTinb",
        "outputId": "6e3add38-3806-45b7-86b6-d0106ba24c27"
      },
      "outputs": [
        {
          "name": "stdout",
          "output_type": "stream",
          "text": [
            "nume = Ana\n",
            "varsta = 19\n"
          ]
        }
      ],
      "source": [
        "# Afișăm atributele și volorile lor folosind O.__dict__\n",
        "for key in ana.__dict__:\n",
        "  print(key, '=', ana.__dict__[key]) "
      ]
    },
    {
      "cell_type": "code",
      "execution_count": null,
      "metadata": {
        "colab": {
          "base_uri": "https://localhost:8080/"
        },
        "id": "kaXy3-ViTnId",
        "outputId": "16597d04-f7a7-411d-fb41-22ad4f036d4e"
      },
      "outputs": [
        {
          "name": "stdout",
          "output_type": "stream",
          "text": [
            "nume = Ana\n",
            "varsta = 19\n"
          ]
        }
      ],
      "source": [
        "# Afișăm atributele obiectului folosind __dict__ și getattr\n",
        "for key in ana.__dict__:\n",
        "  print(key, '=', getattr(ana, key))"
      ]
    },
    {
      "cell_type": "markdown",
      "metadata": {
        "id": "zq7EOY4xXWMi"
      },
      "source": [
        "\n",
        "###<font color=\"#e8710a\">Metode statice și de clasă </font>\n",
        "\n",
        "Metodele statice și de clasă pot fi apelate fără a  instanția clasa. Diferența este că, \n",
        "metodele statice funcționează ca simple funcții în interiorul unei clase, fără a fi atașate unei instanțe și fără a avea acces la starea clasei în mod direct. \n",
        "Metodele de clasă primesc ca prim argument referința la clasă în locul unei instanțe, ceea ce înseamnă că pot modifica starea per ansamblu a clasei, de exemplu un atribut ce aparține tuturor instanțelor clasei. De cele mai multe ori, metodele de clasă returnează un obiect din clasa curentă și au un comportament similar cu al constructorilor. \n",
        "\n",
        "Specificarea faptului că o metodă este statică sau de clasă se face prin aplicarea metodelor `staticmethod()` sau `classmethod()` asupra obiectului metodă. Sau folosind decoratorii `@staticmethod` sau `@classmethod`. Decoratorii vor fi introduși într-o secțiune următoare.\n"
      ]
    },
    {
      "cell_type": "markdown",
      "metadata": {
        "id": "7mA-jBBoX8c1"
      },
      "source": [
        "**<font color=\"#1589FF\">Metode statice</font>**\n",
        "\n"
      ]
    },
    {
      "cell_type": "code",
      "execution_count": null,
      "metadata": {
        "colab": {
          "base_uri": "https://localhost:8080/"
        },
        "id": "IFDXA9GlgaC7",
        "outputId": "eb988ac6-adcc-4eb7-ac71-61e7faaeaa5e"
      },
      "outputs": [
        {
          "name": "stdout",
          "output_type": "stream",
          "text": [
            "Salut!\n",
            "Salut!\n"
          ]
        }
      ],
      "source": [
        "# Definim o metodă statică în clasă\n",
        "class Persoana:  \n",
        "  def print_info():\n",
        "    print(\"Salut!\")\n",
        "  \n",
        "  # Specificăm faptul că metoda este statică\n",
        "  print_info = staticmethod(print_info)\n",
        "\n",
        "# Apelăm metoda prin instanță\n",
        "P1 = Persoana()\n",
        "P1.print_info()\n",
        "# Apelăm metoda prin numele clasei\n",
        "Persoana.print_info()"
      ]
    },
    {
      "cell_type": "markdown",
      "metadata": {
        "id": "Cz_nTII9YZrG"
      },
      "source": [
        "**<font color=\"#1589FF\">Metode de clasă</font>**"
      ]
    },
    {
      "cell_type": "code",
      "execution_count": null,
      "metadata": {
        "colab": {
          "base_uri": "https://localhost:8080/"
        },
        "id": "OBijjeczYXdo",
        "outputId": "f6bda8a7-0ab5-45f7-ade6-86f8da4accaf"
      },
      "outputs": [
        {
          "name": "stdout",
          "output_type": "stream",
          "text": [
            "Numarul de persoane: 1\n",
            "Numarul de persoane: 2\n",
            "Numarul de persoane: 2\n"
          ]
        }
      ],
      "source": [
        "class Persoana:\n",
        "  numar_persoane = 0 \n",
        "  def __init__(self):\n",
        "    # Atribut al clasei\n",
        "    Persoana.numar_persoane += 1\n",
        "\n",
        "  # Metodă de clasă, primește argument o clasă\n",
        "  def print_info(cls):\n",
        "    print(\"Numarul de persoane: %d\" % cls.numar_persoane)\n",
        "  # Specificăm faptul că print_info e metodă de clasă\n",
        "  print_info = classmethod(print_info)\n",
        "\n",
        "a = Persoana()\n",
        "# Se transmite automat clasa către metodă\n",
        "a.print_info()\n",
        "b = Persoana()\n",
        "b.print_info() \n",
        "# Apelăm prin numele clasei\n",
        "Persoana.print_info()"
      ]
    },
    {
      "cell_type": "code",
      "execution_count": null,
      "metadata": {
        "colab": {
          "base_uri": "https://localhost:8080/"
        },
        "id": "P0yPKWvozIFe",
        "outputId": "f34a1d4f-34ce-46a5-d5eb-72377065e85c"
      },
      "outputs": [
        {
          "name": "stdout",
          "output_type": "stream",
          "text": [
            "Nume: Ana, varsta: 19\n"
          ]
        }
      ],
      "source": [
        "# Metodă de clasă factory \n",
        "class Persoana:\n",
        "  def __init__(self, nume, varsta):\n",
        "    self.nume = nume\n",
        "    self.varsta = varsta\n",
        "  def print_info(self):\n",
        "    print (\"Nume: %s, varsta: %d\" %(self.nume, self.varsta))\n",
        "\n",
        "  # Metodă de clasă\n",
        "  def from_string(cls, S):\n",
        "    return cls(S.split('-')[0], int(S.split('-')[1]))\n",
        "  from_string = classmethod(from_string)\n",
        "\n",
        "# Instanțiem un obiect prin intermediul metodei de clasă\n",
        "P = Persoana.from_string(\"Ana-19\")\n",
        "P.print_info()"
      ]
    },
    {
      "cell_type": "markdown",
      "metadata": {
        "id": "gIUGHE_ZTo3z"
      },
      "source": [
        "###<font color=\"#e8710a\">Supraîncărcarea operatorilor</font>\n",
        "\n",
        "De cele mai multe ori, pentru obiectele definite de programator, operatorii standard nu pot fi aplicați, deoarece nu există un mecanism clar de aplicare a lor. De exemplu, ce înseamnă că un obiect este mai mare decât altul sau că două obiecte sunt egale sau diferite.\n",
        "\n",
        "Mecanismul de supraîncărcare a operatorilor asociat claselor permite modificarea comportamentului de bază al operatorilor built-in atunci când aceștia sunt aplicați asupra obiectelor definite de programator.\n",
        "\n",
        "Să vedem câteva exemple:"
      ]
    },
    {
      "cell_type": "code",
      "execution_count": null,
      "metadata": {
        "colab": {
          "base_uri": "https://localhost:8080/"
        },
        "id": "hZIN9c1lTtUg",
        "outputId": "b90fcb5d-2846-4414-f309-c81f0c8a9090"
      },
      "outputs": [
        {
          "data": {
            "text/plain": [
              "5"
            ]
          },
          "execution_count": 28,
          "metadata": {},
          "output_type": "execute_result"
        }
      ],
      "source": [
        "# Suprascriem operatorul scădere\n",
        "class Numar:\n",
        "  def __init__(self, val): \n",
        "    self.val = val\n",
        "     \n",
        "  def __sub__(self, sub):\n",
        "    return Numar(self.val - sub) # Rezultatul e o nouă instantă\n",
        "\n",
        "O1 = Numar(10) # se apelează Numar.__init__(O1, 10)\n",
        "O2 = O1 - 5    # se apelează Numar.__sub__(O1, 5)\n",
        "O2.val         # O2 e o altă instanță a Numar"
      ]
    },
    {
      "cell_type": "code",
      "execution_count": null,
      "metadata": {
        "colab": {
          "base_uri": "https://localhost:8080/"
        },
        "id": "9EnduKdaT0l9",
        "outputId": "b1eecf23-779b-43fb-aeb3-7575b5bf7b71"
      },
      "outputs": [
        {
          "data": {
            "text/plain": [
              "3"
            ]
          },
          "execution_count": 29,
          "metadata": {},
          "output_type": "execute_result"
        }
      ],
      "source": [
        "# Suprascriem operatorul de indexare\n",
        "class Numar:\n",
        "  def __getitem__(self, index):\n",
        "    return index+1\n",
        "O = Numar()\n",
        "O[2]        # Se apelează O.__getitem__(2)"
      ]
    },
    {
      "cell_type": "code",
      "execution_count": null,
      "metadata": {
        "colab": {
          "base_uri": "https://localhost:8080/"
        },
        "id": "SUWe97bbU9Wd",
        "outputId": "6275c5b2-6c1f-4862-f818-5989f15cf3d3"
      },
      "outputs": [
        {
          "data": {
            "text/plain": [
              "19"
            ]
          },
          "execution_count": 30,
          "metadata": {},
          "output_type": "execute_result"
        }
      ],
      "source": [
        "# Suprascriem operatorul de returnare valoare atribut\n",
        "class Persoana:\n",
        "  def __getattr__(self, attrname):\n",
        "    if attrname == 'varsta':\n",
        "      return 19\n",
        "    else:\n",
        "      return -1\n",
        "O = Persoana()\n",
        "O.varsta  # Se apelează O.__getattr__(\"varsta\")"
      ]
    },
    {
      "cell_type": "code",
      "execution_count": null,
      "metadata": {
        "colab": {
          "base_uri": "https://localhost:8080/"
        },
        "id": "urHIl2OMVGqf",
        "outputId": "9f7cc225-6ed1-45d5-b837-4fe9c35c5a09"
      },
      "outputs": [
        {
          "data": {
            "text/plain": [
              "-1"
            ]
          },
          "execution_count": 31,
          "metadata": {},
          "output_type": "execute_result"
        }
      ],
      "source": [
        "# Pentru alte atribute se returnează -1\n",
        "O.nume"
      ]
    },
    {
      "cell_type": "code",
      "execution_count": null,
      "metadata": {
        "colab": {
          "base_uri": "https://localhost:8080/"
        },
        "id": "DSHvjcfdPTVf",
        "outputId": "7e641ee8-b2c0-48e6-a6fa-664025c3b019"
      },
      "outputs": [
        {
          "data": {
            "text/plain": [
              "-1"
            ]
          },
          "execution_count": 32,
          "metadata": {},
          "output_type": "execute_result"
        }
      ],
      "source": [
        "# Inclusiv cele ce nu sunt definite în clasă\n",
        "O.prenume"
      ]
    },
    {
      "cell_type": "code",
      "execution_count": null,
      "metadata": {
        "colab": {
          "base_uri": "https://localhost:8080/"
        },
        "id": "64azTu8CVLKT",
        "outputId": "1e371163-ada3-49da-866f-73aafd81df23"
      },
      "outputs": [
        {
          "data": {
            "text/plain": [
              "29"
            ]
          },
          "execution_count": 33,
          "metadata": {},
          "output_type": "execute_result"
        }
      ],
      "source": [
        "# Suprascriem operatorul de setare atribut\n",
        "class Persoana:\n",
        "  def __setattr__(self, atribut, val):\n",
        "    if atribut == 'varsta':\n",
        "      self.__dict__[atribut] = val + 10 # Modificăm valoarea de atribuire\n",
        "    else:\n",
        "      raise AttributeError(atribut + ' nu poate fi modificat')\n",
        "O = Persoana()\n",
        "O.varsta = 19 # Se apeleaza O.__setattr__('varsta',19)\n",
        "O.varsta"
      ]
    },
    {
      "cell_type": "code",
      "execution_count": null,
      "metadata": {
        "colab": {
          "base_uri": "https://localhost:8080/",
          "height": 312
        },
        "id": "CQWg2rYBVO_v",
        "outputId": "8b9bc006-9475-4b3b-ba76-f0e284d3d457"
      },
      "outputs": [
        {
          "ename": "AttributeError",
          "evalue": "ignored",
          "output_type": "error",
          "traceback": [
            "\u001b[0;31m---------------------------------------------------------------------------\u001b[0m",
            "\u001b[0;31mAttributeError\u001b[0m                            Traceback (most recent call last)",
            "\u001b[0;32m<ipython-input-34-ea68eec40c8e>\u001b[0m in \u001b[0;36m<module>\u001b[0;34m\u001b[0m\n\u001b[1;32m      1\u001b[0m \u001b[0;31m# Eroare\u001b[0m\u001b[0;34m\u001b[0m\u001b[0;34m\u001b[0m\u001b[0;34m\u001b[0m\u001b[0m\n\u001b[0;32m----> 2\u001b[0;31m \u001b[0mO\u001b[0m\u001b[0;34m.\u001b[0m\u001b[0mnume\u001b[0m \u001b[0;34m=\u001b[0m \u001b[0;34m'Ana'\u001b[0m\u001b[0;34m\u001b[0m\u001b[0;34m\u001b[0m\u001b[0m\n\u001b[0m",
            "\u001b[0;32m<ipython-input-33-0d12a5fd57ac>\u001b[0m in \u001b[0;36m__setattr__\u001b[0;34m(self, atribut, val)\u001b[0m\n\u001b[1;32m      5\u001b[0m       \u001b[0mself\u001b[0m\u001b[0;34m.\u001b[0m\u001b[0m__dict__\u001b[0m\u001b[0;34m[\u001b[0m\u001b[0matribut\u001b[0m\u001b[0;34m]\u001b[0m \u001b[0;34m=\u001b[0m \u001b[0mval\u001b[0m \u001b[0;34m+\u001b[0m \u001b[0;36m10\u001b[0m \u001b[0;31m# Modificăm valoarea de atribuire\u001b[0m\u001b[0;34m\u001b[0m\u001b[0;34m\u001b[0m\u001b[0m\n\u001b[1;32m      6\u001b[0m     \u001b[0;32melse\u001b[0m\u001b[0;34m:\u001b[0m\u001b[0;34m\u001b[0m\u001b[0;34m\u001b[0m\u001b[0m\n\u001b[0;32m----> 7\u001b[0;31m       \u001b[0;32mraise\u001b[0m \u001b[0mAttributeError\u001b[0m\u001b[0;34m(\u001b[0m\u001b[0matribut\u001b[0m \u001b[0;34m+\u001b[0m \u001b[0;34m' nu poate fi modificat'\u001b[0m\u001b[0;34m)\u001b[0m\u001b[0;34m\u001b[0m\u001b[0;34m\u001b[0m\u001b[0m\n\u001b[0m\u001b[1;32m      8\u001b[0m \u001b[0mO\u001b[0m \u001b[0;34m=\u001b[0m \u001b[0mPersoana\u001b[0m\u001b[0;34m(\u001b[0m\u001b[0;34m)\u001b[0m\u001b[0;34m\u001b[0m\u001b[0;34m\u001b[0m\u001b[0m\n\u001b[1;32m      9\u001b[0m \u001b[0mO\u001b[0m\u001b[0;34m.\u001b[0m\u001b[0mvarsta\u001b[0m \u001b[0;34m=\u001b[0m \u001b[0;36m19\u001b[0m \u001b[0;31m# Se apeleaza O.__setattr__('varsta',19)\u001b[0m\u001b[0;34m\u001b[0m\u001b[0;34m\u001b[0m\u001b[0m\n",
            "\u001b[0;31mAttributeError\u001b[0m: nume nu poate fi modificat"
          ]
        }
      ],
      "source": [
        "# Eroare\n",
        "O.nume = 'Ana'"
      ]
    },
    {
      "cell_type": "markdown",
      "metadata": {
        "id": "Vuu_F5SlVtgq"
      },
      "source": [
        "**<font color=\"#1589FF\">Modificarea reprezentărilor text ale obiectelor prin \\_\\_repr\\_\\_ și \\_\\_str\\_\\_</font>**\n",
        "\n",
        "* `__str__` este folosită de `print()`;\n",
        "\n",
        "* `__repr__` este folosită de alte procese și ar trebui să afișeze o reprezentare ce poate fi utilizată la crearea unei noi instanțe a aceleiași clase."
      ]
    },
    {
      "cell_type": "code",
      "execution_count": null,
      "metadata": {
        "colab": {
          "base_uri": "https://localhost:8080/"
        },
        "id": "a3hhvZzZPsMf",
        "outputId": "a4b6052c-0f7d-446c-b8cd-9406005e34df"
      },
      "outputs": [
        {
          "name": "stdout",
          "output_type": "stream",
          "text": [
            "('Reprezentarea __str__: ', <__main__.Persoana object at 0x7fc101597c10>)\n"
          ]
        },
        {
          "data": {
            "text/plain": [
              "('Reprezentarea __repr__: ', <__main__.Persoana at 0x7fc101597c10>)"
            ]
          },
          "execution_count": 35,
          "metadata": {},
          "output_type": "execute_result"
        }
      ],
      "source": [
        "# Versiuni implicite pentru repr și str\n",
        "class Persoana():\n",
        "  def __init__(self,nume, varsta):\n",
        "    self.nume=nume\n",
        "    self.varsta=varsta\n",
        "\n",
        "O = Persoana('Ana', 19)\n",
        "print((\"Reprezentarea __str__: \", O))\n",
        "\"Reprezentarea __repr__: \", O "
      ]
    },
    {
      "cell_type": "code",
      "execution_count": null,
      "metadata": {
        "colab": {
          "base_uri": "https://localhost:8080/"
        },
        "id": "DHXuen8aVraX",
        "outputId": "a95d954d-9feb-4567-f47f-725f15532d02"
      },
      "outputs": [
        {
          "name": "stdout",
          "output_type": "stream",
          "text": [
            "('Reprezentarea __str__:', Numele și vârsta sunt (Ana,19))\n"
          ]
        },
        {
          "data": {
            "text/plain": [
              "('Reprezentarea __repr__:', Numele și vârsta sunt (Ana,19))"
            ]
          },
          "execution_count": 36,
          "metadata": {},
          "output_type": "execute_result"
        }
      ],
      "source": [
        "# Modificăm __str__ și __repr__\n",
        "class Persoana():\n",
        "  def __init__(self,nume, varsta):\n",
        "    self.nume=nume\n",
        "    self.varsta=varsta\n",
        "  def __str__(self):\n",
        "    return 'Numele este %s.' % self.nume # User-friendly string\n",
        "  def __repr__(self):\n",
        "    return 'Numele și vârsta sunt (%s,%s)' % (self.nume, self.varsta)\n",
        "\n",
        "# Instanțiem un obiect\n",
        "O = Persoana('Ana', 19)\n",
        "print((\"Reprezentarea __str__:\", O)) # Se apeleaza __str__\n",
        "\"Reprezentarea __repr__:\", O # Se apeleaza __repr__"
      ]
    },
    {
      "cell_type": "code",
      "execution_count": null,
      "metadata": {
        "colab": {
          "base_uri": "https://localhost:8080/"
        },
        "id": "7GMWxcmTV45l",
        "outputId": "ec4fa30c-1a86-49c7-ccc2-8079c2970bda"
      },
      "outputs": [
        {
          "data": {
            "text/plain": [
              "('Numele este Ana.', 'Numele și vârsta sunt (Ana,19)')"
            ]
          },
          "execution_count": 37,
          "metadata": {},
          "output_type": "execute_result"
        }
      ],
      "source": [
        "# Putem apela și explicit funcțiile asociate acestor operatori\n",
        "str(O), repr(O)"
      ]
    },
    {
      "cell_type": "markdown",
      "metadata": {
        "id": "QJJiXJstWt4Y"
      },
      "source": [
        "**<font color=\"#1589FF\">Operatori relaționali</font>**\n",
        "\n",
        "Nu există relații implicite între obiecte. Dacă două obiecte nu sunt `==`, nu înseamnă că `!=` va fi adevărat. De aceea e util uneori să definim aceste relații. Se permite supraîncărcarea tuturor operatorilor relaționali."
      ]
    },
    {
      "cell_type": "code",
      "execution_count": null,
      "metadata": {
        "colab": {
          "base_uri": "https://localhost:8080/"
        },
        "id": "WyKgeIjyWy9a",
        "outputId": "96bc16b3-fca5-406b-b939-5816f4c76e57"
      },
      "outputs": [
        {
          "name": "stdout",
          "output_type": "stream",
          "text": [
            "True\n",
            "False\n"
          ]
        }
      ],
      "source": [
        "# Supraîncărcare operatori relaționali\n",
        "class Persoana:\n",
        "  def __init__(self, nume, varsta):\n",
        "    self.nume=nume\n",
        "    self.varsta=varsta\n",
        "  # Mai mare decât  \n",
        "  def __gt__(self, val): \n",
        "    return self.varsta > val\n",
        "  # Mai mic decât\n",
        "  def __lt__(self, val):\n",
        "    return self.varsta < val\n",
        "    \n",
        "O = Persoana('Ana', 19)\n",
        "print(O > 12) # Se apeleaza O.__gt__(12)\n",
        "print(O < 12) # Se apeleaza O.__lt__(12)"
      ]
    },
    {
      "cell_type": "markdown",
      "metadata": {
        "id": "jYBh6BGCXG4S"
      },
      "source": [
        "**<font color=\"#1589FF\">Operatorul de ștergere \\_\\_del\\_\\_</font>** "
      ]
    },
    {
      "cell_type": "code",
      "execution_count": null,
      "metadata": {
        "colab": {
          "base_uri": "https://localhost:8080/"
        },
        "id": "WBdStB8fXLzn",
        "outputId": "01560824-8cc1-4304-8d8f-a6cc6763106e"
      },
      "outputs": [
        {
          "name": "stdout",
          "output_type": "stream",
          "text": [
            "Persoana Maria a dispărut.\n"
          ]
        }
      ],
      "source": [
        "# Suprascriem operatorul de ștergere a unui obiect\n",
        "class Persoana:\n",
        "  def __init__(self, nume, varsta):\n",
        "    self.nume=nume\n",
        "    self.varsta=varsta\n",
        "\n",
        "  def __del__(self):\n",
        "    print('Persoana ' + self.nume + ' a dispărut.')\n",
        "\n",
        "PP = Persoana('Maria', 18)\n",
        "# Ștergem obiectul\n",
        "del PP # Se apelează PP.__del__()"
      ]
    },
    {
      "cell_type": "markdown",
      "metadata": {
        "id": "odU5vQSy2dte"
      },
      "source": [
        "> **NOTĂ!** datorită mecanismului de funcționare a Google Colab prin care garbage collection să nu fie aplicat imediat, s-ar putea ca la rularea celulei anterioare să nu se șteargă obiectul. Pentru a ne asigura că acest lucru se întâmplă, putem crea un script cu codul anterior și să îl rulăm independent."
      ]
    },
    {
      "cell_type": "code",
      "execution_count": null,
      "metadata": {
        "colab": {
          "base_uri": "https://localhost:8080/"
        },
        "id": "aNK0VVqvXStG",
        "outputId": "3d5cb3ea-a91d-404b-c383-edeba2fc2e3f"
      },
      "outputs": [
        {
          "name": "stdout",
          "output_type": "stream",
          "text": [
            "Writing test_del.py\n"
          ]
        }
      ],
      "source": [
        "%%writefile test_del.py\n",
        "# Suprascriem operatorul de ștergere a unui obiect\n",
        "class Persoana:\n",
        "  def __init__(self, nume, varsta):\n",
        "    self.nume=nume\n",
        "    self.varsta=varsta\n",
        "\n",
        "  def __del__(self):\n",
        "    print('Persoana ' + self.nume + ' a dispărut.')\n",
        "\n",
        "PP = Persoana('Maria', 18)\n",
        "# Ștergem obiectul\n",
        "del PP # Se apelează PP.__del__()"
      ]
    },
    {
      "cell_type": "code",
      "execution_count": null,
      "metadata": {
        "colab": {
          "base_uri": "https://localhost:8080/"
        },
        "id": "6pxTCKUo2sHf",
        "outputId": "a4cb18ba-3ae9-4653-a4d2-558b5806d172"
      },
      "outputs": [
        {
          "name": "stdout",
          "output_type": "stream",
          "text": [
            "Persoana Maria a dispărut.\n"
          ]
        }
      ],
      "source": [
        "!python test_del.py"
      ]
    },
    {
      "cell_type": "markdown",
      "metadata": {
        "id": "BLNvAkgeY6z0"
      },
      "source": [
        "##<font color=\"#e8710a\">Decoratori</font>\n",
        "\n",
        "Decoratorii sunt un tipar de design în Python ce permite adăugarea unor funcționalități asupra unor obiecte, fără a modifica structura obiectelor. \n",
        "Decoratorii pot fi definiți prin intermediul funcțiilor sau claselor și sunt aplicați asupra unor funcții sau metode. Numele decoratorului e precedat de `@` și apar înaintea definirii funcției.\n",
        "\n",
        "Există o serie de decoratori predefiniți. De exemplu, metodele statice sau de clasă pot fi specificate și prin intermediul decoratorilor:\n",
        "\n"
      ]
    },
    {
      "cell_type": "code",
      "execution_count": null,
      "metadata": {
        "id": "BDV1SNAPY5G_"
      },
      "outputs": [],
      "source": [
        "class Persoana:\n",
        "  # Metodă a instanței\n",
        "  def imeth(self, x): \n",
        "    print([self, x])\n",
        "  \n",
        "  # Metodă statică\n",
        "  @staticmethod\n",
        "  def smeth(x): \n",
        "    print([x])\n",
        "  \n",
        "  # Metodă de clasă\n",
        "  @classmethod\n",
        "  def cmeth(cls, x):\n",
        "    print([cls, x])"
      ]
    },
    {
      "cell_type": "markdown",
      "metadata": {
        "id": "6Wu_WcqWmbKn"
      },
      "source": [
        "Putem crea noi o funcție decorator, va trebui să creăm o funcție ce ia ca parametru o altă funcție și returnează rezultatul modificat al funcției parametru:"
      ]
    },
    {
      "cell_type": "code",
      "execution_count": null,
      "metadata": {
        "colab": {
          "base_uri": "https://localhost:8080/",
          "height": 35
        },
        "id": "D0ipXFo3mjib",
        "outputId": "78bb6ef4-e34b-4d7a-e629-a5fb95fa75b6"
      },
      "outputs": [
        {
          "data": {
            "application/vnd.google.colaboratory.intrinsic+json": {
              "type": "string"
            },
            "text/plain": [
              "'SALUT'"
            ]
          },
          "execution_count": 43,
          "metadata": {},
          "output_type": "execute_result"
        }
      ],
      "source": [
        "# Funcție decorator\n",
        "def litere_mari(functie):\n",
        "    def modificare():\n",
        "        func = functie()\n",
        "        litere_mari = func.upper()\n",
        "        return litere_mari\n",
        "    return modificare\n",
        "\n",
        "def salut():\n",
        "    return 'salut'\n",
        "\n",
        "# Versiunea standard de aplicare a înlănțuirii de funcții\n",
        "decorate = litere_mari(salut)\n",
        "decorate()"
      ]
    },
    {
      "cell_type": "code",
      "execution_count": null,
      "metadata": {
        "colab": {
          "base_uri": "https://localhost:8080/",
          "height": 35
        },
        "id": "zVlPkQGMm1ec",
        "outputId": "443921d3-63c3-45f4-87e7-0fcdbfc7c68a"
      },
      "outputs": [
        {
          "data": {
            "application/vnd.google.colaboratory.intrinsic+json": {
              "type": "string"
            },
            "text/plain": [
              "'SALUT'"
            ]
          },
          "execution_count": 44,
          "metadata": {},
          "output_type": "execute_result"
        }
      ],
      "source": [
        "# Versiunea cu decorator\n",
        "@litere_mari\n",
        "def salut():\n",
        "    return 'salut'\n",
        "\n",
        "salut()"
      ]
    },
    {
      "cell_type": "markdown",
      "metadata": {
        "id": "Gspy42rzJiv5"
      },
      "source": [
        "Se pot aplica și mai mulți decoratori asupra aceleiași funcții:"
      ]
    },
    {
      "cell_type": "code",
      "execution_count": null,
      "metadata": {
        "colab": {
          "base_uri": "https://localhost:8080/",
          "height": 35
        },
        "id": "0J_-EDntJloz",
        "outputId": "df6ccb78-b51a-4c88-e1a5-7e839c59047c"
      },
      "outputs": [
        {
          "data": {
            "application/vnd.google.colaboratory.intrinsic+json": {
              "type": "string"
            },
            "text/plain": [
              "'SALUTSALUTSALUT'"
            ]
          },
          "execution_count": 45,
          "metadata": {},
          "output_type": "execute_result"
        }
      ],
      "source": [
        "# Definim un nou decorator\n",
        "def multiplicare(functie):\n",
        "    def modificare():\n",
        "        return functie() * 3\n",
        "    return modificare\n",
        "\n",
        "# Aplicaăm ambii decoratori asupra funcției salut()\n",
        "@multiplicare\n",
        "@litere_mari\n",
        "def salut():\n",
        "    return 'salut'\n",
        "salut()"
      ]
    },
    {
      "cell_type": "markdown",
      "metadata": {
        "id": "ViTKQoFTm99x"
      },
      "source": [
        "În cazul claselor decorator se aplică același principiu, dar va trebui să specificăm comportamentul decoratorului în cadrul metodei `__call__`. Această metodă este apelată atunci când utilizăm o instanță a clasei ca apelator, fapt ce poate părea ciudat inițial, dar putem să asociem acest mecanism unui apel de funcție. Cu alte cuvinte, considerăm instanța ca fiind o funcție, iar la apel se execută codul definit în metoda `__call__`"
      ]
    },
    {
      "cell_type": "code",
      "execution_count": null,
      "metadata": {
        "colab": {
          "base_uri": "https://localhost:8080/"
        },
        "id": "EHexlLRBZLxl",
        "outputId": "3facab98-4c28-47fb-98bf-a7f7fd3b1d98"
      },
      "outputs": [
        {
          "name": "stdout",
          "output_type": "stream",
          "text": [
            "Apel constructor\n",
            "Apel __call__\n",
            "Suma valorilor este: 7\n"
          ]
        }
      ],
      "source": [
        "class A:\n",
        "    def __init__(self):\n",
        "        print(\"Apel constructor\")\n",
        "    \n",
        "    def __call__(self, a, b):\n",
        "        print(\"Apel __call__\")\n",
        "        print(\"Suma valorilor este:\", a+b)\n",
        "              \n",
        "O = A() # Se apelează constructorul\n",
        "O(3, 4) # Tratăm obiectul ca apelator. Se rulează codul din __call__"
      ]
    },
    {
      "cell_type": "markdown",
      "metadata": {
        "id": "EAsh964tMagz"
      },
      "source": [
        "Să definim astfel o clasă decorator:"
      ]
    },
    {
      "cell_type": "code",
      "execution_count": null,
      "metadata": {
        "colab": {
          "base_uri": "https://localhost:8080/"
        },
        "id": "1k2eixWlL39A",
        "outputId": "1b1cb942-0d18-452a-9ffe-25624851d009"
      },
      "outputs": [
        {
          "name": "stdout",
          "output_type": "stream",
          "text": [
            "SALUT\n"
          ]
        }
      ],
      "source": [
        "# Definim o clasă decorator\n",
        "class LitereMari:\n",
        "    def __init__(self, functie):\n",
        "        self.functie = functie\n",
        "        \n",
        "    def __call__(self):\n",
        "        return self.functie().upper()\n",
        "            \n",
        "# Aplicăm decoratorul asupra funcției\n",
        "@LitereMari\n",
        "def salut():\n",
        "    return \"salut\"\n",
        "\n",
        "print(salut())  "
      ]
    },
    {
      "cell_type": "code",
      "execution_count": null,
      "metadata": {
        "colab": {
          "base_uri": "https://localhost:8080/",
          "height": 35
        },
        "id": "261dIS-yNBQ7",
        "outputId": "f22e7541-cf0d-497a-8473-97bcdf088a20"
      },
      "outputs": [
        {
          "data": {
            "application/vnd.google.colaboratory.intrinsic+json": {
              "type": "string"
            },
            "text/plain": [
              "'SALUT'"
            ]
          },
          "execution_count": 48,
          "metadata": {},
          "output_type": "execute_result"
        }
      ],
      "source": [
        "# Echivalent cu:\n",
        "O = LitereMari(salut)\n",
        "O()"
      ]
    },
    {
      "cell_type": "markdown",
      "metadata": {
        "id": "ik-mqi1JZgJF"
      },
      "source": [
        "##<font color=\"#e8710a\">Excepții</font>\n",
        "\n",
        "Excepțiile sunt situații ce pot să apară în rularea codului și pe care programatorul le poate anticipa. Astfel încât, acesta poate să adauge o metodă de tratare a excepției pentru ca aplicația să ruleze în continuare fără probleme sau să informeze utilizatorul într-un mod adecvat despre situația apărută.\n",
        "\n",
        "Pentru tratarea excepțiilor în Python avem la dispoziție următoarele instrucțiuni:\n",
        "\n",
        "\n",
        "* `try/except` - prinde și tratează excepții ridicate de Python sau de programator\n",
        "* `try/finally` - realizează acțiuni de ”curățare”/finalizare și dacă au apărut excepții și dacă nu\n",
        "* `raise` - ridică o excepție manual în cod\n",
        "* `assert` - ridică o excepție condiționată în cod\n",
        "* `with/as` - manageri de context din Python2.6+\n",
        "\n",
        "\n",
        "Sintaxa generală pentru tratarea unei excepții este:\n",
        "\n",
        "```\n",
        "try:\n",
        "   # Secventa de cod ce poate arunca o excepție\n",
        "except Exceptia1:\n",
        "   # Tratarea excepției1\n",
        "except Exceptia2 as e:\n",
        "   # Tratarea excepției2\n",
        "except (Exceptia3, Excepția4):\n",
        "   # Tratarea excepției3 și excepției4\n",
        "except (Exceptia5, Excepția6) as e:\n",
        "   # Tratarea excepției4 și excepției6\n",
        "except:\n",
        "   # Prinde toate excepțiile ce nu au fost tratate anterior\n",
        "...\n",
        "else:\n",
        "   # Se execută dacă nu au apărul excepții\n",
        "finally:\n",
        "   # Se execută oricum la ieșirea din bloc\n",
        "```\n",
        "\n",
        "Ramurile `except` trebuie să trateze excepțiile particulare mai întâi și mai apoi cele generale. Ramura `else` se execută doar dacă nu au apărul excepții în blocul `try`.\n",
        "\n",
        "`Finally` este rulat oricum:\n",
        "• a apărut o excepție ce a fost tratată;\n",
        "• a apărut o excepție ce nu a fost tratată;\n",
        "• nu a apărut nicio excepție;\n",
        "• a apărut o excepție în una dintre ramurile `except`.\n",
        "\n",
        "\n",
        "Să vedem câteva exemple:"
      ]
    },
    {
      "cell_type": "code",
      "execution_count": null,
      "metadata": {
        "colab": {
          "base_uri": "https://localhost:8080/"
        },
        "id": "26P8JlP6Zbkb",
        "outputId": "85936aff-ca1c-4359-fbb7-e994219ab07a"
      },
      "outputs": [
        {
          "name": "stdout",
          "output_type": "stream",
          "text": [
            "Împărțire cu 0\n",
            "division by zero\n"
          ]
        }
      ],
      "source": [
        "# Forțăm o excepție de împărțire cu 0\n",
        "try:\n",
        "  a = 3/0\n",
        "except ArithmeticError as e:\n",
        "  print(\"Împărțire cu 0\")\n",
        "  # Afișăm mesajul asociat excepției\n",
        "  print(e)"
      ]
    },
    {
      "cell_type": "code",
      "execution_count": null,
      "metadata": {
        "colab": {
          "base_uri": "https://localhost:8080/"
        },
        "id": "3HIQJmxT4Uv8",
        "outputId": "f6566b37-5f74-48db-ebd0-77a4b03a1537"
      },
      "outputs": [
        {
          "name": "stdout",
          "output_type": "stream",
          "text": [
            "Nu a apărul nicio excepție\n"
          ]
        }
      ],
      "source": [
        "# Nu generăm nicio excepție în blocul try\n",
        "try:\n",
        "  a = 2+3\n",
        "except:\n",
        "  print(\"A apărut o excepție\")\n",
        "else:\n",
        "  print(\"Nu a apărul nicio excepție\")"
      ]
    },
    {
      "cell_type": "code",
      "execution_count": null,
      "metadata": {
        "colab": {
          "base_uri": "https://localhost:8080/"
        },
        "id": "r-2Eoe5y4rsa",
        "outputId": "150a87aa-3e93-474e-f299-ec2c8c43f8df"
      },
      "outputs": [
        {
          "name": "stdout",
          "output_type": "stream",
          "text": [
            "Nu a apărut nicio excepție\n",
            "Afișăm oricum acest mesaj\n"
          ]
        }
      ],
      "source": [
        "# Adăugăm blocul finally\n",
        "try:\n",
        "  a = 2+3\n",
        "except:\n",
        "  print(\"A apărut o excepție\")\n",
        "else:\n",
        "  print(\"Nu a apărut nicio excepție\")\n",
        "finally:\n",
        "  print(\"Afișăm oricum acest mesaj\")"
      ]
    },
    {
      "cell_type": "code",
      "execution_count": null,
      "metadata": {
        "colab": {
          "base_uri": "https://localhost:8080/"
        },
        "id": "9aeBvzmy47IF",
        "outputId": "c5df0d93-fce2-4aae-a741-ae4285698ff5"
      },
      "outputs": [
        {
          "name": "stdout",
          "output_type": "stream",
          "text": [
            "division by zero\n"
          ]
        }
      ],
      "source": [
        "# Creăm două excepții în blocul try\n",
        "try:\n",
        "  a = 3/0\n",
        "  f = open(\"fisier_inexistent.txt\")\n",
        "# Este tratată doar prima excepție apărută în cod\n",
        "except ArithmeticError as e:\n",
        "  print(e)\n",
        "except FileNotFoundError as e:\n",
        "  print(e)\n",
        "except:\n",
        "  print(\"A apărut o eroare necunoscută\")"
      ]
    },
    {
      "cell_type": "markdown",
      "metadata": {
        "id": "LBvyqbQ55P8Q"
      },
      "source": [
        "Din codul anterior ar trebui să ne fie clar faptul că fiecare secvență de cod ce poate arunca o excepție va trebui să fie încadrată de un bloc `try-except` propriu."
      ]
    },
    {
      "cell_type": "code",
      "execution_count": null,
      "metadata": {
        "colab": {
          "base_uri": "https://localhost:8080/"
        },
        "id": "Phn3F_Nh5tg3",
        "outputId": "50a53e70-70a5-44f6-c78b-0e433288c450"
      },
      "outputs": [
        {
          "name": "stdout",
          "output_type": "stream",
          "text": [
            "[Errno 2] No such file or directory: 'fisier_inexistent.txt'\n"
          ]
        }
      ],
      "source": [
        "# Blocuri try imbricate\n",
        "try:\n",
        "  a = 3/1\n",
        "  try:\n",
        "    f = open(\"fisier_inexistent.txt\")\n",
        "  except FileNotFoundError as e:\n",
        "    print(e)\n",
        "except ArithmeticError as e:\n",
        "  print(e)\n",
        "except:\n",
        "  print(\"A apărut o eroare necunoscută\")"
      ]
    },
    {
      "cell_type": "markdown",
      "metadata": {
        "id": "k4iIW6WF8tZE"
      },
      "source": [
        "În cazul în care nu tratăm excepțiile, acestea duc la terminarea abruptă a execuției codului, iar de cele mai multe ori mesajul afișat nu este informativ pentru utilizatorul final."
      ]
    },
    {
      "cell_type": "code",
      "execution_count": null,
      "metadata": {
        "colab": {
          "base_uri": "https://localhost:8080/",
          "height": 240
        },
        "id": "C06jwSB18spu",
        "outputId": "6d6801bf-07d3-42d3-dd74-c8141cee6d9c"
      },
      "outputs": [
        {
          "ename": "FileNotFoundError",
          "evalue": "ignored",
          "output_type": "error",
          "traceback": [
            "\u001b[0;31m---------------------------------------------------------------------------\u001b[0m",
            "\u001b[0;31mFileNotFoundError\u001b[0m                         Traceback (most recent call last)",
            "\u001b[0;32m<ipython-input-54-a24e5c385791>\u001b[0m in \u001b[0;36m<module>\u001b[0;34m\u001b[0m\n\u001b[1;32m      1\u001b[0m \u001b[0;31m# Încercăm deschiderea unui fișier inexistent\u001b[0m\u001b[0;34m\u001b[0m\u001b[0;34m\u001b[0m\u001b[0;34m\u001b[0m\u001b[0m\n\u001b[0;32m----> 2\u001b[0;31m \u001b[0mf\u001b[0m \u001b[0;34m=\u001b[0m \u001b[0mopen\u001b[0m\u001b[0;34m(\u001b[0m\u001b[0;34m'fisier_inexistent.txt'\u001b[0m\u001b[0;34m)\u001b[0m\u001b[0;34m\u001b[0m\u001b[0;34m\u001b[0m\u001b[0m\n\u001b[0m\u001b[1;32m      3\u001b[0m \u001b[0;34m\u001b[0m\u001b[0m\n\u001b[1;32m      4\u001b[0m \u001b[0;32mfor\u001b[0m \u001b[0mline\u001b[0m \u001b[0;32min\u001b[0m \u001b[0mf\u001b[0m\u001b[0;34m.\u001b[0m\u001b[0mreadlines\u001b[0m\u001b[0;34m(\u001b[0m\u001b[0;34m)\u001b[0m\u001b[0;34m:\u001b[0m\u001b[0;34m\u001b[0m\u001b[0;34m\u001b[0m\u001b[0m\n\u001b[1;32m      5\u001b[0m   \u001b[0mprint\u001b[0m\u001b[0;34m(\u001b[0m\u001b[0mline\u001b[0m\u001b[0;34m)\u001b[0m\u001b[0;34m\u001b[0m\u001b[0;34m\u001b[0m\u001b[0m\n",
            "\u001b[0;31mFileNotFoundError\u001b[0m: [Errno 2] No such file or directory: 'fisier_inexistent.txt'"
          ]
        }
      ],
      "source": [
        "# Încercăm deschiderea unui fișier inexistent\n",
        "f = open('fisier_inexistent.txt')\n",
        "\n",
        "for line in f.readlines():\n",
        "  print(line)"
      ]
    },
    {
      "cell_type": "code",
      "execution_count": null,
      "metadata": {
        "colab": {
          "base_uri": "https://localhost:8080/"
        },
        "id": "kwuZeHQB86nY",
        "outputId": "2658594f-d0ef-431d-efbe-8e1659d3cecb"
      },
      "outputs": [
        {
          "name": "stdout",
          "output_type": "stream",
          "text": [
            "Fisierul nu există\n",
            "Codul continuă să ruleze cu următoarea instrucțiune după try-except\n"
          ]
        }
      ],
      "source": [
        "# Tratăm excepția\n",
        "try:\n",
        "  f = open('fisier_inexistent.txt')\n",
        "\n",
        "  for line in f.readlines():\n",
        "    print(line)\n",
        "except FileNotFoundError:\n",
        "  print(\"Fisierul nu există\")\n",
        "\n",
        "print(\"Codul continuă să ruleze cu următoarea instrucțiune după try-except\")"
      ]
    },
    {
      "cell_type": "markdown",
      "metadata": {
        "id": "_mu9F0R9auyg"
      },
      "source": [
        "### <font color=\"#e8710a\">Ridicarea excepțiilor</font>\n",
        "\n",
        "Forțarea apariției unei excepții în cod sau ridicarea excepțiilor se poate realiza folosind instrucțiunea `raise` ce poate fi urmată de:\n",
        "\n",
        "* o instantă a unei clase excepție `raise instance`;\n",
        "* o clasă excepție, se va crea automat o instanță a clasei, `raise class`;\n",
        "* nimic și atunci se va ridica cea mai recentă excepție apărută, `raise`.\n"
      ]
    },
    {
      "cell_type": "code",
      "execution_count": null,
      "metadata": {
        "colab": {
          "base_uri": "https://localhost:8080/"
        },
        "id": "PD9vz405Z7Bn",
        "outputId": "770e2164-0c94-4361-c816-4bce3f9f10d9"
      },
      "outputs": [
        {
          "name": "stdout",
          "output_type": "stream",
          "text": [
            "A apărut o excepție în cod\n"
          ]
        }
      ],
      "source": [
        "# Ridicăm o instanță a unei clase excepție\n",
        "def func():\n",
        "  ie = ArithmeticError()\n",
        "  raise ie\n",
        "\n",
        "try:\n",
        "  func()\n",
        "except ArithmeticError as e:\n",
        "  print(\"A apărut o excepție în cod\")"
      ]
    },
    {
      "cell_type": "code",
      "execution_count": null,
      "metadata": {
        "colab": {
          "base_uri": "https://localhost:8080/"
        },
        "id": "khUhlk6u-VnR",
        "outputId": "4f9d0def-a473-4c0d-9cac-57d55fd5a488"
      },
      "outputs": [
        {
          "name": "stdout",
          "output_type": "stream",
          "text": [
            "A apărut o excepție în cod\n"
          ]
        }
      ],
      "source": [
        "# Ridicăm o clasă excepție, se crează automat o instanță a ei\n",
        "def func(): \n",
        "  raise ArithmeticError()\n",
        "\n",
        "try:\n",
        "  func()\n",
        "except ArithmeticError:\n",
        "   print(\"A apărut o excepție în cod\")"
      ]
    },
    {
      "cell_type": "code",
      "execution_count": null,
      "metadata": {
        "colab": {
          "base_uri": "https://localhost:8080/",
          "height": 383
        },
        "id": "4nbcfy2F-4jW",
        "outputId": "751cfe20-2c30-4c7f-d99d-bf330d43117a"
      },
      "outputs": [
        {
          "name": "stdout",
          "output_type": "stream",
          "text": [
            "A apărut o excepție în cod\n"
          ]
        },
        {
          "ename": "ArithmeticError",
          "evalue": "ignored",
          "output_type": "error",
          "traceback": [
            "\u001b[0;31m---------------------------------------------------------------------------\u001b[0m",
            "\u001b[0;31mArithmeticError\u001b[0m                           Traceback (most recent call last)",
            "\u001b[0;32m<ipython-input-58-8cdebadf3b9a>\u001b[0m in \u001b[0;36m<module>\u001b[0;34m\u001b[0m\n\u001b[1;32m      4\u001b[0m \u001b[0;34m\u001b[0m\u001b[0m\n\u001b[1;32m      5\u001b[0m \u001b[0;32mtry\u001b[0m\u001b[0;34m:\u001b[0m\u001b[0;34m\u001b[0m\u001b[0;34m\u001b[0m\u001b[0m\n\u001b[0;32m----> 6\u001b[0;31m   \u001b[0mfunc\u001b[0m\u001b[0;34m(\u001b[0m\u001b[0;34m)\u001b[0m\u001b[0;34m\u001b[0m\u001b[0;34m\u001b[0m\u001b[0m\n\u001b[0m\u001b[1;32m      7\u001b[0m \u001b[0;32mexcept\u001b[0m \u001b[0mArithmeticError\u001b[0m \u001b[0;32mas\u001b[0m \u001b[0me\u001b[0m\u001b[0;34m:\u001b[0m\u001b[0;34m\u001b[0m\u001b[0;34m\u001b[0m\u001b[0m\n\u001b[1;32m      8\u001b[0m    \u001b[0mprint\u001b[0m\u001b[0;34m(\u001b[0m\u001b[0;34m\"A apărut o excepție în cod\"\u001b[0m\u001b[0;34m)\u001b[0m\u001b[0;34m\u001b[0m\u001b[0;34m\u001b[0m\u001b[0m\n",
            "\u001b[0;32m<ipython-input-58-8cdebadf3b9a>\u001b[0m in \u001b[0;36mfunc\u001b[0;34m()\u001b[0m\n\u001b[1;32m      1\u001b[0m \u001b[0;31m# Ridicăm cea mai recentă excepție apărută\u001b[0m\u001b[0;34m\u001b[0m\u001b[0;34m\u001b[0m\u001b[0;34m\u001b[0m\u001b[0m\n\u001b[1;32m      2\u001b[0m \u001b[0;32mdef\u001b[0m \u001b[0mfunc\u001b[0m\u001b[0;34m(\u001b[0m\u001b[0;34m)\u001b[0m\u001b[0;34m:\u001b[0m\u001b[0;34m\u001b[0m\u001b[0;34m\u001b[0m\u001b[0m\n\u001b[0;32m----> 3\u001b[0;31m   \u001b[0;32mraise\u001b[0m \u001b[0mArithmeticError\u001b[0m\u001b[0;34m(\u001b[0m\u001b[0;34m)\u001b[0m\u001b[0;34m\u001b[0m\u001b[0;34m\u001b[0m\u001b[0m\n\u001b[0m\u001b[1;32m      4\u001b[0m \u001b[0;34m\u001b[0m\u001b[0m\n\u001b[1;32m      5\u001b[0m \u001b[0;32mtry\u001b[0m\u001b[0;34m:\u001b[0m\u001b[0;34m\u001b[0m\u001b[0;34m\u001b[0m\u001b[0m\n",
            "\u001b[0;31mArithmeticError\u001b[0m: "
          ]
        }
      ],
      "source": [
        "# Ridicăm cea mai recentă excepție apărută\n",
        "def func(): \n",
        "  raise ArithmeticError()\n",
        "\n",
        "try:\n",
        "  func()\n",
        "except ArithmeticError as e:\n",
        "   print(\"A apărut o excepție în cod\")\n",
        "   # Cea mai recentă excepție\n",
        "   raise"
      ]
    },
    {
      "cell_type": "markdown",
      "metadata": {
        "id": "eJymi-hAblet"
      },
      "source": [
        "###<font color=\"#e8710a\">Clase excepție definite de utilizator</font>\n",
        "\n",
        "În cazul în care dorim să programăm o excepție specifică, va trebui să definim o clasă ce moștenește clasa `Exception`. Clasele nou definite pot fi moștenite la rândul lor. Convenția de denumire a excepțiilor proprii este ca acestea să se termine cu stringul `Error`"
      ]
    },
    {
      "cell_type": "code",
      "execution_count": null,
      "metadata": {
        "colab": {
          "base_uri": "https://localhost:8080/"
        },
        "id": "mUAHm-Ky6q0Q",
        "outputId": "cb03f66a-ad17-49fd-85a1-9af82284082b"
      },
      "outputs": [
        {
          "name": "stdout",
          "output_type": "stream",
          "text": [
            "Valoarea nu poate fi negativă\n"
          ]
        }
      ],
      "source": [
        "# Definim o excepție proprie\n",
        "class ExceptiaMeaError(Exception):\n",
        "  def __str__(self):\n",
        "    return \"Valoarea nu poate fi negativă\"\n",
        "\n",
        "def func(val):\n",
        "  if val<0:\n",
        "    # Ridicăm excepția proprie\n",
        "    raise ExceptiaMeaError\n",
        "\n",
        "try:\n",
        "  func(-1)\n",
        "except ExceptiaMeaError as e:\n",
        "  print(e)"
      ]
    },
    {
      "cell_type": "code",
      "execution_count": null,
      "metadata": {
        "colab": {
          "base_uri": "https://localhost:8080/"
        },
        "id": "kLhGo3er7zKX",
        "outputId": "17e8fbfa-6330-4d6c-88fc-eb4d2a218762"
      },
      "outputs": [
        {
          "name": "stdout",
          "output_type": "stream",
          "text": [
            "Valoarea nu poate fi mai mică decât -5\n",
            "Valoarea nu poate fi mai mică decât -5\n"
          ]
        }
      ],
      "source": [
        "# Excepții derivate\n",
        "class ExceptiaMeaError(Exception):\n",
        "  def __str__(self):\n",
        "    return \"Valoarea nu poate fi negativă\"\n",
        "\n",
        "# Moștenim excepția proprie\n",
        "class ExceptiaMeaDerivataError(ExceptiaMeaError):\n",
        "  def __str__(self):\n",
        "    return \"Valoarea nu poate fi mai mică decât -5\"\n",
        "\n",
        "\n",
        "def func(val):\n",
        "  if val<-5:\n",
        "    # Ridicăm excepția derivată\n",
        "    raise ExceptiaMeaDerivataError\n",
        "  elif val<0:\n",
        "    # Ridicăm excepția de bază\n",
        "    raise ExceptiaMeaError\n",
        "\n",
        "try:\n",
        "  func(-10)\n",
        "except ExceptiaMeaDerivataError as e:\n",
        "  print(e)\n",
        "\n",
        "\n",
        "# Excepția de bază prinde și excepțiile derivate\n",
        "try:\n",
        "  func(-10)\n",
        "except ExceptiaMeaError as e:\n",
        "  print(e)"
      ]
    },
    {
      "cell_type": "markdown",
      "metadata": {
        "id": "SPmzdXwcb8DM"
      },
      "source": [
        "**<font color=\"#1589FF\">Excepții - observații</font>**\n",
        "\n",
        "Ce ar trebui încadrat de `try-except`:\n",
        "\n",
        "* Operații ce pot eșua în general, de exemplu acces la fișiere, sockets;\n",
        "* Totuși nu toate operațiile ce pot eșua ar trebui tratate de excepții, în special cele ce ar cauza rularea greșită a programului pe mai departe;\n",
        "* Trebuie implementate acțiuni de finalizare prin `try-finally` pentru a garanta execuția lor;\n",
        "* Uneori e utilă încadrarea unei întregi funcții într-o instrucțiune `try-except` și nu segmentarea excepției în cadrul funcției;\n",
        "* A se evita utilizarea unei ramuri `except` generale (goale);\n",
        "* A se evita utilizarea unor excepții foarte specifice, ci mai degrabă se utilizează clase de excepții."
      ]
    },
    {
      "cell_type": "markdown",
      "metadata": {
        "id": "F1lSWZyhcEqN"
      },
      "source": [
        "##**<font color=\"#e8710a\">Aserțiuni</font>**\n",
        "\n",
        "Aserțiunile sunt instrucțiuni ce verifică dacă anumite condiții din cod sunt îndeplinite. Sunt folosite mai degrabă în partea de testare (en. *debugging*) a codului. Aserțiunile mai pot fi utilizate și pentru ridicarea excepțiilor condiționate.\n",
        "\n",
        "Sintaxa generală este:\n",
        "\n",
        "`assert test, mesaj`\n",
        "\n",
        "`mesaj` e opțional. Se ridică un `AssertionError` dacă `test` e `False`.\n",
        "\n",
        "Aserțiunile pot fi dezactivate atunci când codul este trimis către clienții finali."
      ]
    },
    {
      "cell_type": "code",
      "execution_count": null,
      "metadata": {
        "colab": {
          "base_uri": "https://localhost:8080/",
          "height": 204
        },
        "id": "K1DeUVE_byHm",
        "outputId": "b1e72838-8cdc-48a0-aa69-04f193d5a30b"
      },
      "outputs": [
        {
          "ename": "AssertionError",
          "evalue": "ignored",
          "output_type": "error",
          "traceback": [
            "\u001b[0;31m---------------------------------------------------------------------------\u001b[0m",
            "\u001b[0;31mAssertionError\u001b[0m                            Traceback (most recent call last)",
            "\u001b[0;32m<ipython-input-61-b412d00636e3>\u001b[0m in \u001b[0;36m<module>\u001b[0;34m\u001b[0m\n\u001b[1;32m      1\u001b[0m \u001b[0;31m# Forțăm un AssertionError\u001b[0m\u001b[0;34m\u001b[0m\u001b[0;34m\u001b[0m\u001b[0;34m\u001b[0m\u001b[0m\n\u001b[1;32m      2\u001b[0m \u001b[0ma\u001b[0m \u001b[0;34m=\u001b[0m \u001b[0;36m3\u001b[0m\u001b[0;34m\u001b[0m\u001b[0;34m\u001b[0m\u001b[0m\n\u001b[0;32m----> 3\u001b[0;31m \u001b[0;32massert\u001b[0m \u001b[0ma\u001b[0m \u001b[0;34m<\u001b[0m \u001b[0;36m0\u001b[0m\u001b[0;34m\u001b[0m\u001b[0;34m\u001b[0m\u001b[0m\n\u001b[0m",
            "\u001b[0;31mAssertionError\u001b[0m: "
          ]
        }
      ],
      "source": [
        "# Forțăm un AssertionError\n",
        "a = 3\n",
        "assert a < 0"
      ]
    },
    {
      "cell_type": "code",
      "execution_count": null,
      "metadata": {
        "id": "iJYZpYdSIb2p"
      },
      "outputs": [],
      "source": [
        "# Assert corect, nu se afișează nimic\n",
        "assert a==3"
      ]
    },
    {
      "cell_type": "code",
      "execution_count": null,
      "metadata": {
        "colab": {
          "base_uri": "https://localhost:8080/",
          "height": 187
        },
        "id": "7Lv-q13oIOJO",
        "outputId": "4d9a51db-da1f-4df3-e0de-3aa106b37b5f"
      },
      "outputs": [
        {
          "ename": "AssertionError",
          "evalue": "ignored",
          "output_type": "error",
          "traceback": [
            "\u001b[0;31m---------------------------------------------------------------------------\u001b[0m",
            "\u001b[0;31mAssertionError\u001b[0m                            Traceback (most recent call last)",
            "\u001b[0;32m<ipython-input-63-da6753282976>\u001b[0m in \u001b[0;36m<module>\u001b[0;34m\u001b[0m\n\u001b[1;32m      1\u001b[0m \u001b[0;31m# Afișăm un mesaj asociat aserțiunii\u001b[0m\u001b[0;34m\u001b[0m\u001b[0;34m\u001b[0m\u001b[0;34m\u001b[0m\u001b[0m\n\u001b[0;32m----> 2\u001b[0;31m \u001b[0;32massert\u001b[0m \u001b[0ma\u001b[0m \u001b[0;34m<\u001b[0m \u001b[0;36m0\u001b[0m\u001b[0;34m,\u001b[0m \u001b[0;34m'Valoarea lui a trebuie să fie negativă'\u001b[0m\u001b[0;34m\u001b[0m\u001b[0;34m\u001b[0m\u001b[0m\n\u001b[0m",
            "\u001b[0;31mAssertionError\u001b[0m: Valoarea lui a trebuie să fie negativă"
          ]
        }
      ],
      "source": [
        "# Afișăm un mesaj asociat aserțiunii\n",
        "assert a < 0, 'Valoarea lui a trebuie să fie negativă'"
      ]
    },
    {
      "cell_type": "code",
      "execution_count": null,
      "metadata": {
        "colab": {
          "base_uri": "https://localhost:8080/",
          "height": 204
        },
        "id": "z2B6BtBfAr2c",
        "outputId": "1a7afc46-7f35-4937-ae9b-0a419d6ee43a"
      },
      "outputs": [
        {
          "ename": "AssertionError",
          "evalue": "ignored",
          "output_type": "error",
          "traceback": [
            "\u001b[0;31m---------------------------------------------------------------------------\u001b[0m",
            "\u001b[0;31mAssertionError\u001b[0m                            Traceback (most recent call last)",
            "\u001b[0;32m<ipython-input-64-99d2e021c142>\u001b[0m in \u001b[0;36m<module>\u001b[0;34m\u001b[0m\n\u001b[1;32m      2\u001b[0m \u001b[0mnumar\u001b[0m \u001b[0;34m=\u001b[0m \u001b[0;34m-\u001b[0m\u001b[0;36m2\u001b[0m\u001b[0;34m\u001b[0m\u001b[0;34m\u001b[0m\u001b[0m\n\u001b[1;32m      3\u001b[0m \u001b[0;32massert\u001b[0m \u001b[0mnumar\u001b[0m \u001b[0;34m>\u001b[0m \u001b[0;36m0\u001b[0m\u001b[0;34m,\u001b[0m\u001b[0;31m \u001b[0m\u001b[0;31m\\\u001b[0m\u001b[0;34m\u001b[0m\u001b[0;34m\u001b[0m\u001b[0m\n\u001b[0;32m----> 4\u001b[0;31m     \u001b[0;34mf\"Numar trebuie să fie mai mare decât 0, valoarea sa este: {numar}\"\u001b[0m\u001b[0;34m\u001b[0m\u001b[0;34m\u001b[0m\u001b[0m\n\u001b[0m",
            "\u001b[0;31mAssertionError\u001b[0m: Numar trebuie să fie mai mare decât 0, valoarea sa este: -2"
          ]
        }
      ],
      "source": [
        "# Putem utiliza valorile variabilelor testate în mesajul afișat\n",
        "numar = -2\n",
        "assert numar > 0, \\\n",
        "    f\"Numar trebuie să fie mai mare decât 0, valoarea sa este: {numar}\""
      ]
    },
    {
      "cell_type": "code",
      "execution_count": null,
      "metadata": {
        "colab": {
          "base_uri": "https://localhost:8080/",
          "height": 204
        },
        "id": "fYl9UgZSBJzm",
        "outputId": "79274fb8-5baf-4da5-d95c-1b3870784709"
      },
      "outputs": [
        {
          "ename": "AssertionError",
          "evalue": "ignored",
          "output_type": "error",
          "traceback": [
            "\u001b[0;31m---------------------------------------------------------------------------\u001b[0m",
            "\u001b[0;31mAssertionError\u001b[0m                            Traceback (most recent call last)",
            "\u001b[0;32m<ipython-input-65-67fcd610eb6f>\u001b[0m in \u001b[0;36m<module>\u001b[0;34m\u001b[0m\n\u001b[1;32m      1\u001b[0m \u001b[0mnumar\u001b[0m \u001b[0;34m=\u001b[0m \u001b[0;36m3.14\u001b[0m\u001b[0;34m\u001b[0m\u001b[0;34m\u001b[0m\u001b[0m\n\u001b[1;32m      2\u001b[0m \u001b[0;32massert\u001b[0m \u001b[0misinstance\u001b[0m\u001b[0;34m(\u001b[0m\u001b[0mnumar\u001b[0m\u001b[0;34m,\u001b[0m \u001b[0mint\u001b[0m\u001b[0;34m)\u001b[0m\u001b[0;34m,\u001b[0m\u001b[0;31m\\\u001b[0m\u001b[0;34m\u001b[0m\u001b[0;34m\u001b[0m\u001b[0m\n\u001b[0;32m----> 3\u001b[0;31m    \u001b[0;34mf\"Numar trebuie să fie întreg, valoarea sa este: {numar}\"\u001b[0m\u001b[0;34m\u001b[0m\u001b[0;34m\u001b[0m\u001b[0m\n\u001b[0m",
            "\u001b[0;31mAssertionError\u001b[0m: Numar trebuie să fie întreg, valoarea sa este: 3.14"
          ]
        }
      ],
      "source": [
        "numar = 3.14\n",
        "assert isinstance(numar, int),\\\n",
        "   f\"Numar trebuie să fie întreg, valoarea sa este: {numar}\""
      ]
    },
    {
      "cell_type": "markdown",
      "metadata": {
        "id": "oNqAvY8ScSzA"
      },
      "source": [
        "##**<font color=\"#e8710a\">Manageri de context: with/as</font>**\n",
        "\n",
        "Managerii de context reprezintă secvențe de cod ce pot să atribuie și să elibereze resurse în puncte specifice ale codului. Pot fi văzuți ca o alternativă simplificată a blocurilor `try-except`.\n",
        "Cel mai des întâlnit manager de context este instrucțiunea `with`, cu sintaxa generală:\n",
        "\n",
        "```\n",
        "with expression [as variable]:\n",
        "  with-block\n",
        "\n",
        "```\n",
        "\n",
        "Rezultatul expresiei trebuie să implementeze așa numitul [context management protocol](https://www.pythontutorial.net/advanced-python/python-context-managers/).\n",
        "Expresia poate să ruleze o secvență de cod înainte și după execuția blocului `with`. Variabilei nu trebuie să îi fie atribuit rezultatul expresiei.\n",
        "\n",
        "**Context Management Protocol - funcționare**\n",
        "\n",
        "* Expresia este evaluată și rezultă un obiect de tip context manager ce trebuie să aibă asociate metodele `__enter__` și `__exit__`;\n",
        "* Metoda `__enter__` este apelată, iar rezultatul returnat este atribuit clauzei `as` (dacă există);\n",
        "* Se execută `with-block`;\n",
        "* Dacă `with-block` ridică o excepție, metoda `__exit__` este apelată pe baza detaliilor excepției\n",
        "* Dacă această metodă returnează o valoare `False`, excepția este din nou ridicată, altfel excepția este terminată. Excepția ar trebui ridicată din nou pentru a fi propagată în afara instrucțiunii `with`;\n",
        "* Dacă `with-block` nu ridică o excepție, metoda `__exit__` este oricum apelată, dar parametrii trimiși către ea sunt `None`.\n",
        "\n",
        "\n",
        "Cea mai des întâlnită utilizare a managerilor de context este la manipularea fișierelor și asigură faptul că la ieșirea din blocul `with/as` fișierul este închis, indiferent ce se întâmplă în blocul `with-block`:"
      ]
    },
    {
      "cell_type": "code",
      "execution_count": null,
      "metadata": {
        "colab": {
          "base_uri": "https://localhost:8080/"
        },
        "id": "bVAveGOEIxVq",
        "outputId": "f4baba13-84ef-45f9-f2b9-239bc9f2267a"
      },
      "outputs": [
        {
          "name": "stdout",
          "output_type": "stream",
          "text": [
            "6\n"
          ]
        }
      ],
      "source": [
        "# Citire standard\n",
        "f = open(\"fis.txt\", \"w\")\n",
        "print (f.write(\"Salut!\"))\n",
        "f.close()\n",
        "# Nu e sigur că fișierul e închis dacă a apărut o excepție la scriere"
      ]
    },
    {
      "cell_type": "code",
      "execution_count": null,
      "metadata": {
        "id": "EKUkMrneJs6n"
      },
      "outputs": [],
      "source": [
        "# Implementare corectă cu try-except-finally\n",
        "f = open(\"fis.txt\", \"w\")\n",
        "\n",
        "try:\n",
        "    f.write(\"Salut!\")\n",
        "except Exception as e:\n",
        "    print(\"A apărut o excepție la scriere\")\n",
        "finally:\n",
        "    # Ne asigurăm că fișierul e închis în orice condiții\n",
        "    f.close()"
      ]
    },
    {
      "cell_type": "code",
      "execution_count": null,
      "metadata": {
        "colab": {
          "base_uri": "https://localhost:8080/"
        },
        "id": "rIDl8ia6FvPP",
        "outputId": "01b54fd4-0fd3-49c3-a3f5-5631c6c6ee51"
      },
      "outputs": [
        {
          "name": "stdout",
          "output_type": "stream",
          "text": [
            "Salut!\n"
          ]
        }
      ],
      "source": [
        "with open(\"fis.txt\", \"w\") as f:\n",
        "  print(\"Salut!\")\n",
        "# La ieșierea din bloc, fișierul este închis automat, chiar dacă a apărut o excepție"
      ]
    },
    {
      "cell_type": "markdown",
      "metadata": {
        "id": "oGEbA1N6Fv1c"
      },
      "source": [
        "\n",
        "**<font color=\"#1589FF\">Manageri de context multipli, Python3.1+</font>**\n",
        "\n",
        "Începând cu Python3.1, se permite utilizarea mai multor manageri de context în aceeași instrucțiune `with/as`:\n",
        "\n",
        "```\n",
        "with A() as a, B() as b:\n",
        "  with-block\n",
        "\n",
        "```\n",
        "\n",
        "Este echivalent cu:\n",
        "\n",
        "```\n",
        "with A() as a:\n",
        "  with B() as b:\n",
        "    with-block\n",
        "\n",
        "```"
      ]
    },
    {
      "cell_type": "code",
      "execution_count": null,
      "metadata": {
        "colab": {
          "base_uri": "https://localhost:8080/"
        },
        "id": "0zxpn55KKrOS",
        "outputId": "f7db8671-1a94-4757-c3af-e92347b28b18"
      },
      "outputs": [
        {
          "name": "stdout",
          "output_type": "stream",
          "text": [
            "Writing fisier1.txt\n"
          ]
        }
      ],
      "source": [
        "%%writefile fisier1.txt \n",
        "Linia1.1.: Salut\n",
        "Linia1.2.: Ce mai faci?"
      ]
    },
    {
      "cell_type": "code",
      "execution_count": null,
      "metadata": {
        "colab": {
          "base_uri": "https://localhost:8080/"
        },
        "id": "dVZGnPZbc30q",
        "outputId": "13ae0712-2355-4610-eb71-b632408744bc"
      },
      "outputs": [
        {
          "name": "stdout",
          "output_type": "stream",
          "text": [
            "Writing fisier2.txt\n"
          ]
        }
      ],
      "source": [
        "%%writefile fisier2.txt \n",
        "Linia2.1.: Hello\n",
        "Linia2.2.: How are you?"
      ]
    },
    {
      "cell_type": "code",
      "execution_count": null,
      "metadata": {
        "colab": {
          "base_uri": "https://localhost:8080/"
        },
        "id": "OvTWvHBacukG",
        "outputId": "faa5c850-537b-4d29-b4fb-10600dfc075b"
      },
      "outputs": [
        {
          "name": "stdout",
          "output_type": "stream",
          "text": [
            "Linia1.1.: Salut | Linia2.1.: Hello\n",
            "Linia1.2.: Ce mai faci? | Linia2.2.: How are you?\n"
          ]
        }
      ],
      "source": [
        "with open('fisier1.txt') as f1, open('fisier2.txt') as f2:\n",
        "  for l1,l2 in zip(f1, f2):\n",
        "  \tprint(l1.strip(), '|', l2.strip())"
      ]
    },
    {
      "cell_type": "markdown",
      "metadata": {
        "id": "CYUpjJ3747l2"
      },
      "source": [
        "---\n",
        "\n",
        "##<font color=\"#e8710a\">Concluzii</font>\n",
        "\n",
        "Acest tutorial a prezentat sintaxa și conceptele asociate programării obiectuale în Python. De asemenea, au fost introduse aspecte legate de decoratori, excepții, aserțiuni și manageri de context. Tutorialul următor va prezenta modul de lucru cu fișiere de intrare/ieșire și fișiere cu format standard (CVS, JSON, XML, etc.)"
      ]
    },
    {
      "cell_type": "markdown",
      "metadata": {
        "id": "K8N2GAPyycLv"
      },
      "source": [
        "---\n",
        "\n",
        "##<font color=\"#1589FF\"> Exerciții</font>\n",
        "\n",
        "1) Să se definească o clasă denumită `Model` cu atributele de instanță `valoare` și `radical`. Clasa conține o metodă statică ce calculează radicalul unui număr primit ca atribut. De asemenea, clasa mai conține o metodă de clasă ce permite instanțierea unui nou obiect pornind de la o valoarea numerică oarecare și care apelează metoda statică pentru definirea atributului `radical`."
      ]
    },
    {
      "cell_type": "code",
      "execution_count": 38,
      "metadata": {
        "id": "MIiWiLdUD8MD"
      },
      "outputs": [
        {
          "name": "stdout",
          "output_type": "stream",
          "text": [
            "valoare:  45 radical:  6.708203932499369\n",
            "valoare:  49 radical:  7.0\n"
          ]
        }
      ],
      "source": [
        "import math\n",
        "class Model:\n",
        "  def __init__(self, val):\n",
        "    self.valoare = val\n",
        "    self.radical = math.sqrt(val)\n",
        "    \n",
        "  def radical_val(self,val):\n",
        "    self.valoare = val\n",
        "    self.radical = math.sqrt(val)\n",
        "  radical_val = staticmethod(radical_val)\n",
        "  \n",
        "\n",
        "  def print_info(self ):\n",
        "    print(\"valoare: \", self.valoare , \"radical: \", self.radical )\n",
        "    \n",
        "M = Model(45)\n",
        "M.print_info()\n",
        "N = Model(49)\n",
        "N.print_info()"
      ]
    },
    {
      "cell_type": "code",
      "execution_count": 19,
      "metadata": {},
      "outputs": [
        {
          "ename": "IndentationError",
          "evalue": "unexpected indent (1338851140.py, line 7)",
          "output_type": "error",
          "traceback": [
            "\u001b[0;36m  Cell \u001b[0;32mIn[19], line 7\u001b[0;36m\u001b[0m\n\u001b[0;31m    self.radical = valoare**-2\u001b[0m\n\u001b[0m    ^\u001b[0m\n\u001b[0;31mIndentationError\u001b[0m\u001b[0;31m:\u001b[0m unexpected indent\n"
          ]
        }
      ],
      "source": [
        "## REZOLVARE EX. 1\n",
        "import numpy as np\n",
        "import math as mat\n",
        "\n",
        "class Model:\n",
        "  def__init__(self, valoare)\n",
        "    self.radical = valoare**-2\n",
        "    \n",
        "  def print_info(self, nume, varsta):\n",
        "        print (\"Nume: %s, varsta: %d\" %(self.nume, self.varsta))"
      ]
    },
    {
      "cell_type": "markdown",
      "metadata": {
        "id": "VgeL9aVO9TjB"
      },
      "source": [
        "2) Să se creeze o funcție decorator ce modifică întotdeauna valoarea numerică returnată de o funcție prin rotunjire la cel mai apropiat întreg."
      ]
    },
    {
      "cell_type": "code",
      "execution_count": null,
      "metadata": {
        "id": "uO_II9EY9UPQ"
      },
      "outputs": [],
      "source": [
        "## REZOLVARE EX. 2"
      ]
    },
    {
      "cell_type": "markdown",
      "metadata": {
        "id": "tvhK0Ctr9UiV"
      },
      "source": [
        "3) Scrieți o clasă care modelează o matrice de valori întregi. Atât dimensiunile matricii cât și tabloul bidimensional de elemente sunt atribute pseudoprivate în clasă, accesate prin intermediul unor metode setter și getter. Includeți în clasă metode de afișare formatată a matricii, de calcul și retur a numărului de grupuri de elemente (9 valori învecinate), care nu diferă cu mai mult de 5% față de un anumit prag primit ca atribut la apelul metodei. Instanțiați clasa și testați metodele."
      ]
    },
    {
      "cell_type": "code",
      "execution_count": null,
      "metadata": {
        "id": "mdFFalHC9VY5"
      },
      "outputs": [],
      "source": [
        "## REZOLVARE EX. 3"
      ]
    },
    {
      "cell_type": "markdown",
      "metadata": {
        "id": "86kSHhCd7je6"
      },
      "source": [
        "4) Creați propria clasă excepție ce se aruncă atunci când într-un string există caractere non-ASCII. Atașați un mesaj corespunzător excepției și scrieți un cod de testare. "
      ]
    },
    {
      "cell_type": "code",
      "execution_count": null,
      "metadata": {
        "id": "ECIWEy6F7lId"
      },
      "outputs": [],
      "source": [
        "## REZOLVARE EX. 4"
      ]
    },
    {
      "cell_type": "markdown",
      "metadata": {
        "id": "w4xoyG3n9s2t"
      },
      "source": [
        "5) Scrieți o aplicație care definește o clasă de verificare a unei chei de autentificare.\n",
        "Cheia de autentificare este de tipul: `XXXXX-XXXXX-XXXXX-XXXXX`, unde X reprezintă un caracter ce poate fi cifră sau literă. Cheia are exact 4 grupuri de caractere a câte 5 caractere fiecare, separate prin caracterul ‘-‘. De asemenea, numărul de cifre trebuie să fie mai mare decât numărul de litere, iar numărul de litere nu poate să fie 0. În cazul în care nu este îndeplinită cel puțin o condiție din cele menționate anterior, se aruncă o excepție proprie cu mesajul: ”Cheie de autentificare incorectă!”. \n",
        "Toate verificările se fac în momentul instanțierii unui nou obiect din clasa definită."
      ]
    },
    {
      "cell_type": "code",
      "execution_count": null,
      "metadata": {
        "id": "K2ghSWtu9r_f"
      },
      "outputs": [],
      "source": [
        "## REZOLVARE EX. 5"
      ]
    },
    {
      "cell_type": "markdown",
      "metadata": {
        "id": "uvEI5llLDqCM"
      },
      "source": [
        "---\n",
        "\n",
        "## Referințe suplimentare\n",
        "\n",
        "1. Decoratorul `@property` https://www.programiz.com/python-programming/property\n"
      ]
    }
  ],
  "metadata": {
    "colab": {
      "collapsed_sections": [],
      "provenance": []
    },
    "kernelspec": {
      "display_name": "Python 3",
      "name": "python3"
    },
    "language_info": {
      "codemirror_mode": {
        "name": "ipython",
        "version": 3
      },
      "file_extension": ".py",
      "mimetype": "text/x-python",
      "name": "python",
      "nbconvert_exporter": "python",
      "pygments_lexer": "ipython3",
      "version": "3.10.8"
    }
  },
  "nbformat": 4,
  "nbformat_minor": 0
}
