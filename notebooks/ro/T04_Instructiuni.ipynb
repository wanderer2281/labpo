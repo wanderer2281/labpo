{
  "nbformat": 4,
  "nbformat_minor": 0,
  "metadata": {
    "colab": {
      "provenance": [],
      "toc_visible": true,
      "include_colab_link": true
    },
    "kernelspec": {
      "name": "python3",
      "display_name": "Python 3"
    },
    "language_info": {
      "name": "python"
    }
  },
  "cells": [
    {
      "cell_type": "markdown",
      "metadata": {
        "id": "view-in-github",
        "colab_type": "text"
      },
      "source": [
        "<a href=\"https://colab.research.google.com/github/wanderer2281/labpo/blob/main/notebooks/ro/T04_Instructiuni.ipynb\" target=\"_parent\"><img src=\"https://colab.research.google.com/assets/colab-badge.svg\" alt=\"Open In Colab\"/></a>"
      ]
    },
    {
      "cell_type": "markdown",
      "source": [
        "<img src='https://upload.wikimedia.org/wikipedia/commons/c/c3/Python-logo-notext.svg' width=50/>\n",
        "<img src='https://upload.wikimedia.org/wikipedia/commons/d/d0/Google_Colaboratory_SVG_Logo.svg' width=90/>\n",
        "\n",
        "# <font size=50>Introducere în Python folosind Google Colab</font>\n",
        "<font color=\"#e8710a\">© Adriana STAN, 2022</font>\n",
        "\n",
        "<font color=\"#e8710a\">Contributor: Gabriel ERDEI </font>\n",
        "\n",
        "[![Open In Colab](https://colab.research.google.com/assets/colab-badge.svg)](https://colab.research.google.com/github/adrianastan/python-intro/blob/main/notebooks/ro/T04_Instructiuni.ipynb)\n",
        "\n"
      ],
      "metadata": {
        "id": "6WXErX0LtTVh"
      }
    },
    {
      "cell_type": "markdown",
      "source": [
        "#<font color=\"#e8710a\">T04. Instrucțiuni și structuri de control a fluxului</font>\n",
        "\n",
        "Mergem mai departe în cadrul acestui tutorial și parcurgem instrucțiunile de bază ale limbajului Python. Spre deosebire de limbajele C/C++ și Java, vom vedea faptul că există o serie de instrucțiuni ce facilitează crearea de liste într-o singură instrucțiuni, precum și atribuiri mai complexe.\n",
        "\n",
        "---\n",
        "\n",
        "<font color=\"#1589FF\"><b>Timp estimat de parcugere:</b> 90 min</font>\n",
        "\n",
        "---\n",
        "\n",
        "\n",
        "\n"
      ],
      "metadata": {
        "id": "DP2kXZ0R6S-R"
      }
    },
    {
      "cell_type": "markdown",
      "source": [
        "##<font color=\"#e8710a\">Instrucțiuni Python</font>\n",
        "\n",
        "La baza lor, programele sunt construite din instrucțiuni și expresii. Expresiile prelucrează obiecte și sunt încadrate în instrucțiuni. Expresiile returnează un rezultat, astfel încât de cele mai multe ori se află la dreapta unui semn de atribuire. Dar pot fi utilizate independent în apeluri de funcții de exemplu sau constructori ai obiectelor.\n",
        "\n",
        "În limbajul Python nu este necesară utilizarea unui simbol de terminare a instrucțiunii (așa cum se utilizează `;` în multe alte limbaje de programare). Introducerea unei linii noi de text semnalizează și terminarea instrucțiunii, cu unele excepții.\n"
      ],
      "metadata": {
        "id": "sYWHMgBn5gEG"
      }
    },
    {
      "cell_type": "code",
      "source": [
        "a = 3 # Trecerea la următoarea linie simbolizează finalul instrucțiunii"
      ],
      "metadata": {
        "id": "6Hk7D5TMnJxm"
      },
      "execution_count": null,
      "outputs": []
    },
    {
      "cell_type": "markdown",
      "source": [
        "Cu excepția instrucțiunilor mai complexe ce pot fi scrise pe mai multe linii. În acest caz, liniile intermediare trebuie terminate cu `\\` fără alte caractere după acest simbol."
      ],
      "metadata": {
        "id": "Um8DOdiRoRZC"
      }
    },
    {
      "cell_type": "code",
      "source": [
        "a, b, c, d, e, f, g, h =\\\n",
        "    1, 2, 3, 4,\\\n",
        "    5, 6, 7, 8"
      ],
      "metadata": {
        "id": "1zZJtJRfoTER"
      },
      "execution_count": null,
      "outputs": []
    },
    {
      "cell_type": "markdown",
      "source": [
        "Dacă adăugăm un spațiu alb, vom genera o eroare de sintaxă:"
      ],
      "metadata": {
        "id": "flcr4jlmoPSK"
      }
    },
    {
      "cell_type": "code",
      "source": [
        "a, b, c, d, e, f, g, h =\\\n",
        "    1, 2, 3, 4, 5, 6, 7, 8"
      ],
      "metadata": {
        "colab": {
          "base_uri": "https://localhost:8080/",
          "height": 133
        },
        "id": "1Acw_u-woMqA",
        "outputId": "d56c5404-8ab0-48f7-9c03-bfcc9b0f36ec"
      },
      "execution_count": null,
      "outputs": [
        {
          "output_type": "error",
          "ename": "SyntaxError",
          "evalue": "ignored",
          "traceback": [
            "\u001b[0;36m  File \u001b[0;32m\"<ipython-input-3-4879cdae8854>\"\u001b[0;36m, line \u001b[0;32m1\u001b[0m\n\u001b[0;31m    a, b, c, d, e, f, g, h =\\\u001b[0m\n\u001b[0m                              ^\u001b[0m\n\u001b[0;31mSyntaxError\u001b[0m\u001b[0;31m:\u001b[0m unexpected character after line continuation character\n"
          ]
        }
      ]
    },
    {
      "cell_type": "markdown",
      "source": [
        "O excepție de la această regulă se referă la apelul funcțiilor, unde nu e necesară terminarea liniei cu `\\`:"
      ],
      "metadata": {
        "id": "hA6h7EyQpMfL"
      }
    },
    {
      "cell_type": "code",
      "source": [
        "def functie(a,b,c,d):\n",
        "  return a+b+c+d\n",
        "\n",
        "functie (a=1,\n",
        "   b=2,\n",
        "   c=3,\n",
        "   d=4)"
      ],
      "metadata": {
        "id": "zS6OEXexof9R",
        "colab": {
          "base_uri": "https://localhost:8080/"
        },
        "outputId": "9c7b8765-2a9b-4f87-9757-663addd931f9"
      },
      "execution_count": null,
      "outputs": [
        {
          "output_type": "execute_result",
          "data": {
            "text/plain": [
              "10"
            ]
          },
          "metadata": {},
          "execution_count": 4
        }
      ]
    },
    {
      "cell_type": "markdown",
      "source": [
        "Precum și definirea datelor de tip secvență:"
      ],
      "metadata": {
        "id": "YFAO9Bj3pRty"
      }
    },
    {
      "cell_type": "code",
      "source": [
        "lista = [1,\n",
        "     2,\n",
        "     3,\n",
        "     4]"
      ],
      "metadata": {
        "id": "CssHAZLWpWKM"
      },
      "execution_count": null,
      "outputs": []
    },
    {
      "cell_type": "markdown",
      "source": [
        "Este posibilă scrierea mai multor instrucțiuni pe aceeași linie prin separarea lor prin `;`, cu excepția instrucțiunilor compuse."
      ],
      "metadata": {
        "id": "NU0f4UkBpsOC"
      }
    },
    {
      "cell_type": "code",
      "source": [
        "a = 3; b = 4;"
      ],
      "metadata": {
        "id": "qFYS0MUGpvZG"
      },
      "execution_count": null,
      "outputs": []
    },
    {
      "cell_type": "markdown",
      "source": [
        "\n",
        "**<font color=\"#1589FF\">Instrucțiuni compuse</font>**\n",
        "\n",
        "Instrucțiunile compuse în Python se demarchează prin indentare. Pentru a începe o instrucțiune compusă, se utilizează simbolul două puncte, `:`.\n",
        "Finalul indentării marchează finalul instrucțiunii compuse"
      ],
      "metadata": {
        "id": "AZdTnKu3nNF3"
      }
    },
    {
      "cell_type": "code",
      "source": [
        "if 2 > 3:\n",
        "  print (\"Ramura True\")\n",
        "else:\n",
        "  print (\"Ramura False\")\n",
        "  print (\"Mai adăugăm o linie\")\n",
        "\n",
        "print(\"Am ieșit din instrucțiunea compusă\")"
      ],
      "metadata": {
        "colab": {
          "base_uri": "https://localhost:8080/"
        },
        "id": "F3dJMZuonNpT",
        "outputId": "17eb754c-0068-4989-fe01-942f4d313826"
      },
      "execution_count": null,
      "outputs": [
        {
          "output_type": "stream",
          "name": "stdout",
          "text": [
            "Ramura False\n",
            "Mai adăugăm o linie\n",
            "Am ieșit din instrucțiunea compusă\n"
          ]
        }
      ]
    },
    {
      "cell_type": "markdown",
      "source": [
        "\n",
        "Pe scurt, lista de instrucțiuni disponibile în Python este prezentată în tabelul următor:\n",
        "\n",
        "Instrucțiune | Rol | Exemplu\n",
        "--- | --- | ---\n",
        "Atribuire | Crearea de referințe | a, b = 'good', 'bad'\n",
        "Apel și alte expresii | Rulare funcții | log.write(\"spam, ham\")\n",
        "Apeluri print | Afișare obiecte | print('Obiectul meu', object)\n",
        "if/elif/else | Selectare acțiuni | if \"python\" in text: print(text)\n",
        "for/else |  Bucle  |for x in mylist: print(x)\n",
        "while/else | Bucle | while X > Y: print('hello')\n",
        "pass | Instrucțiune vidă | while True: pass\n",
        "break |  Ieșire din buclă | while True: if exittest(): break\n",
        "continue | Continuare buclă | while True: if skiptest(): continue\n",
        "def |  Funcții și metode | def f(a, b, c=1, *d): print(a+b+c+d[0])\n",
        "return | Revenire din funcții | def f(a, b, c=1, *d): return a+b+c+d[0]\n",
        "yield |  Funcții generator | def gen(n): for i in n: yield i*2\n",
        "global | Namespaces | global x, y; x = 'new'\n",
        "nonlocal | Namespaces (3.x) | nonlocal x; x = 'new'\n",
        "import | Import module | import sys\n",
        "from | Acces la componente ale modulului | from sys import stdin\n",
        "class | Definire clase de obiecte | class Subclass(Superclass):\n",
        "try/except/ finally | Prindere excepții| try: action; except: print('action error')\n",
        "raise | Aruncare excepții |raise EndSearch(location)\n",
        "assert | Aserțiuni | assert X > Y, 'X too small'\n",
        "with/as | Manager de context (3.X, 2.6>)| with open('data') as myfile:  process(myfile)\n",
        "del |  Ștergere referințe | del data[k]\n",
        "\n",
        "\n",
        "În cele ce urmează vom prezenta pe scurt utilizarea și caracteristicile acestor instrucțiuni din limbajul Python."
      ],
      "metadata": {
        "id": "IA2RtGwPnKD5"
      }
    },
    {
      "cell_type": "markdown",
      "source": [
        "##<font color=\"#e8710a\">Atribuiri</font>\n",
        "\n",
        "Atribuirile se referă la crearea unei noi referințe către un obiect. Se realizează prin utilizarea simbolului egal, `=`:\n",
        "\n",
        "> `referință = expresie_obiect`\n",
        "\n",
        "Referințele sunt denumite în mod comun *variabile*. Astfel că în Python, variabilele sunt create la atribuire, iar acestea nu pot fi folosite înainte de a fi atribuite.\n",
        "Anumite operații crează atribuiri implicit.\n",
        "\n",
        "\n",
        "**<font color=\"#1589FF\">Reguli pentru denumirea variabilelor</font>**\n",
        "\n",
        "* Sunt formate din (underscore sau literă) + (oricâte litere, cifre sau underscore);\n",
        "* Sunt case-sensitive;\n",
        "* Cuvintele rezervate nu pot fi utilizate ca identificatori.\n",
        "\n",
        "\n",
        "**<font color=\"#1589FF\">Convenții de denumire</font>**\n",
        "\n",
        "* Variabilele ce încep cu underscore `_` nu sunt importați prin `from module import *`;\n",
        "* Variabilele de tipul `__X__` sunt identificatori utilizați de sistem;\n",
        "* Metodele încadrate de dunder `__` sunt denumite magic/dunder methods și sunt apelate implicit de obiect la execuția anumitor acțiuni;\n",
        "* Variabilele ce încep cu dunder  `__`  și nu se termină cu underscore `_` sunt variabile pseudoprivate ale claselor;\n",
        "* Variabila `_` în cadrul sesiunilor interactive păstrează ultimul rezultat calculat.\n",
        "\n",
        "\n",
        "**<font color=\"#1589FF\">Cuvinte rezervate</font>**\n",
        "\n",
        "Următorii identificatori sunt cuvinte rezervate și nu pot fi utilizați pentru a defini variabile de program:\n",
        "\n",
        "<center><img src='https://raw.githubusercontent.com/adrianastan/python-intro/main/notebooks/ro/imgs/T03_keywords.png' height=150/></center>"
      ],
      "metadata": {
        "id": "gnPur7ds6kKe"
      }
    },
    {
      "cell_type": "markdown",
      "source": [
        "###<font color=\"#e8710a\">Atribuiri de bază</font>"
      ],
      "metadata": {
        "id": "yV1NxTb07k4d"
      }
    },
    {
      "cell_type": "code",
      "execution_count": null,
      "metadata": {
        "id": "QVNvqaom6Jfd",
        "colab": {
          "base_uri": "https://localhost:8080/"
        },
        "outputId": "6d02faad-9bda-4162-ac18-d69640337c8b"
      },
      "outputs": [
        {
          "output_type": "execute_result",
          "data": {
            "text/plain": [
              "1"
            ]
          },
          "metadata": {},
          "execution_count": 8
        }
      ],
      "source": [
        "# Atribuire de bază\n",
        "a = 1\n",
        "a"
      ]
    },
    {
      "cell_type": "code",
      "source": [
        "b = 2\n",
        "b"
      ],
      "metadata": {
        "id": "BpBjiaVH6y50",
        "colab": {
          "base_uri": "https://localhost:8080/"
        },
        "outputId": "5760a489-1f22-41fc-ea6a-fa2bfd555d5b"
      },
      "execution_count": null,
      "outputs": [
        {
          "output_type": "execute_result",
          "data": {
            "text/plain": [
              "2"
            ]
          },
          "metadata": {},
          "execution_count": 9
        }
      ]
    },
    {
      "cell_type": "code",
      "source": [
        "# Atribuire prin tuplu, echivalent cu a = 1; b = 2;\n",
        "a, b = 1, 2\n",
        "print(a)\n",
        "print(b)"
      ],
      "metadata": {
        "colab": {
          "base_uri": "https://localhost:8080/"
        },
        "id": "V3M4eWGS60TQ",
        "outputId": "bdd0e053-0882-422b-d0f1-5b21bd74825f"
      },
      "execution_count": null,
      "outputs": [
        {
          "output_type": "stream",
          "name": "stdout",
          "text": [
            "1\n",
            "2\n"
          ]
        }
      ]
    },
    {
      "cell_type": "code",
      "source": [
        "# Atribuire prin listă\n",
        "[a, b] = [1, 2]\n",
        "print(a)\n",
        "print(b)"
      ],
      "metadata": {
        "id": "HhED9kgI620i",
        "colab": {
          "base_uri": "https://localhost:8080/"
        },
        "outputId": "7ee63163-7e25-45b5-966d-2c42e1082088"
      },
      "execution_count": null,
      "outputs": [
        {
          "output_type": "stream",
          "name": "stdout",
          "text": [
            "1\n",
            "2\n"
          ]
        }
      ]
    },
    {
      "cell_type": "code",
      "source": [
        "# Interschimbare variabile\n",
        "a, b = b, a\n",
        "a, b"
      ],
      "metadata": {
        "colab": {
          "base_uri": "https://localhost:8080/"
        },
        "id": "a9dGjhYx64hA",
        "outputId": "d562c28d-7e26-4ad1-d6f4-6e2900f3aedd"
      },
      "execution_count": null,
      "outputs": [
        {
          "output_type": "execute_result",
          "data": {
            "text/plain": [
              "(2, 1)"
            ]
          },
          "metadata": {},
          "execution_count": 12
        }
      ]
    },
    {
      "cell_type": "code",
      "source": [
        "# Atribuire tuplu la listă de variabile\n",
        "[a, b, c] = (1, 2, 3)\n",
        "c, b, a"
      ],
      "metadata": {
        "colab": {
          "base_uri": "https://localhost:8080/"
        },
        "id": "XDYe9--a7EiS",
        "outputId": "c3684797-d18c-4b26-bac1-93d730f9b1db"
      },
      "execution_count": null,
      "outputs": [
        {
          "output_type": "execute_result",
          "data": {
            "text/plain": [
              "(3, 2, 1)"
            ]
          },
          "metadata": {},
          "execution_count": 13
        }
      ]
    },
    {
      "cell_type": "code",
      "source": [
        "# Atribuirea unui string către un tuplu\n",
        "# mecanismul este denumit și despachetarea secvențelor\n",
        "# (en. sequence unpacking)\n",
        "(a, b, c) = \"ABC\"\n",
        "a, b, c"
      ],
      "metadata": {
        "colab": {
          "base_uri": "https://localhost:8080/"
        },
        "id": "MXSM9ixN7I4M",
        "outputId": "4d108fb9-15b1-45a5-99ed-073bd75af783"
      },
      "execution_count": null,
      "outputs": [
        {
          "output_type": "execute_result",
          "data": {
            "text/plain": [
              "('A', 'B', 'C')"
            ]
          },
          "metadata": {},
          "execution_count": 14
        }
      ]
    },
    {
      "cell_type": "markdown",
      "source": [
        "###<font color=\"#e8710a\">Atribuiri secvențiale avansate</font>"
      ],
      "metadata": {
        "id": "FI6pRf4K7prk"
      }
    },
    {
      "cell_type": "code",
      "source": [
        "s = 'mere'\n",
        "a, b, c = s[0], s[1], s[2:] # Indexare și segmentare\n",
        "a, b, c"
      ],
      "metadata": {
        "colab": {
          "base_uri": "https://localhost:8080/"
        },
        "id": "dGSditEV7MKX",
        "outputId": "46ce81bf-44f6-4f43-e083-abdf58761891"
      },
      "execution_count": null,
      "outputs": [
        {
          "output_type": "execute_result",
          "data": {
            "text/plain": [
              "('m', 'e', 're')"
            ]
          },
          "metadata": {},
          "execution_count": 15
        }
      ]
    },
    {
      "cell_type": "code",
      "source": [
        "a, b, c = list(s[:2]) + [s[2:]] # segmentare și concatenare\n",
        "a, b, c"
      ],
      "metadata": {
        "colab": {
          "base_uri": "https://localhost:8080/"
        },
        "id": "PL9jIuXk7ND4",
        "outputId": "0ce17199-26a6-4bad-fa9d-9d1d956a4a7d"
      },
      "execution_count": null,
      "outputs": [
        {
          "output_type": "execute_result",
          "data": {
            "text/plain": [
              "('m', 'e', 're')"
            ]
          },
          "metadata": {},
          "execution_count": 16
        }
      ]
    },
    {
      "cell_type": "code",
      "source": [
        "a, b = s[:2] # similar\n",
        "c = s[2:]\n",
        "a, b, c"
      ],
      "metadata": {
        "colab": {
          "base_uri": "https://localhost:8080/"
        },
        "id": "SaHVR_d_7U0D",
        "outputId": "b5ddacee-2b41-48dc-e125-af02a29c2972"
      },
      "execution_count": null,
      "outputs": [
        {
          "output_type": "execute_result",
          "data": {
            "text/plain": [
              "('m', 'e', 're')"
            ]
          },
          "metadata": {},
          "execution_count": 17
        }
      ]
    },
    {
      "cell_type": "code",
      "source": [
        "(a, b), c = s[:2], s[2:] # secvențe imbricate\n",
        "a, b, c"
      ],
      "metadata": {
        "colab": {
          "base_uri": "https://localhost:8080/"
        },
        "id": "QeMhY0jj7bX-",
        "outputId": "dd3c074d-105f-43bc-cc82-b28ed23bb46d"
      },
      "execution_count": null,
      "outputs": [
        {
          "output_type": "execute_result",
          "data": {
            "text/plain": [
              "('m', 'e', 're')"
            ]
          },
          "metadata": {},
          "execution_count": 18
        }
      ]
    },
    {
      "cell_type": "markdown",
      "source": [
        "**<font color=\"#1589FF\">Atribuiri multiple</font>**"
      ],
      "metadata": {
        "id": "OGGXkkI18By1"
      }
    },
    {
      "cell_type": "code",
      "source": [
        "a = b = c = 'mere'\n",
        "a, b, c"
      ],
      "metadata": {
        "colab": {
          "base_uri": "https://localhost:8080/"
        },
        "id": "e5SkrCYq8AJ5",
        "outputId": "2475dda9-ba64-4847-d305-f3dd3bdefadd"
      },
      "execution_count": null,
      "outputs": [
        {
          "output_type": "execute_result",
          "data": {
            "text/plain": [
              "('mere', 'mere', 'mere')"
            ]
          },
          "metadata": {},
          "execution_count": 19
        }
      ]
    },
    {
      "cell_type": "code",
      "source": [
        "# ATENȚIE la obiectele mutable!!\n",
        "a = b = [1,2]\n",
        "b.append(42)\n",
        "a, b # Se modifică ambele variabile"
      ],
      "metadata": {
        "colab": {
          "base_uri": "https://localhost:8080/"
        },
        "id": "psE3szEh8HnK",
        "outputId": "63b93bca-d08f-4998-8e40-f50006de1721"
      },
      "execution_count": null,
      "outputs": [
        {
          "output_type": "execute_result",
          "data": {
            "text/plain": [
              "([1, 2, 42], [1, 2, 42])"
            ]
          },
          "metadata": {},
          "execution_count": 20
        }
      ]
    },
    {
      "cell_type": "markdown",
      "source": [
        "**<font color=\"#1589FF\">Atribuiri compuse</font>**\n",
        "\n",
        "Se realizează in-place, ceea ce înseamnă că referința (variabila) inițială își va modifica valoarea sau obiectul referit."
      ],
      "metadata": {
        "id": "IkB0PCYO8MQl"
      }
    },
    {
      "cell_type": "code",
      "source": [
        "a = [1, 2]\n",
        "b = a\n",
        "a += [3, 4] # extindem a cu valorile 3 și 4\n",
        "a, b        # b va conține aceleași valori ca a, deoarece referă același obiect"
      ],
      "metadata": {
        "colab": {
          "base_uri": "https://localhost:8080/"
        },
        "id": "H_J1Tluw8KQG",
        "outputId": "65933e9e-15cf-4a30-93ac-bff4150e0abe"
      },
      "execution_count": null,
      "outputs": [
        {
          "output_type": "execute_result",
          "data": {
            "text/plain": [
              "([1, 2, 3, 4], [1, 2, 3, 4])"
            ]
          },
          "metadata": {},
          "execution_count": 21
        }
      ]
    },
    {
      "cell_type": "markdown",
      "source": [
        "###<font color=\"#e8710a\">Despachetarea extinsă a secvențelor</font>\n",
        "\n",
        "În cazul în care dorim să despachetăm secvențe într-un mod mai complex, putem utiliza așa numitele variabile *star named*. În acest caz, valorile din secvență ce nu au un corespondent direct în lista de variabile, vor fi atribuite acestei variabile star named.\n",
        "\n",
        "Pentru despachetarea simplă, am văzut deja un exemplu de tipul:\n"
      ],
      "metadata": {
        "id": "d4LOeNWb7urV"
      }
    },
    {
      "cell_type": "code",
      "source": [
        "seq = [1, 2, 3, 4]\n",
        "a, b, c, d = seq\n",
        "print(a, b, c, d)"
      ],
      "metadata": {
        "colab": {
          "base_uri": "https://localhost:8080/"
        },
        "id": "85YwdtZ_7fV7",
        "outputId": "72a08c78-f474-4fac-fd12-f335d1e284c3"
      },
      "execution_count": null,
      "outputs": [
        {
          "output_type": "stream",
          "name": "stdout",
          "text": [
            "1 2 3 4\n"
          ]
        }
      ]
    },
    {
      "cell_type": "markdown",
      "source": [
        "Ce se întâmplă atunci când numărul de elemente din secvență este mai mare decât numărul de variabile?"
      ],
      "metadata": {
        "id": "8xJscMq9iKgM"
      }
    },
    {
      "cell_type": "code",
      "source": [
        "# Eroare\n",
        "a, b = seq"
      ],
      "metadata": {
        "colab": {
          "base_uri": "https://localhost:8080/",
          "height": 187
        },
        "id": "S8ONJU9K716U",
        "outputId": "d874ff98-919c-49e5-fb8d-b23219a526d3"
      },
      "execution_count": null,
      "outputs": [
        {
          "output_type": "error",
          "ename": "ValueError",
          "evalue": "ignored",
          "traceback": [
            "\u001b[0;31m---------------------------------------------------------------------------\u001b[0m",
            "\u001b[0;31mValueError\u001b[0m                                Traceback (most recent call last)",
            "\u001b[0;32m<ipython-input-23-566ff93241e9>\u001b[0m in \u001b[0;36m<module>\u001b[0;34m\u001b[0m\n\u001b[1;32m      1\u001b[0m \u001b[0;31m# Eroare\u001b[0m\u001b[0;34m\u001b[0m\u001b[0;34m\u001b[0m\u001b[0;34m\u001b[0m\u001b[0m\n\u001b[0;32m----> 2\u001b[0;31m \u001b[0ma\u001b[0m\u001b[0;34m,\u001b[0m \u001b[0mb\u001b[0m \u001b[0;34m=\u001b[0m \u001b[0mseq\u001b[0m\u001b[0;34m\u001b[0m\u001b[0;34m\u001b[0m\u001b[0m\n\u001b[0m",
            "\u001b[0;31mValueError\u001b[0m: too many values to unpack (expected 2)"
          ]
        }
      ]
    },
    {
      "cell_type": "markdown",
      "source": [
        "În acest caz, pentru ultima variabilă din listă și doar pentru aceasta, putem folosi star name. Ca urmare, toate elementele din secvență ce nu sunt atribuite variabilelor anterioare din listă, vor fi atribuite acestei ultime variabile star name:"
      ],
      "metadata": {
        "id": "s17P_NJiiyPE"
      }
    },
    {
      "cell_type": "code",
      "source": [
        "seq = [1, 2, 3, 4]\n",
        "a, *b = seq\n",
        "print (a)\n",
        "print (b) # b va conține toate elementele din listă ce nu au fost atribuite"
      ],
      "metadata": {
        "colab": {
          "base_uri": "https://localhost:8080/"
        },
        "id": "qYcPpp7373EV",
        "outputId": "0197f2ec-e214-4ace-c3d2-c31838321de0"
      },
      "execution_count": null,
      "outputs": [
        {
          "output_type": "stream",
          "name": "stdout",
          "text": [
            "1\n",
            "[2, 3, 4]\n"
          ]
        }
      ]
    },
    {
      "cell_type": "markdown",
      "source": [
        "Este important de menționat faptul că, deși s-ar putea face o atribuire simplă în funcție de numărul de elemente din secvență, variabila star name va fi întotdeauna o listă (posibil goală):"
      ],
      "metadata": {
        "id": "lvOTMQJqjMd1"
      }
    },
    {
      "cell_type": "code",
      "source": [
        "# d va prelua ultimul element sub formă de listă\n",
        "seq = [1, 2, 3, 4]\n",
        "a, b, c, *d = seq\n",
        "print(a, b, c, d)"
      ],
      "metadata": {
        "colab": {
          "base_uri": "https://localhost:8080/"
        },
        "id": "otTLJqOR76pw",
        "outputId": "b116f6fa-01a6-4ab6-dbe6-1e6ab3344cb0"
      },
      "execution_count": null,
      "outputs": [
        {
          "output_type": "stream",
          "name": "stdout",
          "text": [
            "1 2 3 [4]\n"
          ]
        }
      ]
    },
    {
      "cell_type": "code",
      "source": [
        "# *e va fi o listă goală\n",
        "a, b, c, d, *e = seq\n",
        "print(a, b, c, d, e)"
      ],
      "metadata": {
        "colab": {
          "base_uri": "https://localhost:8080/"
        },
        "id": "5qT3Wekz7-Y9",
        "outputId": "2f785e08-e9b6-44f4-9c5a-876fc64d1a80"
      },
      "execution_count": null,
      "outputs": [
        {
          "output_type": "stream",
          "name": "stdout",
          "text": [
            "1 2 3 4 []\n"
          ]
        }
      ]
    },
    {
      "cell_type": "markdown",
      "source": [
        "##<font color=\"#e8710a\">Instrucțiunea vidă</font>\n",
        "\n",
        "În timpul dezvoltării unei aplicații pot să existe funcții, metode, clase, etc. ce nu sunt implementate momentan, dar care trebuie să fie declarate în cod. Cu alte cuvinte aceste funcții, metode, clase nu fac nimic momentan. Pentru a putea realiza acest lucru avem la dispoziție instrucțiunea vidă `pass`. Aceasta nu are niciun rezultat, ci este folosită ca înlocuitor pentru codul scris ulterior:\n",
        "\n"
      ],
      "metadata": {
        "id": "kYzpuqe2Vbl6"
      }
    },
    {
      "cell_type": "code",
      "source": [
        "def func():\n",
        "  pass\n",
        "\n",
        "func() # Apelul funcției"
      ],
      "metadata": {
        "id": "HytQE8lHYyHo"
      },
      "execution_count": null,
      "outputs": []
    },
    {
      "cell_type": "code",
      "source": [
        "class C:\n",
        "  pass\n",
        "\n",
        "obj = C() # Instanțierea unui obiect din clasa C"
      ],
      "metadata": {
        "id": "r4lqdv7vY3HJ"
      },
      "execution_count": null,
      "outputs": []
    },
    {
      "cell_type": "markdown",
      "source": [
        "Începând cu Python 3.0 putem folosi ca alternativă elipsa `...`"
      ],
      "metadata": {
        "id": "78XXq9MXY-0N"
      }
    },
    {
      "cell_type": "code",
      "source": [
        "def func():\n",
        "    ...\n",
        "func()\n",
        "\n",
        "\n",
        "class C:\n",
        "  ...\n",
        "obj = C()"
      ],
      "metadata": {
        "id": "c18htTXsZECC"
      },
      "execution_count": null,
      "outputs": []
    },
    {
      "cell_type": "markdown",
      "source": [
        "##<font color=\"#e8710a\">Funcția print()</font>\n",
        "\n",
        "Funcția `print()` afișează reprezentarea text a unui obiect. Este important de menționat aici faptul că reprezentarea text a unui obiect (mai complex) poate fi diferită de conținutul atributelor sale. Implicit se va apela metoda `__str__()` asociată obiectului și care poate fi suprascrisă în clasele proprii.\n",
        "\n",
        "În Python 2.x `print` era o instrucțiune: `print a`. Iar în Python 3.x este o funcție built-in ce returnează `None`: `print (a)`.\n",
        "\n",
        "\n",
        "Forma completă a funcției `print()` în Python 3.x este:\n",
        "\n",
        "```\n",
        "print([object, ...][, sep=' '][, end='\\n'][, file=sys.stdout][, flush=False])\n",
        "```\n",
        "\n",
        "Să vedem câteva exemple:"
      ],
      "metadata": {
        "id": "96QBOc2l9DHE"
      }
    },
    {
      "cell_type": "code",
      "source": [
        "a = 'mere'\n",
        "b = 1\n",
        "c = ['pere']\n",
        "print(a, b, c)"
      ],
      "metadata": {
        "colab": {
          "base_uri": "https://localhost:8080/"
        },
        "id": "Pmis3LLq8--b",
        "outputId": "22949bda-9c5e-4f03-a2e7-1e93f756fed5"
      },
      "execution_count": null,
      "outputs": [
        {
          "output_type": "stream",
          "name": "stdout",
          "text": [
            "mere 1 ['pere']\n"
          ]
        }
      ]
    },
    {
      "cell_type": "code",
      "source": [
        "print(a, b, c, sep='') # Eliminăm separatorul"
      ],
      "metadata": {
        "colab": {
          "base_uri": "https://localhost:8080/"
        },
        "id": "Is70TcF99afC",
        "outputId": "18d7e785-be34-49b6-9404-25f3ba7398e1"
      },
      "execution_count": null,
      "outputs": [
        {
          "output_type": "stream",
          "name": "stdout",
          "text": [
            "mere1['pere']\n"
          ]
        }
      ]
    },
    {
      "cell_type": "code",
      "source": [
        "print(a, b, c, sep=', ') # Separator special"
      ],
      "metadata": {
        "colab": {
          "base_uri": "https://localhost:8080/"
        },
        "id": "v-rRKoVJ9bru",
        "outputId": "f1a3b789-1f23-4307-9ea2-683b244c612d"
      },
      "execution_count": null,
      "outputs": [
        {
          "output_type": "stream",
          "name": "stdout",
          "text": [
            "mere, 1, ['pere']\n"
          ]
        }
      ]
    },
    {
      "cell_type": "markdown",
      "source": [
        "Rezultatul funcției `print()` este afișat în mod implicit în `stdout`. Putem însă redirecționa această afișare către `stderr` sau către un fișier:"
      ],
      "metadata": {
        "id": "Tp82mFzH0K5L"
      }
    },
    {
      "cell_type": "code",
      "source": [
        "# Afișăm în stderr\n",
        "import sys\n",
        "print(\"Stderr\", file=sys.stderr)"
      ],
      "metadata": {
        "colab": {
          "base_uri": "https://localhost:8080/"
        },
        "id": "xMuLo2cn0_rs",
        "outputId": "f6923544-e332-4527-c79e-0e14eb55e19e"
      },
      "execution_count": null,
      "outputs": [
        {
          "output_type": "stream",
          "name": "stderr",
          "text": [
            "Stderr\n"
          ]
        }
      ]
    },
    {
      "cell_type": "code",
      "source": [
        "# Scriem într-un fișier\n",
        "print(a, b, c, file=open('out.txt', 'w'))"
      ],
      "metadata": {
        "id": "7BDFxBoF9dgC"
      },
      "execution_count": null,
      "outputs": []
    },
    {
      "cell_type": "markdown",
      "source": [
        "În mod uzual, funcția print va folosi metodele de formatare a stringurilor pentru a crea mesaje ce combină șirurile de caractere cu variabilele din program:"
      ],
      "metadata": {
        "id": "_KDq91brsv2Q"
      }
    },
    {
      "cell_type": "code",
      "source": [
        "a = 2\n",
        "b = 3\n",
        "print(\"Suma numerelor %d și %d este %s.\" %(a,b,a+b))"
      ],
      "metadata": {
        "colab": {
          "base_uri": "https://localhost:8080/"
        },
        "id": "LaO3mhAAs4Th",
        "outputId": "e18c5adf-7552-4d36-b4e6-c9dcc4872281"
      },
      "execution_count": null,
      "outputs": [
        {
          "output_type": "stream",
          "name": "stdout",
          "text": [
            "Suma numerelor 2 și 3 este 5.\n"
          ]
        }
      ]
    },
    {
      "cell_type": "code",
      "source": [
        "s1 = 'Ana'\n",
        "s2 = 'mere'\n",
        "print (\"%s are %s. \" %(s1, s2))\n",
        "print (\"Inversul propoziției este: \\\"%s era %s.\\\"\" %(s1[::-1], s2[::-1]))"
      ],
      "metadata": {
        "colab": {
          "base_uri": "https://localhost:8080/"
        },
        "id": "8vrtt6Lhs_LI",
        "outputId": "74905261-f873-4d10-93f1-7deb4a040eac"
      },
      "execution_count": null,
      "outputs": [
        {
          "output_type": "stream",
          "name": "stdout",
          "text": [
            "Ana are mere. \n",
            "Inversul propoziției este: \"anA era erem.\"\n"
          ]
        }
      ]
    },
    {
      "cell_type": "markdown",
      "source": [
        "##<font color=\"#e8710a\">Instrucțiunea IF</font>\n",
        "\n",
        "Instrucțiunea IF este o instrucțiune de decizie, compusă, cu următoarea formă generală:\n",
        "\n",
        "```\n",
        "if test1:\n",
        "    statements1\n",
        "elif test2:\n",
        "    statements2\n",
        "else:\n",
        "   statements3\n",
        "\n",
        "```\n",
        "\n",
        "`test1` și `test2`, precum și alte expresii incluse pe clauzele de `if` sau `else` trebuie să returneze o valoare de adevăr sau booleană, după cum urmează:\n",
        "\n",
        "* Toate obiectele au o valoare booleană implicită;\n",
        "* Orice număr diferit de zero și orice obiect nenul este `True`;\n",
        "* Numerele egale cu 0, obiectele nule (goale) și obiectul special `None` sunt considerate `False`;\n",
        "* Comparațiile și testele de egalitate sunt aplicate recursiv asupra structurilor de date;\n",
        "* Comparațiile și testele de egalitate returnează `True` sau `False` (versiuni custom ale 1 și 0);\n",
        "* Operatorii booleeni `and` și `or` returnează un obiect de tip `True` sau `False`;\n",
        "* Operatorii booleni înlănțuiți nu se mai execută dacă se știe deja valoarea rezultatului.\n",
        "\n",
        "\n"
      ],
      "metadata": {
        "id": "6r7UEdpV9s9x"
      }
    },
    {
      "cell_type": "markdown",
      "source": [
        "Să vedem câteva exemple deutilizare a instrucțiunii IF:"
      ],
      "metadata": {
        "id": "ftz7jAjc_1OO"
      }
    },
    {
      "cell_type": "code",
      "source": [
        "if 1:\n",
        "  print('Ramura if')\n",
        "else:\n",
        "  print('Ramura else')"
      ],
      "metadata": {
        "colab": {
          "base_uri": "https://localhost:8080/"
        },
        "id": "30eohQCa94PN",
        "outputId": "964d2658-b614-46e3-aa61-4c5b437935c6"
      },
      "execution_count": null,
      "outputs": [
        {
          "output_type": "stream",
          "name": "stdout",
          "text": [
            "Ramura if\n"
          ]
        }
      ]
    },
    {
      "cell_type": "code",
      "source": [
        "if False:\n",
        "  print('Ramura if')\n",
        "else:\n",
        "  print('Ramura else')"
      ],
      "metadata": {
        "colab": {
          "base_uri": "https://localhost:8080/"
        },
        "id": "_ChaTJMp7UF5",
        "outputId": "926f5e45-6f56-434e-d592-969ae1540691"
      },
      "execution_count": null,
      "outputs": [
        {
          "output_type": "stream",
          "name": "stdout",
          "text": [
            "Ramura else\n"
          ]
        }
      ]
    },
    {
      "cell_type": "code",
      "source": [
        "a = 3\n",
        "if a == 1:\n",
        "  print(\"a are valoarea 1\")\n",
        "elif a == 2:\n",
        "  print(\"a are valoarea 2\")\n",
        "else:\n",
        "  print(\"a are altă valoare în afară de 1 sau 2\")"
      ],
      "metadata": {
        "colab": {
          "base_uri": "https://localhost:8080/"
        },
        "id": "P_2zIUdU96Wk",
        "outputId": "49cffc0d-deb2-489d-8873-e305015f9eb9"
      },
      "execution_count": null,
      "outputs": [
        {
          "output_type": "stream",
          "name": "stdout",
          "text": [
            "a are altă valoare în afară de 1 sau 2\n"
          ]
        }
      ]
    },
    {
      "cell_type": "markdown",
      "source": [
        "În Python nu există echivalent direct pentru instrucțiunea `switch`. Însă poate fi substituită în 2 moduri. Pentru versiuni Python < 3.10 putem utiliza un dicționar, dar nu se pot executa instrucțiuni suplimentare, se returnează doar o valoare:"
      ],
      "metadata": {
        "id": "K5iWqaqX9_Qp"
      }
    },
    {
      "cell_type": "code",
      "source": [
        "cases = {'ana': 10,\n",
        "        'ionut': 9,\n",
        "        'maria': 8,\n",
        "        'george': 7}\n",
        "\n",
        "choice = 'maria'\n",
        "print(cases[choice])"
      ],
      "metadata": {
        "colab": {
          "base_uri": "https://localhost:8080/"
        },
        "id": "qSc0FdPt99BB",
        "outputId": "6ad9dd22-7fbd-4151-a1ff-8a86d221e271"
      },
      "execution_count": null,
      "outputs": [
        {
          "output_type": "stream",
          "name": "stdout",
          "text": [
            "8\n"
          ]
        }
      ]
    },
    {
      "cell_type": "markdown",
      "source": [
        "În Python 3.10 a fost introdusă instrucțiunea `match` sub forma:\n",
        "\n",
        "```\n",
        "match choice:\n",
        "    case <pattern_1>:\n",
        "        <action_1>\n",
        "    case <pattern_2>:\n",
        "        <action_2>\n",
        "    case <pattern_3>:\n",
        "        <action_3>\n",
        "    case _:\n",
        "        <action_wildcard>\n",
        "```\n",
        "\n",
        "Pentru a utiliza această instrucțiune e necesar Python 3.10, în mod evident. Putem verifica versiunea de Python ce rulează momentan cu:"
      ],
      "metadata": {
        "id": "5EP81cK4-JXx"
      }
    },
    {
      "cell_type": "code",
      "source": [
        "!python --version"
      ],
      "metadata": {
        "colab": {
          "base_uri": "https://localhost:8080/"
        },
        "id": "Hs58-2rk-Kvc",
        "outputId": "d6d0abfb-897b-43af-cc84-4312f9c02579"
      },
      "execution_count": null,
      "outputs": [
        {
          "output_type": "stream",
          "name": "stdout",
          "text": [
            "Python 3.7.13\n"
          ]
        }
      ]
    },
    {
      "cell_type": "markdown",
      "source": [
        "Dacă celula de mai sus afișează Python 3.10.*, puteți rula celula următoare, altfel veți primi o eroare de sintaxă."
      ],
      "metadata": {
        "id": "TOxOpYSi-UwS"
      }
    },
    {
      "cell_type": "code",
      "source": [
        "choice = 'adriana'\n",
        "match choice:\n",
        "  case \"ana\":\n",
        "    print (\"10\")\n",
        "  case \"ionut\":\n",
        "    print (\"9\")\n",
        "  case \"maria\":\n",
        "    print (\"8\")\n",
        "  case \"george\":\n",
        "    print (\"7\")\n",
        "  case _: # Default\n",
        "    print (\"Nu am informatii despre aceasta persoana\")"
      ],
      "metadata": {
        "id": "BVzi5wRb-GlQ",
        "colab": {
          "base_uri": "https://localhost:8080/",
          "height": 133
        },
        "outputId": "a2afe5a1-4220-4ff3-c815-4326bac9924a"
      },
      "execution_count": null,
      "outputs": [
        {
          "output_type": "error",
          "ename": "SyntaxError",
          "evalue": "ignored",
          "traceback": [
            "\u001b[0;36m  File \u001b[0;32m\"<ipython-input-42-97c4ce5c5387>\"\u001b[0;36m, line \u001b[0;32m2\u001b[0m\n\u001b[0;31m    match choice:\u001b[0m\n\u001b[0m               ^\u001b[0m\n\u001b[0;31mSyntaxError\u001b[0m\u001b[0;31m:\u001b[0m invalid syntax\n"
          ]
        }
      ]
    },
    {
      "cell_type": "markdown",
      "source": [
        "###<font color=\"#e8710a\">Operatorul ternar</font>\n",
        "\n",
        "Similar cu operatorul ternar din C/C++, `expr?ramura_true:ramura_false`, în Python avem implementat acest operator folosind instrucțiunea `if` scrisă într-o singură linie:\n",
        "\n",
        "`R = Y if X else Z`\n",
        "\n",
        "Ceea ce ar fi echivalent cu:\n",
        "\n",
        "```\n",
        "if X:\n",
        " \tR = Y\n",
        "else:\n",
        "  R = Z\n",
        "```"
      ],
      "metadata": {
        "id": "unCtUmLB-02f"
      }
    },
    {
      "cell_type": "code",
      "source": [
        "# Operator ternar cu if\n",
        "a = 4\n",
        "b = 10 if a < 3 else 11\n",
        "print (b)"
      ],
      "metadata": {
        "colab": {
          "base_uri": "https://localhost:8080/"
        },
        "id": "N6gwDJCtJRNC",
        "outputId": "46319b0f-0f86-4486-be98-4307653052ff"
      },
      "execution_count": null,
      "outputs": [
        {
          "output_type": "stream",
          "name": "stdout",
          "text": [
            "11\n"
          ]
        }
      ]
    },
    {
      "cell_type": "code",
      "source": [
        "s = 'ana'\n",
        "t = ' are mere' if s == 'ana' else ' are pere'\n",
        "print (s+t)"
      ],
      "metadata": {
        "colab": {
          "base_uri": "https://localhost:8080/"
        },
        "id": "Rep_eSIRJiSI",
        "outputId": "254709e8-91ed-425b-ed51-abcb11830c32"
      },
      "execution_count": null,
      "outputs": [
        {
          "output_type": "stream",
          "name": "stdout",
          "text": [
            "ana are mere\n"
          ]
        }
      ]
    },
    {
      "cell_type": "markdown",
      "source": [
        "###<font color=\"#e8710a\">Instrucțiuni IF imbricate</font>\n",
        "\n",
        "Spre deosebire de alte libaje de programare în care poate deveni destul de complicat de urmărit ramurile de `else if` sau `else` asociate unei instrucțiuni `if`, în Python, indentarea face acest lucru mult mai simplu:"
      ],
      "metadata": {
        "id": "uLznqCP3cUsg"
      }
    },
    {
      "cell_type": "code",
      "source": [
        "a = 5\n",
        "b = 4\n",
        "c = 3\n",
        "if a > b:\n",
        "  if a > c:\n",
        "    print (\"Max = a:\", a)\n",
        "  else:\n",
        "    print (\"Max = c:\", c)\n",
        "else:\n",
        "  if b > c:\n",
        "    print (\"Max = b:\", b)\n",
        "  else:\n",
        "    print (\"Max = c:\", c)"
      ],
      "metadata": {
        "colab": {
          "base_uri": "https://localhost:8080/"
        },
        "id": "_8uPdQmKcn37",
        "outputId": "22ee3f01-dd2e-42ee-d2df-9afc9d2d41c6"
      },
      "execution_count": null,
      "outputs": [
        {
          "output_type": "stream",
          "name": "stdout",
          "text": [
            "Max = a: 5\n"
          ]
        }
      ]
    },
    {
      "cell_type": "markdown",
      "source": [
        "##<font color=\"#e8710a\">Instrucțiunea WHILE</font>\n",
        "\n",
        "\n",
        "Trecem mai departe la instrucțiunile ciclice sau de buclare. Prima instrucțiune de acest fel este instrucțiunea `while` ce are forma generală:\n",
        "\n",
        "```\n",
        "while condiție: # condiția de test a buclei\n",
        "  instrucțiuni  # corpul buclei\n",
        "else:           # ramură else opțională\n",
        "  instrucțiuni  # se execută dacă nu s-a ieșit din buclă cu break\n",
        "```\n",
        "\n",
        "Să vedem un prim exemplu:"
      ],
      "metadata": {
        "id": "jdNaVhfP_PSy"
      }
    },
    {
      "cell_type": "code",
      "source": [
        "a = 10\n",
        "while a: # Atât timp cât a!=0\n",
        "  print(a, end=' ')\n",
        "  a-=1"
      ],
      "metadata": {
        "colab": {
          "base_uri": "https://localhost:8080/"
        },
        "id": "vASmUYYO-y4z",
        "outputId": "4f12b687-3c00-4ffb-dd40-adf73e52d6ee"
      },
      "execution_count": null,
      "outputs": [
        {
          "output_type": "stream",
          "name": "stdout",
          "text": [
            "10 9 8 7 6 5 4 3 2 1 "
          ]
        }
      ]
    },
    {
      "cell_type": "markdown",
      "source": [
        "E important ca în interiorul buclei, condiția de test să fie modificată. Altfel, obținem bucle infinite. Pentru exemplul următor va trebui să opriți forțat execuția celulei folosind iconița de stop din stânga acesteia:"
      ],
      "metadata": {
        "id": "FGvMPL86Svnk"
      }
    },
    {
      "cell_type": "code",
      "source": [
        "a = 11\n",
        "while a: # atât timp cât a != 0\n",
        "  print(a, end=' ')\n",
        "  a-=2"
      ],
      "metadata": {
        "id": "ccGvUsfN_isW",
        "colab": {
          "base_uri": "https://localhost:8080/",
          "height": 427
        },
        "outputId": "53481718-4274-4c02-86da-675e5911db38"
      },
      "execution_count": null,
      "outputs": [
        {
          "output_type": "stream",
          "name": "stdout",
          "text": [
            "11 9 7 5 3 1 -1 -3 -5 -7 -9 -11 -13 -15 -17 -19 -21 -23 -25 -27 -29 -31 -33 -35 -37 -39 -41 -43 -45 -47 -49 -51 -53 -55 -57 -59 -61 -63 -65 -67 -69 -71 -73 -75 -77 -79 -81 -83 -85 -87 -89 -91 -93 -95 -97 -99 -101 -103 -105 -107 -109 -111 -113 -115 -117 -119 -121 -123 -125 -127 -129 -131 -133 -135 -137 -139 -141 -143 -145 -147 -149 -151 -153 -155 -157 -159 -161 -163 -165 -167 -169 -171 -173 -175 -177 -179 -181 -183 -185 -187 -189 -191 -193 -195 -197 -199 -201 -203 -205 -207 -209 -211 -213 -215 -217 -219 -221 -223 -225 -227 -229 -231 -233 -235 -237 -239 -241 -243 -245 -247 -249 -251 -253 -255 -257 -259 -261 -263 -265 -267 -269 -271 -273 -275 -277 -279 -281 -283 -285 -287 -289 -291 -293 -295 -297 -299 -301 -303 -305 -307 -309 -311 -313 -315 -317 -319 -321 -323 -325 -327 -329 -331 -333 -335 -337 -339 -341 -343 -345 -347 -349 -351 -353 -355 -357 -359 -361 -363 -365 -367 -369 -371 -373 -375 -377 -379 -381 -383 -385 -387 -389 -391 -393 -395 -397 -399 -401 -403 -405 -407 -409 -411 -413 -415 -417 -419 -421 -423 -425 -427 -429 -431 -433 -435 -437 -439 -441 -443 -445 -447 -449 -451 -453 -455 -457 -459 -461 -463 -465 -467 -469 -471 -473 -475 -477 -479 -481 -483 -485 -487 -489 -491 -493 -495 -497 -499 -501 -503 -505 -507 -509 -511 -513 -515 -517 -519 -521 -523 -525 -527 -529 -531 -533 -535 -537 -539 -541 -543 -545 -547 -549 -551 -553 -555 -557 -559 -561 -563 -565 -567 -569 -571 -573 -575 -577 -579 -581 -583 -585 -587 -589 -591 -593 -595 -597 -599 -601 -603 -605 -607 -609 -611 -613 -615 -617 -619 -621 -623 -625 -627 -629 -631 -633 -635 -637 -639 -641 -643 -645 -647 -649 -651 -653 -655 -657 -659 -661 -663 -665 -667 -669 -671 -673 -675 -677 -679 -681 -683 -685 -687 -689 -691 -693 -695 -697 -699 -701 -703 -705 -707 -709 -711 -713 -715 -717 -719 -721 -723 -725 -727 -729 -731 -733 -735 -737 -739 -741 -743 -745 -747 -749 -751 -753 -755 -757 -759 -761 -763 -765 -767 -769 -771 -773 -775 -777 -779 -781 -783 -785 -787 -789 -791 -793 -795 -797 -799 -801 -803 -805 -807 -809 -811 -813 -815 -817 -819 -821 -823 -825 -827 -829 -831 -833 -835 -837 -839 -841 -843 -845 -847 -849 -851 -853 -855 -857 -859 -861 -863 -865 -867 -869 -871 -873 -875 -877 -879 -881 -883 -885 -887 -889 -891 -893 -895 -897 -899 -901 -903 -905 -907 -909 -911 -913 -915 -917 -919 -921 -923 -925 -927 -929 -931 -933 -935 -937 -939 -941 -943 -945 -947 -949 -951 -953 -955 -957 -959 -961 -963 -965 -967 -969 -971 -973 -975 -977 -979 -981 -983 -985 -987 -989 -991 -993 -995 -997 -999 -1001 -1003 -1005 -1007 -1009 -1011 -1013 -1015 -1017 -1019 -1021 -1023 -1025 -1027 -1029 -1031 -1033 -1035 -1037 -1039 -1041 -1043 -1045 -1047 -1049 -1051 -1053 -1055 -1057 -1059 -1061 -1063 -1065 -1067 -1069 -1071 -1073 -1075 -1077 -1079 -1081 -1083 -1085 -1087 -1089 -1091 -1093 -1095 -1097 -1099 -1101 -1103 -1105 -1107 -1109 -1111 -1113 -1115 -1117 -1119 -1121 -1123 -1125 -1127 -1129 -1131 -1133 -1135 -1137 -1139 -1141 -1143 -1145 -1147 -1149 -1151 -1153 -1155 -1157 -1159 -1161 -1163 -1165 -1167 -1169 -1171 -1173 -1175 -1177 -1179 -1181 -1183 -1185 -1187 -1189 -1191 -1193 -1195 -1197 -1199 -1201 -1203 -1205 -1207 -1209 -1211 -1213 -1215 -1217 -1219 -1221 -1223 -1225 -1227 -1229 -1231 -1233 -1235 -1237 -1239 -1241 -1243 -1245 -1247 -1249 -1251 -1253 -1255 -1257 -1259 -1261 -1263 -1265 -1267 -1269 -1271 -1273 -1275 -1277 -1279 -1281 -1283 -1285 -1287 -1289 -1291 -1293 -1295 -1297 -1299 -1301 -1303 -1305 -1307 -1309 -1311 -1313 -1315 -1317 -1319 -1321 -1323 -1325 -1327 -1329 -1331 -1333 -1335 -1337 -1339 -1341 -1343 -1345 -1347 -1349 -1351 -1353 -1355 -1357 -1359 -1361 -1363 -1365 -1367 -1369 -1371 -1373 -1375 -1377 -1379 -1381 -1383 -1385 -1387 -1389 -1391 -1393 -1395 -1397 -1399 -1401 -1403 -1405 -1407 -1409 -1411 -1413 -1415 -1417 -1419 -1421 -1423 -1425 -1427 -1429 -1431 -1433 -1435 -1437 -1439 -1441 -1443 -1445 -1447 -1449 -1451 -1453 -1455 -1457 -1459 -1461 -1463 -1465 -1467 -1469 -1471 -1473 -1475 -1477 -1479 -1481 -1483 -1485 -1487 -1489 -1491 -1493 -1495 -1497 -1499 -1501 -1503 -1505 -1507 -1509 -1511 -1513 -1515 -1517 -1519 -1521 -1523 -1525 -1527 -1529 -1531 -1533 -1535 -1537 -1539 -1541 -1543 -1545 -1547 -1549 -1551 -1553 -1555 -1557 -1559 -1561 -1563 -1565 -1567 -1569 -1571 -1573 -1575 -1577 -1579 -1581 -1583 -1585 -1587 -1589 -1591 -1593 -1595 -1597 -1599 -1601 -1603 -1605 -1607 -1609 -1611 -1613 -1615 -1617 -1619 -1621 -1623 -1625 -1627 -1629 -1631 -1633 -1635 -1637 -1639 -1641 -1643 -1645 -1647 -1649 -1651 -1653 -1655 -1657 -1659 -1661 -1663 -1665 -1667 -1669 -1671 -1673 -1675 -1677 -1679 -1681 -1683 -1685 -1687 -1689 -1691 -1693 -1695 -1697 -1699 -1701 -1703 -1705 -1707 -1709 -1711 -1713 -1715 -1717 -1719 -1721 -1723 -1725 -1727 -1729 -1731 -1733 -1735 -1737 -1739 -1741 -1743 -1745 -1747 -1749 -1751 -1753 -1755 -1757 -1759 -1761 -1763 -1765 -1767 -1769 -1771 -1773 -1775 -1777 -1779 -1781 -1783 -1785 -1787 -1789 -1791 -1793 -1795 -1797 -1799 -1801 -1803 -1805 -1807 -1809 -1811 -1813 -1815 -1817 -1819 -1821 -1823 -1825 -1827 -1829 -1831 -1833 -1835 -1837 -1839 -1841 -1843 -1845 -1847 -1849 -1851 -1853 -1855 -1857 -1859 -1861 -1863 -1865 -1867 -1869 -1871 -1873 -1875 -1877 -1879 -1881 -1883 -1885 -1887 -1889 -1891 -1893 -1895 -1897 -1899 -1901 -1903 -1905 -1907 -1909 -1911 -1913 -1915 -1917 -1919 -1921 -1923 -1925 -1927 -1929 -1931 -1933 -1935 -1937 -1939 -1941 -1943 -1945 -1947 -1949 -1951 -1953 -1955 -1957 -1959 -1961 -1963 -1965 -1967 -1969 -1971 -1973 -1975 -1977 -1979 -1981 -1983 -1985 -1987 -1989 -1991 -1993 -1995 -1997 -1999 -2001 -2003 -2005 -2007 -2009 -2011 -2013 -2015 -2017 -2019 -2021 -2023 -2025 -2027 -2029 -2031 -2033 -2035 -2037 -2039 -2041 -2043 -2045 -2047 -2049 -2051 -2053 -2055 -2057 -2059 -2061 -2063 -2065 -2067 -2069 -2071 -2073 -2075 -2077 -2079 -2081 -2083 -2085 -2087 -2089 -2091 -2093 -2095 -2097 -2099 -2101 -2103 -2105 -2107 -2109 -2111 -2113 -2115 -2117 -2119 -2121 -2123 -2125 -2127 -2129 -2131 -2133 -2135 -2137 -2139 -2141 -2143 -2145 -2147 -2149 -2151 -2153 -2155 -2157 -2159 -2161 -2163 -2165 -2167 -2169 -2171 -2173 -2175 -2177 -2179 -2181 -2183 -2185 -2187 -2189 -2191 -2193 -2195 -2197 -2199 -2201 -2203 -2205 -2207 -2209 -2211 -2213 -2215 -2217 -2219 -2221 -2223 -2225 -2227 -2229 -2231 -2233 -2235 -2237 -2239 -2241 -2243 -2245 -2247 -2249 -2251 -2253 -2255 -2257 -2259 -2261 -2263 -2265 -2267 -2269 -2271 -2273 -2275 -2277 -2279 -2281 -2283 -2285 -2287 -2289 -2291 -2293 -2295 -2297 -2299 -2301 -2303 -2305 -2307 -2309 -2311 -2313 -2315 -2317 -2319 -2321 -2323 -2325 -2327 -2329 -2331 -2333 -2335 -2337 -2339 -2341 -2343 -2345 -2347 -2349 -2351 -2353 -2355 -2357 -2359 -2361 -2363 -2365 -2367 -2369 -2371 -2373 -2375 -2377 -2379 -2381 -2383 -2385 -2387 -2389 -2391 -2393 -2395 -2397 -2399 -2401 -2403 -2405 -2407 -2409 -2411 -2413 -2415 -2417 -2419 -2421 -2423 -2425 -2427 -2429 -2431 -2433 -2435 -2437 -2439 -2441 -2443 -2445 -2447 -2449 -2451 -2453 -2455 -2457 -2459 -2461 -2463 -2465 -2467 -2469 -2471 -2473 -2475 -2477 -2479 -2481 -2483 -2485 -2487 -2489 -2491 -2493 -2495 -2497 -2499 -2501 -2503 -2505 -2507 -2509 -2511 -2513 -2515 -2517 -2519 -2521 -2523 -2525 -2527 -2529 -2531 -2533 -2535 -2537 -2539 -2541 -2543 -2545 -2547 -2549 -2551 -2553 -2555 -2557 -2559 -2561 -2563 -2565 -2567 -2569 -2571 -2573 -2575 -2577 -2579 -2581 -2583 -2585 -2587 -2589 -2591 -2593 -2595 -2597 -2599 -2601 -2603 -2605 -2607 -2609 -2611 -2613 -2615 -2617 -2619 -2621 -2623 -2625 -2627 -2629 -2631 -2633 -2635 -2637 -2639 -2641 -2643 -2645 -2647 -2649 -2651 -2653 -2655 -2657 -2659 -2661 -2663 -2665 -2667 -2669 -2671 -2673 -2675 -2677 -2679 -2681 -2683 -2685 -2687 -2689 -2691 -2693 -2695 -2697 -2699 -2701 -2703 -2705 -2707 -2709 -2711 -2713 -2715 -2717 -2719 -2721 -2723 -2725 -2727 -2729 -2731 -2733 -2735 -2737 -2739 -2741 -2743 -2745 -2747 -2749 -2751 -2753 -2755 -2757 -2759 -2761 -2763 -2765 -2767 -2769 -2771 -2773 -2775 -2777 -2779 -2781 -2783 -2785 -2787 -2789 -2791 -2793 -2795 -2797 -2799 -2801 -2803 -2805 -2807 -2809 -2811 -2813 -2815 -2817 -2819 -2821 -2823 -2825 -2827 -2829 -2831 -2833 -2835 -2837 -2839 -2841 -2843 -2845 -2847 -2849 -2851 -2853 -2855 -2857 -2859 -2861 -2863 -2865 -2867 -2869 -2871 -2873 -2875 -2877 -2879 -2881 -2883 -2885 -2887 -2889 -2891 -2893 -2895 -2897 -2899 -2901 -2903 -2905 -2907 -2909 -2911 -2913 -2915 -2917 -2919 -2921 -2923 -2925 -2927 -2929 -2931 -2933 -2935 -2937 -2939 -2941 -2943 -2945 -2947 -2949 -2951 -2953 -2955 -2957 -2959 -2961 -2963 -2965 -2967 -2969 -2971 -2973 -2975 -2977 -2979 -2981 -2983 -2985 -2987 -2989 -2991 -2993 -2995 -2997 -2999 -3001 -3003 -3005 -3007 -3009 -3011 -3013 -3015 -3017 -3019 -3021 -3023 -3025 -3027 -3029 -3031 -3033 -3035 -3037 -3039 -3041 -3043 -3045 -3047 -3049 -3051 -3053 -3055 -3057 -3059 -3061 -3063 -3065 -3067 -3069 -3071 -3073 -3075 -3077 -3079 -3081 -3083 -3085 -3087 -3089 -3091 -3093 -3095 -3097 -3099 -3101 -3103 -3105 -3107 -3109 -3111 -3113 -3115 -3117 -3119 -3121 -3123 -3125 -3127 -3129 -3131 -3133 -3135 -3137 -3139 -3141 -3143 -3145 -3147 -3149 -3151 -3153 -3155 -3157 -3159 -3161 -3163 -3165 -3167 -3169 -3171 -3173 -3175 -3177 -3179 -3181 -3183 -3185 -3187 -3189 -3191 -3193 -3195 -3197 -3199 -3201 -3203 -3205 -3207 -3209 -3211 -3213 -3215 -3217 -3219 -3221 -3223 -3225 -3227 -3229 -3231 -3233 -3235 -3237 -3239 -3241 -3243 -3245 -3247 -3249 -3251 -3253 -3255 -3257 -3259 -3261 -3263 -3265 -3267 -3269 -3271 -3273 -3275 -3277 -3279 -3281 -3283 -3285 -3287 -3289 -3291 -3293 -3295 -3297 -3299 -3301 -3303 -3305 -3307 -3309 -3311 -3313 -3315 -3317 -3319 -3321 -3323 -3325 -3327 -3329 -3331 -3333 -3335 -3337 -3339 -3341 -3343 -3345 -3347 -3349 -3351 -3353 -3355 -3357 -3359 -3361 -3363 -3365 -3367 -3369 -3371 -3373 -3375 -3377 -3379 -3381 -3383 -3385 -3387 -3389 -3391 -3393 -3395 -3397 -3399 -3401 -3403 -3405 -3407 -3409 -3411 -3413 -3415 -3417 -3419 -3421 -3423 -3425 -3427 -3429 -3431 -3433 -3435 -3437 -3439 -3441 -3443 -3445 -3447 -3449 -3451 -3453 -3455 -3457 -3459 -3461 -3463 -3465 -3467 -3469 -3471 -3473 -3475 -3477 -3479 -3481 -3483 -3485 -3487 -3489 -3491 -3493 -3495 -3497 -3499 -3501 -3503 -3505 -3507 -3509 -3511 -3513 -3515 -3517 -3519 -3521 -3523 -3525 -3527 -3529 -3531 -3533 -3535 -3537 -3539 -3541 -3543 -3545 -3547 -3549 -3551 -3553 -3555 -3557 -3559 -3561 -3563 -3565 -3567 -3569 -3571 -3573 -3575 -3577 -3579 -3581 -3583 -3585 -3587 -3589 -3591 -3593 -3595 -3597 -3599 -3601 -3603 -3605 -3607 -3609 -3611 -3613 -3615 -3617 -3619 -3621 -3623 -3625 -3627 -3629 -3631 -3633 -3635 -3637 -3639 -3641 -3643 -3645 -3647 -3649 -3651 -3653 -3655 -3657 -3659 -3661 -3663 -3665 -3667 -3669 -3671 -3673 -3675 -3677 -3679 -3681 -3683 -3685 -3687 -3689 -3691 -3693 -3695 -3697 -3699 -3701 -3703 -3705 -3707 -3709 -3711 -3713 -3715 -3717 -3719 -3721 -3723 -3725 -3727 -3729 -3731 -3733 -3735 -3737 -3739 -3741 -3743 -3745 -3747 -3749 -3751 -3753 -3755 -3757 -3759 -3761 -3763 -3765 -3767 -3769 -3771 -3773 -3775 -3777 -3779 -3781 -3783 -3785 -3787 -3789 -3791 -3793 -3795 -3797 -3799 -3801 -3803 -3805 -3807 -3809 -3811 -3813 -3815 -3817 -3819 -3821 -3823 -3825 -3827 -3829 -3831 -3833 -3835 -3837 -3839 -3841 -3843 -3845 -3847 -3849 -3851 -3853 -3855 -3857 -3859 -3861 -3863 -3865 -3867 -3869 -3871 -3873 -3875 -3877 -3879 -3881 -3883 -3885 -3887 -3889 -3891 -3893 -3895 -3897 -3899 -3901 -3903 -3905 -3907 -3909 -3911 -3913 -3915 -3917 -3919 -3921 -3923 -3925 -3927 -3929 -3931 -3933 -3935 -3937 -3939 -3941 -3943 -3945 -3947 -3949 -3951 -3953 -3955 -3957 -3959 -3961 -3963 -3965 -3967 -3969 -3971 -3973 -3975 -3977 -3979 -3981 -3983 -3985 -3987 -3989 -3991 -3993 -3995 -3997 -3999 -4001 -4003 -4005 -4007 -4009 -4011 -4013 -4015 -4017 -4019 -4021 -4023 -4025 -4027 -4029 -4031 -4033 -4035 -4037 -4039 -4041 -4043 -4045 -4047 -4049 -4051 -4053 -4055 -4057 -4059 -4061 -4063 -4065 -4067 -4069 -4071 -4073 -4075 -4077 -4079 -4081 -4083 -4085 -4087 -4089 -4091 -4093 -4095 -4097 -4099 -4101 -4103 -4105 -4107 -4109 -4111 -4113 -4115 -4117 -4119 -4121 -4123 -4125 -4127 -4129 -4131 -4133 -4135 -4137 -4139 -4141 -4143 -4145 -4147 -4149 -4151 -4153 -4155 -4157 -4159 -4161 -4163 -4165 -4167 -4169 -4171 -4173 -4175 -4177 -4179 -4181 -4183 -4185 -4187 -4189 -4191 -4193 -4195 -4197 -4199 -4201 -4203 -4205 -4207 -4209 -4211 -4213 -4215 -4217 -4219 -4221 -4223 -4225 -4227 -4229 -4231 -4233 -4235 -4237 -4239 -4241 -4243 -4245 -4247 -4249 -4251 -4253 -4255 -4257 -4259 -4261 -4263 -4265 -4267 -4269 -4271 -4273 -4275 -4277 -4279 -4281 -4283 -4285 -4287 -4289 -4291 -4293 -4295 -4297 -4299 -4301 -4303 -4305 -4307 -4309 -4311 -4313 -4315 -4317 -4319 -4321 -4323 -4325 -4327 -4329 -4331 -4333 -4335 -4337 -4339 -4341 -4343 -4345 -4347 -4349 -4351 -4353 -4355 -4357 -4359 -4361 -4363 -4365 -4367 -4369 -4371 -4373 -4375 -4377 -4379 -4381 -4383 -4385 -4387 -4389 -4391 -4393 -4395 -4397 -4399 -4401 -4403 -4405 -4407 -4409 -4411 -4413 -4415 -4417 -4419 -4421 -4423 -4425 -4427 -4429 -4431 -4433 -4435 -4437 -4439 -4441 -4443 -4445 -4447 -4449 -4451 -4453 -4455 -4457 -4459 -4461 -4463 -4465 -4467 -4469 -4471 -4473 -4475 -4477 -4479 -4481 -4483 -4485 -4487 -4489 -4491 -4493 -4495 -4497 -4499 -4501 -4503 -4505 -4507 -4509 -4511 -4513 -4515 -4517 -4519 -4521 -4523 -4525 -4527 -4529 -4531 -4533 -4535 -4537 -4539 -4541 -4543 -4545 -4547 -4549 -4551 -4553 -4555 -4557 -4559 -4561 -4563 -4565 -4567 -4569 -4571 -4573 -4575 -4577 -4579 -4581 -4583 -4585 -4587 -4589 -4591 -4593 -4595 -4597 -4599 -4601 -4603 -4605 -4607 -4609 -4611 -4613 -4615 -4617 -4619 -4621 -4623 -4625 -4627 -4629 -4631 -4633 -4635 -4637 -4639 -4641 -4643 -4645 -4647 -4649 -4651 -4653 -4655 -4657 -4659 -4661 -4663 -4665 -4667 -4669 -4671 -4673 -4675 -4677 -4679 -4681 -4683 -4685 -4687 -4689 -4691 -4693 -4695 -4697 -4699 -4701 -4703 -4705 -4707 -4709 -4711 -4713 -4715 -4717 -4719 -4721 -4723 -4725 -4727 -4729 -4731 -4733 -4735 -4737 -4739 -4741 -4743 -4745 -4747 -4749 -4751 -4753 -4755 -4757 -4759 -4761 -4763 -4765 -4767 -4769 -4771 -4773 -4775 -4777 -4779 -4781 -4783 -4785 -4787 -4789 -4791 -4793 -4795 -4797 -4799 -4801 -4803 -4805 -4807 -4809 -4811 -4813 -4815 -4817 -4819 -4821 -4823 -4825 -4827 -4829 -4831 -4833 -4835 -4837 -4839 -4841 -4843 -4845 -4847 -4849 -4851 -4853 -4855 -4857 -4859 -4861 -4863 -4865 -4867 -4869 -4871 -4873 -4875 -4877 -4879 -4881 -4883 -4885 -4887 -4889 -4891 -4893 -4895 -4897 -4899 -4901 -4903 -4905 -4907 -4909 -4911 -4913 -4915 -4917 -4919 -4921 -4923 -4925 -4927 -4929 -4931 -4933 -4935 -4937 -4939 -4941 -4943 -4945 -4947 -4949 -4951 -4953 -4955 -4957 -4959 -4961 -4963 -4965 -4967 -4969 -4971 -4973 -4975 -4977 -4979 -4981 -4983 -4985 -4987 -4989 -4991 -4993 -4995 -4997 -4999 -5001 -5003 -5005 -5007 -5009 -5011 -5013 -5015 -5017 -5019 -5021 -5023 -5025 -5027 -5029 -5031 -5033 -5035 -5037 -5039 -5041 -5043 -5045 -5047 -5049 -5051 -5053 -5055 -5057 -5059 -5061 -5063 -5065 -5067 -5069 -5071 -5073 -5075 -5077 -5079 -5081 -5083 -5085 -5087 -5089 -5091 -5093 -5095 -5097 -5099 -5101 -5103 -5105 -5107 -5109 -5111 -5113 -5115 -5117 -5119 -5121 -5123 -5125 -5127 -5129 -5131 -5133 -5135 -5137 -5139 -5141 -5143 -5145 -5147 -5149 -5151 -5153 -5155 -5157 -5159 -5161 -5163 -5165 -5167 -5169 -5171 -5173 -5175 -5177 -5179 -5181 -5183 -5185 -5187 -5189 -5191 -5193 -5195 -5197 -5199 -5201 -5203 -5205 -5207 -5209 -5211 -5213 -5215 -5217 -5219 -5221 -5223 -5225 -5227 -5229 -5231 -5233 -5235 -5237 -5239 -5241 -5243 -5245 -5247 -5249 -5251 -5253 -5255 -5257 -5259 -5261 -5263 -5265 -5267 -5269 -5271 -5273 -5275 -5277 -5279 -5281 -5283 -5285 -5287 -5289 -5291 -5293 -5295 -5297 -5299 -5301 -5303 -5305 -5307 -5309 -5311 -5313 -5315 -5317 -5319 -5321 -5323 -5325 -5327 -5329 -5331 -5333 -5335 -5337 -5339 -5341 -5343 -5345 -5347 -5349 -5351 -5353 -5355 -5357 -5359 -5361 -5363 -5365 -5367 -5369 -5371 -5373 -5375 -5377 -5379 -5381 -5383 -5385 -5387 -5389 -5391 -5393 -5395 -5397 -5399 -5401 -5403 -5405 -5407 -5409 -5411 -5413 -5415 -5417 -5419 -5421 -5423 -5425 -5427 -5429 -5431 -5433 -5435 -5437 -5439 -5441 -5443 -5445 -5447 -5449 -5451 -5453 -5455 -5457 -5459 -5461 -5463 -5465 -5467 -5469 -5471 -5473 -5475 -5477 -5479 -5481 -5483 -5485 -5487 -5489 -5491 -5493 -5495 -5497 -5499 -5501 -5503 -5505 -5507 -5509 -5511 -5513 -5515 -5517 -5519 -5521 -5523 -5525 -5527 -5529 -5531 -5533 -5535 -5537 -5539 -5541 -5543 -5545 -5547 -5549 -5551 -5553 -5555 -5557 -5559 -5561 -5563 -5565 -5567 -5569 -5571 -5573 -5575 -5577 -5579 -5581 -5583 -5585 -5587 -5589 -5591 -5593 -5595 -5597 -5599 -5601 -5603 -5605 -5607 -5609 -5611 -5613 -5615 -5617 -5619 -5621 -5623 -5625 -5627 -5629 -5631 -5633 -5635 -5637 -5639 -5641 -5643 -5645 -5647 -5649 -5651 -5653 -5655 -5657 -5659 -5661 -5663 -5665 -5667 -5669 -5671 -5673 -5675 -5677 -5679 -5681 -5683 -5685 -5687 -5689 -5691 -5693 -5695 -5697 -5699 -5701 -5703 -5705 -5707 -5709 -5711 -5713 -5715 -5717 -5719 -5721 -5723 -5725 -5727 -5729 -5731 -5733 -5735 -5737 -5739 -5741 -5743 -5745 -5747 -5749 -5751 -5753 -5755 -5757 -5759 -5761 -5763 -5765 -5767 -5769 -5771 -5773 -5775 -5777 -5779 -5781 -5783 -5785 -5787 -5789 -5791 -5793 -5795 -5797 -5799 -5801 -5803 -5805 -5807 -5809 -5811 -5813 -5815 -5817 -5819 -5821 -5823 -5825 -5827 -5829 -5831 -5833 -5835 -5837 -5839 -5841 -5843 -5845 -5847 -5849 -5851 -5853 -5855 -5857 -5859 -5861 -5863 -5865 -5867 -5869 -5871 -5873 -5875 -5877 -5879 -5881 -5883 -5885 -5887 -5889 -5891 -5893 -5895 -5897 -5899 -5901 -5903 -5905 -5907 -5909 -5911 -5913 -5915 -5917 -5919 -5921 -5923 -5925 -5927 -5929 -5931 -5933 -5935 -5937 -5939 -5941 -5943 -5945 -5947 -5949 -5951 -5953 -5955 -5957 -5959 -5961 -5963 -5965 -5967 -5969 -5971 -5973 -5975 -5977 -5979 -5981 -5983 -5985 -5987 -5989 -5991 -5993 -5995 -5997 -5999 -6001 -6003 -6005 -6007 -6009 -6011 -6013 -6015 -6017 -6019 -6021 -6023 -6025 -6027 -6029 -6031 -6033 -6035 -6037 -6039 -6041 -6043 -6045 -6047 -6049 -6051 -6053 -6055 -6057 -6059 -6061 -6063 -6065 -6067 -6069 -6071 -6073 -6075 -6077 -6079 -6081 -6083 -6085 -6087 -6089 -6091 -6093 -6095 -6097 -6099 -6101 -6103 -6105 -6107 -6109 -6111 -6113 -6115 -6117 -6119 -6121 -6123 -6125 -6127 -6129 -6131 -6133 -6135 -6137 -6139 -6141 -6143 -6145 -6147 -6149 -6151 -6153 -6155 -6157 -6159 -6161 -6163 -6165 -6167 -6169 -6171 -6173 -6175 -6177 -6179 -6181 -6183 -6185 -6187 -6189 -6191 -6193 -6195 -6197 -6199 -6201 -6203 -6205 -6207 -6209 -6211 -6213 -6215 -6217 -6219 -6221 -6223 -6225 -6227 -6229 -6231 -6233 -6235 -6237 -6239 -6241 -6243 -6245 -6247 -6249 -6251 -6253 -6255 -6257 -6259 -6261 -6263 -6265 -6267 -6269 -6271 -6273 -6275 -6277 -6279 -6281 -6283 -6285 -6287 -6289 -6291 -6293 -6295 -6297 -6299 -6301 -6303 -6305 -6307 -6309 -6311 -6313 -6315 -6317 -6319 -6321 -6323 -6325 -6327 -6329 -6331 -6333 -6335 -6337 -6339 -6341 -6343 -6345 -6347 -6349 -6351 -6353 -6355 -6357 -6359 -6361 -6363 -6365 -6367 -6369 -6371 -6373 -6375 -6377 -6379 -6381 -6383 -6385 -6387 -6389 -6391 -6393 -6395 -6397 -6399 -6401 -6403 -6405 -6407 -6409 -6411 -6413 -6415 -6417 -6419 -6421 -6423 -6425 -6427 -6429 -6431 -6433 -6435 -6437 -6439 -6441 -6443 -6445 -6447 -6449 -6451 -6453 -6455 -6457 -6459 -6461 -6463 -6465 -6467 -6469 -6471 -6473 -6475 -6477 -6479 -6481 -6483 -6485 -6487 -6489 -6491 -6493 -6495 -6497 -6499 -6501 -6503 -6505 -6507 -6509 -6511 -6513 -6515 -6517 -6519 -6521 -6523 -6525 -6527 -6529 -6531 -6533 -6535 -6537 -6539 -6541 -6543 -6545 -6547 -6549 -6551 -6553 -6555 -6557 -6559 -6561 -6563 -6565 -6567 -6569 -6571 -6573 -6575 -6577 -6579 -6581 -6583 -6585 -6587 -6589 -6591 -6593 -6595 -6597 -6599 -6601 -6603 -6605 -6607 -6609 -6611 -6613 -6615 -6617 -6619 -6621 -6623 -6625 -6627 -6629 -6631 -6633 -6635 -6637 -6639 -6641 -6643 -6645 -6647 -6649 -6651 -6653 -6655 -6657 -6659 -6661 -6663 -6665 -6667 -6669 -6671 -6673 -6675 -6677 -6679 -6681 -6683 -6685 -6687 -6689 -6691 -6693 -6695 -6697 -6699 -6701 -6703 -6705 -6707 -6709 -6711 -6713 -6715 -6717 -6719 -6721 -6723 -6725 -6727 -6729 -6731 -6733 -6735 -6737 -6739 -6741 -6743 -6745 -6747 -6749 -6751 -6753 -6755 -6757 -6759 -6761 -6763 -6765 -6767 -6769 -6771 -6773 -6775 -6777 -6779 -6781 -6783 -6785 -6787 -6789 -6791 -6793 -6795 -6797 -6799 -6801 -6803 -6805 -6807 -6809 -6811 -6813 -6815 -6817 -6819 -6821 -6823 -6825 -6827 -6829 -6831 -6833 -6835 -6837 -6839 -6841 -6843 -6845 -6847 -6849 -6851 -6853 -6855 -6857 -6859 -6861 -6863 -6865 -6867 -6869 -6871 -6873 -6875 -6877 -6879 -6881 -6883 -6885 -6887 -6889 -6891 -6893 -6895 -6897 -6899 -6901 -6903 -6905 -6907 -6909 -6911 -6913 -6915 -6917 -6919 -6921 -6923 -6925 -6927 -6929 -6931 -6933 -6935 -6937 -6939 -6941 -6943 -6945 -6947 -6949 -6951 -6953 -6955 -6957 -6959 -6961 -6963 -6965 -6967 -6969 -6971 -6973 -6975 -6977 -6979 -6981 -6983 -6985 -6987 -6989 -6991 -6993 -6995 -6997 -6999 -7001 -7003 -7005 -7007 -7009 -7011 -7013 -7015 -7017 -7019 -7021 -7023 -7025 -7027 -7029 -7031 -7033 -7035 -7037 -7039 -7041 -7043 -7045 -7047 -7049 -7051 -7053 -7055 -7057 -7059 -7061 -7063 -7065 -7067 -7069 -7071 -7073 -7075 -7077 -7079 -7081 -7083 -7085 -7087 -7089 -7091 -7093 -7095 -7097 -7099 -7101 -7103 -7105 -7107 -7109 -7111 -7113 -7115 -7117 -7119 -7121 -7123 -7125 -7127 -7129 -7131 -7133 -7135 -7137 -7139 -7141 -7143 -7145 -7147 -7149 -7151 -7153 -7155 -7157 -7159 -7161 -7163 -7165 -7167 -7169 -7171 -7173 -7175 -7177 -7179 -7181 -7183 -7185 -7187 -7189 -7191 -7193 -7195 -7197 -7199 -7201 -7203 -7205 -7207 -7209 -7211 -7213 -7215 -7217 -7219 -7221 -7223 -7225 -7227 -7229 -7231 -7233 -7235 -7237 -7239 -7241 -7243 -7245 -7247 -7249 -7251 -7253 -7255 -7257 -7259 -7261 -7263 -7265 -7267 -7269 -7271 -7273 -7275 -7277 -7279 -7281 -7283 -7285 -7287 -7289 -7291 -7293 -7295 -7297 -7299 -7301 -7303 -7305 -7307 -7309 -7311 -7313 -7315 -7317 -7319 -7321 -7323 -7325 -7327 -7329 -7331 -7333 -7335 -7337 -7339 -7341 -7343 -7345 -7347 -7349 -7351 -7353 -7355 -7357 -7359 -7361 -7363 -7365 -7367 -7369 -7371 -7373 -7375 -7377 -7379 -7381 -7383 -7385 -7387 -7389 -7391 -7393 -7395 -7397 -7399 -7401 -7403 -7405 -7407 -7409 -7411 -7413 -7415 -7417 -7419 -7421 -7423 -7425 -7427 -7429 -7431 -7433 -7435 -7437 -7439 -7441 -7443 -7445 -7447 -7449 -7451 -7453 -7455 -7457 -7459 -7461 -7463 -7465 -7467 -7469 -7471 -7473 -7475 -7477 -7479 -7481 -7483 -7485 -7487 -7489 -7491 -7493 -7495 -7497 -7499 -7501 -7503 -7505 -7507 -7509 -7511 -7513 -7515 -7517 -7519 -7521 -7523 -7525 -7527 -7529 -7531 -7533 -7535 -7537 -7539 -7541 -7543 -7545 -7547 -7549 -7551 -7553 -7555 -7557 -7559 -7561 -7563 -7565 -7567 -7569 -7571 -7573 -7575 -7577 -7579 -7581 -7583 -7585 -7587 -7589 -7591 -7593 -7595 -7597 -7599 -7601 -7603 -7605 -7607 -7609 -7611 -7613 -7615 -7617 -7619 -7621 -7623 -7625 -7627 -7629 -7631 -7633 -7635 -7637 -7639 -7641 -7643 -7645 -7647 -7649 -7651 -7653 -7655 -7657 -7659 -7661 -7663 -7665 -7667 -7669 -7671 -7673 -7675 -7677 -7679 -7681 -7683 -7685 -7687 -7689 -7691 -7693 -7695 -7697 -7699 -7701 -7703 -7705 -7707 -7709 -7711 -7713 -7715 -7717 -7719 -7721 -7723 -7725 -7727 -7729 -7731 -7733 -7735 -7737 -7739 -7741 -7743 -7745 -7747 -7749 -7751 -7753 -7755 -7757 -7759 -7761 -7763 -7765 -7767 -7769 -7771 -7773 -7775 -7777 -7779 -7781 -7783 -7785 -7787 -7789 -7791 -7793 -7795 -7797 -7799 -7801 -7803 -7805 -7807 -7809 -7811 -7813 -7815 -7817 -7819 -7821 -7823 -7825 -7827 -7829 -7831 -7833 -7835 -7837 -7839 -7841 -7843 -7845 -7847 -7849 -7851 -7853 -7855 -7857 -7859 -7861 -7863 -7865 -7867 -7869 -7871 -7873 -7875 -7877 -7879 -7881 -7883 -7885 -7887 -7889 -7891 -7893 -7895 -7897 -7899 -7901 -7903 -7905 -7907 -7909 -7911 -7913 -7915 -7917 -7919 -7921 -7923 -7925 -7927 -7929 -7931 -7933 -7935 -7937 -7939 -7941 -7943 -7945 -7947 -7949 -7951 -7953 -7955 -7957 -7959 -7961 -7963 -7965 -7967 -7969 -7971 -7973 -7975 -7977 -7979 -7981 -7983 -7985 -7987 -7989 -7991 -7993 -7995 -7997 -7999 -8001 -8003 -8005 -8007 -8009 -8011 -8013 -8015 -8017 -8019 -8021 -8023 -8025 -8027 -8029 -8031 -8033 -8035 -8037 -8039 -8041 -8043 -8045 -8047 -8049 -8051 -8053 -8055 -8057 -8059 -8061 -8063 -8065 -8067 -8069 -8071 -8073 -8075 -8077 -8079 -8081 -8083 -8085 -8087 -8089 -8091 -8093 -8095 -8097 -8099 -8101 -8103 -8105 -8107 -8109 -8111 -8113 -8115 -8117 -8119 -8121 -8123 -8125 -8127 -8129 -8131 -8133 -8135 -8137 -8139 -8141 -8143 -8145 -8147 -8149 -8151 -8153 -8155 -8157 -8159 -8161 -8163 -8165 -8167 -8169 -8171 -8173 -8175 -8177 -8179 -8181 -8183 -8185 -8187 -8189 -8191 -8193 -8195 -8197 -8199 -8201 -8203 -8205 -8207 -8209 -8211 -8213 -8215 -8217 -8219 -8221 -8223 -8225 -8227 -8229 -8231 -8233 -8235 -8237 -8239 -8241 -8243 -8245 -8247 -8249 -8251 -8253 -8255 -8257 -8259 -8261 -8263 -8265 -8267 -8269 -8271 -8273 -8275 -8277 -8279 -8281 -8283 -8285 -8287 -8289 -8291 -8293 -8295 -8297 -8299 -8301 -8303 -8305 -8307 -8309 -8311 -8313 -8315 -8317 -8319 -8321 -8323 -8325 -8327 -8329 -8331 -8333 -8335 -8337 -8339 -8341 -8343 -8345 -8347 -8349 -8351 -8353 -8355 -8357 -8359 -8361 -8363 -8365 -8367 -8369 -8371 -8373 -8375 -8377 -8379 -8381 -8383 -8385 -8387 -8389 -8391 -8393 -8395 -8397 -8399 -8401 -8403 -8405 -8407 -8409 -8411 -8413 -8415 -8417 -8419 -8421 -8423 -8425 -8427 -8429 -8431 -8433 -8435 -8437 -8439 -8441 -8443 -8445 -8447 -8449 -8451 -8453 -8455 -8457 -8459 -8461 -8463 -8465 -8467 -8469 -8471 -8473 -8475 -8477 -8479 -8481 -8483 -8485 -8487 -8489 -8491 -8493 -8495 -8497 -8499 -8501 -8503 -8505 -8507 -8509 -8511 -8513 -8515 -8517 -8519 -8521 -8523 -8525 -8527 -8529 -8531 -8533 -8535 -8537 -8539 -8541 -8543 -8545 -8547 -8549 -8551 -8553 -8555 -8557 -8559 -8561 -8563 -8565 -8567 -8569 -8571 -8573 -8575 -8577 -8579 -8581 -8583 -8585 -8587 -8589 -8591 -8593 -8595 -8597 -8599 -8601 -8603 -8605 -8607 -8609 -8611 -8613 -8615 -8617 -8619 -8621 -8623 -8625 -8627 -8629 -8631 -8633 -8635 -8637 -8639 -8641 -8643 -8645 -8647 -8649 -8651 -8653 -8655 -8657 -8659 -8661 -8663 -8665 -8667 -8669 -8671 -8673 -8675 -8677 -8679 -8681 -8683 -8685 -8687 -8689 -8691 -8693 -8695 -8697 -8699 -8701 -8703 -8705 -8707 -8709 -8711 -8713 -8715 -8717 -8719 -8721 -8723 -8725 -8727 -8729 -8731 -8733 -8735 -8737 -8739 -8741 -8743 -8745 -8747 -8749 -8751 -8753 -8755 -8757 -8759 -8761 -8763 -8765 -8767 -8769 -8771 -8773 -8775 -8777 -8779 -8781 -8783 -8785 -8787 -8789 -8791 -8793 -8795 -8797 -8799 -8801 -8803 -8805 -8807 -8809 -8811 -8813 -8815 -8817 -8819 -8821 -8823 -8825 -8827 -8829 -8831 -8833 -8835 -8837 -8839 -8841 -8843 -8845 -8847 -8849 -8851 -8853 -8855 -8857 -8859 -8861 -8863 -8865 -8867 -8869 -8871 -8873 -8875 -8877 -8879 -8881 -8883 -8885 -8887 -8889 -8891 -8893 -8895 -8897 -8899 -8901 -8903 -8905 -8907 -8909 -8911 -8913 -8915 -8917 -8919 -8921 -8923 -8925 -8927 -8929 -8931 -8933 -8935 -8937 -8939 -8941 -8943 -8945 -8947 -8949 -8951 -8953 -8955 -8957 -8959 -8961 -8963 -8965 -8967 -8969 -8971 -8973 -8975 -8977 -8979 -8981 -8983 -8985 -8987 -8989 -8991 -8993 -8995 -8997 -8999 -9001 -9003 -9005 -9007 -9009 -9011 -9013 -9015 -9017 -9019 -9021 -9023 -9025 -9027 -9029 -9031 -9033 -9035 -9037 -9039 -9041 -9043 -9045 -9047 -9049 -9051 -9053 -9055 -9057 -9059 -9061 -9063 -9065 -9067 -9069 -9071 -9073 -9075 -9077 -9079 -9081 -9083 -9085 -9087 -9089 -9091 -9093 -9095 -9097 -9099 -9101 -9103 -9105 -9107 -9109 -9111 -9113 -9115 -9117 -9119 -9121 -9123 -9125 -9127 -9129 -9131 -9133 -9135 -9137 -9139 -9141 -9143 -9145 -9147 -9149 -9151 -9153 -9155 -9157 -9159 -9161 -9163 -9165 -9167 -9169 -9171 -9173 -9175 -9177 -9179 -9181 -9183 -9185 -9187 -9189 -9191 -9193 -9195 -9197 -9199 -9201 -9203 -9205 -9207 -9209 -9211 -9213 -9215 -9217 -9219 -9221 -9223 -9225 -9227 -9229 -9231 -9233 -9235 -9237 -9239 -9241 -9243 -9245 -9247 -9249 -9251 -9253 -9255 -9257 -9259 -9261 -9263 -9265 -9267 -9269 -9271 -9273 -9275 -9277 -9279 -9281 -9283 -9285 -9287 -9289 -9291 -9293 -9295 -9297 -9299 -9301 -9303 -9305 -9307 -9309 -9311 -9313 -9315 -9317 -9319 -9321 -9323 -9325 -9327 -9329 -9331 -9333 -9335 -9337 -9339 -9341 -9343 -9345 -9347 -9349 -9351 -9353 -9355 -9357 -9359 -9361 -9363 -9365 -9367 -9369 -9371 -9373 -9375 -9377 -9379 -9381 -9383 -9385 -9387 -9389 -9391 -9393 -9395 -9397 -9399 -9401 -9403 -9405 -9407 -9409 -9411 -9413 -9415 -9417 -9419 -9421 -9423 -9425 -9427 -9429 -9431 -9433 -9435 -9437 -9439 -9441 -9443 -9445 -9447 -9449 -9451 -9453 -9455 -9457 -9459 -9461 -9463 -9465 -9467 -9469 -9471 -9473 -9475 -9477 -9479 -9481 -9483 -9485 -9487 -9489 -9491 -9493 -9495 -9497 -9499 -9501 -9503 -9505 -9507 -9509 -9511 -9513 -9515 -9517 -9519 -9521 -9523 -9525 -9527 -9529 -9531 -9533 -9535 -9537 -9539 -9541 -9543 -9545 -9547 -9549 -9551 -9553 -9555 -9557 -9559 -9561 -9563 -9565 -9567 -9569 -9571 -9573 -9575 -9577 -9579 -9581 -9583 -9585 -9587 -9589 -9591 -9593 -9595 -9597 -9599 -9601 -9603 -9605 -9607 -9609 -9611 -9613 -9615 -9617 -9619 -9621 -9623 -9625 -9627 -9629 -9631 -9633 -9635 -9637 -9639 -9641 -9643 -9645 -9647 -9649 -9651 -9653 -9655 -9657 -9659 -9661 -9663 -9665 -9667 -9669 -9671 -9673 -9675 -9677 -9679 -9681 -9683 -9685 -9687 -9689 -9691 -9693 -9695 -9697 -9699 -9701 -9703 -9705 -9707 -9709 -9711 -9713 -9715 -9717 -9719 -9721 -9723 -9725 -9727 -9729 -9731 -9733 -9735 -9737 -9739 -9741 -9743 -9745 -9747 -9749 -9751 -9753 -9755 -9757 -9759 -9761 -9763 -9765 -9767 -9769 -9771 -9773 -9775 -9777 -9779 -9781 -9783 -9785 -9787 -9789 -9791 -9793 -9795 -9797 -9799 -9801 -9803 -9805 -9807 -9809 -9811 -9813 -9815 -9817 -9819 -9821 -9823 -9825 -9827 -9829 -9831 -9833 -9835 -9837 -9839 -9841 -9843 -9845 -9847 -9849 -9851 -9853 -9855 -9857 -9859 -9861 -9863 -9865 -9867 -9869 -9871 -9873 -9875 -9877 -9879 -9881 -9883 -9885 -9887 -9889 -9891 -9893 -9895 -9897 -9899 -9901 -9903 -9905 -9907 -9909 -9911 -9913 -9915 -9917 -9919 -9921 -9923 -9925 -9927 -9929 -9931 -9933 -9935 -9937 -9939 -9941 -9943 -9945 -9947 -9949 -9951 -9953 -9955 -9957 -9959 -9961 -9963 -9965 -9967 -9969 -9971 -9973 -9975 -9977 -9979 -9981 -9983 -9985 -9987 -9989 -9991 -9993 -9995 -9997 -9999 -10001 -10003 -10005 -10007 -10009 -10011 -10013 -10015 -10017 -10019 -10021 -10023 -10025 -10027 -10029 -10031 -10033 -10035 -10037 -10039 -10041 -10043 -10045 -10047 -10049 -10051 -10053 -10055 -10057 -10059 -10061 -10063 -10065 -10067 -10069 -10071 -10073 -10075 -10077 -10079 -10081 -10083 -10085 -10087 -10089 -10091 -10093 -10095 -10097 -10099 -10101 -10103 -10105 -10107 -10109 -10111 -10113 -10115 -10117 -10119 -10121 -10123 -10125 -10127 -10129 -10131 -10133 -10135 -10137 -10139 -10141 -10143 -10145 -10147 -10149 -10151 -10153 -10155 -10157 -10159 -10161 -10163 -10165 -10167 -10169 -10171 -10173 -10175 -10177 -10179 -10181 -10183 -10185 -10187 -10189 -10191 -10193 -10195 -10197 -10199 -10201 -10203 -10205 -10207 -10209 -10211 -10213 -10215 -10217 -10219 -10221 -10223 -10225 -10227 -10229 -10231 -10233 -10235 -10237 -10239 -10241 -10243 -10245 -10247 -10249 -10251 -10253 -10255 -10257 -10259 -10261 -10263 -10265 -10267 -10269 -10271 -10273 -10275 -10277 -10279 -10281 -10283 -10285 -10287 -10289 -10291 -10293 -10295 -10297 -10299 -10301 -10303 -10305 -10307 -10309 -10311 -10313 -10315 -10317 -10319 -10321 -10323 -10325 -10327 -10329 -10331 -10333 -10335 -10337 -10339 -10341 -10343 -10345 -10347 -10349 -10351 -10353 -10355 -10357 -10359 -10361 -10363 -10365 -10367 -10369 -10371 -10373 -10375 -10377 -10379 -10381 -10383 -10385 -10387 -10389 -10391 -10393 -10395 -10397 -10399 -10401 -10403 -10405 -10407 -10409 -10411 -10413 -10415 -10417 -10419 -10421 -10423 -10425 -10427 -10429 -10431 -10433 -10435 -10437 -10439 -10441 -10443 -10445 -10447 -10449 -10451 -10453 -10455 -10457 -10459 -10461 -10463 -10465 -10467 -10469 -10471 -10473 -10475 -10477 -10479 -10481 -10483 -10485 -10487 -10489 -10491 -10493 -10495 -10497 -10499 -10501 -10503 -10505 -10507 -10509 -10511 -10513 -10515 -10517 -10519 -10521 -10523 -10525 -10527 -10529 -10531 -10533 -10535 -10537 -10539 -10541 -10543 -10545 -10547 -10549 -10551 -10553 -10555 -10557 -10559 -10561 -10563 -10565 -10567 -10569 -10571 -10573 -10575 -10577 -10579 -10581 -10583 -10585 -10587 -10589 -10591 -10593 -10595 -10597 -10599 -10601 -10603 -10605 -10607 -10609 -10611 -10613 -10615 -10617 -10619 -10621 -10623 -10625 -10627 -10629 -10631 -10633 -10635 -10637 -10639 -10641 -10643 -10645 -10647 -10649 -10651 -10653 -10655 -10657 -10659 -10661 -10663 -10665 -10667 -10669 -10671 -10673 -10675 -10677 -10679 -10681 -10683 -10685 -10687 -10689 -10691 -10693 -10695 -10697 -10699 -10701 -10703 -10705 -10707 -10709 -10711 -10713 -10715 -10717 -10719 -10721 -10723 -10725 -10727 -10729 -10731 -10733 -10735 -10737 -10739 -10741 -10743 -10745 -10747 -10749 -10751 -10753 -10755 -10757 -10759 -10761 -10763 -10765 -10767 -10769 -10771 -10773 -10775 -10777 -10779 -10781 -10783 -10785 -10787 -10789 -10791 -10793 -10795 -10797 -10799 -10801 -10803 -10805 -10807 -10809 -10811 -10813 -10815 -10817 -10819 -10821 -10823 -10825 -10827 -10829 -10831 -10833 -10835 -10837 -10839 -10841 -10843 -10845 -10847 -10849 -10851 -10853 -10855 -10857 -10859 -10861 -10863 -10865 -10867 -10869 -10871 -10873 -10875 -10877 -10879 -10881 -10883 -10885 -10887 -10889 -10891 -10893 -10895 -10897 -10899 -10901 -10903 -10905 -10907 -10909 -10911 -10913 -10915 -10917 -10919 -10921 -10923 -10925 -10927 -10929 -10931 -10933 -10935 -10937 -10939 -10941 -10943 -10945 -10947 -10949 -10951 -10953 -10955 -10957 -10959 -10961 -10963 -10965 -10967 -10969 -10971 -10973 -10975 -10977 -10979 -10981 -10983 -10985 -10987 -10989 -10991 -10993 -10995 -10997 -10999 -11001 -11003 -11005 -11007 -11009 -11011 -11013 -11015 -11017 -11019 -11021 -11023 -11025 -11027 -11029 -11031 -11033 -11035 -11037 -11039 -11041 -11043 -11045 -11047 -11049 -11051 -11053 -11055 -11057 -11059 -11061 -11063 -11065 -11067 -11069 -11071 -11073 -11075 -11077 -11079 -11081 -11083 -11085 -11087 -11089 -11091 -11093 -11095 -11097 -11099 -11101 -11103 -11105 -11107 -11109 -11111 -11113 -11115 -11117 -11119 -11121 -11123 -11125 -11127 -11129 -11131 -11133 -11135 -11137 -11139 -11141 -11143 -11145 -11147 -11149 -11151 -11153 -11155 -11157 -11159 -11161 -11163 -11165 -11167 -11169 -11171 -11173 -11175 -11177 -11179 -11181 -11183 -11185 -11187 -11189 -11191 -11193 -11195 -11197 -11199 -11201 -11203 -11205 -11207 -11209 -11211 -11213 -11215 -11217 -11219 -11221 -11223 -11225 -11227 -11229 -11231 -11233 -11235 -11237 -11239 -11241 -11243 -11245 -11247 -11249 -11251 -11253 -11255 -11257 -11259 -11261 -11263 -11265 -11267 -11269 -11271 -11273 -11275 -11277 -11279 -11281 -11283 -11285 -11287 -11289 -11291 -11293 -11295 -11297 -11299 -11301 -11303 -11305 -11307 -11309 -11311 -11313 -11315 -11317 -11319 -11321 -11323 -11325 -11327 -11329 -11331 -11333 -11335 -11337 -11339 -11341 -11343 -11345 -11347 -11349 -11351 -11353 -11355 -11357 -11359 -11361 -11363 -11365 -11367 -11369 -11371 -11373 -11375 -11377 -11379 -11381 -11383 -11385 -11387 -11389 -11391 -11393 -11395 -11397 -11399 -11401 -11403 -11405 -11407 -11409 -11411 -11413 -11415 -11417 -11419 -11421 -11423 -11425 -11427 -11429 -11431 -11433 -11435 -11437 -11439 -11441 -11443 -11445 -11447 -11449 -11451 -11453 -11455 -11457 -11459 -11461 -11463 -11465 -11467 -11469 -11471 -11473 -11475 -11477 -11479 -11481 -11483 -11485 -11487 -11489 -11491 -11493 -11495 -11497 -11499 -11501 -11503 -11505 -11507 -11509 -11511 -11513 -11515 -11517 -11519 -11521 -11523 -11525 -11527 -11529 -11531 -11533 -11535 -11537 -11539 -11541 -11543 -11545 -11547 -11549 -11551 -11553 -11555 -11557 -11559 -11561 -11563 -11565 -11567 -11569 -11571 -11573 -11575 -11577 -11579 -11581 -11583 -11585 -11587 -11589 -11591 -11593 -11595 -11597 -11599 -11601 -11603 -11605 -11607 -11609 -11611 -11613 -11615 -11617 -11619 -11621 -11623 -11625 -11627 -11629 -11631 -11633 -11635 -11637 -11639 -11641 -11643 -11645 -11647 -11649 -11651 -11653 -11655 -11657 -11659 -11661 -11663 -11665 -11667 -11669 -11671 -11673 -11675 -11677 -11679 -11681 -11683 -11685 -11687 -11689 -11691 -11693 -11695 -11697 -11699 -11701 -11703 -11705 -11707 -11709 -11711 -11713 -11715 -11717 -11719 -11721 -11723 -11725 -11727 -11729 -11731 -11733 -11735 -11737 -11739 -11741 -11743 -11745 -11747 -11749 -11751 -11753 -11755 -11757 -11759 -11761 -11763 -11765 -11767 -11769 -11771 -11773 -11775 -11777 -11779 -11781 -11783 -11785 -11787 -11789 -11791 -11793 -11795 -11797 -11799 -11801 -11803 -11805 -11807 -11809 -11811 -11813 -11815 -11817 -11819 -11821 -11823 -11825 -11827 -11829 -11831 -11833 -11835 -11837 -11839 -11841 -11843 -11845 -11847 -11849 -11851 -11853 -11855 -11857 -11859 -11861 -11863 -11865 -11867 -11869 -11871 -11873 -11875 -11877 -11879 -11881 -11883 -11885 -11887 -11889 -11891 -11893 -11895 -11897 -11899 -11901 -11903 -11905 -11907 -11909 -11911 -11913 -11915 -11917 -11919 -11921 -11923 -11925 -11927 -11929 -11931 -11933 -11935 -11937 -11939 -11941 -11943 -11945 -11947 -11949 -11951 -11953 -11955 -11957 -11959 -11961 -11963 -11965 -11967 -11969 -11971 -11973 -11975 -11977 -11979 -11981 -11983 -11985 -11987 -11989 -11991 -11993 -11995 -11997 -11999 -12001 -12003 -12005 -12007 -12009 -12011 -12013 -12015 -12017 -12019 -12021 -12023 -12025 -12027 -12029 -12031 -12033 -12035 -12037 -12039 -12041 -12043 -12045 -12047 -12049 -12051 -12053 -12055 -12057 -12059 -12061 -12063 -12065 -12067 -12069 -12071 -12073 -12075 -12077 -12079 -12081 -12083 -12085 -12087 -12089 -12091 -12093 -12095 -12097 -12099 -12101 -12103 -12105 -12107 -12109 -12111 -12113 -12115 -12117 -12119 -12121 -12123 -12125 -12127 -12129 -12131 -12133 -12135 -12137 -12139 -12141 -12143 -12145 -12147 -12149 -12151 -12153 -12155 -12157 -12159 -12161 -12163 -12165 -12167 -12169 -12171 -12173 -12175 -12177 -12179 -12181 -12183 -12185 -12187 -12189 -12191 -12193 -12195 -12197 -12199 -12201 -12203 -12205 -12207 -12209 -12211 -12213 -12215 -12217 -12219 -12221 -12223 -12225 -12227 -12229 -12231 -12233 -12235 -12237 -12239 -12241 -12243 -12245 -12247 -12249 -12251 -12253 -12255 -12257 -12259 -12261 -12263 -12265 -12267 -12269 -12271 -12273 -12275 -12277 -12279 -12281 -12283 -12285 -12287 -12289 -12291 -12293 -12295 -12297 -12299 -12301 -12303 -12305 -12307 -12309 -12311 -12313 -12315 -12317 -12319 -12321 -12323 -12325 -12327 -12329 -12331 -12333 -12335 -12337 -12339 -12341 -12343 -12345 -12347 -12349 -12351 -12353 -12355 -12357 -12359 -12361 -12363 -12365 -12367 -12369 -12371 -12373 -12375 -12377 -12379 -12381 -12383 -12385 -12387 -12389 -12391 -12393 -12395 -12397 -12399 -12401 -12403 -12405 -12407 -12409 -12411 -12413 -12415 -12417 -12419 -12421 -12423 -12425 -12427 -12429 -12431 -12433 -12435 -12437 -12439 -12441 -12443 -12445 -12447 -12449 -12451 -12453 -12455 -12457 -12459 -12461 -12463 -12465 -12467 -12469 -12471 -12473 -12475 -12477 -12479 -12481 -12483 -12485 -12487 -12489 -12491 -12493 -12495 -12497 -12499 -12501 -12503 -12505 -12507 -12509 -12511 -12513 -12515 -12517 -12519 -12521 -12523 -12525 -12527 -12529 -12531 -12533 -12535 -12537 -12539 -12541 -12543 -12545 -12547 -12549 -12551 -12553 -12555 -12557 -12559 -12561 -12563 -12565 -12567 -12569 -12571 -12573 -12575 -12577 -12579 -12581 -12583 -12585 -12587 -12589 -12591 -12593 -12595 -12597 -12599 -12601 -12603 -12605 -12607 -12609 -12611 -12613 -12615 -12617 -12619 -12621 -12623 -12625 -12627 -12629 -12631 -12633 -12635 -12637 -12639 -12641 -12643 -12645 -12647 -12649 -12651 -12653 -12655 -12657 -12659 -12661 -12663 -12665 -12667 -12669 -12671 -12673 -12675 -12677 -12679 -12681 -12683 -12685 -12687 -12689 -12691 -12693 -12695 -12697 -12699 -12701 -12703 -12705 -12707 -12709 -12711 -12713 -12715 -12717 -12719 -12721 -12723 -12725 -12727 -12729 -12731 -12733 -12735 -12737 -12739 -12741 -12743 -12745 -12747 -12749 -12751 -12753 -12755 -12757 -12759 -12761 -12763 -12765 -12767 -12769 -12771 -12773 -12775 -12777 -12779 -12781 -12783 -12785 -12787 -12789 -12791 -12793 -12795 -12797 -12799 -12801 -12803 -12805 -12807 -12809 -12811 -12813 -12815 -12817 -12819 -12821 -12823 -12825 -12827 -12829 -12831 -12833 -12835 -12837 -12839 -12841 -12843 -12845 -12847 -12849 -12851 -12853 -12855 -12857 -12859 -12861 -12863 -12865 -12867 -12869 -12871 -12873 -12875 -12877 -12879 -12881 -12883 -12885 -12887 -12889 -12891 -12893 -12895 -12897 -12899 -12901 -12903 -12905 -12907 -12909 -12911 -12913 -12915 -12917 -12919 -12921 -12923 -12925 -12927 -12929 -12931 -12933 -12935 -12937 -12939 -12941 -12943 -12945 -12947 -12949 -12951 -12953 -12955 -12957 -12959 -12961 -12963 -12965 -12967 -12969 -12971 -12973 -12975 -12977 -12979 -12981 -12983 -12985 -12987 -12989 -12991 -12993 -12995 -12997 -12999 -13001 -13003 -13005 -13007 -13009 -13011 -13013 -13015 -13017 -13019 -13021 -13023 -13025 -13027 -13029 -13031 -13033 -13035 -13037 -13039 -13041 -13043 -13045 -13047 -13049 -13051 -13053 -13055 -13057 -13059 -13061 -13063 -13065 -13067 -13069 -13071 -13073 -13075 -13077 -13079 -13081 -13083 -13085 -13087 -13089 -13091 -13093 -13095 -13097 -13099 -13101 -13103 -13105 -13107 -13109 -13111 -13113 -13115 -13117 -13119 -13121 -13123 -13125 -13127 -13129 -13131 -13133 -13135 -13137 -13139 -13141 -13143 -13145 -13147 -13149 -13151 -13153 -13155 -13157 -13159 -13161 -13163 -13165 -13167 -13169 -13171 -13173 -13175 -13177 -13179 -13181 -13183 -13185 -13187 -13189 -13191 -13193 -13195 -13197 -13199 -13201 -13203 -13205 -13207 -13209 -13211 -13213 -13215 -13217 -13219 -13221 -13223 -13225 -13227 -13229 -13231 -13233 -13235 -13237 -13239 -13241 -13243 -13245 -13247 -13249 -13251 -13253 -13255 -13257 -13259 -13261 -13263 -13265 -13267 -13269 -13271 -13273 -13275 -13277 -13279 -13281 -13283 -13285 -13287 -13289 -13291 -13293 -13295 -13297 -13299 -13301 -13303 -13305 -13307 -13309 -13311 -13313 -13315 -13317 -13319 -13321 -13323 -13325 -13327 -13329 -13331 -13333 -13335 -13337 -13339 -13341 -13343 -13345 -13347 -13349 -13351 -13353 -13355 -13357 -13359 -13361 -13363 -13365 -13367 -13369 -13371 -13373 -13375 -13377 -13379 -13381 -13383 -13385 -13387 -13389 -13391 -13393 -13395 -13397 -13399 -13401 -13403 -13405 -13407 -13409 -13411 -13413 -13415 -13417 -13419 -13421 -13423 -13425 -13427 -13429 -13431 -13433 -13435 -13437 -13439 -13441 -13443 -13445 -13447 -13449 -13451 -13453 -13455 -13457 -13459 -13461 -13463 -13465 -13467 -13469 -13471 -13473 -13475 -13477 -13479 -13481 -13483 -13485 -13487 -13489 -13491 -13493 -13495 -13497 -13499 -13501 -13503 -13505 -13507 -13509 -13511 -13513 -13515 -13517 -13519 -13521 -13523 -13525 -13527 -13529 -13531 -13533 -13535 -13537 -13539 -13541 -13543 -13545 -13547 -13549 -13551 -13553 -13555 -13557 -13559 -13561 -13563 -13565 -13567 -13569 -13571 -13573 -13575 -13577 -13579 -13581 -13583 -13585 -13587 -13589 -13591 -13593 -13595 -13597 -13599 -13601 -13603 -13605 -13607 -13609 -13611 -13613 -13615 -13617 -13619 -13621 -13623 -13625 -13627 -13629 -13631 -13633 -13635 -13637 -13639 -13641 -13643 -13645 -13647 -13649 -13651 -13653 -13655 -13657 -13659 -13661 -13663 -13665 -13667 -13669 -13671 -13673 -13675 -13677 -13679 -13681 -13683 -13685 -13687 -13689 -13691 -13693 -13695 -13697 -13699 -13701 -13703 -13705 -13707 -13709 -13711 -13713 -13715 -13717 -13719 -13721 -13723 -13725 -13727 -13729 -13731 -13733 -13735 -13737 -13739 -13741 -13743 -13745 -13747 -13749 -13751 -13753 -13755 -13757 -13759 -13761 -13763 -13765 -13767 -13769 -13771 -13773 -13775 -13777 -13779 -13781 -13783 -13785 -13787 -13789 -13791 -13793 -13795 -13797 -13799 -13801 -13803 -13805 -13807 -13809 -13811 -13813 -13815 -13817 -13819 -13821 -13823 -13825 -13827 -13829 -13831 -13833 -13835 -13837 -13839 -13841 -13843 -13845 -13847 -13849 -13851 -13853 -13855 -13857 -13859 -13861 -13863 -13865 -13867 -13869 -13871 -13873 -13875 -13877 -13879 -13881 -13883 -13885 -13887 -13889 -13891 -13893 -13895 -13897 -13899 -13901 -13903 -13905 -13907 -13909 -13911 -13913 -13915 -13917 -13919 -13921 -13923 -13925 -13927 -13929 -13931 -13933 -13935 -13937 -13939 -13941 -13943 -13945 -13947 "
          ]
        },
        {
          "output_type": "error",
          "ename": "KeyboardInterrupt",
          "evalue": "ignored",
          "traceback": [
            "\u001b[0;31m---------------------------------------------------------------------------\u001b[0m",
            "\u001b[0;31mKeyboardInterrupt\u001b[0m                         Traceback (most recent call last)",
            "\u001b[0;32m<ipython-input-47-dba9aded6392>\u001b[0m in \u001b[0;36m<module>\u001b[0;34m\u001b[0m\n\u001b[1;32m      1\u001b[0m \u001b[0ma\u001b[0m \u001b[0;34m=\u001b[0m \u001b[0;36m11\u001b[0m\u001b[0;34m\u001b[0m\u001b[0;34m\u001b[0m\u001b[0m\n\u001b[1;32m      2\u001b[0m \u001b[0;32mwhile\u001b[0m \u001b[0ma\u001b[0m\u001b[0;34m:\u001b[0m \u001b[0;31m# atât timp cât a != 0\u001b[0m\u001b[0;34m\u001b[0m\u001b[0;34m\u001b[0m\u001b[0m\n\u001b[0;32m----> 3\u001b[0;31m   \u001b[0mprint\u001b[0m\u001b[0;34m(\u001b[0m\u001b[0ma\u001b[0m\u001b[0;34m,\u001b[0m \u001b[0mend\u001b[0m\u001b[0;34m=\u001b[0m\u001b[0;34m' '\u001b[0m\u001b[0;34m)\u001b[0m\u001b[0;34m\u001b[0m\u001b[0;34m\u001b[0m\u001b[0m\n\u001b[0m\u001b[1;32m      4\u001b[0m   \u001b[0ma\u001b[0m\u001b[0;34m-=\u001b[0m\u001b[0;36m2\u001b[0m\u001b[0;34m\u001b[0m\u001b[0;34m\u001b[0m\u001b[0m\n",
            "\u001b[0;32m/usr/local/lib/python3.7/dist-packages/ipykernel/iostream.py\u001b[0m in \u001b[0;36mwrite\u001b[0;34m(self, string)\u001b[0m\n\u001b[1;32m    402\u001b[0m             \u001b[0mis_child\u001b[0m \u001b[0;34m=\u001b[0m \u001b[0;34m(\u001b[0m\u001b[0;32mnot\u001b[0m \u001b[0mself\u001b[0m\u001b[0;34m.\u001b[0m\u001b[0m_is_master_process\u001b[0m\u001b[0;34m(\u001b[0m\u001b[0;34m)\u001b[0m\u001b[0;34m)\u001b[0m\u001b[0;34m\u001b[0m\u001b[0;34m\u001b[0m\u001b[0m\n\u001b[1;32m    403\u001b[0m             \u001b[0;31m# only touch the buffer in the IO thread to avoid races\u001b[0m\u001b[0;34m\u001b[0m\u001b[0;34m\u001b[0m\u001b[0;34m\u001b[0m\u001b[0m\n\u001b[0;32m--> 404\u001b[0;31m             \u001b[0mself\u001b[0m\u001b[0;34m.\u001b[0m\u001b[0mpub_thread\u001b[0m\u001b[0;34m.\u001b[0m\u001b[0mschedule\u001b[0m\u001b[0;34m(\u001b[0m\u001b[0;32mlambda\u001b[0m \u001b[0;34m:\u001b[0m \u001b[0mself\u001b[0m\u001b[0;34m.\u001b[0m\u001b[0m_buffer\u001b[0m\u001b[0;34m.\u001b[0m\u001b[0mwrite\u001b[0m\u001b[0;34m(\u001b[0m\u001b[0mstring\u001b[0m\u001b[0;34m)\u001b[0m\u001b[0;34m)\u001b[0m\u001b[0;34m\u001b[0m\u001b[0;34m\u001b[0m\u001b[0m\n\u001b[0m\u001b[1;32m    405\u001b[0m             \u001b[0;32mif\u001b[0m \u001b[0mis_child\u001b[0m\u001b[0;34m:\u001b[0m\u001b[0;34m\u001b[0m\u001b[0;34m\u001b[0m\u001b[0m\n\u001b[1;32m    406\u001b[0m                 \u001b[0;31m# mp.Pool cannot be trusted to flush promptly (or ever),\u001b[0m\u001b[0;34m\u001b[0m\u001b[0;34m\u001b[0m\u001b[0;34m\u001b[0m\u001b[0m\n",
            "\u001b[0;32m/usr/local/lib/python3.7/dist-packages/ipykernel/iostream.py\u001b[0m in \u001b[0;36mschedule\u001b[0;34m(self, f)\u001b[0m\n\u001b[1;32m    203\u001b[0m             \u001b[0mself\u001b[0m\u001b[0;34m.\u001b[0m\u001b[0m_events\u001b[0m\u001b[0;34m.\u001b[0m\u001b[0mappend\u001b[0m\u001b[0;34m(\u001b[0m\u001b[0mf\u001b[0m\u001b[0;34m)\u001b[0m\u001b[0;34m\u001b[0m\u001b[0;34m\u001b[0m\u001b[0m\n\u001b[1;32m    204\u001b[0m             \u001b[0;31m# wake event thread (message content is ignored)\u001b[0m\u001b[0;34m\u001b[0m\u001b[0;34m\u001b[0m\u001b[0;34m\u001b[0m\u001b[0m\n\u001b[0;32m--> 205\u001b[0;31m             \u001b[0mself\u001b[0m\u001b[0;34m.\u001b[0m\u001b[0m_event_pipe\u001b[0m\u001b[0;34m.\u001b[0m\u001b[0msend\u001b[0m\u001b[0;34m(\u001b[0m\u001b[0;34mb''\u001b[0m\u001b[0;34m)\u001b[0m\u001b[0;34m\u001b[0m\u001b[0;34m\u001b[0m\u001b[0m\n\u001b[0m\u001b[1;32m    206\u001b[0m         \u001b[0;32melse\u001b[0m\u001b[0;34m:\u001b[0m\u001b[0;34m\u001b[0m\u001b[0;34m\u001b[0m\u001b[0m\n\u001b[1;32m    207\u001b[0m             \u001b[0mf\u001b[0m\u001b[0;34m(\u001b[0m\u001b[0;34m)\u001b[0m\u001b[0;34m\u001b[0m\u001b[0;34m\u001b[0m\u001b[0m\n",
            "\u001b[0;32m/usr/local/lib/python3.7/dist-packages/zmq/sugar/socket.py\u001b[0m in \u001b[0;36msend\u001b[0;34m(self, data, flags, copy, track, routing_id, group)\u001b[0m\n\u001b[1;32m    616\u001b[0m                 )\n\u001b[1;32m    617\u001b[0m             \u001b[0mdata\u001b[0m\u001b[0;34m.\u001b[0m\u001b[0mgroup\u001b[0m \u001b[0;34m=\u001b[0m \u001b[0mgroup\u001b[0m\u001b[0;34m\u001b[0m\u001b[0;34m\u001b[0m\u001b[0m\n\u001b[0;32m--> 618\u001b[0;31m         \u001b[0;32mreturn\u001b[0m \u001b[0msuper\u001b[0m\u001b[0;34m(\u001b[0m\u001b[0;34m)\u001b[0m\u001b[0;34m.\u001b[0m\u001b[0msend\u001b[0m\u001b[0;34m(\u001b[0m\u001b[0mdata\u001b[0m\u001b[0;34m,\u001b[0m \u001b[0mflags\u001b[0m\u001b[0;34m=\u001b[0m\u001b[0mflags\u001b[0m\u001b[0;34m,\u001b[0m \u001b[0mcopy\u001b[0m\u001b[0;34m=\u001b[0m\u001b[0mcopy\u001b[0m\u001b[0;34m,\u001b[0m \u001b[0mtrack\u001b[0m\u001b[0;34m=\u001b[0m\u001b[0mtrack\u001b[0m\u001b[0;34m)\u001b[0m\u001b[0;34m\u001b[0m\u001b[0;34m\u001b[0m\u001b[0m\n\u001b[0m\u001b[1;32m    619\u001b[0m \u001b[0;34m\u001b[0m\u001b[0m\n\u001b[1;32m    620\u001b[0m     def send_multipart(\n",
            "\u001b[0;32mzmq/backend/cython/socket.pyx\u001b[0m in \u001b[0;36mzmq.backend.cython.socket.Socket.send\u001b[0;34m()\u001b[0m\n",
            "\u001b[0;32mzmq/backend/cython/socket.pyx\u001b[0m in \u001b[0;36mzmq.backend.cython.socket.Socket.send\u001b[0;34m()\u001b[0m\n",
            "\u001b[0;32mzmq/backend/cython/socket.pyx\u001b[0m in \u001b[0;36mzmq.backend.cython.socket._send_copy\u001b[0;34m()\u001b[0m\n",
            "\u001b[0;32m/usr/local/lib/python3.7/dist-packages/zmq/backend/cython/checkrc.pxd\u001b[0m in \u001b[0;36mzmq.backend.cython.checkrc._check_rc\u001b[0;34m()\u001b[0m\n",
            "\u001b[0;31mKeyboardInterrupt\u001b[0m: "
          ]
        }
      ]
    },
    {
      "cell_type": "markdown",
      "source": [
        "Evident că există cazuri în care nu ne dorim ca o buclă să fie executată până ce condiția de test devine falsă sau să executăm tot corpul de instrucțiuni. Pentru aceasta, avem la dispoziție instrucțiunile de salt: `break` și `continue`"
      ],
      "metadata": {
        "id": "eOBZcWcoT4NO"
      }
    },
    {
      "cell_type": "markdown",
      "source": [
        "* `break` - iese din bucla ce o încapsulează;\n",
        "* `continue` - sare la începutul buclei ce o încapsulează."
      ],
      "metadata": {
        "id": "HNkvVaEb_pRg"
      }
    },
    {
      "cell_type": "code",
      "source": [
        "a = 11\n",
        "while a:\n",
        "  if a < 5:\n",
        "    break # Se iese din while cand a devine 5\n",
        "  print(a, end=' ')\n",
        "  a-=1"
      ],
      "metadata": {
        "colab": {
          "base_uri": "https://localhost:8080/"
        },
        "id": "GpcIXDLkVbai",
        "outputId": "09097308-e457-4dbb-a0ba-68c39db172bd"
      },
      "execution_count": null,
      "outputs": [
        {
          "output_type": "stream",
          "name": "stdout",
          "text": [
            "11 10 9 8 7 6 5 "
          ]
        }
      ]
    },
    {
      "cell_type": "code",
      "source": [
        "a = 11\n",
        "while a:\n",
        "  a-=1\n",
        "  if a < 5:\n",
        "    continue # Se sare peste următoarele instrucțiuni cand a devine 5\n",
        "  print(a, end=' ')\n",
        "\n",
        "print(\"\\na la iesirea din bucla este:\", a)"
      ],
      "metadata": {
        "colab": {
          "base_uri": "https://localhost:8080/"
        },
        "id": "gYb3Lgl1WsFN",
        "outputId": "acd409f4-8e02-4f0a-d0b1-023576e7e54e"
      },
      "execution_count": null,
      "outputs": [
        {
          "output_type": "stream",
          "name": "stdout",
          "text": [
            "10 9 8 7 6 5 \n",
            "a la iesirea din bucla este: 0\n"
          ]
        }
      ]
    },
    {
      "cell_type": "markdown",
      "source": [
        "Tot în bucla `while` avem ramura de `else`, care nu este comună multor altor limbaje de programare. Această ramură se execută la ieșirea normală din buclă și nu se execută atunci când ieșim cu o instrucțiune de salt de tip `break`:"
      ],
      "metadata": {
        "id": "HYmFhTQLXURx"
      }
    },
    {
      "cell_type": "code",
      "source": [
        "a = 11\n",
        "while a:\n",
        "  a-=1\n",
        "else:\n",
        "  print (\"Am ajuns pe ramura de else!\")"
      ],
      "metadata": {
        "colab": {
          "base_uri": "https://localhost:8080/"
        },
        "id": "-ir9PVcRXkU7",
        "outputId": "a3398469-af8c-495c-e68d-3427c70de634"
      },
      "execution_count": null,
      "outputs": [
        {
          "output_type": "stream",
          "name": "stdout",
          "text": [
            "Am ajuns pe ramura de else!\n"
          ]
        }
      ]
    },
    {
      "cell_type": "code",
      "source": [
        "a = 11\n",
        "while a:\n",
        "  a-=1\n",
        "  if a < 5:\n",
        "    print (\"Iesim din bucla fara a trece prin ramura de else\")\n",
        "    break\n",
        "else:\n",
        "  print (\"Am ajuns pe ramura de else!\")"
      ],
      "metadata": {
        "colab": {
          "base_uri": "https://localhost:8080/"
        },
        "id": "lKWWTyDKXubG",
        "outputId": "c6ae5073-594c-4360-b9a7-14f928e0f0b0"
      },
      "execution_count": null,
      "outputs": [
        {
          "output_type": "stream",
          "name": "stdout",
          "text": [
            "Iesim din bucla fara a trece prin ramura de else\n"
          ]
        }
      ]
    },
    {
      "cell_type": "markdown",
      "source": [
        "##<font color=\"#e8710a\">Instrucțiunea FOR</font>\n",
        "\n",
        "O altă instrucțiune de ciclare (buclă) este instrucțiunea `for` cu forma generală dată de:\n",
        "\n",
        "```\n",
        "for val in obiect_iterabil:\n",
        "  instrucțiuni\n",
        "else:\n",
        "  instrucțiuni #se execută doar la ieșirea normală din buclă\n",
        "```\n",
        "\n",
        "Obiectul utilizat în antetul instrucțiunii (`obiect_iterabil`) trebuie să fie **iterabil**!!! Aceasta înseamnă că e fie un obiect de tip secvență, fie un obiect ce implementează mecanisme de iterare. Vom reveni spre finalul acestui tutorial asupra iteratorilor.\n",
        "\n",
        "> **NOTĂ** `val` poate fi modificată în cadrul buclei `for`, dar va reveni la următoarea valoare din obiectul iterabil în iterația următoare. La ieșire din buclă, `val` va stoca ultima valoare utilizată în buclă.\n"
      ],
      "metadata": {
        "id": "RJ2eEslsAlj-"
      }
    },
    {
      "cell_type": "code",
      "source": [
        "# for peste o listă\n",
        "for x in [\"ana\", \"are\", \"mere\"]:\n",
        "  print(x, end=' ')"
      ],
      "metadata": {
        "colab": {
          "base_uri": "https://localhost:8080/"
        },
        "id": "fYW3j0UVAap7",
        "outputId": "cf09a9d1-2e87-421d-c17e-da0edd3dc080"
      },
      "execution_count": null,
      "outputs": [
        {
          "output_type": "stream",
          "name": "stdout",
          "text": [
            "ana are mere "
          ]
        }
      ]
    },
    {
      "cell_type": "code",
      "source": [
        "suma = 0\n",
        "for x in [1, 2, 3, 4]: # iterare peste lista\n",
        "  suma += x\n",
        "print(\"Suma: \", suma)"
      ],
      "metadata": {
        "colab": {
          "base_uri": "https://localhost:8080/"
        },
        "id": "laS_ntNYCjUW",
        "outputId": "3b72beeb-ee04-40b1-c986-996e65893d1b"
      },
      "execution_count": null,
      "outputs": [
        {
          "output_type": "stream",
          "name": "stdout",
          "text": [
            "Suma:  10\n"
          ]
        }
      ]
    },
    {
      "cell_type": "code",
      "source": [
        "# Iterare peste string\n",
        "S = \"Python\"\n",
        "for c in S:\n",
        "  print(c, end=' ')"
      ],
      "metadata": {
        "colab": {
          "base_uri": "https://localhost:8080/"
        },
        "id": "hjPoQ0S5CnJp",
        "outputId": "16dc62db-162c-45d2-a81c-9b78a65bd8d9"
      },
      "execution_count": null,
      "outputs": [
        {
          "output_type": "stream",
          "name": "stdout",
          "text": [
            "P y t h o n "
          ]
        }
      ]
    },
    {
      "cell_type": "code",
      "source": [
        "# Iterare peste tuplu\n",
        "T = ('a', 'b', 'c')\n",
        "for x in T:\n",
        "  print(x, end=' ')"
      ],
      "metadata": {
        "colab": {
          "base_uri": "https://localhost:8080/"
        },
        "id": "rFBbjRD6CqxF",
        "outputId": "13b64e64-2edc-4e4a-e464-8c30d6e743fb"
      },
      "execution_count": null,
      "outputs": [
        {
          "output_type": "stream",
          "name": "stdout",
          "text": [
            "a b c "
          ]
        }
      ]
    },
    {
      "cell_type": "code",
      "source": [
        "# Despachetare tuplu\n",
        "T = [(1, 2), (3, 4), (5, 6)]\n",
        "for (a, b) in T:\n",
        "  print(a, b)"
      ],
      "metadata": {
        "colab": {
          "base_uri": "https://localhost:8080/"
        },
        "id": "LRughYlrCskQ",
        "outputId": "da615b17-2a70-4412-b435-7b62942eeaea"
      },
      "execution_count": null,
      "outputs": [
        {
          "output_type": "stream",
          "name": "stdout",
          "text": [
            "1 2\n",
            "3 4\n",
            "5 6\n"
          ]
        }
      ]
    },
    {
      "cell_type": "code",
      "source": [
        "# Iterare folosind chei din dicționar\n",
        "D = {'a': 1, 'b': 2, 'c': 3}\n",
        "for key in D:\n",
        "  print(key, D[key])"
      ],
      "metadata": {
        "colab": {
          "base_uri": "https://localhost:8080/"
        },
        "id": "RKAAHGGyCv92",
        "outputId": "83534aa4-8db8-4460-f877-e8a73c715bc0"
      },
      "execution_count": null,
      "outputs": [
        {
          "output_type": "stream",
          "name": "stdout",
          "text": [
            "a 1\n",
            "b 2\n",
            "c 3\n"
          ]
        }
      ]
    },
    {
      "cell_type": "code",
      "source": [
        "# Iterare folosind chei și valori din dicționar\n",
        "D = {'a': 1, 'b': 2, 'c': 3}\n",
        "for (key, value) in D.items():\n",
        "  print(key, value)"
      ],
      "metadata": {
        "colab": {
          "base_uri": "https://localhost:8080/"
        },
        "id": "JL5W1ghkC3II",
        "outputId": "2f16faf4-3a2a-41d0-f23a-ebd271b7e27c"
      },
      "execution_count": null,
      "outputs": [
        {
          "output_type": "stream",
          "name": "stdout",
          "text": [
            "a 1\n",
            "b 2\n",
            "c 3\n"
          ]
        }
      ]
    },
    {
      "cell_type": "markdown",
      "source": [
        "###<font color=\"#e8710a\">Ramura else</font>\n",
        "\n",
        "Ca în cazul instrucțiunii WHILE, avem la dispoziție ramura `else` a instrucțiunii `for` ce se execută doar la ieșirea normală din buclă (fără salt):"
      ],
      "metadata": {
        "id": "JxlDoGpDuW2W"
      }
    },
    {
      "cell_type": "code",
      "source": [
        "# Verificăm existența unei chei în dicționar\n",
        "D = {'a': 1, 'b': 2, 'c': 3}\n",
        "valoare = 4\n",
        "for key in D:\n",
        "  if D[key] == valoare:\n",
        "    print (\"Valoarea a fost găsită\")\n",
        "    break\n",
        "else:\n",
        "  # Dacă nu s-a apelat break\n",
        "  print (\"Valoarea nu a fost găsită\", valoare)"
      ],
      "metadata": {
        "colab": {
          "base_uri": "https://localhost:8080/"
        },
        "id": "H60vEPxWuIHE",
        "outputId": "a3430e0f-a308-445d-a492-c46c142cbf38"
      },
      "execution_count": null,
      "outputs": [
        {
          "output_type": "stream",
          "name": "stdout",
          "text": [
            "Valoarea nu a fost găsită 4\n"
          ]
        }
      ]
    },
    {
      "cell_type": "code",
      "source": [
        "# Forțăm ieșirea prin break\n",
        "D = {'a': 1, 'b': 2, 'c': 3}\n",
        "valoare = 2\n",
        "for key in D:\n",
        "  if D[key] == valoare:\n",
        "    print (\"Valoarea a fost găsită\")\n",
        "    break\n",
        "else:\n",
        "  # Nu se execută ramura else\n",
        "  print (\"Valoarea nu a fost găsită\", valoare)"
      ],
      "metadata": {
        "colab": {
          "base_uri": "https://localhost:8080/"
        },
        "id": "HtnKfs7xur5L",
        "outputId": "7b224f87-f146-48a2-94b2-475882c4bc88"
      },
      "execution_count": null,
      "outputs": [
        {
          "output_type": "stream",
          "name": "stdout",
          "text": [
            "Valoarea a fost găsită\n"
          ]
        }
      ]
    },
    {
      "cell_type": "markdown",
      "source": [
        "###<font color=\"#e8710a\">Bucle for imbricate</font>"
      ],
      "metadata": {
        "id": "cvKidi5mDWhf"
      }
    },
    {
      "cell_type": "code",
      "source": [
        "litere = ['a', 'b', 'c']\n",
        "cifre = [1, 2, 3]\n",
        "\n",
        "for l in litere: # Iterăm peste lista litere\n",
        "  for c in cifre: # Iterăm peste lista cifre\n",
        "    print (l,c)"
      ],
      "metadata": {
        "colab": {
          "base_uri": "https://localhost:8080/"
        },
        "id": "6bKee4qgC6XQ",
        "outputId": "aa05f369-58fc-4325-d2ea-fe6f4ffa9e35"
      },
      "execution_count": null,
      "outputs": [
        {
          "output_type": "stream",
          "name": "stdout",
          "text": [
            "a 1\n",
            "a 2\n",
            "a 3\n",
            "b 1\n",
            "b 2\n",
            "b 3\n",
            "c 1\n",
            "c 2\n",
            "c 3\n"
          ]
        }
      ]
    },
    {
      "cell_type": "markdown",
      "source": [
        "###<font color=\"#e8710a\">FOR și WHILE pentru citire din fișiere</font>\n",
        "\n",
        "În majoritatea aplicațiilor va fi nevoie să citim sau să scriem date din/în fișiere. Folosind buclele `while` sau `for`, putem realiza acest lucru extrem de simplu."
      ],
      "metadata": {
        "id": "FsRbqtu0DZxt"
      }
    },
    {
      "cell_type": "code",
      "source": [
        "# Creăm un fișier pe care să îl citim\n",
        "%%writefile test.txt\n",
        "Salut.\n",
        "Ce mai faci?"
      ],
      "metadata": {
        "colab": {
          "base_uri": "https://localhost:8080/"
        },
        "id": "X3yr75iVDDEM",
        "outputId": "1c251eb4-6d5a-49af-f68f-983a7d5b2339"
      },
      "execution_count": null,
      "outputs": [
        {
          "output_type": "stream",
          "name": "stdout",
          "text": [
            "Writing test.txt\n"
          ]
        }
      ]
    },
    {
      "cell_type": "code",
      "source": [
        "# Folosind bucla while\n",
        "file = open('test.txt')\n",
        "while True:\n",
        "  char = file.read(1) # Citim caracter cu caracter\n",
        "  if not char:\n",
        "    break  # Un string gol înseamnă finalul fișierului\n",
        "  print(char)"
      ],
      "metadata": {
        "colab": {
          "base_uri": "https://localhost:8080/"
        },
        "id": "ZNQ4ghkaDBpf",
        "outputId": "a22c8abb-04d2-46ce-fdb6-5280ce2bb0a5"
      },
      "execution_count": null,
      "outputs": [
        {
          "output_type": "stream",
          "name": "stdout",
          "text": [
            "S\n",
            "a\n",
            "l\n",
            "u\n",
            "t\n",
            ".\n",
            "\n",
            "\n",
            "C\n",
            "e\n",
            " \n",
            "m\n",
            "a\n",
            "i\n",
            " \n",
            "f\n",
            "a\n",
            "c\n",
            "i\n",
            "?\n",
            "\n",
            "\n"
          ]
        }
      ]
    },
    {
      "cell_type": "code",
      "source": [
        "# Folosind bucla for\n",
        "for char in open('test.txt').read():\n",
        "  print(char)"
      ],
      "metadata": {
        "colab": {
          "base_uri": "https://localhost:8080/"
        },
        "id": "ws8c_ADpDMvG",
        "outputId": "9e0438e0-3621-43de-a617-c5f305b6e8f9"
      },
      "execution_count": null,
      "outputs": [
        {
          "output_type": "stream",
          "name": "stdout",
          "text": [
            "S\n",
            "a\n",
            "l\n",
            "u\n",
            "t\n",
            ".\n",
            "\n",
            "\n",
            "C\n",
            "e\n",
            " \n",
            "m\n",
            "a\n",
            "i\n",
            " \n",
            "f\n",
            "a\n",
            "c\n",
            "i\n",
            "?\n",
            "\n",
            "\n"
          ]
        }
      ]
    },
    {
      "cell_type": "code",
      "source": [
        "# Citire linie cu linie\n",
        "file = open('test.txt')\n",
        "while True:\n",
        "  line = file.readline()\n",
        "  if not line: break\n",
        "  print(line.rstrip())"
      ],
      "metadata": {
        "colab": {
          "base_uri": "https://localhost:8080/"
        },
        "id": "TcLF4bssDTf_",
        "outputId": "0eb47de8-0747-457a-b840-76bea001a0ee"
      },
      "execution_count": null,
      "outputs": [
        {
          "output_type": "stream",
          "name": "stdout",
          "text": [
            "Salut.\n",
            "Ce mai faci?\n"
          ]
        }
      ]
    },
    {
      "cell_type": "code",
      "source": [
        "# Citim inițial toate liniile și doar le afișăm pe rând\n",
        "for line in open('test.txt').readlines():\n",
        "  print(line.rstrip())"
      ],
      "metadata": {
        "colab": {
          "base_uri": "https://localhost:8080/"
        },
        "id": "VkDgWm8vDnBM",
        "outputId": "a0bffa57-fd5f-4ad4-8b0c-2bb34b003aaa"
      },
      "execution_count": null,
      "outputs": [
        {
          "output_type": "stream",
          "name": "stdout",
          "text": [
            "Salut.\n",
            "Ce mai faci?\n"
          ]
        }
      ]
    },
    {
      "cell_type": "code",
      "source": [
        "# Echivalent cu\n",
        "for line in open('test.txt'):\n",
        "  print(line.rstrip())"
      ],
      "metadata": {
        "colab": {
          "base_uri": "https://localhost:8080/"
        },
        "id": "gK9Q3VeADqp3",
        "outputId": "3859fbf2-0c96-48c8-fa97-4b04017dba76"
      },
      "execution_count": null,
      "outputs": [
        {
          "output_type": "stream",
          "name": "stdout",
          "text": [
            "Salut.\n",
            "Ce mai faci?\n"
          ]
        }
      ]
    },
    {
      "cell_type": "markdown",
      "source": [
        "##<font color=\"#e8710a\">Funcții suplimentare pentru codarea buclelor</font>\n"
      ],
      "metadata": {
        "id": "gNQfzL9zDtBs"
      }
    },
    {
      "cell_type": "markdown",
      "source": [
        "###<font color=\"#e8710a\">Funcția range()</font>\n",
        "\n",
        "Pentru buclele for am văzut până acum faptul că avem nevoie de un obiect iterabil astfel încât să poată fi rulate. Însă de cele mai multe ori avem nevoie de un iterator de numere simplu pe baza căruia să parcurgem bucla de un număr fix de ori. Pentru aceasta avem la dispoziție funcția `range()`:\n",
        "\n",
        "```\n",
        "range(start, stop, step)\n",
        "```\n",
        "\n",
        "Funcția va genera numerele cuprinse între `start` (inclusiv) și `stop` (exclusiv) cu un pas dat de `step`. Start este implicit 0, iar step este implicit +1:"
      ],
      "metadata": {
        "id": "ALdVJxaI6IUF"
      }
    },
    {
      "cell_type": "code",
      "source": [
        "# Numerele de la 0 la 4\n",
        "list(range(5))"
      ],
      "metadata": {
        "colab": {
          "base_uri": "https://localhost:8080/"
        },
        "id": "1ZsGgHOVxDES",
        "outputId": "d173509e-4f5c-441d-f656-df6ad3b10eb6"
      },
      "execution_count": null,
      "outputs": [
        {
          "output_type": "execute_result",
          "data": {
            "text/plain": [
              "[0, 1, 2, 3, 4]"
            ]
          },
          "metadata": {},
          "execution_count": 68
        }
      ]
    },
    {
      "cell_type": "code",
      "source": [
        "# Numerele de la 2 la 4\n",
        "list(range(2, 5))"
      ],
      "metadata": {
        "colab": {
          "base_uri": "https://localhost:8080/"
        },
        "id": "gepwBNuGDrpp",
        "outputId": "63e76c82-c6f6-455e-ceee-384d6436f836"
      },
      "execution_count": null,
      "outputs": [
        {
          "output_type": "execute_result",
          "data": {
            "text/plain": [
              "[2, 3, 4]"
            ]
          },
          "metadata": {},
          "execution_count": 69
        }
      ]
    },
    {
      "cell_type": "code",
      "source": [
        "# Numerele de la 0 la 9 incrementate cu 2 la ficare pas\n",
        "list(range(0, 10, 2))"
      ],
      "metadata": {
        "colab": {
          "base_uri": "https://localhost:8080/"
        },
        "id": "GxEPKyrwxLJP",
        "outputId": "3a609502-c34f-4999-be7d-3514f443f26c"
      },
      "execution_count": null,
      "outputs": [
        {
          "output_type": "execute_result",
          "data": {
            "text/plain": [
              "[0, 2, 4, 6, 8]"
            ]
          },
          "metadata": {},
          "execution_count": 70
        }
      ]
    },
    {
      "cell_type": "code",
      "source": [
        "# Numerele de la -5 la 4\n",
        "list(range(-5, 5))"
      ],
      "metadata": {
        "colab": {
          "base_uri": "https://localhost:8080/"
        },
        "id": "ZiBmR3Z8D2eJ",
        "outputId": "ec7df20c-6c74-4073-c499-5a7ffe2ab516"
      },
      "execution_count": null,
      "outputs": [
        {
          "output_type": "execute_result",
          "data": {
            "text/plain": [
              "[-5, -4, -3, -2, -1, 0, 1, 2, 3, 4]"
            ]
          },
          "metadata": {},
          "execution_count": 71
        }
      ]
    },
    {
      "cell_type": "code",
      "source": [
        "# Numerele de la 5 la -4 decrementate cu 2 la fiecare pas\n",
        "list(range(5, -5, -2))"
      ],
      "metadata": {
        "colab": {
          "base_uri": "https://localhost:8080/"
        },
        "id": "QD7rtL6gD3gZ",
        "outputId": "138e00c6-8354-4e5a-d8a1-505be2a85e2a"
      },
      "execution_count": null,
      "outputs": [
        {
          "output_type": "execute_result",
          "data": {
            "text/plain": [
              "[5, 3, 1, -1, -3]"
            ]
          },
          "metadata": {},
          "execution_count": 72
        }
      ]
    },
    {
      "cell_type": "code",
      "source": [
        "# Utilizare în for\n",
        "for i in range(3):\n",
        "  print(i)"
      ],
      "metadata": {
        "colab": {
          "base_uri": "https://localhost:8080/"
        },
        "id": "ye2d3QQQD6Bc",
        "outputId": "1b1e4c90-1677-495f-9019-1756d6db891f"
      },
      "execution_count": null,
      "outputs": [
        {
          "output_type": "stream",
          "name": "stdout",
          "text": [
            "0\n",
            "1\n",
            "2\n"
          ]
        }
      ]
    },
    {
      "cell_type": "markdown",
      "source": [
        "**<font color=\"#1589FF\">Range versus segmentare</font>**\n",
        "\n",
        "Pentru tipurile de date secvență, `range()` poate fi înlocuit cu metodele de partiționare aplicate asupra lor:"
      ],
      "metadata": {
        "id": "whOLXodZEGhR"
      }
    },
    {
      "cell_type": "code",
      "source": [
        "S = 'abcde'\n",
        "# Indecși de la 0 la lungimea S, incrementați cu 2\n",
        "list(range(0, len(S), 2))"
      ],
      "metadata": {
        "colab": {
          "base_uri": "https://localhost:8080/"
        },
        "id": "gIEN9P0kEE9B",
        "outputId": "99f26b1a-e681-4517-a9ba-0ccb4c8fc4f7"
      },
      "execution_count": null,
      "outputs": [
        {
          "output_type": "execute_result",
          "data": {
            "text/plain": [
              "[0, 2, 4]"
            ]
          },
          "metadata": {},
          "execution_count": 74
        }
      ]
    },
    {
      "cell_type": "code",
      "source": [
        "# Afișăm tot al doilea caracter din S folosind range()\n",
        "for i in range(0,len(S),2):\n",
        "  print(S[i])"
      ],
      "metadata": {
        "colab": {
          "base_uri": "https://localhost:8080/"
        },
        "id": "F4n6sDN4ELxD",
        "outputId": "9af5b56a-72d7-45ae-fb42-119377ef592f"
      },
      "execution_count": null,
      "outputs": [
        {
          "output_type": "stream",
          "name": "stdout",
          "text": [
            "a\n",
            "c\n",
            "e\n"
          ]
        }
      ]
    },
    {
      "cell_type": "code",
      "source": [
        "# Afișăm tot al doilea caracter din S folosind parționarea stringului\n",
        "for c in S[::2]:\n",
        "  print(c)"
      ],
      "metadata": {
        "colab": {
          "base_uri": "https://localhost:8080/"
        },
        "id": "dXQSHQTbEM8q",
        "outputId": "17f48c2d-6b00-4304-8600-f357b585cc06"
      },
      "execution_count": null,
      "outputs": [
        {
          "output_type": "stream",
          "name": "stdout",
          "text": [
            "a\n",
            "c\n",
            "e\n"
          ]
        }
      ]
    },
    {
      "cell_type": "markdown",
      "source": [
        "###<font color=\"#e8710a\">Funcția zip()</font>\n",
        "\n",
        "Funcția `zip()` permite combinarea mai multor date de tip secvență într-una singură. Secvența rezultată va fi compusă din elementele secvențelor individuale aflate pe aceeași poziție ordinală:"
      ],
      "metadata": {
        "id": "bbAUMic8EO_k"
      }
    },
    {
      "cell_type": "code",
      "source": [
        "# Combinăm elementele a două liste\n",
        "L1 = [1,2,3,4]\n",
        "L2 = ['a', 'b', 'c', 'd']\n",
        "list(zip(L1, L2)) # Primul element din L1 combinat cu primult element din L2..."
      ],
      "metadata": {
        "colab": {
          "base_uri": "https://localhost:8080/"
        },
        "id": "Pt2gFEbCEOZl",
        "outputId": "7cf19bc2-e4d1-418a-c0ad-35c159ee79e5"
      },
      "execution_count": null,
      "outputs": [
        {
          "output_type": "execute_result",
          "data": {
            "text/plain": [
              "[(1, 'a'), (2, 'b'), (3, 'c'), (4, 'd')]"
            ]
          },
          "metadata": {},
          "execution_count": 77
        }
      ]
    },
    {
      "cell_type": "markdown",
      "source": [
        "Mai sus folosim contructorul de listă deoarece `zip()` returnează o secvență iterabilă și nu poate fi afișat în mod direct:"
      ],
      "metadata": {
        "id": "6T7IMwxa26a6"
      }
    },
    {
      "cell_type": "code",
      "source": [
        "zip(L1,L2)"
      ],
      "metadata": {
        "colab": {
          "base_uri": "https://localhost:8080/"
        },
        "id": "YFlnNThk3CrM",
        "outputId": "9c53bcd1-c4c8-4719-fd58-863e70ffdeaf"
      },
      "execution_count": null,
      "outputs": [
        {
          "output_type": "execute_result",
          "data": {
            "text/plain": [
              "<zip at 0x7f82fec4a230>"
            ]
          },
          "metadata": {},
          "execution_count": 78
        }
      ]
    },
    {
      "cell_type": "code",
      "source": [
        "# Utilizare în for\n",
        "for (x, y) in zip(L1, L2):\n",
        "  print(x, y)"
      ],
      "metadata": {
        "colab": {
          "base_uri": "https://localhost:8080/"
        },
        "id": "HAJ0A23KEXwL",
        "outputId": "7407c305-2788-46b7-dc7f-0009751fae8e"
      },
      "execution_count": null,
      "outputs": [
        {
          "output_type": "stream",
          "name": "stdout",
          "text": [
            "1 a\n",
            "2 b\n",
            "3 c\n",
            "4 d\n"
          ]
        }
      ]
    },
    {
      "cell_type": "code",
      "source": [
        "# Secvențele sunt truncate la dimensiunea celei mai scurte\n",
        "S1 = 'abc'\n",
        "S2 = '12345'\n",
        "list(zip(S1, S2))"
      ],
      "metadata": {
        "colab": {
          "base_uri": "https://localhost:8080/"
        },
        "id": "dp-Ge2H0EafJ",
        "outputId": "bad27343-0e9f-4d13-94ca-9b2c5283d485"
      },
      "execution_count": null,
      "outputs": [
        {
          "output_type": "execute_result",
          "data": {
            "text/plain": [
              "[('a', '1'), ('b', '2'), ('c', '3')]"
            ]
          },
          "metadata": {},
          "execution_count": 80
        }
      ]
    },
    {
      "cell_type": "markdown",
      "source": [
        "**<font color=\"#1589FF\">Crearea dicționarelor cu funcția zip()</font>**\n",
        "\n",
        "Cu ajutorul funcției `zip()` putem crea rapid dicționare în cazul în care știm cheile și valorile asociate acestor chei sub formă de secvențe:"
      ],
      "metadata": {
        "id": "z6HSVbMKEoZA"
      }
    },
    {
      "cell_type": "code",
      "source": [
        "# Creăm o asociere între listele chei și valori\n",
        "chei = ['ana', 'are', 'mere']\n",
        "valori = [1, 2, 3]\n",
        "list(zip(chei, valori))"
      ],
      "metadata": {
        "colab": {
          "base_uri": "https://localhost:8080/"
        },
        "id": "PWATraX9EmuN",
        "outputId": "193ffab8-49a2-40b6-f5a2-9119a59164b9"
      },
      "execution_count": null,
      "outputs": [
        {
          "output_type": "execute_result",
          "data": {
            "text/plain": [
              "[('ana', 1), ('are', 2), ('mere', 3)]"
            ]
          },
          "metadata": {},
          "execution_count": 81
        }
      ]
    },
    {
      "cell_type": "code",
      "source": [
        "# Creăm un dicționar pornind de la cele 2 liste\n",
        "D = {}\n",
        "for (k, v) in zip(chei, valori):\n",
        "  D[k] = v\n",
        "D"
      ],
      "metadata": {
        "id": "5gdBCzwMEuxD",
        "colab": {
          "base_uri": "https://localhost:8080/"
        },
        "outputId": "a8759baa-395f-449a-c15a-462c0790097e"
      },
      "execution_count": null,
      "outputs": [
        {
          "output_type": "execute_result",
          "data": {
            "text/plain": [
              "{'ana': 1, 'are': 2, 'mere': 3}"
            ]
          },
          "metadata": {},
          "execution_count": 82
        }
      ]
    },
    {
      "cell_type": "code",
      "source": [
        "# Putem scrie într-o singură linie folosind dictionary comprehension\n",
        "D = {k: v for (k, v) in zip(chei, valori)}\n",
        "D"
      ],
      "metadata": {
        "colab": {
          "base_uri": "https://localhost:8080/"
        },
        "id": "LGfWNQgAEwD7",
        "outputId": "be8e80d2-ee1f-4ce1-ab7e-cf5b4d6a3b9c"
      },
      "execution_count": null,
      "outputs": [
        {
          "output_type": "execute_result",
          "data": {
            "text/plain": [
              "{'ana': 1, 'are': 2, 'mere': 3}"
            ]
          },
          "metadata": {},
          "execution_count": 83
        }
      ]
    },
    {
      "cell_type": "code",
      "source": [
        "# Sau putem folosi constructorul dict()\n",
        "D = dict(zip(chei,valori))\n",
        "D"
      ],
      "metadata": {
        "colab": {
          "base_uri": "https://localhost:8080/"
        },
        "id": "7zIeoCq6EzW8",
        "outputId": "9a27a632-1bdc-4425-b6c5-2acb757acea5"
      },
      "execution_count": null,
      "outputs": [
        {
          "output_type": "execute_result",
          "data": {
            "text/plain": [
              "{'ana': 1, 'are': 2, 'mere': 3}"
            ]
          },
          "metadata": {},
          "execution_count": 84
        }
      ]
    },
    {
      "cell_type": "markdown",
      "source": [
        "###<font color=\"#e8710a\">Funcția map()</font>\n",
        "\n",
        "Funcția `map()` va aplica o funcție specificat[ asupra fiecărui element dintr-o secvență:"
      ],
      "metadata": {
        "id": "PL-D88UgEffU"
      }
    },
    {
      "cell_type": "code",
      "source": [
        "# Calculăm valoarea ASCII a fiecărui caracter din string\n",
        "list(map(ord, 'mere'))"
      ],
      "metadata": {
        "colab": {
          "base_uri": "https://localhost:8080/"
        },
        "id": "C_i52bFTEdzB",
        "outputId": "141b0a8d-e3aa-4e7c-c7fb-8566db60a549"
      },
      "execution_count": null,
      "outputs": [
        {
          "output_type": "execute_result",
          "data": {
            "text/plain": [
              "[109, 101, 114, 101]"
            ]
          },
          "metadata": {},
          "execution_count": 85
        }
      ]
    },
    {
      "cell_type": "code",
      "source": [
        "# Creăm o listă ce conține cubul valorilor din lista inițială\n",
        "valori = [1, 2, 3, 4, 5]\n",
        "def cub(n):\n",
        "    return n**3\n",
        "\n",
        "list(map(cub, valori))"
      ],
      "metadata": {
        "colab": {
          "base_uri": "https://localhost:8080/"
        },
        "id": "EoAFProG24De",
        "outputId": "e176a99e-5db4-4a62-8363-c789ff060b46"
      },
      "execution_count": null,
      "outputs": [
        {
          "output_type": "execute_result",
          "data": {
            "text/plain": [
              "[1, 8, 27, 64, 125]"
            ]
          },
          "metadata": {},
          "execution_count": 86
        }
      ]
    },
    {
      "cell_type": "markdown",
      "source": [
        "Putem folosi și funcții ce iau mai mulți parametri. În acest caz va trebui să furnizăm iterabili pentru fiecare parametru în parte:"
      ],
      "metadata": {
        "id": "y2_0F82y3dst"
      }
    },
    {
      "cell_type": "code",
      "source": [
        "# Ridicăm fiecare element din lista baza la puterea specificată în putere\n",
        "baza = [2,2,2,2]\n",
        "putere = [1,2,3,4]\n",
        "list(map(pow, baza, putere))"
      ],
      "metadata": {
        "colab": {
          "base_uri": "https://localhost:8080/"
        },
        "id": "yJPpFfby3nVW",
        "outputId": "73a51519-5924-4ac4-a130-e6d4cb3356f8"
      },
      "execution_count": null,
      "outputs": [
        {
          "output_type": "execute_result",
          "data": {
            "text/plain": [
              "[2, 4, 8, 16]"
            ]
          },
          "metadata": {},
          "execution_count": 87
        }
      ]
    },
    {
      "cell_type": "markdown",
      "source": [
        "###<font color=\"#e8710a\">Funcția enumerate()</font>\n",
        "\n",
        "Funcția `enumerate()` va prelua fiecare element dintr-o secvență, precum și indexul acestui element în secvență:\n"
      ],
      "metadata": {
        "id": "O_RtHChME3UI"
      }
    },
    {
      "cell_type": "code",
      "source": [
        "S = 'mere'\n",
        "for (index, elem) in enumerate(S):\n",
        "  \tprint(elem, 'apare la indexul', index)"
      ],
      "metadata": {
        "colab": {
          "base_uri": "https://localhost:8080/"
        },
        "id": "O-A0ScB4E2jK",
        "outputId": "6c5c3e11-c447-4755-f152-e627a8d6934b"
      },
      "execution_count": null,
      "outputs": [
        {
          "output_type": "stream",
          "name": "stdout",
          "text": [
            "m apare la indexul 0\n",
            "e apare la indexul 1\n",
            "r apare la indexul 2\n",
            "e apare la indexul 3\n"
          ]
        }
      ]
    },
    {
      "cell_type": "code",
      "source": [
        "# Iterăm liniile din fișier\n",
        "for (index, linie) in enumerate(open('test.txt')):\n",
        " \tprint('Linia %s: %s' % (index, linie.strip()))"
      ],
      "metadata": {
        "colab": {
          "base_uri": "https://localhost:8080/"
        },
        "id": "0RIsXV6MFIeb",
        "outputId": "38e5e2b2-f974-4683-abc2-448cb593491b"
      },
      "execution_count": null,
      "outputs": [
        {
          "output_type": "stream",
          "name": "stdout",
          "text": [
            "Linia 0: Salut.\n",
            "Linia 1: Ce mai faci?\n"
          ]
        }
      ]
    },
    {
      "cell_type": "markdown",
      "source": [
        "##<font color=\"#e8710a\">Iteratori</font>\n",
        "\n",
        "Un **obiect iterabil** este o generalizare a noțiunii de secvență. Poate să fie o secvență stocată fizic (precum liste, tuplu, dicționare) sau un obiect ce produce valorile din secvență pe rând.\n",
        "\n",
        "\n",
        "Orice obiect ce are atașată o metodă `__next__` pentru a avansa la următorul rezultat și care aruncă excepția `StopIteration` la finalul seriei de rezultate este considerat un iterator în Python. Un astfel de obiect poate fi utilizat într-o buclă for.\n"
      ],
      "metadata": {
        "id": "DhnGP5QCFMPQ"
      }
    },
    {
      "cell_type": "markdown",
      "source": [
        "**<font color=\"#1589FF\">Iteratori de fișiere</font>**"
      ],
      "metadata": {
        "id": "KnHrR_3AFtFn"
      }
    },
    {
      "cell_type": "code",
      "source": [
        "%%writefile input.txt\n",
        "Linia 1\n",
        "Linia 2\n",
        "Linia 3\n",
        "Linia 4"
      ],
      "metadata": {
        "colab": {
          "base_uri": "https://localhost:8080/"
        },
        "id": "f0vHilCUFKiw",
        "outputId": "1a76331e-f118-4c28-a4f2-57a29a48d6ca"
      },
      "execution_count": null,
      "outputs": [
        {
          "output_type": "stream",
          "name": "stdout",
          "text": [
            "Writing input.txt\n"
          ]
        }
      ]
    },
    {
      "cell_type": "code",
      "source": [
        "# Citim tot conținutul fișierului deodată\n",
        "open('input.txt').read()"
      ],
      "metadata": {
        "colab": {
          "base_uri": "https://localhost:8080/",
          "height": 35
        },
        "id": "qOkQNDYCFi72",
        "outputId": "a59d2b4c-1ffe-43ab-c8e9-14e58fcdc53e"
      },
      "execution_count": null,
      "outputs": [
        {
          "output_type": "execute_result",
          "data": {
            "text/plain": [
              "'Linia 1\\nLinia 2\\nLinia 3\\nLinia 4\\n'"
            ],
            "application/vnd.google.colaboratory.intrinsic+json": {
              "type": "string"
            }
          },
          "metadata": {},
          "execution_count": 91
        }
      ]
    },
    {
      "cell_type": "code",
      "source": [
        "# Extragem pe rând liniile din fișier folosind __next__\n",
        "f = open('input.txt')\n",
        "f.__next__()"
      ],
      "metadata": {
        "colab": {
          "base_uri": "https://localhost:8080/",
          "height": 35
        },
        "id": "wLVjniR2FqCw",
        "outputId": "eba5f6ec-7abb-4cf3-dacc-f64f5783d727"
      },
      "execution_count": null,
      "outputs": [
        {
          "output_type": "execute_result",
          "data": {
            "text/plain": [
              "'Linia 1\\n'"
            ],
            "application/vnd.google.colaboratory.intrinsic+json": {
              "type": "string"
            }
          },
          "metadata": {},
          "execution_count": 92
        }
      ]
    },
    {
      "cell_type": "code",
      "source": [
        "f.__next__() # Următoarea linie din fișier"
      ],
      "metadata": {
        "colab": {
          "base_uri": "https://localhost:8080/",
          "height": 35
        },
        "id": "bb0rA71OFyOk",
        "outputId": "d09f9c1f-722a-4d43-c74b-08387399bdab"
      },
      "execution_count": null,
      "outputs": [
        {
          "output_type": "execute_result",
          "data": {
            "text/plain": [
              "'Linia 2\\n'"
            ],
            "application/vnd.google.colaboratory.intrinsic+json": {
              "type": "string"
            }
          },
          "metadata": {},
          "execution_count": 93
        }
      ]
    },
    {
      "cell_type": "markdown",
      "source": [
        "##<font color=\"#e8710a\">Comprehensiunea secvențelor</font>\n",
        "\n",
        "O facilitate extrem de puternică a limbajului Python și a secvențelor de obiecte se referă la mecanismul de comprehensiune (en. *comprehension*).\n",
        "Acest mecanism implică crearea obiectelor de tip secvență folosind o înlănțuire de operații și funcții scrise într-o singură linie de cod:\n",
        "\n",
        "```\n",
        "lista = [expresie for var in input_list if (var satisface condiția)]\n",
        "\n",
        "dict = {cheie:valoare for (cheie, valoare) in iterabil if (cheie, valoare satisfac condiția)}\n",
        "\n",
        "set = {expresie for var in input_list if (var satisface condiția)}\n",
        "```\n",
        "\n",
        "\n",
        "Echivalentul pentru acest mecanism ar fi utilizarea unei bucle `for` combinată cu instrucțiuni `if`."
      ],
      "metadata": {
        "id": "RA_bKAiXGFoZ"
      }
    },
    {
      "cell_type": "code",
      "source": [
        "# Varianta standard\n",
        "L = [1, 2, 3, 4, 5]\n",
        "for i in range(len(L)):\n",
        "  L[i] += 10\n",
        "L"
      ],
      "metadata": {
        "colab": {
          "base_uri": "https://localhost:8080/"
        },
        "id": "1gMgMTgUGESQ",
        "outputId": "ec3be9b3-1bf8-40dd-8bb2-40e81e18cc85"
      },
      "execution_count": null,
      "outputs": [
        {
          "output_type": "execute_result",
          "data": {
            "text/plain": [
              "[11, 12, 13, 14, 15]"
            ]
          },
          "metadata": {},
          "execution_count": 94
        }
      ]
    },
    {
      "cell_type": "code",
      "source": [
        "# Comprehensiune listă\n",
        "L = [x + 10 for x in L]\n",
        "L"
      ],
      "metadata": {
        "id": "x6HJPEoPGMrX",
        "colab": {
          "base_uri": "https://localhost:8080/"
        },
        "outputId": "9a5a6720-517f-4931-a64e-fa02e4e62caf"
      },
      "execution_count": null,
      "outputs": [
        {
          "output_type": "execute_result",
          "data": {
            "text/plain": [
              "[21, 22, 23, 24, 25]"
            ]
          },
          "metadata": {},
          "execution_count": 95
        }
      ]
    },
    {
      "cell_type": "code",
      "source": [
        "# Creăm o listă cu caracterele din string\n",
        "S = 'Ana123'\n",
        "L = [c for c in S]\n",
        "L"
      ],
      "metadata": {
        "colab": {
          "base_uri": "https://localhost:8080/"
        },
        "id": "zs6b0GpsGS0E",
        "outputId": "7b30caa5-3785-464a-da4d-cbf5f3c2475f"
      },
      "execution_count": null,
      "outputs": [
        {
          "output_type": "execute_result",
          "data": {
            "text/plain": [
              "['A', 'n', 'a', '1', '2', '3']"
            ]
          },
          "metadata": {},
          "execution_count": 96
        }
      ]
    },
    {
      "cell_type": "code",
      "source": [
        "# Creăm o listă cu caracterele majuscule din string\n",
        "[c.upper() for c in S]"
      ],
      "metadata": {
        "colab": {
          "base_uri": "https://localhost:8080/"
        },
        "id": "rIjBn_TKGVOu",
        "outputId": "99ccf6ac-d2b0-4a20-b7af-f74d54c5cf02"
      },
      "execution_count": null,
      "outputs": [
        {
          "output_type": "execute_result",
          "data": {
            "text/plain": [
              "['A', 'N', 'A', '1', '2', '3']"
            ]
          },
          "metadata": {},
          "execution_count": 97
        }
      ]
    },
    {
      "cell_type": "code",
      "source": [
        "# Creăm o listă cu literele majuscule din string\n",
        "[c.upper() for c in S if c.isalpha()]"
      ],
      "metadata": {
        "colab": {
          "base_uri": "https://localhost:8080/"
        },
        "id": "CZQzy8sxGZIw",
        "outputId": "cac224b8-8897-4c4f-bdc3-cf486c035829"
      },
      "execution_count": null,
      "outputs": [
        {
          "output_type": "execute_result",
          "data": {
            "text/plain": [
              "['A', 'N', 'A']"
            ]
          },
          "metadata": {},
          "execution_count": 98
        }
      ]
    },
    {
      "cell_type": "code",
      "source": [
        "# Creăm o listă cu literele mari din lista de stringuri\n",
        "# Folosim 2 bucle for în comprehensiune\n",
        "L1 = [\"Ana are mere\", \"Ionuț are pere\", \"Mihai are portocale\"]\n",
        "L2 = [c for word in L1 for c in word if c.isupper()]\n",
        "L2"
      ],
      "metadata": {
        "colab": {
          "base_uri": "https://localhost:8080/"
        },
        "id": "5BaMzAyYqwOK",
        "outputId": "ab6cdfce-2b20-4079-a977-5177403cc7a2"
      },
      "execution_count": null,
      "outputs": [
        {
          "output_type": "execute_result",
          "data": {
            "text/plain": [
              "['A', 'I', 'M']"
            ]
          },
          "metadata": {},
          "execution_count": 99
        }
      ]
    },
    {
      "cell_type": "code",
      "source": [
        "# Comprehensiune dicționar - cubul elementelor pare din lista\n",
        "L = [1, 2, 3, 4, 5, 6, 7]\n",
        "D = {var:var ** 3 for var in L if var % 2 != 0}\n",
        "D"
      ],
      "metadata": {
        "id": "YZvvQy-zqK0r",
        "colab": {
          "base_uri": "https://localhost:8080/"
        },
        "outputId": "82e0deab-0ac3-40fd-9202-ef8d166c85fb"
      },
      "execution_count": null,
      "outputs": [
        {
          "output_type": "execute_result",
          "data": {
            "text/plain": [
              "{1: 1, 3: 27, 5: 125, 7: 343}"
            ]
          },
          "metadata": {},
          "execution_count": 100
        }
      ]
    },
    {
      "cell_type": "code",
      "source": [
        "# Comprehensiune set\n",
        "L = [1, 2, 3, 4, 5, 5]\n",
        "S = {x+10 for x in L}\n",
        "S"
      ],
      "metadata": {
        "colab": {
          "base_uri": "https://localhost:8080/"
        },
        "id": "3RdwSzn_qqXG",
        "outputId": "039a5847-ec48-4d6d-e49f-4c544079f8a0"
      },
      "execution_count": null,
      "outputs": [
        {
          "output_type": "execute_result",
          "data": {
            "text/plain": [
              "{11, 12, 13, 14, 15}"
            ]
          },
          "metadata": {},
          "execution_count": 101
        }
      ]
    },
    {
      "cell_type": "markdown",
      "source": [
        "---\n",
        "\n",
        "##<font color=\"#e8710a\">Concluzii</font>\n",
        "\n",
        "În acest tutorial am încercat să introducem cât mai multe detalii esențiale ale utilizării instrucțiunilor de bază în limbajul Python. În tutorialul următor vom extinde utilizarea acestor instrucțiuni pentru crearea funcțiilor, a modulelor și pachetelor."
      ],
      "metadata": {
        "id": "CYUpjJ3747l2"
      }
    },
    {
      "cell_type": "markdown",
      "source": [
        "---\n",
        "\n",
        "##<font color=\"#1589FF\"> Exerciții</font>\n",
        "\n",
        "1) Să se afișeze valoarea lui Pi obținută din modulul `math` cu o precizie de 10 zecimale și aliniere la dreapta pe 20 de poziții.\n"
      ],
      "metadata": {
        "id": "K8N2GAPyycLv"
      }
    },
    {
      "cell_type": "code",
      "source": [
        "## REZOLVARE EX. 1\n",
        "import math\n",
        "print(math.pi)\n"
      ],
      "metadata": {
        "id": "vo4CefLsC6HZ",
        "outputId": "ac382df8-9db2-4384-dea8-ea68cab883c2",
        "colab": {
          "base_uri": "https://localhost:8080/"
        }
      },
      "execution_count": 1,
      "outputs": [
        {
          "output_type": "stream",
          "name": "stdout",
          "text": [
            "3.141592653589793\n"
          ]
        }
      ]
    },
    {
      "cell_type": "markdown",
      "source": [
        "2) Să se detemine maximul a trei numere folosind instrucțiunea `if`.\n"
      ],
      "metadata": {
        "id": "mLHEP_EwsbU0"
      }
    },
    {
      "cell_type": "code",
      "source": [
        "## REZOLVARE EX. 2\n",
        "a = 5\n",
        "b = 1\n",
        "c = 10\n",
        "if a > b :\n",
        "  if a > c :\n",
        "    M = a\n",
        "  else :\n",
        "       M = c\n",
        "else :\n",
        "  if b > c :\n",
        "    M = b\n",
        "  else :\n",
        "    M = c\n",
        "\n",
        "\n",
        "\n",
        "print(\"Maximul este : \")\n",
        "print(M)\n"
      ],
      "metadata": {
        "id": "pAQ536sTsc1y",
        "outputId": "91cdc3c6-bf20-4810-e58d-b47bc9dcdd67",
        "colab": {
          "base_uri": "https://localhost:8080/"
        }
      },
      "execution_count": 18,
      "outputs": [
        {
          "output_type": "stream",
          "name": "stdout",
          "text": [
            "Maximul este : \n",
            "10\n"
          ]
        }
      ]
    },
    {
      "cell_type": "markdown",
      "source": [
        "3) Să se afișeze primele 20 de valori din șirul Fibonacci."
      ],
      "metadata": {
        "id": "H8C7Z9GpsdPW"
      }
    },
    {
      "cell_type": "code",
      "source": [
        "## REZOLVARE EX. 3\n",
        "k = 1\n",
        "a = 0\n",
        "b = 1\n",
        "print(b)\n",
        "while k < 20 :\n",
        "  c = a + b\n",
        "  print(c)\n",
        "  a = b\n",
        "  b = c\n",
        "  k = k + 1\n",
        "\n"
      ],
      "metadata": {
        "id": "MtBDcuDysd4j",
        "outputId": "62e1bf45-ebde-4af9-dd4a-053eb2519fbb",
        "colab": {
          "base_uri": "https://localhost:8080/"
        }
      },
      "execution_count": 21,
      "outputs": [
        {
          "output_type": "stream",
          "name": "stdout",
          "text": [
            "1\n",
            "1\n",
            "2\n",
            "3\n",
            "5\n",
            "8\n",
            "13\n",
            "21\n",
            "34\n",
            "55\n",
            "89\n",
            "144\n",
            "233\n",
            "377\n",
            "610\n",
            "987\n",
            "1597\n",
            "2584\n",
            "4181\n",
            "6765\n"
          ]
        }
      ]
    },
    {
      "cell_type": "markdown",
      "source": [
        "4) Să se scrie un program ce afișează tot al doilea caracter dintr-o listă de șiruri de caractere."
      ],
      "metadata": {
        "id": "P71cr9MisfuC"
      }
    },
    {
      "cell_type": "code",
      "source": [
        "L = [\"Ana\", \"Maria\", \"Popescu\", \"Ionescu\", \"Vasile\", \"Gheorghe\"]\n",
        "## REZOLVARE EX. 4"
      ],
      "metadata": {
        "id": "3RoLzF1ssg4u"
      },
      "execution_count": null,
      "outputs": []
    },
    {
      "cell_type": "markdown",
      "source": [
        "5) Să se scrie un program care determină numărul de cifre care compun un număr întreg."
      ],
      "metadata": {
        "id": "OBn1xUOwseBj"
      }
    },
    {
      "cell_type": "code",
      "source": [
        "## REZOLVARE EX. 5\n",
        "a = 125\n",
        "k = 0\n",
        "while a != 0 :\n",
        " a = a / 10\n",
        " k = k + 1\n",
        " if a == 0 :\n",
        "  break\n",
        "\n",
        "print(k)\n"
      ],
      "metadata": {
        "id": "fS3KtII2slx1",
        "outputId": "59a2e410-5e19-48f8-9be2-e3be65d290a1",
        "colab": {
          "base_uri": "https://localhost:8080/"
        }
      },
      "execution_count": 30,
      "outputs": [
        {
          "output_type": "stream",
          "name": "stdout",
          "text": [
            "326\n"
          ]
        }
      ]
    },
    {
      "cell_type": "markdown",
      "source": [
        "6) Să se creeze o listă folosind mecanismul de comprehensiune ce conține doar numerele ce sunt pătrate perfecte dintr-o altă listă."
      ],
      "metadata": {
        "id": "POaJDQQnsmmw"
      }
    },
    {
      "cell_type": "code",
      "source": [
        "## REZOLVARE EX. 6\n",
        "L = [ 1 , 4 , 5, 16]\n",
        "for i in range(len(L)):\n",
        " for j in range (1, a ) :\n",
        "   if a == j * j :\n",
        "     L = [ a  ]\n",
        "\n",
        "L\n"
      ],
      "metadata": {
        "id": "ee5BHIWNsnSa",
        "outputId": "8ab728f5-6fa3-4b3d-be63-c9ff38e186f7",
        "colab": {
          "base_uri": "https://localhost:8080/"
        }
      },
      "execution_count": 72,
      "outputs": [
        {
          "output_type": "execute_result",
          "data": {
            "text/plain": [
              "[4]"
            ]
          },
          "metadata": {},
          "execution_count": 72
        }
      ]
    },
    {
      "cell_type": "markdown",
      "source": [
        "7) Să se creeze un dicționar prin mecanismul de comprehensiune ce folosește chei extrase dintr-o listă de stringuri, iar valorile asociate cheilor sunt indecșii la care apare caracterul 'a' în cheie. Cheile sunt doar acele stringuri ce conțin doar caractere alfabetice"
      ],
      "metadata": {
        "id": "gvpKnXe_soF9"
      }
    },
    {
      "cell_type": "code",
      "source": [
        "L = [\"Ana\", \"Maria\", \"Popescu\", \"Ion12\", \"Vasile34\", \"Gheorghe\"]\n",
        "# Output: {'Ana': 2, 'Maria': 1, 'Popescu': -1, 'Gheorghe': -1}\n",
        "\n",
        "## REZOLVARE EX. 7"
      ],
      "metadata": {
        "id": "j8y9wANtsoum"
      },
      "execution_count": null,
      "outputs": []
    },
    {
      "cell_type": "markdown",
      "source": [
        "---\n",
        "\n",
        "##Referințe suplimentare\n",
        "\n",
        "1. Comprehensiune avansată: https://python-course.eu/advanced-python/list-comprehension.php?\n",
        "\n",
        "2. Iteratori: https://docs.python.org/3/library/itertools.html\n"
      ],
      "metadata": {
        "id": "zR0rQ9pzyfgP"
      }
    }
  ]
}